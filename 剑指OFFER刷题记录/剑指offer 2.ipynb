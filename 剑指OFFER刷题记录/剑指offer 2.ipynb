{
 "cells": [
  {
   "cell_type": "markdown",
   "metadata": {},
   "source": [
    "# 不用加减乘除做加法"
   ]
  },
  {
   "cell_type": "code",
   "execution_count": 1,
   "metadata": {},
   "outputs": [],
   "source": [
    "def add(a,b):\n",
    "    if b == 0: return a\n",
    "    sum = a^b\n",
    "    carry = (a & b) << 1\n",
    "    return add(sum,carry)"
   ]
  },
  {
   "cell_type": "markdown",
   "metadata": {},
   "source": [
    "# n个骰子的点数\n",
    "把n个骰子扔在地上，所有骰子朝上一面的点数之和为s。输入n，打印出s的所有可能的值出现的概率。\n",
    "\n",
    "你需要用一个浮点数数组返回答案，其中第 i 个元素代表这 n 个骰子所能掷出的点数集合中第 i 小的那个的概率。\n"
   ]
  },
  {
   "cell_type": "code",
   "execution_count": 3,
   "metadata": {},
   "outputs": [],
   "source": [
    "def twoSum(n) :\n",
    "    if n <= 0 :\n",
    "        return []\n",
    "\n",
    "    dp = [[ 0 for i in range(6*n + 1)] for j in range(n+1)]\n",
    "\n",
    "    for i in range(7):\n",
    "        dp[1][i] = 1\n",
    "    for i in range(2,n+1):   # dp[i][j] i个骰子，j出现的次数\n",
    "        for j in range(i,6*i+1):  # 从开始，i个骰子和最小为i\n",
    "            for k in range(1,7):   # dp[i][j] = 当前骰子为[1-6]时，前面的情况次数之和\n",
    "                if j - k <= 0:\n",
    "                    break\n",
    "                dp[i][j] += dp[i-1][j-k]\n",
    "    al = pow(6,n)\n",
    "    return [i / al for i in dp[n][n:]] "
   ]
  },
  {
   "cell_type": "markdown",
   "metadata": {},
   "source": [
    "# 求1+2+…+n"
   ]
  },
  {
   "cell_type": "markdown",
   "metadata": {},
   "source": [
    "解法1：位运算"
   ]
  },
  {
   "cell_type": "code",
   "execution_count": 2,
   "metadata": {},
   "outputs": [],
   "source": [
    "def sumNums(n):\n",
    "    return int((n**2)+n >> 1)"
   ]
  },
  {
   "cell_type": "markdown",
   "metadata": {},
   "source": [
    "解法2：递归"
   ]
  },
  {
   "cell_type": "code",
   "execution_count": 4,
   "metadata": {},
   "outputs": [],
   "source": [
    "def sumNums(n):\n",
    "    if n < 0:\n",
    "        return 0\n",
    "    return sumNums(n-1)+n"
   ]
  },
  {
   "cell_type": "markdown",
   "metadata": {},
   "source": [
    "# 斐波那契数列"
   ]
  },
  {
   "cell_type": "markdown",
   "metadata": {},
   "source": [
    "解法1：DP"
   ]
  },
  {
   "cell_type": "code",
   "execution_count": 5,
   "metadata": {},
   "outputs": [],
   "source": [
    "def fib(n):\n",
    "    dp = [0] *(n+1)\n",
    "    dp = [0,1]\n",
    "    if n <=1:return dp[n]\n",
    "    for i in range(2,n+1):\n",
    "        dp.append(dp[i-1]+dp[i-2])\n",
    "    return dp[-1]"
   ]
  },
  {
   "cell_type": "markdown",
   "metadata": {},
   "source": [
    "# 数组中数字出现的次数 II"
   ]
  },
  {
   "cell_type": "markdown",
   "metadata": {},
   "source": [
    "在一个数组 nums 中除一个数字只出现一次之外，其他数字都出现了三次。请找出那个只出现一次的数字。"
   ]
  },
  {
   "cell_type": "code",
   "execution_count": 6,
   "metadata": {},
   "outputs": [],
   "source": [
    "def singleNumber(nums):\n",
    "    if not nums:return []\n",
    "    dic = {}\n",
    "    for num in nums:\n",
    "        if num not in dic:\n",
    "            dic[num] =1\n",
    "        else:\n",
    "            dic[num] +=1\n",
    "    for key ,value in dic.items():\n",
    "        if value ==1 :\n",
    "            return key"
   ]
  },
  {
   "cell_type": "markdown",
   "metadata": {},
   "source": [
    "# 翻转单词顺序"
   ]
  },
  {
   "cell_type": "markdown",
   "metadata": {},
   "source": [
    "解法1"
   ]
  },
  {
   "cell_type": "code",
   "execution_count": 7,
   "metadata": {},
   "outputs": [],
   "source": [
    "    def reverseWords(s) :\n",
    "        if not s:\n",
    "            return \"\"\n",
    "        for s1 in s:\n",
    "            if s1 == \" \":\n",
    "                s = s[1:]\n",
    "            else:\n",
    "                break\n",
    "        for i in range(len(s)-1 , -1,-1):\n",
    "            if s[i] == \" \":\n",
    "                s = s[:len(s)-1]\n",
    "            else:\n",
    "                break\n",
    "        s = s.split(\" \")\n",
    "        res = \"\"\n",
    "        for j in range(len(s)-1,-1,-1):\n",
    "            if s[j] == \"\":\n",
    "                continue\n",
    "            res = res + \" \" + s[j]\n",
    "        return res[1:] "
   ]
  },
  {
   "cell_type": "markdown",
   "metadata": {},
   "source": [
    "# 青蛙跳台阶问题"
   ]
  },
  {
   "cell_type": "code",
   "execution_count": 8,
   "metadata": {},
   "outputs": [],
   "source": [
    "def numWays(n) :\n",
    "    dp = [1,1,2]\n",
    "    if n <= 2 :return dp[n]\n",
    "\n",
    "    for i in range(3, n+1):\n",
    "        dp.append(dp[i-1]+dp[i-2])\n",
    "    return dp[-1] %1000000007"
   ]
  },
  {
   "cell_type": "markdown",
   "metadata": {},
   "source": [
    "# 复杂链表的复制"
   ]
  },
  {
   "cell_type": "markdown",
   "metadata": {},
   "source": [
    "请实现 copyRandomList 函数，复制一个复杂链表。在复杂链表中，每个节点除了有一个 next 指针指向下一个节点，还有一个 random 指针指向链表中的任意节点或者 null。"
   ]
  },
  {
   "cell_type": "code",
   "execution_count": 11,
   "metadata": {},
   "outputs": [],
   "source": [
    "def copyRandomList(head):\n",
    "    if not head: return None\n",
    "    map , pre = {}, head\n",
    "    while pre:\n",
    "        n = Node(pre.val,None,None)\n",
    "        map[pre] = n\n",
    "        pre= pre.next\n",
    "    pre = head\n",
    "    while pre:\n",
    "        map[pre].next = map[pre.next] if pre.next else None\n",
    "        map[pre].random = map[pre.random] if pre.random else None\n",
    "        pre = pre.next\n",
    "    return map[head]"
   ]
  },
  {
   "cell_type": "markdown",
   "metadata": {},
   "source": [
    "# 丑数"
   ]
  },
  {
   "cell_type": "markdown",
   "metadata": {},
   "source": [
    "我们把只包含因子 2、3 和 5 的数称作丑数（Ugly Number）。求按从小到大的顺序的第 n 个丑数。"
   ]
  },
  {
   "cell_type": "markdown",
   "metadata": {},
   "source": [
    "解法1：三指针"
   ]
  },
  {
   "cell_type": "code",
   "execution_count": 1,
   "metadata": {},
   "outputs": [],
   "source": [
    "def nthUglyNumber(n):\n",
    "    \n",
    "    dp = [ 1 for x in range(n)]\n",
    "    a = 0\n",
    "    b = 0\n",
    "    c = 0\n",
    "    dp[i] = min(dp[a]*2,dp[b]*3,dp[c]*4)\n",
    "    for i in range(1,n):\n",
    "        if dp[i] == dp[a]*2:\n",
    "            a +=1\n",
    "        if dp[i] == dp[b]*3:\n",
    "            b +=1\n",
    "        if dp[i] == dp[c]*5:\n",
    "            c +=1\n",
    "    return dp[-1]"
   ]
  },
  {
   "cell_type": "markdown",
   "metadata": {},
   "source": [
    "解法2"
   ]
  },
  {
   "cell_type": "code",
   "execution_count": 2,
   "metadata": {},
   "outputs": [],
   "source": [
    "import heapq\n",
    "def Ugly(n):\n",
    "    i2 = [2]\n",
    "    i3 = [3]\n",
    "    i5 = [5]\n",
    "    ugly = 1\n",
    "    for j in heapq.merge(i2,i3,i5):\n",
    "        if i == 1:return ugly\n",
    "        if j > ugly:\n",
    "            ugly = j\n",
    "            n -=1\n",
    "            i2 += 2*j\n",
    "            i3 += 3*j\n",
    "            i5 += 5*j"
   ]
  },
  {
   "cell_type": "markdown",
   "metadata": {},
   "source": [
    "# 数组中数字出现的次数"
   ]
  },
  {
   "cell_type": "markdown",
   "metadata": {},
   "source": [
    "解法1"
   ]
  },
  {
   "cell_type": "code",
   "execution_count": 4,
   "metadata": {},
   "outputs": [],
   "source": [
    "def singleNumbers(nums) :\n",
    "    xor , ans = 0 , [0,0]\n",
    "    for num in nums:\n",
    "        xor ^= num   # 相同异或为0，不同的异或为1\n",
    "    low = xor ^(xor -1) & xor\n",
    "    for num in nums:\n",
    "        ans[ not num & low ] ^= num\n",
    "    return ans"
   ]
  },
  {
   "cell_type": "markdown",
   "metadata": {},
   "source": [
    "解法2"
   ]
  },
  {
   "cell_type": "code",
   "execution_count": 5,
   "metadata": {},
   "outputs": [],
   "source": [
    "def singleNumbers(nums) :  \n",
    "    mix = 0\n",
    "    for i in range(0,len(nums)):\n",
    "        mix ^= nums[i]\n",
    "    diff = 1\n",
    "    while((mix & diff) == 0):\n",
    "        diff *=2\n",
    "    re1 = 0\n",
    "    re2 = 0\n",
    "    for j in range(0,len(nums)):\n",
    "        if (nums[j] & diff) == 0:\n",
    "            re2 ^= nums[j]\n",
    "        else:\n",
    "            re1 ^= nums[j]\n",
    "    return [re1, re2]"
   ]
  },
  {
   "cell_type": "markdown",
   "metadata": {},
   "source": [
    "# 从上到下打印二叉树"
   ]
  },
  {
   "cell_type": "markdown",
   "metadata": {},
   "source": [
    "解法1"
   ]
  },
  {
   "cell_type": "code",
   "execution_count": 6,
   "metadata": {},
   "outputs": [],
   "source": [
    "from queue import Queue\n",
    "def levelOrder(root):\n",
    "    if not root: return []\n",
    "    queue = Queue()\n",
    "    ans = []\n",
    "    queue.put(root)\n",
    "    ans.append(root.val)\n",
    "    while not queue.empty():\n",
    "        node = queue.get()\n",
    "        if node.left:\n",
    "            queue.put(node.left)\n",
    "        if node.right:\n",
    "            queue.put(node.right)\n",
    "    return ans"
   ]
  },
  {
   "cell_type": "markdown",
   "metadata": {},
   "source": [
    "解法2"
   ]
  },
  {
   "cell_type": "code",
   "execution_count": 7,
   "metadata": {},
   "outputs": [],
   "source": [
    "def levelOrder(root) :\n",
    "    if not root :return []\n",
    "    res = []\n",
    "    que = [root]\n",
    "    while que: # 队列不空\n",
    "        for _ in range(len(que)):\n",
    "            a = que.pop()\n",
    "            res.append(a.val)\n",
    "            if a.left:\n",
    "                que.insert(0,a.left)\n",
    "            if a.right:\n",
    "                que.insert(0,a.right)\n",
    "    return res"
   ]
  },
  {
   "cell_type": "markdown",
   "metadata": {},
   "source": [
    "# 股票的最大利润"
   ]
  },
  {
   "cell_type": "raw",
   "metadata": {},
   "source": [
    "输入: [7,1,5,3,6,4]\n",
    "输出: 5\n",
    "解释: 在第 2 天（股票价格 = 1）的时候买入，在第 5 天（股票价格 = 6）的时候卖出，最大利润 = 6-1 = 5 。\n",
    "     注意利润不能是 7-1 = 6, 因为卖出价格需要大于买入价格。"
   ]
  },
  {
   "cell_type": "markdown",
   "metadata": {},
   "source": [
    "解法1：动态规划"
   ]
  },
  {
   "cell_type": "code",
   "execution_count": 8,
   "metadata": {},
   "outputs": [],
   "source": [
    "def maxProfit(prices) :\n",
    "    if len(prices) <2:\n",
    "        return 0\n",
    "    min_price = prices[0]\n",
    "    dp = [0] * len(prices)\n",
    "    for i in range(len(prices)):\n",
    "        dp[i] = max(dp[i-1] , prices[i] - min_price) # 当前的利润 = 前一天的利润和 今天的价格-最低的价格 中 较大的那个\n",
    "        min_price = min(min_price , prices[i])\n",
    "    return dp[-1]"
   ]
  },
  {
   "cell_type": "markdown",
   "metadata": {},
   "source": [
    "解法2"
   ]
  },
  {
   "cell_type": "code",
   "execution_count": 9,
   "metadata": {},
   "outputs": [],
   "source": [
    "def maxProfit(prices):\n",
    "    if len(prices) < 2:\n",
    "        return 0\n",
    "    min_price = prices[0]\n",
    "    max_profit = 0\n",
    "    for today in prices:\n",
    "        if today < min_price:\n",
    "            min_price = today\n",
    "        if today - min_price > max_profit:\n",
    "            max_profit = today - min_price\n",
    "    return max_profit"
   ]
  },
  {
   "cell_type": "markdown",
   "metadata": {},
   "source": [
    "# 礼物的最大价值"
   ]
  },
  {
   "cell_type": "raw",
   "metadata": {},
   "source": [
    "输入: \n",
    "[\n",
    "  [1,3,1],\n",
    "  [1,5,1],\n",
    "  [4,2,1]\n",
    "]\n",
    "输出: 12\n",
    "解释: 路径 1→3→5→2→1 可以拿到最多价值的礼物"
   ]
  },
  {
   "cell_type": "code",
   "execution_count": 10,
   "metadata": {},
   "outputs": [],
   "source": [
    "def maxValue(grid):\n",
    "    \n",
    "    dp = [0 for x in range(len(grid[0]))]\n",
    "    for i in range(len(grid)):\n",
    "        for j in range(len(grid[0])):\n",
    "            up = 0\n",
    "            left = 0\n",
    "            if i > 0:\n",
    "                up = dp[i]\n",
    "            if j > 0:\n",
    "                left = dp[j]\n",
    "            dp[i] = max(up,left) + grid[i][j]\n",
    "    return dp[-1]"
   ]
  },
  {
   "cell_type": "markdown",
   "metadata": {},
   "source": [
    "# 重建二叉树"
   ]
  },
  {
   "cell_type": "raw",
   "metadata": {},
   "source": [
    "前序遍历 preorder = [3,9,20,15,7]  根左右\n",
    "中序遍历 inorder = [9,3,15,20,7]   左根右\n",
    "\n",
    "    3\n",
    "   / \\\n",
    "  9  20\n",
    "    /  \\\n",
    "   15   7"
   ]
  },
  {
   "cell_type": "code",
   "execution_count": 13,
   "metadata": {},
   "outputs": [],
   "source": [
    "def buildTree(preorder,inorder) :\n",
    "    if len(preorder) ==0 or len(inorder) ==0:\n",
    "        return\n",
    "    root = TreeNode()\n",
    "    root.val = preorder[0]\n",
    "    i = inorder.index(preorder[0])   #去中序里找到根节点的index，也就是通过先序的第一个元素寻找，此时i的位置表示中序的根节点\n",
    "\n",
    "    root.left = self.buildTree(preorder[1:index+1],inorder[0:index])\n",
    "    root.right = self.buildTree(preorder[index+1:],inorder[index+1:])\n",
    "    return root\n",
    "    "
   ]
  },
  {
   "cell_type": "markdown",
   "metadata": {},
   "source": [
    "# 字符串的排列"
   ]
  },
  {
   "cell_type": "code",
   "execution_count": 1,
   "metadata": {},
   "outputs": [],
   "source": [
    "def permutation(s):\n",
    "    c = Counter(s)\n",
    "    res = []\n",
    "    def dfs(prefix):\n",
    "        if not max(c.values()):\n",
    "            res.append(prefix)\n",
    "            return\n",
    "        for x in c:\n",
    "            if c[x] > 0 :\n",
    "                c[x] -= 1\n",
    "                dfs(prefix + x)\n",
    "                c[x] += 1\n",
    "    dfs(\"\")\n",
    "    return res"
   ]
  },
  {
   "cell_type": "markdown",
   "metadata": {},
   "source": [
    "# 剪绳子"
   ]
  },
  {
   "cell_type": "code",
   "execution_count": 2,
   "metadata": {},
   "outputs": [],
   "source": [
    "def cuttingRope(n):\n",
    "\n",
    "    dp = [0] * (n+1)\n",
    "    dp[1] = 1\n",
    "    for i in range(2,n+1):\n",
    "        for j in range(1 , i):\n",
    "            dp[i] = max(dp[i], max(j, dp[j]) * (i - j))\n",
    "    return dp[-1]"
   ]
  },
  {
   "cell_type": "markdown",
   "metadata": {},
   "source": [
    "# 从上到下打印二叉树 III"
   ]
  },
  {
   "cell_type": "markdown",
   "metadata": {},
   "source": [
    "解法1"
   ]
  },
  {
   "cell_type": "code",
   "execution_count": 3,
   "metadata": {},
   "outputs": [],
   "source": [
    "def levelOrder(root) :\n",
    "    if not root: return []\n",
    "    res = []\n",
    "    tmp = []\n",
    "    stack =[root]\n",
    "    flag = 1\n",
    "\n",
    "    while stack:\n",
    "        for i in range(len(stack)):\n",
    "            node = stack.pop(0)\n",
    "            tmp += [node.val]\n",
    "            if node.left :\n",
    "                stack += [node.left]\n",
    "            if node.right:\n",
    "                stack += [node.right]\n",
    "        res += [tmp[::flag]]\n",
    "        tmp = []\n",
    "        flag *= -1\n",
    "    return res"
   ]
  },
  {
   "cell_type": "markdown",
   "metadata": {},
   "source": [
    "解法2"
   ]
  },
  {
   "cell_type": "code",
   "execution_count": 4,
   "metadata": {},
   "outputs": [],
   "source": [
    "def levelOrder(root) :\n",
    "\n",
    "    self.res = []\n",
    "\n",
    "    def helper(root,layer = 0):\n",
    "        if not root: return\n",
    "        if layer >= len(self.res):\n",
    "            self.res.append([])\n",
    "        if layer & 1 == 0:\n",
    "            self.res[layer].append(root.val)\n",
    "        else:\n",
    "            self.res[layer].insert(0,root.val)\n",
    "        helper(root.left,layer+1)\n",
    "        helper(root.right,layer+1)\n",
    "\n",
    "    helper(root)\n",
    "    return self.res"
   ]
  },
  {
   "cell_type": "markdown",
   "metadata": {},
   "source": [
    "# 二叉搜索树与双向链表"
   ]
  },
  {
   "cell_type": "code",
   "execution_count": 5,
   "metadata": {},
   "outputs": [],
   "source": [
    "def treeToDoublyList(root: 'Node') :\n",
    "    def helper(root):\n",
    "        leftmin = root\n",
    "        rightmax = root\n",
    "        if root.left:\n",
    "            leftmin,leftmax = helper(root.left)\n",
    "            leftmax.right = root\n",
    "            root.left = leftmax\n",
    "        if root.right:\n",
    "            rightmin,rightmax = helper(root.right)\n",
    "            root.right = rightmin\n",
    "            rightmin.left = root\n",
    "        return leftmin,rightmax\n",
    "\n",
    "    if not root:\n",
    "        return None\n",
    "    minnode,maxnode = helper(root)\n",
    "    minnode.left = maxnode\n",
    "    maxnode.right = minnode\n",
    "    return minnode "
   ]
  },
  {
   "cell_type": "markdown",
   "metadata": {},
   "source": [
    "# 栈的压入、弹出序列"
   ]
  },
  {
   "cell_type": "code",
   "execution_count": null,
   "metadata": {},
   "outputs": [],
   "source": [
    "def validateStackSequences(pushed, popped) :\n",
    "    stack = []\n",
    "    pointer = 0\n",
    "    for i in pushed:\n",
    "        stack.append(i)\n",
    "        while stack[-1] == popped[pointer]:\n",
    "            stack.pop()\n",
    "            pointer +=1\n",
    "            if len(stack) == 0:\n",
    "                break\n",
    "    return len(popped) == pointer"
   ]
  },
  {
   "cell_type": "markdown",
   "metadata": {},
   "source": [
    "# 二叉树中和为某一值的路径"
   ]
  },
  {
   "cell_type": "code",
   "execution_count": 6,
   "metadata": {},
   "outputs": [],
   "source": [
    "def pathSum(root, target) :\n",
    "    if not root :\n",
    "        return []\n",
    "    stack = [(root,[root.val])]\n",
    "    res = []\n",
    "    while stack:\n",
    "        node,val = stack.pop()\n",
    "        if node and not node.left and not node.right and sum(val) ==target:\n",
    "            res.append(val)   #只有根节点\n",
    "        if node.left:\n",
    "            stack.append((node.left , val+[node.left.val]))\n",
    "        if node.right:\n",
    "            stack.append((node.right,val+[node.right.val]))\n",
    "    return res"
   ]
  },
  {
   "cell_type": "code",
   "execution_count": null,
   "metadata": {},
   "outputs": [],
   "source": []
  }
 ],
 "metadata": {
  "kernelspec": {
   "display_name": "Python 3",
   "language": "python",
   "name": "python3"
  },
  "language_info": {
   "codemirror_mode": {
    "name": "ipython",
    "version": 3
   },
   "file_extension": ".py",
   "mimetype": "text/x-python",
   "name": "python",
   "nbconvert_exporter": "python",
   "pygments_lexer": "ipython3",
   "version": "3.7.6"
  },
  "toc": {
   "base_numbering": 1,
   "nav_menu": {},
   "number_sections": true,
   "sideBar": true,
   "skip_h1_title": false,
   "title_cell": "Table of Contents",
   "title_sidebar": "Contents",
   "toc_cell": false,
   "toc_position": {},
   "toc_section_display": true,
   "toc_window_display": true
  },
  "varInspector": {
   "cols": {
    "lenName": 16,
    "lenType": 16,
    "lenVar": 40
   },
   "kernels_config": {
    "python": {
     "delete_cmd_postfix": "",
     "delete_cmd_prefix": "del ",
     "library": "var_list.py",
     "varRefreshCmd": "print(var_dic_list())"
    },
    "r": {
     "delete_cmd_postfix": ") ",
     "delete_cmd_prefix": "rm(",
     "library": "var_list.r",
     "varRefreshCmd": "cat(var_dic_list()) "
    }
   },
   "types_to_exclude": [
    "module",
    "function",
    "builtin_function_or_method",
    "instance",
    "_Feature"
   ],
   "window_display": false
  }
 },
 "nbformat": 4,
 "nbformat_minor": 2
}
