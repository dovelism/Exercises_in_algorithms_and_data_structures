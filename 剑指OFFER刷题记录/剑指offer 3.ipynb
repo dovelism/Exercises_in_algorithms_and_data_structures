{
 "cells": [
  {
   "cell_type": "markdown",
   "metadata": {},
   "source": [
    "# 把数字翻译成字符串"
   ]
  },
  {
   "cell_type": "markdown",
   "metadata": {},
   "source": [
    "输入: 12258\n",
    "输出: 5\n",
    "解释: 12258有5种不同的翻译，分别是\"bccfi\", \"bwfi\", \"bczi\", \"mcfi\"和\"mzi\""
   ]
  },
  {
   "cell_type": "code",
   "execution_count": 1,
   "metadata": {},
   "outputs": [],
   "source": [
    "def translateNum(num):\n",
    "    num = str(num)\n",
    "    dp = [0] * len(num)\n",
    "    dp[0] = 1\n",
    "    dp[1] = 1\n",
    "    \n",
    "    for i in range(1,len(num)):\n",
    "        if 10 <= s[i-1:i+1] <26:\n",
    "            dp[i] = dp[i-1] +dp[i-2]\n",
    "        else:\n",
    "            dp[i] = dp[i-1]\n",
    "    return dp[-1]"
   ]
  },
  {
   "cell_type": "markdown",
   "metadata": {},
   "source": [
    "# 1～n整数中1出现的次数"
   ]
  },
  {
   "cell_type": "code",
   "execution_count": 2,
   "metadata": {},
   "outputs": [],
   "source": [
    "def countDigitOne(n) :\n",
    "    base, res, s = 1, 0, str(n)\n",
    "    for i in range(len(s)-1, -1, -1):\n",
    "        n //= 10\n",
    "        res += n*base\n",
    "        if s[i] == '1' and i!= len(s)-1:\n",
    "            res += int(s[i+1:]) + 1\n",
    "        elif s[i] != '0' :\n",
    "            res += base\n",
    "        base *= 10\n",
    "    return res"
   ]
  },
  {
   "cell_type": "markdown",
   "metadata": {},
   "source": [
    "# 二叉搜索树的后序遍历序列"
   ]
  },
  {
   "cell_type": "code",
   "execution_count": 4,
   "metadata": {},
   "outputs": [],
   "source": [
    "def verifyPostorder(postorder):\n",
    "    if not postorder:\n",
    "        return True\n",
    "    \n",
    "    def helper(nums):\n",
    "        if len(nums) <=1 : return True\n",
    "        root = nums[-1]\n",
    "        for i in range(len(nums)):\n",
    "            if nums[i] >root:\n",
    "                break\n",
    "        for j in range(i,len(nums)-1):\n",
    "            if nums[j] < root:\n",
    "                return False         # 因为i到len（nums）-1应该是二叉搜索树的右半边\n",
    "        return helper(nums[:i]) and helper(nums[i,-1])\n",
    "    \n",
    "    return helper(postorder)\n",
    "    "
   ]
  },
  {
   "cell_type": "markdown",
   "metadata": {},
   "source": [
    "# 队列的最大值"
   ]
  },
  {
   "cell_type": "code",
   "execution_count": 5,
   "metadata": {},
   "outputs": [],
   "source": [
    "class MaxQueue:\n",
    "\n",
    "    def __init__(self):\n",
    "        self.queue = []  # 队列\n",
    "        self.sort = []   # 记录最大值\n",
    "        self.start = 0   #队列开始位置  \n",
    "        self.sort_start = 0  #sort起始位置\n",
    "\n",
    "\n",
    "    def max_value(self) :\n",
    "        if len(self.sort)  == self.sort_start :\n",
    "            return -1\n",
    "        ans = self.sort[self.sort_start]\n",
    "        return ans\n",
    "\n",
    "\n",
    "    def push_back(value) :\n",
    "        self.queue.append(value)\n",
    "         #保证队列是降序排列的，如果新入队的数值比较大，那么sort_start之后比它小的数字可以不要\n",
    "        while self.sort[self.sort_start:] and value > self.sort[-1]:\n",
    "            self.sort.pop()\n",
    "        self.sort.append(value)\n",
    "\n",
    "    def pop_front(self):\n",
    "        if len(self.queue) == self.start:\n",
    "            return -1\n",
    "        ans = self.queue[self.start]\n",
    "        if ans == self.sort[self.sort_start]:   #如果弹出的是最大值，则sort的起始位置向后移动一位\n",
    "            self.sort_start +=1  \n",
    "        self.start += 1   #队列的起始位置向后移动一位\n",
    "        return ans"
   ]
  },
  {
   "cell_type": "markdown",
   "metadata": {},
   "source": [
    "# 机器人的运动范围"
   ]
  },
  {
   "cell_type": "code",
   "execution_count": 7,
   "metadata": {},
   "outputs": [],
   "source": [
    "def movingCount(m, n, k) :\n",
    "\n",
    "    def dis(x,y):\n",
    "        res = 0\n",
    "        while x: \n",
    "            res += x % 10\n",
    "            x //= 10\n",
    "        while y:\n",
    "            res += y % 10\n",
    "            y //= 10\n",
    "        return res\n",
    "\n",
    "    dp = [ [False] * n for x in range(m)]\n",
    "    dp[0][0] = True\n",
    "    ans = 1\n",
    "    for i in range(m):\n",
    "        for j in range(n):\n",
    "            if i == 0 and j == 0:\n",
    "                continue\n",
    "            if((i !=0 and dp[i-1][j]) or (j != 0 and dp[i][j-1])) and dis(i,j) <= k:\n",
    "                dp[i][j] = True\n",
    "                ans +=1\n",
    "    return ans"
   ]
  },
  {
   "cell_type": "markdown",
   "metadata": {},
   "source": [
    "# 树的子结构"
   ]
  },
  {
   "cell_type": "code",
   "execution_count": 8,
   "metadata": {},
   "outputs": [],
   "source": [
    "def isSubStructure( A, B) :\n",
    "    def helper(a,b):\n",
    "        if not b: return True\n",
    "        if not a: return False\n",
    "        if a.val != b.val:\n",
    "            return False\n",
    "        return helper(a.left,b.left) and helper(a.right, b.right)\n",
    "\n",
    "    if not A or not B: return False\n",
    "    if A.val == B.val : return helper(A,B)\n",
    "    return self.isSubStructure(A.left,B) or self.isSubStructure(A.right,B)"
   ]
  },
  {
   "cell_type": "markdown",
   "metadata": {},
   "source": [
    "# 最长不含重复字符的子字符串  "
   ]
  },
  {
   "cell_type": "markdown",
   "metadata": {},
   "source": [
    " 解法1：双指针"
   ]
  },
  {
   "cell_type": "code",
   "execution_count": 2,
   "metadata": {},
   "outputs": [],
   "source": [
    "def lengthOfLongestSubstring( s):\n",
    "    if len(s) == 0:\n",
    "        return 0\n",
    "    pre,cur = 0 ,0\n",
    "    res = 0\n",
    "    for cur in range(len(s)):\n",
    "        if s[cur] not in s[pre:cur]:\n",
    "            res =max(cur-pre+1 ,res)\n",
    "        else:\n",
    "            while s[cur] in s[pre:cur]:\n",
    "                pre +=1\n",
    "    return res"
   ]
  },
  {
   "cell_type": "markdown",
   "metadata": {},
   "source": [
    "# 矩阵中的路径"
   ]
  },
  {
   "cell_type": "markdown",
   "metadata": {},
   "source": [
    "解法1：深度优先搜索"
   ]
  },
  {
   "cell_type": "code",
   "execution_count": 3,
   "metadata": {},
   "outputs": [],
   "source": [
    "    def exist(board, word) :\n",
    "        r,c = len(board),len(board[0])\n",
    "        ans = []\n",
    "        for i in range(r):\n",
    "            for j in range(c):\n",
    "                if board[i][j] == word[0]:\n",
    "                    if self.dfs(board,i,j,word):return True\n",
    "        return False\n",
    "    \n",
    "    def dfs(self,tmp,i,j,word):\n",
    "        if not word: return True\n",
    "        if not (i>=0 and i <len(tmp)) or not (j>=0 and j<len(tmp[0])):\n",
    "            return False\n",
    "        if not tmp[i][j] ==word[0]: return False\n",
    "        tmp[i][j] +=' '\n",
    "        res = self.dfs(tmp,i+1,j,word[1:]) or self.dfs(tmp,i-1,j,word[1:]) or self.dfs(tmp,i,j+1,word[1:]) or self.dfs(tmp,i,j-1,word[1:])\n",
    "        tmp[i][j] = tmp[i][j][:-1]\n",
    "        return res"
   ]
  },
  {
   "cell_type": "markdown",
   "metadata": {},
   "source": [
    "# 数字序列中某一位的数字"
   ]
  },
  {
   "cell_type": "code",
   "execution_count": 4,
   "metadata": {},
   "outputs": [],
   "source": [
    "def findNthDigit(n) :\n",
    "    # 找规律，1 位数字有 1 + 9 个，2 位数字有 90 个, 3 位数字有 900 个\n",
    "    # n < 1 * 9 + 1: return n\n",
    "    # 10 <= n < 2 * 90 + 10: return str((n - 10) // 2 + 10)[(n - 10) % 2] \n",
    "    # 190<= n < 3 * 900 + 190: return str((n - 190) // 3 + 100)[(n - 190) % 3]\n",
    "    bit = 1\n",
    "    before = 1\n",
    "    count = 10\n",
    "    while n >= count:\n",
    "        bit +=1\n",
    "        before = count\n",
    "        count = bit * 9 * 10 **(bit-1) + before\n",
    "    return int(str((n-before) // bit +10 **(bit-1))[(n-before)%bit]) "
   ]
  },
  {
   "cell_type": "markdown",
   "metadata": {},
   "source": [
    "# 数值的整数次方"
   ]
  },
  {
   "cell_type": "code",
   "execution_count": 5,
   "metadata": {},
   "outputs": [],
   "source": [
    "def myPow(x, n) :\n",
    "    # 快速幂\n",
    "    if n == 1 :\n",
    "        return x\n",
    "    elif n == -1:\n",
    "        return 1/x\n",
    "    elif n == 0:\n",
    "        return 1\n",
    "\n",
    "    return self.myPow(x*x,n//2) * self.myPow(x,n%2)"
   ]
  },
  {
   "cell_type": "markdown",
   "metadata": {},
   "source": [
    "# 剪绳子 II"
   ]
  },
  {
   "cell_type": "code",
   "execution_count": 6,
   "metadata": {},
   "outputs": [],
   "source": [
    "def cuttingRope(n) :\n",
    "    if n ==2:\n",
    "        return 1\n",
    "    if n == 3:\n",
    "        return 2\n",
    "    res = 1\n",
    "    while (n>4):\n",
    "        res *=3\n",
    "        res = res %1000000007\n",
    "        n -=3\n",
    "    return int(res * n %1000000007)\n"
   ]
  },
  {
   "cell_type": "markdown",
   "metadata": {},
   "source": [
    "# 把字符串转换成整数"
   ]
  },
  {
   "cell_type": "code",
   "execution_count": 7,
   "metadata": {},
   "outputs": [],
   "source": [
    "def strToInt(s) :\n",
    "    s = s.lstrip()\n",
    "    res = 0\n",
    "    if not s: return res\n",
    "\n",
    "    flag = s[0] if s[0] in [\"-\", \"+\"] else 0\n",
    "    s = s[1:] if s[0] in [\"-\", \"+\"] else s\n",
    "\n",
    "\n",
    "    for t in range(len(s)):\n",
    "        if s[t] in \"0123456789\":\n",
    "            res = res*10+ int(s[t])\n",
    "        else:\n",
    "            break\n",
    "    if flag != 0:\n",
    "        if flag == \"-\":\n",
    "            res = -res\n",
    "    if res < -pow(2, 31):\n",
    "        return -pow(2, 31)\n",
    "    if res > pow(2, 31) - 1:\n",
    "        return pow(2, 31) - 1\n",
    "    return res"
   ]
  },
  {
   "cell_type": "markdown",
   "metadata": {},
   "source": [
    "# 正则表达式匹配"
   ]
  },
  {
   "cell_type": "code",
   "execution_count": 1,
   "metadata": {},
   "outputs": [],
   "source": [
    "def isMatch(s, p):\n",
    "    dp = [[False] * (len(p)+1) for x in range(len(s)+1)]\n",
    "    dp[0][0] = True\n",
    "\n",
    "    # p 匹配空字符串\n",
    "    for i in range(1,len(p)+1):\n",
    "        if p[i-1] == '*' and i-1>0 :\n",
    "            dp[0][i] = dp[0][i-2]\n",
    "\n",
    "    # dp[i][j]表示p[0：j-1]能否匹配s[s：i-1]\n",
    "    for i in range(1,len(s)+1):\n",
    "        for j in range(1,len(p)+1):\n",
    "            if p[j-1] == s[i-1] or p[j-1] =='.':\n",
    "                dp[i][j] = dp[i-1][j-1]\n",
    "            elif p[j-1] == '*' and j-1>0:\n",
    "                if p[j-2] != s[i-1] and p[j-2] !='.':\n",
    "                    dp[i][j] = dp[i][j-2]\n",
    "                else:\n",
    "                    dp[i][j] = dp[i][j-2] or dp[i][j-1] or dp[i-1][j]\n",
    "            else:\n",
    "                dp[i][j] = False\n",
    "    return dp[-1][-1]"
   ]
  },
  {
   "cell_type": "markdown",
   "metadata": {},
   "source": [
    "# 数据流中的中位数"
   ]
  },
  {
   "cell_type": "code",
   "execution_count": 2,
   "metadata": {},
   "outputs": [],
   "source": [
    "    def __init__(self):\n",
    "        self.heaps = [], []\n",
    "\n",
    "    def addNum(num) :\n",
    "        small, large = self.heaps\n",
    "        heappush(small, -heappushpop(large, num))  \n",
    "        if len(large) < len(small):\n",
    "            heappush(large, -heappop(small))\n",
    "            \n",
    "    def findMedian(self) :\n",
    "        small, large = self.heaps\n",
    "        if len(large) > len(small):\n",
    "            return float(large[0])\n",
    "        return (large[0] - small[0]) / 2.0"
   ]
  },
  {
   "cell_type": "markdown",
   "metadata": {},
   "source": [
    "# 数组中的逆序对"
   ]
  },
  {
   "cell_type": "code",
   "execution_count": 3,
   "metadata": {},
   "outputs": [],
   "source": [
    "def reversePairs(nums) :\n",
    "    if not nums:\n",
    "        return 0\n",
    "    self.inv_number = 0\n",
    "\n",
    "    def merge(A,B):\n",
    "        tmp = []\n",
    "        i,j = 0 ,0\n",
    "        while i<len(A) and j<len(B):\n",
    "            if A[i] <= B[j]:\n",
    "                tmp.append(A[i])\n",
    "                i +=1\n",
    "                self.inv_number +=j\n",
    "            else:\n",
    "                tmp.append(B[j])\n",
    "                j +=1\n",
    "        while i < len(A):\n",
    "            self.inv_number += j\n",
    "            tmp.append(A[i])\n",
    "            i +=1\n",
    "        while j < len(B):\n",
    "            tmp.append(B[j])\n",
    "            j +=1\n",
    "        return tmp\n",
    "\n",
    "    def mergesort(nums,start,end):\n",
    "        if start == end:\n",
    "            return [nums[start]]\n",
    "        mid = start +(end-start) //2\n",
    "        A = mergesort(nums,start,mid)\n",
    "        B = mergesort(nums,mid+1,end)\n",
    "        res = merge(A,B)\n",
    "        return res\n",
    "\n",
    "    mergesort(nums,0,len(nums)-1)\n",
    "    return self.inv_number"
   ]
  },
  {
   "cell_type": "markdown",
   "metadata": {},
   "source": [
    "# 二叉树的序列化"
   ]
  },
  {
   "cell_type": "code",
   "execution_count": 4,
   "metadata": {},
   "outputs": [],
   "source": [
    "def __init__(self):\n",
    "    self.strTree = []\n",
    "\n",
    "\n",
    "def serialize(self, root):\n",
    "    \"\"\"Encodes a tree to a single string.\n",
    "\n",
    "    :type root: TreeNode\n",
    "    :rtype: str\n",
    "    \"\"\"\n",
    "    if not root :\n",
    "        self.strTree.append(\"null\")\n",
    "        return self.strTree\n",
    "    curStr = str(root.val)\n",
    "    self.strTree.append(curStr)\n",
    "    self.serialize(root.left)\n",
    "    self.serialize(root.right)\n",
    "    return self.strTree\n",
    "\n",
    "def deserialize(self, data):\n",
    "    \"\"\"Decodes your encoded data to tree.\n",
    "\n",
    "    :type data: str\n",
    "    :rtype: TreeNode\n",
    "    \"\"\"\n",
    "    if len(data) ==1 and data[0] ==\"null\":\n",
    "        return None\n",
    "    Treeval = data.pop(0)\n",
    "    if Treeval == \"null\":\n",
    "        return None\n",
    "    root = TreeNode(Treeval)\n",
    "    root.left = self.deserialize(data)\n",
    "    root.right = self.deserialize(data)\n",
    "    return root"
   ]
  },
  {
   "cell_type": "markdown",
   "metadata": {},
   "source": [
    "# 表示数值的字符"
   ]
  },
  {
   "cell_type": "markdown",
   "metadata": {},
   "source": [
    "这个题评价不太好"
   ]
  },
  {
   "cell_type": "code",
   "execution_count": 5,
   "metadata": {},
   "outputs": [],
   "source": [
    "def isNumber(s: str):\n",
    "    try:\n",
    "        key=float(s)\n",
    "        return True\n",
    "    except:\n",
    "        return False"
   ]
  },
  {
   "cell_type": "code",
   "execution_count": null,
   "metadata": {},
   "outputs": [],
   "source": []
  }
 ],
 "metadata": {
  "kernelspec": {
   "display_name": "Python 3",
   "language": "python",
   "name": "python3"
  },
  "language_info": {
   "codemirror_mode": {
    "name": "ipython",
    "version": 3
   },
   "file_extension": ".py",
   "mimetype": "text/x-python",
   "name": "python",
   "nbconvert_exporter": "python",
   "pygments_lexer": "ipython3",
   "version": "3.7.6"
  },
  "toc": {
   "base_numbering": 1,
   "nav_menu": {},
   "number_sections": true,
   "sideBar": true,
   "skip_h1_title": false,
   "title_cell": "Table of Contents",
   "title_sidebar": "Contents",
   "toc_cell": false,
   "toc_position": {},
   "toc_section_display": true,
   "toc_window_display": true
  },
  "varInspector": {
   "cols": {
    "lenName": 16,
    "lenType": 16,
    "lenVar": 40
   },
   "kernels_config": {
    "python": {
     "delete_cmd_postfix": "",
     "delete_cmd_prefix": "del ",
     "library": "var_list.py",
     "varRefreshCmd": "print(var_dic_list())"
    },
    "r": {
     "delete_cmd_postfix": ") ",
     "delete_cmd_prefix": "rm(",
     "library": "var_list.r",
     "varRefreshCmd": "cat(var_dic_list()) "
    }
   },
   "types_to_exclude": [
    "module",
    "function",
    "builtin_function_or_method",
    "instance",
    "_Feature"
   ],
   "window_display": false
  }
 },
 "nbformat": 4,
 "nbformat_minor": 2
}
