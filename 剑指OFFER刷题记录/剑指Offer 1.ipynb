{
 "cells": [
  {
   "cell_type": "markdown",
   "metadata": {},
   "source": [
    "# 在排序数组中查找数字 I "
   ]
  },
  {
   "cell_type": "markdown",
   "metadata": {},
   "source": [
    "统计一个数字在排序数组中出现的次数。"
   ]
  },
  {
   "cell_type": "markdown",
   "metadata": {},
   "source": [
    "Brute Force"
   ]
  },
  {
   "cell_type": "code",
   "execution_count": 5,
   "metadata": {},
   "outputs": [],
   "source": [
    "def search(nums,target):\n",
    "    count = 0\n",
    "    for i in range (0,len(nums)):\n",
    "        if nums[i] == target:\n",
    "            count +=1\n",
    "    return count"
   ]
  },
  {
   "cell_type": "code",
   "execution_count": 6,
   "metadata": {},
   "outputs": [
    {
     "data": {
      "text/plain": [
       "2"
      ]
     },
     "execution_count": 6,
     "metadata": {},
     "output_type": "execute_result"
    }
   ],
   "source": [
    "nums = [5,7,7,8,8,10]\n",
    "target = 8\n",
    "search(nums,target)"
   ]
  },
  {
   "cell_type": "markdown",
   "metadata": {},
   "source": [
    "binary search"
   ]
  },
  {
   "cell_type": "code",
   "execution_count": 10,
   "metadata": {},
   "outputs": [],
   "source": [
    "def search(nums,target):\n",
    "    left = 0\n",
    "    right = len(nums)\n",
    "    while left < right:\n",
    "        mid = left+(right - left) //2\n",
    "        if nums[mid] < target:\n",
    "            left = mid+1\n",
    "        else:\n",
    "            right = mid\n",
    "    if left == len(nums) or nums[left] != target:\n",
    "        return 0\n",
    "    L = left\n",
    "    left = 0\n",
    "    right = len(nums)\n",
    "    while left < right:\n",
    "        mid = left+(right - left) //2\n",
    "        if nums[mid] <= target:\n",
    "            left = mid+1\n",
    "        else:\n",
    "            right = mid\n",
    "    K = right\n",
    "    return K -L"
   ]
  },
  {
   "cell_type": "code",
   "execution_count": 11,
   "metadata": {},
   "outputs": [
    {
     "data": {
      "text/plain": [
       "2"
      ]
     },
     "execution_count": 11,
     "metadata": {},
     "output_type": "execute_result"
    }
   ],
   "source": [
    "nums = [5,7,7,8,8,10]\n",
    "target = 8\n",
    "search(nums,target)"
   ]
  },
  {
   "cell_type": "markdown",
   "metadata": {},
   "source": [
    " hash map"
   ]
  },
  {
   "cell_type": "code",
   "execution_count": 3,
   "metadata": {},
   "outputs": [],
   "source": [
    "def search(self, nums, target) :\n",
    "    if not nums:\n",
    "        return 0\n",
    "    n = len(nums)\n",
    "    dic = {}\n",
    "    for num in nums:\n",
    "        if num not in dic:\n",
    "            dic[num] =1\n",
    "        else:\n",
    "            dic[num] +=1\n",
    "    for key , value in dic.items():\n",
    "        if key == target:\n",
    "            return value\n",
    "    return 0"
   ]
  },
  {
   "cell_type": "markdown",
   "metadata": {},
   "source": [
    "# 旋转数组的最小数字"
   ]
  },
  {
   "cell_type": "code",
   "execution_count": 12,
   "metadata": {},
   "outputs": [],
   "source": [
    "def findMin(self, nums) :\n",
    "    low = 0\n",
    "    high = len(nums)-1\n",
    "    while low < high:\n",
    "        mid = low + (high - low) //2\n",
    "        if nums[mid] > nums[high]:\n",
    "            low = mid +1\n",
    "        elif nums[mid] < nums[high]:\n",
    "            high = mid\n",
    "        else:\n",
    "            high -=1\n",
    "        \n",
    "    return nums[low]"
   ]
  },
  {
   "cell_type": "markdown",
   "metadata": {},
   "source": [
    "# 0～n-1中缺失的数字"
   ]
  },
  {
   "cell_type": "markdown",
   "metadata": {},
   "source": [
    "1. 数学法"
   ]
  },
  {
   "cell_type": "code",
   "execution_count": 18,
   "metadata": {},
   "outputs": [],
   "source": [
    "def missnumber(nums):\n",
    "    n = len(nums)+1\n",
    "    ss = sum([i for i in nums])\n",
    "    sum_all = int((1 / 2) * n *(n-1))\n",
    "    miss = sum_all - ss\n",
    "    return miss\n",
    "    "
   ]
  },
  {
   "cell_type": "code",
   "execution_count": 19,
   "metadata": {},
   "outputs": [
    {
     "data": {
      "text/plain": [
       "8"
      ]
     },
     "execution_count": 19,
     "metadata": {},
     "output_type": "execute_result"
    }
   ],
   "source": [
    "nums = [0,1,2,3,4,5,6,7,9]\n",
    "missnumber(nums)"
   ]
  },
  {
   "cell_type": "markdown",
   "metadata": {},
   "source": [
    "二分查找"
   ]
  },
  {
   "cell_type": "code",
   "execution_count": 25,
   "metadata": {},
   "outputs": [],
   "source": [
    "def missnumber2(nums):\n",
    "    left = 0\n",
    "    right = len(nums)-1\n",
    "    while left < right:\n",
    "        mid = left + (right -left) //2\n",
    "        if nums[mid] == mid:\n",
    "            left= mid+1\n",
    "        else:\n",
    "            right = mid\n",
    "    return left\n",
    "        "
   ]
  },
  {
   "cell_type": "code",
   "execution_count": 26,
   "metadata": {},
   "outputs": [
    {
     "data": {
      "text/plain": [
       "8"
      ]
     },
     "execution_count": 26,
     "metadata": {},
     "output_type": "execute_result"
    }
   ],
   "source": [
    "nums = [0,1,2,3,4,5,6,7,9]\n",
    "missnumber2(nums)"
   ]
  },
  {
   "cell_type": "markdown",
   "metadata": {},
   "source": [
    "不知道是什么法"
   ]
  },
  {
   "cell_type": "code",
   "execution_count": 27,
   "metadata": {},
   "outputs": [],
   "source": [
    "def missnumber3(nums):    \n",
    "    for i in range(0,len(nums)):\n",
    "        if nums[i] != i:\n",
    "            return i\n",
    "            i +=1\n",
    "    return nums[len(nums)-1]+1"
   ]
  },
  {
   "cell_type": "markdown",
   "metadata": {},
   "source": [
    "异或法"
   ]
  },
  {
   "cell_type": "code",
   "execution_count": 28,
   "metadata": {},
   "outputs": [],
   "source": [
    "def missnumber4(nums):\n",
    "    n = len(nums)\n",
    "    for i in range(0,n):\n",
    "        n ^= nums[i]\n",
    "        n ^= i\n",
    "    return n"
   ]
  },
  {
   "cell_type": "markdown",
   "metadata": {},
   "source": [
    "# 把数组排成最小的数"
   ]
  },
  {
   "cell_type": "raw",
   "metadata": {},
   "source": [
    "Python 的排序可以传入cmp函数，由于默认是递增排序，我们想要的小于就返回-1，想要的大于就返回1。"
   ]
  },
  {
   "cell_type": "code",
   "execution_count": 2,
   "metadata": {},
   "outputs": [],
   "source": [
    "def minNumber(self, nums):\n",
    "\n",
    "    def cmp (a,b):\n",
    "        if str(a) + str(b) < str(b) + str(a):\n",
    "            return -1\n",
    "        if str(a) + str(b) > str(b) + str(a):\n",
    "            return 1\n",
    "        return 0\n",
    "        \n",
    "    nums = sorted(nums,key=functools.cmp_to_key(cmp))\n",
    "\n",
    "    return ''.join([str(x) for x in nums])"
   ]
  },
  {
   "cell_type": "markdown",
   "metadata": {},
   "source": [
    "# 二维数组中的查找"
   ]
  },
  {
   "cell_type": "code",
   "execution_count": 20,
   "metadata": {},
   "outputs": [],
   "source": [
    "def findNumberIn2DArray(matrix, target) :\n",
    "    if len(matrix) == 0:\n",
    "        return False\n",
    "    row = 0\n",
    "    col = len(matrix[0])-1\n",
    "    while row < len(matrix) and col >= 0:\n",
    "        if matrix[row][col] == target:\n",
    "            return True\n",
    "        elif matrix[row][col] < target:\n",
    "            row +=1\n",
    "        else:\n",
    "            col -=1\n",
    "    return False\n",
    "        "
   ]
  },
  {
   "cell_type": "code",
   "execution_count": 21,
   "metadata": {},
   "outputs": [
    {
     "data": {
      "text/plain": [
       "True"
      ]
     },
     "execution_count": 21,
     "metadata": {},
     "output_type": "execute_result"
    }
   ],
   "source": [
    "matrix =[\n",
    "  [1,   4,  7, 11, 15],\n",
    "  [2,   5,  8, 12, 19],\n",
    "  [3,   6,  9, 16, 22],\n",
    "  [10, 13, 14, 17, 24],\n",
    "  [18, 21, 23, 26, 30]\n",
    "]\n",
    "\n",
    "target = 24\n",
    "findNumberIn2DArray(matrix,target)"
   ]
  },
  {
   "cell_type": "markdown",
   "metadata": {},
   "source": [
    "# 左旋转字符串"
   ]
  },
  {
   "cell_type": "markdown",
   "metadata": {},
   "source": [
    "解法1：自己写的brute force 看着有点蠢"
   ]
  },
  {
   "cell_type": "code",
   "execution_count": 1,
   "metadata": {},
   "outputs": [],
   "source": [
    "def reverseLeftWords(self, s, n):\n",
    "    res = []\n",
    "    for i in range(n,len(s)):\n",
    "        res.append(s[i])\n",
    "        \n",
    "    for j in range(n):\n",
    "        res.append(s[j])\n",
    "        \n",
    "    return ''.join(res)"
   ]
  },
  {
   "cell_type": "markdown",
   "metadata": {},
   "source": [
    "解法2：直接利用字符串"
   ]
  },
  {
   "cell_type": "code",
   "execution_count": 2,
   "metadata": {},
   "outputs": [],
   "source": [
    "def reverseLeftWords(self, s, n):\n",
    "    if len(s)<=1:\n",
    "        return s\n",
    "    s1=s[:n]\n",
    "    s2=s[n:len(s)]\n",
    "    s=s2+s1\n",
    "    return s"
   ]
  },
  {
   "cell_type": "markdown",
   "metadata": {},
   "source": [
    "# 打印从1到最大的n位数"
   ]
  },
  {
   "cell_type": "code",
   "execution_count": 3,
   "metadata": {},
   "outputs": [],
   "source": [
    "def printNumbers(n) :\n",
    "    res = []\n",
    "    for i in range(1,10**n):\n",
    "        res.append(i)\n",
    "    return res"
   ]
  },
  {
   "cell_type": "markdown",
   "metadata": {},
   "source": [
    "# 二进制中1的个数"
   ]
  },
  {
   "cell_type": "code",
   "execution_count": 23,
   "metadata": {},
   "outputs": [],
   "source": [
    "def hammingWeight(n):\n",
    "    count=0\n",
    "    while n!=0:\n",
    "        count+=1\n",
    "        n=n&(n-1)\n",
    "    return count \n",
    "        "
   ]
  },
  {
   "cell_type": "code",
   "execution_count": 27,
   "metadata": {},
   "outputs": [
    {
     "data": {
      "text/plain": [
       "1"
      ]
     },
     "execution_count": 27,
     "metadata": {},
     "output_type": "execute_result"
    }
   ],
   "source": [
    "n=2\n",
    "hammingWeight(n)"
   ]
  },
  {
   "cell_type": "markdown",
   "metadata": {},
   "source": [
    "# 数组中出现次数超过一半的数字"
   ]
  },
  {
   "cell_type": "markdown",
   "metadata": {},
   "source": [
    "解法1：hashmap 自己搞的"
   ]
  },
  {
   "cell_type": "code",
   "execution_count": null,
   "metadata": {},
   "outputs": [],
   "source": [
    "def majorityElement(self, nums: List[int]) -> int:\n",
    "    if not nums :\n",
    "        return 0\n",
    "    dic = {}\n",
    "    for num in nums:\n",
    "        if num not in dic:\n",
    "            dic[num] = 1\n",
    "        else:\n",
    "            dic[num] +=1\n",
    "    for key,value in dic.items():\n",
    "        if value >= (len(nums)/2):\n",
    "            return key\n",
    "    return 0"
   ]
  },
  {
   "cell_type": "markdown",
   "metadata": {},
   "source": [
    "解法2：摩尔投票法"
   ]
  },
  {
   "cell_type": "code",
   "execution_count": 30,
   "metadata": {},
   "outputs": [],
   "source": [
    "def majorityElement(nums):\n",
    "\n",
    "    num = nums[0]\n",
    "    major = 0\n",
    "    for i in range(0,len(nums)):\n",
    "        if nums[i] == num:\n",
    "                major +=1\n",
    "        else:\n",
    "            major -=1\n",
    "        if major <0:\n",
    "            num = nums[i]\n",
    "            major =1\n",
    "    return num"
   ]
  },
  {
   "cell_type": "markdown",
   "metadata": {},
   "source": [
    "# 和为s的两个数字"
   ]
  },
  {
   "cell_type": "markdown",
   "metadata": {},
   "source": [
    "解法1：双指针"
   ]
  },
  {
   "cell_type": "code",
   "execution_count": 32,
   "metadata": {},
   "outputs": [],
   "source": [
    "def twoSum(nums, target) :\n",
    "    i = 0 \n",
    "    j = len(nums)-1\n",
    "    res = []\n",
    "    while i < j:\n",
    "        if nums[i] + nums[j] > target:\n",
    "            j -=1\n",
    "        elif nums[i] + nums[j] < target:\n",
    "            i +=1\n",
    "\n",
    "        else:\n",
    "            return [nums[i],nums[j]]\n",
    "    return []"
   ]
  },
  {
   "cell_type": "code",
   "execution_count": 35,
   "metadata": {},
   "outputs": [],
   "source": [
    "nums = [2,7,11,15]\n",
    "target = 9"
   ]
  },
  {
   "cell_type": "markdown",
   "metadata": {},
   "source": [
    "解法2：hash"
   ]
  },
  {
   "cell_type": "code",
   "execution_count": 48,
   "metadata": {},
   "outputs": [],
   "source": [
    "def twoSum(nums, target) :\n",
    "    if not nums:\n",
    "        return 0\n",
    "    dic = {}\n",
    "    for num in nums:\n",
    "        if num not in dic:\n",
    "            dic[num] = 1\n",
    "        else:\n",
    "            dic[num] +=1\n",
    "        if target - num in dic:\n",
    "            return [num,target-num]\n",
    "    return []\n",
    "       \n",
    "    "
   ]
  },
  {
   "cell_type": "code",
   "execution_count": 49,
   "metadata": {},
   "outputs": [
    {
     "data": {
      "text/plain": [
       "[7, 2]"
      ]
     },
     "execution_count": 49,
     "metadata": {},
     "output_type": "execute_result"
    }
   ],
   "source": [
    "nums = [2,7,11,15]\n",
    "target = 9\n",
    "twoSum(nums,target)"
   ]
  },
  {
   "cell_type": "markdown",
   "metadata": {},
   "source": [
    "# 二叉树的深度"
   ]
  },
  {
   "cell_type": "code",
   "execution_count": 3,
   "metadata": {},
   "outputs": [],
   "source": [
    "class TreeNode:\n",
    "     def __init__(self, x):\n",
    "         self.val = x\n",
    "         self.left = None\n",
    "         self.right = None"
   ]
  },
  {
   "cell_type": "code",
   "execution_count": 7,
   "metadata": {},
   "outputs": [],
   "source": [
    "def maxDepth(self, root):\n",
    "    return _maxDepth(self.root)\n",
    "def _maxDepth(self,node):\n",
    "    if not node:\n",
    "        return 0\n",
    "    left_d = _maxDepth(self.left)\n",
    "    right_d = _maxDepth(self.right)\n",
    "    return max(left_d,right_d)+1"
   ]
  },
  {
   "cell_type": "markdown",
   "metadata": {},
   "source": [
    "# 二叉树的镜像"
   ]
  },
  {
   "cell_type": "code",
   "execution_count": 8,
   "metadata": {},
   "outputs": [],
   "source": [
    "def mirror(self,root):\n",
    "    return _mirror(self.root)\n",
    "def _mirror(self,node):\n",
    "    if node is not None:\n",
    "        self._mirror(node.left)\n",
    "        self._mirror(node.right)\n",
    "        \n",
    "        t = node.left\n",
    "        node.left = node.right\n",
    "        node.right = t\n",
    "    return node"
   ]
  },
  {
   "cell_type": "markdown",
   "metadata": {},
   "source": [
    "# 替换空格"
   ]
  },
  {
   "cell_type": "markdown",
   "metadata": {},
   "source": [
    "解法1：库函数"
   ]
  },
  {
   "cell_type": "code",
   "execution_count": 3,
   "metadata": {},
   "outputs": [],
   "source": [
    "def replaceSpace(s):\n",
    "    return s.replace(\" \",\"%20\")"
   ]
  },
  {
   "cell_type": "markdown",
   "metadata": {},
   "source": [
    "解法2：不知道是叫啥方法,但是不是 in-place 的"
   ]
  },
  {
   "cell_type": "code",
   "execution_count": 1,
   "metadata": {},
   "outputs": [],
   "source": [
    "def replaceSpace(s):\n",
    "    res = \"\"\n",
    "    for i in range(len(s)):\n",
    "        if s[i] == \" \":\n",
    "            res += \"%20\"\n",
    "        else:\n",
    "            res += s[i]\n",
    "    return res\n",
    "\n",
    "        "
   ]
  },
  {
   "cell_type": "markdown",
   "metadata": {},
   "source": [
    "解法3：In-place 做法"
   ]
  },
  {
   "cell_type": "code",
   "execution_count": 4,
   "metadata": {},
   "outputs": [],
   "source": [
    "def replaceSpace( s):\n",
    "    if len(s) == 0:\n",
    "        return \"\"\n",
    "    for i in range(len(s)):\n",
    "\n",
    "        if s[0] == \" \":\n",
    "            return \"%20\" + self.replaceSpace(s[i+1:])\n",
    "        else:\n",
    "            return s[0] + self.replaceSpace(s[i+1:])"
   ]
  },
  {
   "cell_type": "markdown",
   "metadata": {},
   "source": [
    "# 反转链表"
   ]
  },
  {
   "cell_type": "code",
   "execution_count": 6,
   "metadata": {},
   "outputs": [],
   "source": [
    "def reverseList(self, head) :\n",
    "    if head is None or head.next is None:\n",
    "        return head\n",
    "    p = self.reverseList(head.next)\n",
    "    head.next.next = head\n",
    "    head.next = None\n",
    "    return p"
   ]
  },
  {
   "cell_type": "markdown",
   "metadata": {},
   "source": [
    "# 从尾到头打印链表 "
   ]
  },
  {
   "cell_type": "markdown",
   "metadata": {},
   "source": [
    "解法1"
   ]
  },
  {
   "cell_type": "code",
   "execution_count": 7,
   "metadata": {},
   "outputs": [],
   "source": [
    "def reversePrint(head):\n",
    "\n",
    "    res = []\n",
    "    while head != None:\n",
    "        res.append(head.val)\n",
    "        head = head.next\n",
    "\n",
    "    return res[::-1]"
   ]
  },
  {
   "cell_type": "markdown",
   "metadata": {},
   "source": [
    "解法2"
   ]
  },
  {
   "cell_type": "code",
   "execution_count": 9,
   "metadata": {},
   "outputs": [],
   "source": [
    "def reversePrint(head) :\n",
    "    if not head:\n",
    "        return []\n",
    "    else:\n",
    "        return self.reversePrint(head.next)+ [head.val]"
   ]
  },
  {
   "cell_type": "markdown",
   "metadata": {},
   "source": [
    "# 链表中倒数第k个节点"
   ]
  },
  {
   "cell_type": "code",
   "execution_count": 10,
   "metadata": {},
   "outputs": [],
   "source": [
    "def getKthFromEnd(head, k) :\n",
    "    fast = head\n",
    "    while k>0:\n",
    "        fast = fast.next\n",
    "        k = k-1\n",
    "    slow = head\n",
    "    while fast != None:\n",
    "        fast = fast.next\n",
    "        slow = slow.next\n",
    "    return slow"
   ]
  },
  {
   "cell_type": "markdown",
   "metadata": {},
   "source": [
    "# 数组中重复的数字 "
   ]
  },
  {
   "cell_type": "markdown",
   "metadata": {},
   "source": [
    "它考察的是程序员的沟通能力，先问面试官要时间/空间需求！！！\n",
    "只是时间优先就用字典，\n",
    "还有空间要求，就用指针+原地排序数组，\n",
    "如果面试官要求空间O(1)并且不能修改原数组，还得写成二分法！！！"
   ]
  },
  {
   "cell_type": "markdown",
   "metadata": {},
   "source": [
    "解法1： HashTable"
   ]
  },
  {
   "cell_type": "code",
   "execution_count": 2,
   "metadata": {},
   "outputs": [],
   "source": [
    "def findRepeatNumber(nums) :\n",
    "    if not nums:\n",
    "        return -1\n",
    "\n",
    "    dic = {}\n",
    "    for num in nums:\n",
    "        if num not in dic:\n",
    "            dic[num] = 1\n",
    "        else:\n",
    "            dic[num] +=1\n",
    "    for key,value in dic.items():\n",
    "        if value != 1:\n",
    "            return key\n",
    "    return 0"
   ]
  },
  {
   "cell_type": "markdown",
   "metadata": {},
   "source": [
    "解法2"
   ]
  },
  {
   "cell_type": "code",
   "execution_count": 3,
   "metadata": {},
   "outputs": [],
   "source": [
    "def findRepeatNumber(nums ) :\n",
    "    nums.sort()\n",
    "    pre = nums[0]\n",
    "    for index in range(1, len(nums)):\n",
    "        if pre == nums[index]:\n",
    "            return pre\n",
    "        pre = nums[index]"
   ]
  },
  {
   "cell_type": "markdown",
   "metadata": {},
   "source": [
    "# 和为s的连续正数序列"
   ]
  },
  {
   "cell_type": "markdown",
   "metadata": {},
   "source": [
    "解法1：双指针"
   ]
  },
  {
   "cell_type": "code",
   "execution_count": 4,
   "metadata": {},
   "outputs": [],
   "source": [
    "def findContinuousSequence(target) :\n",
    "    res=[]\n",
    "    l=1\n",
    "    r=2\n",
    "    while l<r:\n",
    "        a=[]\n",
    "        sum=(l+r)*(r-l+1)/2\n",
    "        if sum<target:\n",
    "            r+=1\n",
    "        elif sum>target:\n",
    "            l+=1\n",
    "        else:\n",
    "            for i in range(l,r+1):\n",
    "                a.append(i)\n",
    "            res.append(a)\n",
    "            l+=1\n",
    "            r+=1\n",
    "    return res"
   ]
  },
  {
   "cell_type": "markdown",
   "metadata": {},
   "source": [
    "解法2： 滑动窗口"
   ]
  },
  {
   "cell_type": "code",
   "execution_count": 6,
   "metadata": {},
   "outputs": [],
   "source": [
    "def findContinuousSequence(target) :\n",
    "    res = []\n",
    "    i = 1\n",
    "    j = 2\n",
    "    while i < j:\n",
    "        sum = int((i+j)*(j-i+1)/2)\n",
    "        if sum < target:\n",
    "            j += 1\n",
    "        elif sum > target:\n",
    "            i += 1\n",
    "        else:\n",
    "            res.append([x for x in range(i, j+1)])\n",
    "            i += 1\n",
    "    return res"
   ]
  },
  {
   "cell_type": "markdown",
   "metadata": {},
   "source": [
    "解法3：数学方法"
   ]
  },
  {
   "cell_type": "code",
   "execution_count": 5,
   "metadata": {},
   "outputs": [],
   "source": [
    "def findContinuousSequence(target) :\n",
    "    n, res, ans = 2, 1, []\n",
    "    while n ** 2 < 2 * target:\n",
    "        if (target - res) % n == 0:\n",
    "            ans.append([num for num in range((target - res) // n, (target - res) // n + n)])\n",
    "        res += n\n",
    "        n += 1\n",
    "    return ans[::-1]"
   ]
  },
  {
   "cell_type": "markdown",
   "metadata": {},
   "source": [
    "# 合并两个排序的链表"
   ]
  },
  {
   "cell_type": "markdown",
   "metadata": {},
   "source": [
    "解法1：迭代"
   ]
  },
  {
   "cell_type": "code",
   "execution_count": 7,
   "metadata": {},
   "outputs": [],
   "source": [
    "def mergeTwoLists(l1, l2):\n",
    "    if not l1: return l2\n",
    "    if not l2: return l1\n",
    "\n",
    "    dummy = cur = ListNode(0)\n",
    "    while l1 and l2:\n",
    "        if l1.val < l2.val:\n",
    "            cur.next = l1\n",
    "            l1 = l1.next\n",
    "        else:\n",
    "            cur.next = l2\n",
    "            l2 = l2.next\n",
    "        cur = cur.next\n",
    "    cur.next = l1 or l2\n",
    "    return dummy.next"
   ]
  },
  {
   "cell_type": "markdown",
   "metadata": {},
   "source": [
    "解法2：递归（这个比较容易理解）"
   ]
  },
  {
   "cell_type": "code",
   "execution_count": 8,
   "metadata": {},
   "outputs": [],
   "source": [
    "def mergeTwoLists(l1, l2):\n",
    "    if not l1: return l2\n",
    "    if not l2: return l1\n",
    "\n",
    "    if l1.val <= l2.val:\n",
    "        l1.next = self.mergeTwoLists(l1.next,l2)\n",
    "        return l1\n",
    "    else:\n",
    "        l2.next = self.mergeTwoLists(l1,l2.next)\n",
    "        return l2"
   ]
  },
  {
   "cell_type": "markdown",
   "metadata": {},
   "source": [
    "# 用两个栈实现队列"
   ]
  },
  {
   "cell_type": "markdown",
   "metadata": {},
   "source": [
    "stack1负责入栈，stack2负责出栈；要入栈的时候把所有元素移到stack1里；要出栈的时候把所有元素移到stack2里并移除最后一个元素。"
   ]
  },
  {
   "cell_type": "code",
   "execution_count": 9,
   "metadata": {},
   "outputs": [],
   "source": [
    "def __init__(self):\n",
    "    self.stack1 =[]\n",
    "    self.stack2 =[]\n",
    "\n",
    "def appendTail(value) :\n",
    "    while self.stack2:\n",
    "        self.stack1.append(self.stack2.pop())\n",
    "    self.stack1.append(value)\n",
    "\n",
    "\n",
    "def deleteHead(self):\n",
    "    while self.stack1:\n",
    "        self.stack2.append(self.stack1.pop())\n",
    "    if self.stack2 :\n",
    "        return self.stack2.pop()\n",
    "    else:\n",
    "        return -1"
   ]
  },
  {
   "cell_type": "markdown",
   "metadata": {},
   "source": [
    "# 从上到下打印二叉树 II (层次遍历)"
   ]
  },
  {
   "cell_type": "code",
   "execution_count": 10,
   "metadata": {},
   "outputs": [],
   "source": [
    "def levelOrder(self, root) :\n",
    "    if root == None:\n",
    "        return []\n",
    "    res = []\n",
    "    level = [root]\n",
    "\n",
    "    while level:\n",
    "        curNodes = []\n",
    "        nextLevel = []\n",
    "        for node in level:\n",
    "            curNodes.append(node.val)\n",
    "            if node.left:\n",
    "                nextLevel.append(node.left)\n",
    "            if node.right:\n",
    "                nextLevel.append(node.right)\n",
    "        res.append(curNodes)\n",
    "        level = nextLevel\n",
    "    return res"
   ]
  },
  {
   "cell_type": "markdown",
   "metadata": {},
   "source": [
    "# 二叉搜索树的第k大节点  "
   ]
  },
  {
   "cell_type": "code",
   "execution_count": 11,
   "metadata": {},
   "outputs": [],
   "source": [
    "def kthLargest(root, k):\n",
    "    '''\n",
    "    思路：利用二叉搜索树的中序遍历是递增序列的性质。\n",
    "    '''\n",
    "    if not root:\n",
    "        return None\n",
    "    def _dfs(node):\n",
    "        if not node:\n",
    "            return []\n",
    "        return _dfs(node.right) + [node.val] + _dfs(node.left)   # 中序：左根右\n",
    "    res = _dfs(root)\n",
    "    return res[k-1]\n"
   ]
  },
  {
   "cell_type": "markdown",
   "metadata": {},
   "source": [
    "# 最小的k个数 "
   ]
  },
  {
   "cell_type": "code",
   "execution_count": 2,
   "metadata": {},
   "outputs": [],
   "source": [
    "def getLeastNumbers(arr, k):\n",
    "    arr = _quicksort(arr)\n",
    "    return arr[:k]\n",
    "    \n",
    "def _quicksort(arr):\n",
    "    if len(arr) <= 1:\n",
    "        return arr\n",
    "    pivot = arr[0]\n",
    "    leftarr = _quicksort([x for x in arr[1:] if x < pivot])\n",
    "    rightarr = _quicksort([x for x in arr[1:] if x >= pivot])\n",
    "    \n",
    "    return leftarr + [pivot] + rightarr"
   ]
  },
  {
   "cell_type": "code",
   "execution_count": 3,
   "metadata": {},
   "outputs": [
    {
     "data": {
      "text/plain": [
       "[1, 2, 3]"
      ]
     },
     "execution_count": 3,
     "metadata": {},
     "output_type": "execute_result"
    }
   ],
   "source": [
    "arr = [1,3,4,2,6,5,7]\n",
    "k = 3\n",
    "getLeastNumbers(arr,k)"
   ]
  },
  {
   "cell_type": "markdown",
   "metadata": {},
   "source": [
    "# 圆圈中最后剩下的数字  "
   ]
  },
  {
   "cell_type": "markdown",
   "metadata": {},
   "source": [
    "0,1,,n-1这n个数字排成一个圆圈，从数字0开始，每次从这个圆圈里删除第m个数字。求出这个圆圈里剩下的最后一个数字。"
   ]
  },
  {
   "cell_type": "code",
   "execution_count": 6,
   "metadata": {},
   "outputs": [],
   "source": [
    "'''\n",
    "0个人游戏不存在，1个人直接获胜，所以从2开始\n",
    "n 为当前人数， m代表的是报数\n",
    "'''\n",
    "\n",
    "def lastRemaining(n, m) :\n",
    "    last = 0 \n",
    "    for i in range(2,n+1): # i表示人数\n",
    "        last = (last+m) % i\n",
    "    return last"
   ]
  },
  {
   "cell_type": "code",
   "execution_count": 5,
   "metadata": {},
   "outputs": [
    {
     "data": {
      "text/plain": [
       "3"
      ]
     },
     "execution_count": 5,
     "metadata": {},
     "output_type": "execute_result"
    }
   ],
   "source": [
    "lastRemaining(5,3)"
   ]
  },
  {
   "cell_type": "markdown",
   "metadata": {},
   "source": [
    "# 调整数组顺序使奇数位于偶数前面"
   ]
  },
  {
   "cell_type": "markdown",
   "metadata": {},
   "source": [
    "解法1"
   ]
  },
  {
   "cell_type": "code",
   "execution_count": 7,
   "metadata": {},
   "outputs": [],
   "source": [
    "def exchange(nums):\n",
    "    if nums == []:\n",
    "        return []\n",
    "    left = 0\n",
    "    right = len(nums)-1\n",
    "    pivot = nums[0]\n",
    "    while left < right:\n",
    "        while left< right and nums[right] %2 == 0:\n",
    "            right -=1\n",
    "        nums[left] = nums[right]\n",
    "\n",
    "        while left< right and nums[left] %2 ==1:\n",
    "            left +=1\n",
    "        nums[right] = nums[left]\n",
    "    nums[left] = pivot\n",
    "    return nums"
   ]
  },
  {
   "cell_type": "markdown",
   "metadata": {},
   "source": [
    "解法2"
   ]
  },
  {
   "cell_type": "code",
   "execution_count": 8,
   "metadata": {},
   "outputs": [],
   "source": [
    "def exchange(nums) :\n",
    "    i, j = 0, len(nums)-1\n",
    "    while i < j:\n",
    "        if nums[i] % 2 == 0:\n",
    "            if nums[j] % 2 != 0:\n",
    "                nums[i], nums[j] = nums[j], nums[i]\n",
    "                i += 1\n",
    "                j -= 1c\n",
    "            else:\n",
    "                j -= 1\n",
    "        else:\n",
    "            i += 1\n",
    "    return nums"
   ]
  },
  {
   "cell_type": "markdown",
   "metadata": {},
   "source": [
    "# 两个链表的第一个公共节点  \t"
   ]
  },
  {
   "cell_type": "markdown",
   "metadata": {},
   "source": [
    "解法1：双stack"
   ]
  },
  {
   "cell_type": "code",
   "execution_count": 10,
   "metadata": {},
   "outputs": [],
   "source": [
    "def getIntersectionNode(headA, headB):\n",
    "    res = 0\n",
    "    stack1 ,stack2 = [], []\n",
    "    while headA:\n",
    "        stack1.append(headA)\n",
    "        headA = headA.next\n",
    "    while headB:\n",
    "        stack2.append(headB)\n",
    "        headB = headbB.next\n",
    "    while stack1 and stack2 and stack1[-1] == stack2[-1]:\n",
    "        res = stack1.pop()\n",
    "        stack2.pop()\n",
    "    if res:\n",
    "        return res\n",
    "    else:\n",
    "        return None"
   ]
  },
  {
   "cell_type": "markdown",
   "metadata": {},
   "source": [
    "解法2：交集思想"
   ]
  },
  {
   "cell_type": "raw",
   "metadata": {},
   "source": [
    "设交集链表长c,链表1除交集的长度为a，链表2除交集的长度为b，有\n",
    "\n",
    "a + c + b = b + c + a\n",
    "若无交集，则a + b = b + a"
   ]
  },
  {
   "cell_type": "code",
   "execution_count": 2,
   "metadata": {},
   "outputs": [],
   "source": [
    "def getIntersectionNode(headA,headB) :\n",
    "\n",
    "    a = headA\n",
    "    b = headB\n",
    "    while a != b:\n",
    "        a=a.next if a else headB\n",
    "        b=b.next if b else headA\n",
    "    return a"
   ]
  },
  {
   "cell_type": "markdown",
   "metadata": {},
   "source": [
    "# 二叉树的最近公共祖先  "
   ]
  },
  {
   "cell_type": "raw",
   "metadata": {},
   "source": [
    "输入: root = [3,5,1,6,2,0,8,null,null,7,4], p = 5, q = 1\n",
    "输出: 3\n",
    "解释: 节点 5 和节点 1 的最近公共祖先是节点 3。"
   ]
  },
  {
   "cell_type": "code",
   "execution_count": 3,
   "metadata": {},
   "outputs": [],
   "source": [
    "'''\n",
    "\t1.如果p,q在root树中，返回值是p,q的最近公共祖先\n",
    "\t2.如果p,q均不在root树种，返回None\n",
    "\t3.如果只有一个结点在root中，返回该结点\n",
    "'''\n",
    "\n",
    "def lowestCommonAncestor(root, p, q):\n",
    "    if root == None:\n",
    "        return None\n",
    "    if root == p or root == q:   \n",
    "        return root\n",
    "    left = lowestCommonAncestor(root,p,q)   \n",
    "    right = lowestCommonAncestor(root,p,q)\n",
    "    \n",
    "    if left != None and right != None:   #一个在左子树 一个在右子树 那么当前节点即是最近公共祖先\n",
    "        return root\n",
    "    if left != None:     #全在左树\n",
    "        return left   \n",
    "    if left != None:     #全在右树\n",
    "        return right\n",
    "    return None"
   ]
  },
  {
   "cell_type": "markdown",
   "metadata": {},
   "source": [
    "# 二叉搜索树的最近公共祖先"
   ]
  },
  {
   "cell_type": "markdown",
   "metadata": {},
   "source": [
    "解法1：在“二叉树的最近公共祖先”的基础上修改"
   ]
  },
  {
   "cell_type": "code",
   "execution_count": 4,
   "metadata": {},
   "outputs": [],
   "source": [
    "def lowestCommonAncestor(root, p, q) :\n",
    "    if not root:\n",
    "        return None\n",
    "    if root == p or root == q:   \n",
    "        return root\n",
    "    left = lowestCommonAncestor(root.left,p,q)   \n",
    "    right = lowestCommonAncestor(root.right,p,q)\n",
    "\n",
    "    if left != None and right != None:   #一个在左子树 一个在右子树 那么当前节点即是最近公共祖先\n",
    "        return root\n",
    "    elif left != None:     #全在左树\n",
    "        return left   \n",
    "    else :     #全在右树\n",
    "        return right\n",
    "\n",
    "    return None"
   ]
  },
  {
   "cell_type": "markdown",
   "metadata": {},
   "source": [
    "解法2：利用二叉搜索树的性质"
   ]
  },
  {
   "cell_type": "code",
   "execution_count": 6,
   "metadata": {},
   "outputs": [],
   "source": [
    "def lowestCommonAncestor(root, p, q) :\n",
    "\n",
    "    if not root:\n",
    "        return None\n",
    "    if root.val > p.val and root.val > q.val:\n",
    "        return self.lowestCommonAncestor(root.left,p,q)\n",
    "    if root.val < p.val and root.val < q.val:\n",
    "        return self.lowestCommonAncestor(root.right,p,q)\n",
    "\n",
    "    return root"
   ]
  },
  {
   "cell_type": "markdown",
   "metadata": {},
   "source": [
    "# 第一个只出现一次的字符"
   ]
  },
  {
   "cell_type": "raw",
   "metadata": {},
   "source": [
    "s = \"abaccdeff\"\n",
    "返回 \"b\"\n",
    "\n",
    "s = \"\" \n",
    "返回 \" \""
   ]
  },
  {
   "cell_type": "markdown",
   "metadata": {},
   "source": [
    "解法1：Hashmap"
   ]
  },
  {
   "cell_type": "code",
   "execution_count": 1,
   "metadata": {},
   "outputs": [],
   "source": [
    "def firstUniqChar(s) :\n",
    "    if not s:\n",
    "        return \" \"\n",
    "    dic = {}\n",
    "    \n",
    "    for num in s:\n",
    "        if num not in dic:\n",
    "            dic[num] = 1\n",
    "        else:\n",
    "            dic[num] += 1\n",
    "    for ch in dic:\n",
    "        if dic[ch] == 1:\n",
    "            return ch\n",
    "            "
   ]
  },
  {
   "cell_type": "code",
   "execution_count": 2,
   "metadata": {},
   "outputs": [
    {
     "data": {
      "text/plain": [
       "'b'"
      ]
     },
     "execution_count": 2,
     "metadata": {},
     "output_type": "execute_result"
    }
   ],
   "source": [
    "s = \"abaccdeff\"\n",
    "firstUniqChar(s)"
   ]
  },
  {
   "cell_type": "markdown",
   "metadata": {},
   "source": [
    "解法2：brute force"
   ]
  },
  {
   "cell_type": "code",
   "execution_count": null,
   "metadata": {},
   "outputs": [],
   "source": [
    "def firstUniqChar(s) :\n",
    "    if not s:\n",
    "        return \" \"\n",
    "    visited = []\n",
    "    res = []\n",
    "    for ch in s :\n",
    "        if ch not in visited:\n",
    "            visited.append(ch)\n",
    "            res.append(ch)\n",
    "        else:\n",
    "            if ch in res:\n",
    "                res.remove(ch)\n",
    "    return res[0] if res else \"\""
   ]
  },
  {
   "cell_type": "markdown",
   "metadata": {},
   "source": [
    "# 连续子数组的最大和 "
   ]
  },
  {
   "cell_type": "code",
   "execution_count": 3,
   "metadata": {},
   "outputs": [
    {
     "data": {
      "text/plain": [
       "6"
      ]
     },
     "execution_count": 3,
     "metadata": {},
     "output_type": "execute_result"
    }
   ],
   "source": [
    "def maxSubArray(nums) :\n",
    "    if len(nums) == 1:\n",
    "        return nums[0]\n",
    "    maxVal = nums[0]\n",
    "    for i in range(1,len(nums)):\n",
    "        nums[i] += max(0,nums[i-1] )\n",
    "        maxVal = max(maxVal,nums[i])\n",
    "    return maxVal\n",
    "nums = [-2,1,-3,4,-1,2,1,-5,4]\n",
    "maxSubArray(nums) "
   ]
  },
  {
   "cell_type": "markdown",
   "metadata": {},
   "source": [
    "# 平衡二叉树"
   ]
  },
  {
   "cell_type": "markdown",
   "metadata": {},
   "source": [
    "输入一棵二叉树的根节点，判断该树是不是平衡二叉树。如果某二叉树中任意节点的左右子树的深度相差不超过1，那么它就是一棵平衡二叉树。"
   ]
  },
  {
   "cell_type": "code",
   "execution_count": 5,
   "metadata": {},
   "outputs": [],
   "source": [
    "def isBalanced(root):\n",
    "    flag = True\n",
    "    def judge(root): \n",
    "        if not root: return 0\n",
    "        left = judge(root.left)\n",
    "        right = judge(root.right)\n",
    "        if abs(left - right) >1 :\n",
    "            flag = False\n",
    "        return max(left,right) +1\n",
    "    judge(root)\n",
    "    return flag\n"
   ]
  },
  {
   "cell_type": "markdown",
   "metadata": {},
   "source": [
    "# 删除链表的节点  \t"
   ]
  },
  {
   "cell_type": "code",
   "execution_count": 7,
   "metadata": {},
   "outputs": [],
   "source": [
    "\n",
    "class ListNode:\n",
    "    def __init__(self, x):\n",
    "         self.val = x\n",
    "         self.next = None\n",
    "\n",
    "def deleteNode(head, val) :\n",
    "    pre = ListNode(None)\n",
    "    p.next = head\n",
    "    cur = P\n",
    "    while p.next:\n",
    "        if p.next.val == val:\n",
    "            p.next = p.next.next\n",
    "        else:\n",
    "            p = p.next\n",
    "    return cur.next"
   ]
  },
  {
   "cell_type": "markdown",
   "metadata": {},
   "source": [
    "# 构建乘积数组"
   ]
  },
  {
   "cell_type": "code",
   "execution_count": 9,
   "metadata": {},
   "outputs": [],
   "source": [
    "def constructArr( a) :\n",
    "    n = len(a)\n",
    "\n",
    "    A = [1] * n\n",
    "    B = [1] * n\n",
    "    for i in range(1,n):\n",
    "        A[i] = A[i-1] * a[i-1]\n",
    "        B[n-1-i] = B[n-i]  * a[n-i]\n",
    "    C = [1] * n\n",
    "    for i in range(n):\n",
    "        C[i] = A[i] * B[i]\n",
    "    return C"
   ]
  },
  {
   "cell_type": "code",
   "execution_count": 10,
   "metadata": {},
   "outputs": [],
   "source": [
    "def constructArr(a) :\n",
    "    if not a:\n",
    "        return []\n",
    "    b = [0] * len(a)\n",
    "    temp = 1\n",
    "    for i in range(len(a)):\n",
    "        b[i] = temp\n",
    "        temp *= a[i]\n",
    "\n",
    "    temp = 1\n",
    "    for i in range(len(a)-1,-1,-1):\n",
    "        b[i] *= temp\n",
    "        temp *= a[i]\n",
    "    return b"
   ]
  },
  {
   "cell_type": "markdown",
   "metadata": {},
   "source": [
    "# 包含min函数的栈"
   ]
  },
  {
   "cell_type": "markdown",
   "metadata": {},
   "source": [
    "定义栈的数据结构，请在该类型中实现一个能够得到栈的最小元素的 min 函数在该栈中，调用 min、push 及 pop 的时间复杂度都是 O(1)。"
   ]
  },
  {
   "cell_type": "code",
   "execution_count": 11,
   "metadata": {},
   "outputs": [],
   "source": [
    "class MinStack:\n",
    "\n",
    "    def __init__(self):\n",
    "        \"\"\"\n",
    "        initialize your data structure here.\n",
    "        \"\"\"\n",
    "        self.stack = []\n",
    "        self.minstack = []\n",
    "\n",
    "    def push(self, x: int) -> None:\n",
    "        self.stack.append(x)\n",
    "        if not self.minstack or x < self.minstack[-1]:\n",
    "            self.minstack.append(x)\n",
    "\n",
    "    def pop(self) -> None:\n",
    "        if self.stack.pop() == self.minstack[-1]:\n",
    "            self.minstack.pop()\n",
    "\n",
    "    def top(self) -> int:\n",
    "        return self.stack[-1]\n",
    "\n",
    "\n",
    "    def min(self) -> int:\n",
    "        return self.minstack[-1]\n"
   ]
  },
  {
   "cell_type": "markdown",
   "metadata": {},
   "source": [
    "# 滑动窗口的最大值"
   ]
  },
  {
   "cell_type": "code",
   "execution_count": 1,
   "metadata": {},
   "outputs": [],
   "source": [
    "def maxSlidingWindow(nums, k):\n",
    "    if k == 1: return nums\n",
    "    stack = []\n",
    "    res = []\n",
    "    for i,v in enumerate(nums):\n",
    "        while stack and nums[stack[-1]] < v:\n",
    "            stack.pop()\n",
    "        stack.append(i)\n",
    "        if i >= k-1:\n",
    "            res.append(nums[stack[0]])\n",
    "        if i - stack[0] >= k-1:\n",
    "            stack.pop(0)\n",
    "    return res"
   ]
  },
  {
   "cell_type": "code",
   "execution_count": 2,
   "metadata": {},
   "outputs": [],
   "source": [
    "def maxSlidingWindow(nums,k):\n",
    "    if k == 1:return nums\n",
    "    if not nums:return []\n",
    "    if k == len(nums):return max(nums)\n",
    "    \n",
    "    maxtmp = max(nums[0:k])\n",
    "    res = [maxtmp]\n",
    "    for i in range(1,len(nums)-k+1):\n",
    "        old = nums[i-1]\n",
    "        new = nums[i+k-1]\n",
    "        if old < maxtmp:\n",
    "            maxtmp = max(maxtmp,new)\n",
    "        if old >= maxtmp:\n",
    "            maxtmp = max(nums[i:i+k])\n",
    "        res.append(maxtmp)\n",
    "                         \n",
    "    return res"
   ]
  },
  {
   "cell_type": "code",
   "execution_count": 3,
   "metadata": {},
   "outputs": [],
   "source": [
    "def maxSlidingWindow(nums, k) :\n",
    "    l = []\n",
    "    if not nums:\n",
    "        return []\n",
    "    while len(nums) >= k:\n",
    "        l.append(max(nums[-k:]))\n",
    "        nums.pop()\n",
    "    return l[::-1]"
   ]
  },
  {
   "cell_type": "code",
   "execution_count": null,
   "metadata": {},
   "outputs": [],
   "source": []
  },
  {
   "cell_type": "markdown",
   "metadata": {},
   "source": [
    "# 顺时针打印矩阵 【还不太懂】\n",
    "输入一个矩阵，按照从外向里以顺时针的顺序依次打印出每一个数字。"
   ]
  },
  {
   "cell_type": "code",
   "execution_count": 4,
   "metadata": {},
   "outputs": [],
   "source": [
    "def spiralOrder(matrix):\n",
    "    row = len(matrix)\n",
    "\n",
    "    if row == 0 or len(matrix[0]) == 0:\n",
    "        return []\n",
    "    col = len(matrix[0])\n",
    "    res = matrix[0]\n",
    "    if row >1:\n",
    "        for i in range(1,row):\n",
    "            res.append(matrix[i][col-1])\n",
    "        for j in range(col-2 , -1 , -1):\n",
    "            res.append(matrix[row-1][j])\n",
    "        if col > 1:\n",
    "            for k in range(row-2 , 0 ,-1):\n",
    "                res.append(matrix[k][0])\n",
    "    new = []\n",
    "    for r in range(1,row-1):\n",
    "        new.append(matrix[r][1:-1])\n",
    "    return res + self.spiralOrder(new)"
   ]
  },
  {
   "cell_type": "code",
   "execution_count": 5,
   "metadata": {},
   "outputs": [],
   "source": [
    "def spiralOrder(matrix) :\n",
    "    res=[]\n",
    "    while matrix:\n",
    "        res+=matrix.pop(0)\n",
    "        matrix=list(zip(*matrix))[::-1]\n",
    "    return res"
   ]
  },
  {
   "cell_type": "code",
   "execution_count": 6,
   "metadata": {},
   "outputs": [],
   "source": [
    "def spiralOrder(matrix):\n",
    "    if not matrix:return []\n",
    "    rows = len(matrix)\n",
    "    cols = len(matrix[0])\n",
    "    if rows == 0: return []\n",
    "    if cols == 0: return []\n",
    "\n",
    "    left , right = 0 ,cols-1\n",
    "    top , bottom = 0 , rows-1\n",
    "    res = []\n",
    "    i , j = 0,0\n",
    "    while left <= right:\n",
    "        while j <= right:\n",
    "            res.append(matrix[i][j])\n",
    "            j +=1\n",
    "        j -=1\n",
    "        i +=1\n",
    "        top +=1\n",
    "        while i <= bottom:\n",
    "            res.append(matrix[i][j])\n",
    "            i += 1\n",
    "        i -= 1\n",
    "        j -= 1\n",
    "        right -=1\n",
    "        while j >= left:\n",
    "            res.append(matrix[i][j])\n",
    "            j -=1\n",
    "        j +=1\n",
    "        i -=1\n",
    "        bottom -= 1\n",
    "        while i >= top:\n",
    "            res.append(matrix[i][j])\n",
    "            i -= 1\n",
    "        left += 1\n",
    "        j += 1\n",
    "        i += 1\n",
    "    while len(res) > rows*cols:\n",
    "        res.pop()\n",
    "    return res"
   ]
  },
  {
   "cell_type": "markdown",
   "metadata": {},
   "source": [
    "# 扑克牌中的顺子\n",
    "从扑克牌中随机抽5张牌，判断是不是一个顺子，即这5张牌是不是连续的。2～10为数字本身，A为1，J为11，Q为12，K为13，而大、小王为 0 ，可以看成任意数字。A 不能视为 14。"
   ]
  },
  {
   "cell_type": "code",
   "execution_count": 7,
   "metadata": {},
   "outputs": [],
   "source": [
    "def isStraight(nums):\n",
    "    nums = sorted(nums)\n",
    "    count = 0   #大小王\n",
    "    for i in range(len(nums)):\n",
    "        if nums[i] ==0:\n",
    "            count += 1\n",
    "        else:\n",
    "            if nums[i+1] == nums[i]+1:\n",
    "                pass\n",
    "            elif nums[i+1] - nums[i] ==0:\n",
    "                return False\n",
    "            else:\n",
    "                count -= nums[i+1] - nums[i] -1\n",
    "    if count >= 0:\n",
    "        return True\n",
    "    else:\n",
    "        return False"
   ]
  },
  {
   "cell_type": "markdown",
   "metadata": {},
   "source": [
    "# 对称的二叉树"
   ]
  },
  {
   "cell_type": "code",
   "execution_count": 8,
   "metadata": {},
   "outputs": [],
   "source": [
    "def isSymmetric(root):\n",
    "    def helper(L,R):\n",
    "        if not L and not R:\n",
    "            return True\n",
    "        if not L or not R or L.val != R.val:\n",
    "            return False\n",
    "        return helper(L.left,R.right) and helper(L.right,R.left)\n",
    "    if root:\n",
    "        return helper(root.left,root.right)\n",
    "    else:\n",
    "        return True"
   ]
  },
  {
   "cell_type": "code",
   "execution_count": null,
   "metadata": {},
   "outputs": [],
   "source": []
  },
  {
   "cell_type": "code",
   "execution_count": null,
   "metadata": {},
   "outputs": [],
   "source": []
  }
 ],
 "metadata": {
  "kernelspec": {
   "display_name": "Python 3",
   "language": "python",
   "name": "python3"
  },
  "language_info": {
   "codemirror_mode": {
    "name": "ipython",
    "version": 3
   },
   "file_extension": ".py",
   "mimetype": "text/x-python",
   "name": "python",
   "nbconvert_exporter": "python",
   "pygments_lexer": "ipython3",
   "version": "3.7.6"
  },
  "toc": {
   "base_numbering": 1,
   "nav_menu": {},
   "number_sections": true,
   "sideBar": true,
   "skip_h1_title": false,
   "title_cell": "Table of Contents",
   "title_sidebar": "Contents",
   "toc_cell": false,
   "toc_position": {
    "height": "calc(100% - 180px)",
    "left": "10px",
    "top": "150px",
    "width": "384px"
   },
   "toc_section_display": true,
   "toc_window_display": true
  },
  "varInspector": {
   "cols": {
    "lenName": 16,
    "lenType": 16,
    "lenVar": 40
   },
   "kernels_config": {
    "python": {
     "delete_cmd_postfix": "",
     "delete_cmd_prefix": "del ",
     "library": "var_list.py",
     "varRefreshCmd": "print(var_dic_list())"
    },
    "r": {
     "delete_cmd_postfix": ") ",
     "delete_cmd_prefix": "rm(",
     "library": "var_list.r",
     "varRefreshCmd": "cat(var_dic_list()) "
    }
   },
   "types_to_exclude": [
    "module",
    "function",
    "builtin_function_or_method",
    "instance",
    "_Feature"
   ],
   "window_display": false
  }
 },
 "nbformat": 4,
 "nbformat_minor": 2
}
