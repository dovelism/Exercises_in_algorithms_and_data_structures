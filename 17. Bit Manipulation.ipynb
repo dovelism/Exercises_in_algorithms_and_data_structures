{
 "cells": [
  {
   "cell_type": "markdown",
   "metadata": {},
   "source": [
    "# Set Bit"
   ]
  },
  {
   "cell_type": "code",
   "execution_count": 1,
   "metadata": {},
   "outputs": [],
   "source": [
    "def setBit(a, n):\n",
    "    return a | (1<<n)"
   ]
  },
  {
   "cell_type": "code",
   "execution_count": 2,
   "metadata": {},
   "outputs": [
    {
     "name": "stdout",
     "output_type": "stream",
     "text": [
      "0b10000000\n",
      "130\n",
      "0b10000010\n"
     ]
    }
   ],
   "source": [
    "a = 128\n",
    "n = 1\n",
    "print(bin(a))\n",
    "r = setBit(a, n)\n",
    "print(r)\n",
    "print(bin(r))"
   ]
  },
  {
   "cell_type": "markdown",
   "metadata": {},
   "source": [
    "# Clear Bit"
   ]
  },
  {
   "cell_type": "code",
   "execution_count": 3,
   "metadata": {},
   "outputs": [],
   "source": [
    "def clearBit(a, n):\n",
    "    return a & (~(1<<n))"
   ]
  },
  {
   "cell_type": "code",
   "execution_count": 4,
   "metadata": {},
   "outputs": [
    {
     "name": "stdout",
     "output_type": "stream",
     "text": [
      "0b1111111\n",
      "0b1111110\n"
     ]
    }
   ],
   "source": [
    "a = 127\n",
    "print(bin(a))\n",
    "n = 0\n",
    "r = clearBit(a, n)\n",
    "print(bin(r))"
   ]
  },
  {
   "cell_type": "markdown",
   "metadata": {},
   "source": [
    "# Toggle Bit"
   ]
  },
  {
   "cell_type": "code",
   "execution_count": 5,
   "metadata": {},
   "outputs": [],
   "source": [
    "def toggleBit(a, n):\n",
    "    return a ^ (1<<n)"
   ]
  },
  {
   "cell_type": "markdown",
   "metadata": {},
   "source": [
    "# Test Bit（判断某一位是1还是0）"
   ]
  },
  {
   "cell_type": "code",
   "execution_count": 6,
   "metadata": {},
   "outputs": [],
   "source": [
    "def testBit(a, n):\n",
    "    result = a & (1<<n)\n",
    "    return result != 0"
   ]
  },
  {
   "cell_type": "markdown",
   "metadata": {},
   "source": [
    "# 将整数转换为Bits(二进制)"
   ]
  },
  {
   "cell_type": "raw",
   "metadata": {},
   "source": [
    "Write your own function to convert int to bits. Like bin(n)."
   ]
  },
  {
   "cell_type": "code",
   "execution_count": 7,
   "metadata": {},
   "outputs": [],
   "source": [
    "def toBinary(n):\n",
    "    sb = []\n",
    "    if n < 256:\n",
    "        upper = 128\n",
    "    else:\n",
    "        upper = 32768\n",
    "    i = upper\n",
    "    while i > 0:\n",
    "        if n & i != 0:\n",
    "            sb.append(str(1))\n",
    "        else:\n",
    "            sb.append(str(0))\n",
    "        i = i >> 1\n",
    "    return ''.join(sb)"
   ]
  },
  {
   "cell_type": "code",
   "execution_count": 62,
   "metadata": {},
   "outputs": [
    {
     "name": "stdout",
     "output_type": "stream",
     "text": [
      "00100000\n",
      "0b100000\n"
     ]
    }
   ],
   "source": [
    "n = 32\n",
    "print(toBinary(n))\n",
    "print(bin(n))"
   ]
  },
  {
   "cell_type": "markdown",
   "metadata": {},
   "source": [
    "# 将二进制转化为整数"
   ]
  },
  {
   "cell_type": "code",
   "execution_count": 9,
   "metadata": {},
   "outputs": [],
   "source": [
    "def convertBits2Int(binary):\n",
    "    length = len(binary)\n",
    "    result = 0\n",
    "    if length > 16:\n",
    "        raise ValueError(\"Only Supports 16 Bits\")\n",
    "    for i in range(length):\n",
    "        c = int(binary[i])\n",
    "        if (c != 0 and c != 1):\n",
    "            raise ValueError(\"binary can only be 0 or 1\")\n",
    "        #result += c << (length - i - 1)\n",
    "        result = (result << 1) + c\n",
    "        \n",
    "    return result"
   ]
  },
  {
   "cell_type": "code",
   "execution_count": 10,
   "metadata": {},
   "outputs": [
    {
     "name": "stdout",
     "output_type": "stream",
     "text": [
      "125\n"
     ]
    }
   ],
   "source": [
    "binary = \"01111101\"\n",
    "result = convertBits2Int(binary)\n",
    "print(result)"
   ]
  },
  {
   "cell_type": "markdown",
   "metadata": {},
   "source": [
    "# 用二进制显示小数"
   ]
  },
  {
   "cell_type": "markdown",
   "metadata": {},
   "source": [
    "给定一个以字符串形式传入的数字(十进制—例如3.72)，打印二进制表示形式。如果数字不能准确地用二进制表示，则打印“错误”。"
   ]
  },
  {
   "cell_type": "code",
   "execution_count": 11,
   "metadata": {},
   "outputs": [],
   "source": [
    "def convertDecimal(f):\n",
    "    str_f = str(f).split(\".\")\n",
    "    int_part, dec_part = divmod(f, 1)\n",
    "    int_part = int(int_part)\n",
    "    print(int_part, dec_part)\n",
    "    \n",
    "    int_s = \"\"\n",
    "    while (int_part > 0):\n",
    "        r = int_part % 2\n",
    "        int_part >>= 1\n",
    "        int_s = str(r) + int_s\n",
    "\n",
    "    dec_s = [] \n",
    "    while (dec_part > 0):\n",
    "        if (len(dec_s) > 32):\n",
    "            print(\"\".join(dec_s))\n",
    "            raise ValueError(\"Not Support\")\n",
    "        if (dec_part == 1):\n",
    "            dec_s.append(str(dec_part))\n",
    "            break\n",
    "        r = dec_part * 2\n",
    "        \n",
    "        if (r >= 1):\n",
    "            dec_s.append(\"1\")\n",
    "            dec_part = r - 1\n",
    "        else:\n",
    "            dec_s.append(\"0\")\n",
    "            dec_part = r\n",
    "        \n",
    "    return int_s + \".\" + \"\".join(dec_s)"
   ]
  },
  {
   "cell_type": "code",
   "execution_count": 12,
   "metadata": {},
   "outputs": [
    {
     "name": "stdout",
     "output_type": "stream",
     "text": [
      "3 0.875\n"
     ]
    },
    {
     "data": {
      "text/plain": [
       "'11.111'"
      ]
     },
     "execution_count": 12,
     "metadata": {},
     "output_type": "execute_result"
    }
   ],
   "source": [
    "f = 3.875\n",
    "convertDecimal(f)"
   ]
  },
  {
   "cell_type": "markdown",
   "metadata": {},
   "source": [
    "# 十六进制到整数的转换"
   ]
  },
  {
   "cell_type": "code",
   "execution_count": 13,
   "metadata": {},
   "outputs": [],
   "source": [
    "def hex2int(s):\n",
    "    digits = \"0123456789ABCDEF\"\n",
    "    val = 0\n",
    "    for i in range(len(s)):\n",
    "        c = s[i].upper()\n",
    "        d = digits.index(c)\n",
    "        val = 16 * val + d\n",
    "    return val"
   ]
  },
  {
   "cell_type": "code",
   "execution_count": 14,
   "metadata": {},
   "outputs": [
    {
     "name": "stdout",
     "output_type": "stream",
     "text": [
      "31\n",
      "255\n",
      "3501\n"
     ]
    }
   ],
   "source": [
    "s = \"1F\"\n",
    "print(hex2int(s))\n",
    "s = \"FF\"\n",
    "print(hex2int(s))\n",
    "s = \"DAD\"\n",
    "print(hex2int(s))"
   ]
  },
  {
   "cell_type": "markdown",
   "metadata": {},
   "source": [
    "# 整数与十六进制转换"
   ]
  },
  {
   "cell_type": "code",
   "execution_count": 15,
   "metadata": {},
   "outputs": [],
   "source": [
    "def int2hex(d):\n",
    "    digits = \"0123456789ABCDEF\"\n",
    "    if d == 0:\n",
    "        return \"0\"\n",
    "    hex = \"\"\n",
    "    while (d > 0):\n",
    "        digit = d % 16\n",
    "        hex = digits[digit] + hex\n",
    "        d = d // 16\n",
    "    return hex"
   ]
  },
  {
   "cell_type": "code",
   "execution_count": 16,
   "metadata": {},
   "outputs": [
    {
     "name": "stdout",
     "output_type": "stream",
     "text": [
      "1F\n"
     ]
    }
   ],
   "source": [
    "d = 31\n",
    "print(int2hex(d))"
   ]
  },
  {
   "cell_type": "markdown",
   "metadata": {},
   "source": [
    "# 计算一个整数（二进制）包含的1的个数"
   ]
  },
  {
   "cell_type": "raw",
   "metadata": {},
   "source": [
    "获取一个整数中设置为1的位数。换句话说，它计算1的个数。"
   ]
  },
  {
   "cell_type": "code",
   "execution_count": 17,
   "metadata": {},
   "outputs": [],
   "source": [
    "def bitCountA(n):\n",
    "    count = 0\n",
    "    while (n != 0):\n",
    "        if (n & 1 != 0):\n",
    "            count += 1\n",
    "        n = n>>1\n",
    "    return count"
   ]
  },
  {
   "cell_type": "code",
   "execution_count": 18,
   "metadata": {},
   "outputs": [
    {
     "name": "stdout",
     "output_type": "stream",
     "text": [
      "3\n"
     ]
    }
   ],
   "source": [
    "n = 11\n",
    "print(bitCountA(n))"
   ]
  },
  {
   "cell_type": "code",
   "execution_count": 19,
   "metadata": {},
   "outputs": [],
   "source": [
    "def bitCountB(n):\n",
    "    count = 0\n",
    "    while (n != 0):\n",
    "        n = n & (n - 1)\n",
    "        count += 1 \n",
    "    return count"
   ]
  },
  {
   "cell_type": "code",
   "execution_count": 20,
   "metadata": {},
   "outputs": [
    {
     "name": "stdout",
     "output_type": "stream",
     "text": [
      "3\n"
     ]
    }
   ],
   "source": [
    "n = 11\n",
    "print(bitCountB(n))"
   ]
  },
  {
   "cell_type": "markdown",
   "metadata": {},
   "source": [
    "# 下一个2的幂"
   ]
  },
  {
   "cell_type": "raw",
   "metadata": {},
   "source": [
    "给定一个整数n，求下一个大于n的2的幂。"
   ]
  },
  {
   "cell_type": "code",
   "execution_count": 21,
   "metadata": {},
   "outputs": [],
   "source": [
    "def next2Power(n):\n",
    "    while (n & (n-1) != 0):\n",
    "        n = n & (n-1)\n",
    "    return n << 1"
   ]
  },
  {
   "cell_type": "code",
   "execution_count": 22,
   "metadata": {},
   "outputs": [
    {
     "name": "stdout",
     "output_type": "stream",
     "text": [
      "16\n"
     ]
    }
   ],
   "source": [
    "n = 8\n",
    "print(next2Power(n))"
   ]
  },
  {
   "cell_type": "markdown",
   "metadata": {},
   "source": [
    "# 检测两个整数的相反符号"
   ]
  },
  {
   "cell_type": "code",
   "execution_count": 24,
   "metadata": {},
   "outputs": [],
   "source": [
    "def isOppositeSigns(a, b):\n",
    "    return (a^b) < 0"
   ]
  },
  {
   "cell_type": "code",
   "execution_count": 25,
   "metadata": {},
   "outputs": [
    {
     "name": "stdout",
     "output_type": "stream",
     "text": [
      "False\n"
     ]
    }
   ],
   "source": [
    "a, b = 10, 20\n",
    "print(isOppositeSigns(a, b))"
   ]
  },
  {
   "cell_type": "markdown",
   "metadata": {},
   "source": [
    "# 计算一个整数的符号"
   ]
  },
  {
   "cell_type": "code",
   "execution_count": 26,
   "metadata": {},
   "outputs": [],
   "source": [
    "def isPositiveInteger(n):\n",
    "    return (n >> 31) == 0"
   ]
  },
  {
   "cell_type": "code",
   "execution_count": 28,
   "metadata": {},
   "outputs": [
    {
     "name": "stdout",
     "output_type": "stream",
     "text": [
      "True\n",
      "False\n"
     ]
    }
   ],
   "source": [
    "n = 10\n",
    "print(isPositiveInteger(n))\n",
    "n = -1\n",
    "print(isPositiveInteger(n))"
   ]
  },
  {
   "cell_type": "markdown",
   "metadata": {},
   "source": [
    "# 不使用分支计算整数的绝对值(abs)"
   ]
  },
  {
   "cell_type": "raw",
   "metadata": {},
   "source": [
    "其中n是位编号，0是最小有效位"
   ]
  },
  {
   "cell_type": "code",
   "execution_count": 29,
   "metadata": {},
   "outputs": [],
   "source": [
    "def absoluteA(a):\n",
    "    mask = a >> 31\n",
    "    result = (a + mask) ^ mask\n",
    "    return result"
   ]
  },
  {
   "cell_type": "code",
   "execution_count": 30,
   "metadata": {},
   "outputs": [
    {
     "name": "stdout",
     "output_type": "stream",
     "text": [
      "5\n",
      "5\n"
     ]
    }
   ],
   "source": [
    "print(absoluteA(5))\n",
    "print(absoluteA(-5))"
   ]
  },
  {
   "cell_type": "code",
   "execution_count": 31,
   "metadata": {},
   "outputs": [],
   "source": [
    "def absoluteB(a):\n",
    "    mask = a >> 31\n",
    "    result = (a ^ mask) - mask\n",
    "    return result"
   ]
  },
  {
   "cell_type": "code",
   "execution_count": 32,
   "metadata": {},
   "outputs": [
    {
     "name": "stdout",
     "output_type": "stream",
     "text": [
      "0\n"
     ]
    }
   ],
   "source": [
    "print(absoluteB(0))"
   ]
  },
  {
   "cell_type": "markdown",
   "metadata": {},
   "source": [
    "# 就地整数交换"
   ]
  },
  {
   "cell_type": "code",
   "execution_count": 33,
   "metadata": {},
   "outputs": [],
   "source": [
    "def swap1(a, b):\n",
    "    a, b = b, a\n",
    "    print(a, b)"
   ]
  },
  {
   "cell_type": "code",
   "execution_count": 34,
   "metadata": {},
   "outputs": [],
   "source": [
    "def swap2(a, b):\n",
    "    a = b - a\n",
    "    b = b - a\n",
    "    a = a + b\n",
    "    print(a, b)"
   ]
  },
  {
   "cell_type": "code",
   "execution_count": 35,
   "metadata": {},
   "outputs": [
    {
     "name": "stdout",
     "output_type": "stream",
     "text": [
      "10 5\n"
     ]
    }
   ],
   "source": [
    "a, b = 5, 10\n",
    "swap2(a,b)"
   ]
  },
  {
   "cell_type": "code",
   "execution_count": 36,
   "metadata": {},
   "outputs": [],
   "source": [
    "def swap3(a, b):\n",
    "    a = a ^ b\n",
    "    b = a ^ b\n",
    "    a = a ^ b\n",
    "    print(a, b)"
   ]
  },
  {
   "cell_type": "code",
   "execution_count": 37,
   "metadata": {},
   "outputs": [
    {
     "name": "stdout",
     "output_type": "stream",
     "text": [
      "10 5\n"
     ]
    }
   ],
   "source": [
    "a, b = 5, 10\n",
    "swap3(a,b)"
   ]
  },
  {
   "cell_type": "markdown",
   "metadata": {},
   "source": [
    "# 将整数A转换为整数B"
   ]
  },
  {
   "cell_type": "raw",
   "metadata": {},
   "source": [
    "计算将整数A转换为整数B所需的位数。"
   ]
  },
  {
   "cell_type": "code",
   "execution_count": 38,
   "metadata": {},
   "outputs": [],
   "source": [
    "def convertA2B(a, b):\n",
    "    count = 0\n",
    "    c = a ^ b\n",
    "    while (c != 0):\n",
    "        c = c & (c - 1)\n",
    "        count += 1\n",
    "    return count"
   ]
  },
  {
   "cell_type": "code",
   "execution_count": 39,
   "metadata": {},
   "outputs": [
    {
     "name": "stdout",
     "output_type": "stream",
     "text": [
      "0b101\n",
      "0b1010\n",
      "4\n"
     ]
    }
   ],
   "source": [
    "a, b = 5, 10\n",
    "print(bin(a))\n",
    "print(bin(b))\n",
    "print(convertA2B(a, b))"
   ]
  },
  {
   "cell_type": "markdown",
   "metadata": {},
   "source": [
    "# 神奇的面具"
   ]
  },
  {
   "cell_type": "markdown",
   "metadata": {},
   "source": [
    "You are given two 32-bit numbers, N and M, and two bit positions, i and j. Write a method to set all bits between i and j in N equal to M (e.g., M becomes a substring of N located at i and starting at j).\n",
    "\n",
    "EXAMPLE:\n",
    "\n",
    "Input: N = 1000 00000 00, M = 10101, i = 2, j = 6\n",
    "\n",
    "Output: N = 1000 10101 00"
   ]
  },
  {
   "cell_type": "code",
   "execution_count": 40,
   "metadata": {},
   "outputs": [],
   "source": [
    "def amazingMask(n, m, i, j):\n",
    "    allOne = ~0\n",
    "    left = allOne - ((1<<(j+1))-1)\n",
    "    right = (1<<i)-1\n",
    "    mask = left | right\n",
    "\n",
    "    return (n & mask) | (m << i)"
   ]
  },
  {
   "cell_type": "code",
   "execution_count": 41,
   "metadata": {},
   "outputs": [
    {
     "name": "stdout",
     "output_type": "stream",
     "text": [
      "0b10000000000\n",
      "0b10101\n",
      "0b10001010100\n"
     ]
    }
   ],
   "source": [
    "n = 1024\n",
    "m = 21\n",
    "i, j = 2, 6\n",
    "r = amazingMask(n, m, i, j)\n",
    "print(bin(n))\n",
    "print(bin(m))\n",
    "print(bin(r))"
   ]
  },
  {
   "cell_type": "markdown",
   "metadata": {},
   "source": [
    "# 整数的位模式回文"
   ]
  },
  {
   "cell_type": "markdown",
   "metadata": {},
   "source": [
    "Following example tells if the bit pattern of an integer is a palindrome or not. It first saves the integer to bitset, and the compare (xor) the bit pattern starting from both ends.\n",
    "\n",
    "Example:\n",
    "\n",
    "10000000000000000000000000000001\n",
    "\n",
    "palindrome: 1\n",
    "\n",
    "10000000000000000000000000000010\n",
    "\n",
    "palindrome: 0\n",
    "\n",
    "01000000000000000000000000000010\n",
    "\n",
    "palindrome: 1\n",
    "\n",
    "00000100000000000000100000000000\n",
    "\n",
    "palindrome: 0"
   ]
  },
  {
   "cell_type": "code",
   "execution_count": 45,
   "metadata": {},
   "outputs": [],
   "source": [
    "def bitPalindrome(s):\n",
    "    for i in range(len(s)//2):\n",
    "        if (int(s[i]) ^ int(s[-1-i]) == 1):\n",
    "            return False\n",
    "    return True"
   ]
  },
  {
   "cell_type": "code",
   "execution_count": 47,
   "metadata": {},
   "outputs": [
    {
     "name": "stdout",
     "output_type": "stream",
     "text": [
      "False\n",
      "True\n"
     ]
    }
   ],
   "source": [
    "s = \"10\"\n",
    "print(bitPalindrome(s))\n",
    "s = \"101\"\n",
    "print(bitPalindrome(s))"
   ]
  },
  {
   "cell_type": "markdown",
   "metadata": {},
   "source": [
    "# 不用算术运算符实现加法"
   ]
  },
  {
   "cell_type": "markdown",
   "metadata": {},
   "source": [
    "写一个添加两个数字的函数。不应该使用+或任何算术运算符。"
   ]
  },
  {
   "cell_type": "code",
   "execution_count": 48,
   "metadata": {},
   "outputs": [],
   "source": [
    "def add(a, b):\n",
    "    if b == 0:\n",
    "        return a\n",
    "    sum = a ^ b\n",
    "    carry = (a & b) << 1\n",
    "    return add(sum, carry)"
   ]
  },
  {
   "cell_type": "code",
   "execution_count": 49,
   "metadata": {},
   "outputs": [
    {
     "data": {
      "text/plain": [
       "1433"
      ]
     },
     "execution_count": 49,
     "metadata": {},
     "output_type": "execute_result"
    }
   ],
   "source": [
    "a, b = 759, 674\n",
    "add(a, b)"
   ]
  },
  {
   "cell_type": "markdown",
   "metadata": {},
   "source": [
    "# 找到丢失的数字"
   ]
  },
  {
   "cell_type": "markdown",
   "metadata": {},
   "source": [
    "你有一个n-1个整数的列表，这些整数在1到n的范围内。列表中没有重复的。列表中少了一个整数。编写一个有效的代码来找到丢失的整数。"
   ]
  },
  {
   "cell_type": "markdown",
   "metadata": {},
   "source": [
    "Use Sum Formula\n",
    "\n",
    "Sort\n",
    "\n",
    "Count Sort\n",
    "\n",
    "Use XOR"
   ]
  },
  {
   "cell_type": "markdown",
   "metadata": {},
   "source": [
    "# 寻找丢失的数字II"
   ]
  },
  {
   "cell_type": "markdown",
   "metadata": {},
   "source": [
    "给定一个大小为n的未排序数组。数组元素的范围为1到n。集合{1,2，…，n}中少了一个数字，数组中出现了两个数字。求这两个数。"
   ]
  },
  {
   "cell_type": "markdown",
   "metadata": {},
   "source": [
    "Sort\n",
    "\n",
    "Count Sort\n",
    "\n",
    "Marker"
   ]
  },
  {
   "cell_type": "code",
   "execution_count": 50,
   "metadata": {},
   "outputs": [
    {
     "name": "stdout",
     "output_type": "stream",
     "text": [
      "The repeating element is 5\n",
      "and the missing element is 1\n"
     ]
    }
   ],
   "source": [
    "def printTwoElements(arr):\n",
    "    for i in range(len(arr)):\n",
    "        if arr[abs(arr[i]) - 1] > 0:\n",
    "            arr[abs(arr[i]) - 1] = -arr[abs(arr[i]) - 1]\n",
    "        else:\n",
    "            print(\"The repeating element is\", abs(arr[i]))\n",
    "             \n",
    "    for i in range(len(arr)):\n",
    "        if arr[i] > 0:\n",
    "            print(\"and the missing element is\", i + 1)\n",
    " \n",
    "arr = [7, 3, 4, 5, 5, 6, 2]\n",
    "n = len(arr)\n",
    "printTwoElements(arr)"
   ]
  },
  {
   "cell_type": "markdown",
   "metadata": {},
   "source": [
    "# 下一个最小/最大的整数，具有相同的1位数字"
   ]
  },
  {
   "cell_type": "markdown",
   "metadata": {},
   "source": [
    "给定一个整数，打印下一个最小和下一个最大的数字，它们在二进制表示中具有相同的1位数字。"
   ]
  },
  {
   "cell_type": "code",
   "execution_count": 51,
   "metadata": {},
   "outputs": [],
   "source": [
    "def getBit(n, index):\n",
    "    return ((n & (1<<index))>0)\n",
    "\n",
    "def setBit(n, index, b):\n",
    "    if b:\n",
    "        return n | (1<<index)\n",
    "    else:\n",
    "        return n & (~(1<<index))\n",
    "\n",
    "def getNext(n):\n",
    "    if n <= 0: \n",
    "        return -1\n",
    "\n",
    "    index = 0\n",
    "    countOnes = 0\n",
    "\n",
    "    # Find first one.\n",
    "    while (not getBit(n, index)):\n",
    "        index += 1\n",
    "\n",
    "    # turn on next zero\n",
    "    while( getBit(n, index) ):\n",
    "        index += 1\n",
    "        countOnes += 1\n",
    "    \n",
    "    n = setBit(n, index, True)\n",
    "\n",
    "    # turn off previous one \n",
    "    index -= 1\n",
    "    n = setBit(n, index, False)\n",
    "    countOnes -= 1\n",
    "\n",
    "    # set zeros\n",
    "    i = index - 1\n",
    "    while (i >= countOnes):\n",
    "        n = setBit(n, i, False)\n",
    "        i -= 1\n",
    "\n",
    "    # set ones\n",
    "    i = countOnes - 1\n",
    "    while (i >= 0):\n",
    "        n = setBit(n, i, True)\n",
    "        i -= 1\n",
    "\n",
    "    return n"
   ]
  },
  {
   "cell_type": "code",
   "execution_count": 52,
   "metadata": {},
   "outputs": [
    {
     "name": "stdout",
     "output_type": "stream",
     "text": [
      "0b111110100\n",
      "0b111111000\n"
     ]
    }
   ],
   "source": [
    "n = 500\n",
    "r = getNext(n)\n",
    "print(bin(n))\n",
    "print(bin(r))"
   ]
  },
  {
   "cell_type": "code",
   "execution_count": 53,
   "metadata": {},
   "outputs": [],
   "source": [
    "def getPrevious(n):\n",
    "    if (n <= 0):\n",
    "        return -1\n",
    "\n",
    "    index = 0\n",
    "    countZeros = 0\n",
    "\n",
    "    # find first zero\n",
    "    while( getBit(n, index) ):\n",
    "        index += 1\n",
    "\n",
    "    # turn off next 1\n",
    "    while( not (getBit(n, index)) ):\n",
    "        index += 1\n",
    "        countZeros += 1\n",
    "    \n",
    "    n = setBit(n, index, False)\n",
    "\n",
    "    # turn on previous zero\n",
    "    index -= 1\n",
    "    n = setBit(n, index, True)\n",
    "    countZeros -= 1\n",
    "\n",
    "    # set ones\n",
    "    i = index - 1\n",
    "    while (i >= countZeros):\n",
    "        n = setBit(n, i, True)\n",
    "        i -= 1\n",
    "\n",
    "    # set zeros\n",
    "    i = countZeros - 1\n",
    "    while (i >= 0):\n",
    "        n = setBit(n, i, False)\n",
    "        i -= 1\n",
    "    \n",
    "    return n"
   ]
  },
  {
   "cell_type": "code",
   "execution_count": 54,
   "metadata": {},
   "outputs": [
    {
     "name": "stdout",
     "output_type": "stream",
     "text": [
      "0b111110100\n",
      "0b111110010\n"
     ]
    }
   ],
   "source": [
    "n = 500\n",
    "r = getPrevious(n)\n",
    "print(bin(n))\n",
    "print(bin(r))"
   ]
  },
  {
   "cell_type": "markdown",
   "metadata": {},
   "source": [
    "# 蓄水池抽样"
   ]
  },
  {
   "cell_type": "code",
   "execution_count": 55,
   "metadata": {},
   "outputs": [],
   "source": [
    "import random\n",
    "def reservoirSampling(items, k):\n",
    "    sample = items[0:k]\n",
    "\n",
    "    for i in range(k, len(items)):\n",
    "        j = random.randrange(1, i + 1)\n",
    "        if j <= k:\n",
    "            sample[j - 1] = items[i]\n",
    "\n",
    "    return sample"
   ]
  },
  {
   "cell_type": "code",
   "execution_count": 56,
   "metadata": {},
   "outputs": [
    {
     "data": {
      "text/plain": [
       "[50, 60, 53, 34, 65, 57, 23, 88, 77, 44]"
      ]
     },
     "execution_count": 56,
     "metadata": {},
     "output_type": "execute_result"
    }
   ],
   "source": [
    "items = list(range(1, 100))\n",
    "reservoirSampling(items,10)"
   ]
  },
  {
   "cell_type": "markdown",
   "metadata": {},
   "source": [
    "# 阶乘后跟0"
   ]
  },
  {
   "cell_type": "code",
   "execution_count": 58,
   "metadata": {},
   "outputs": [],
   "source": [
    "def findTrailingZeros(n):\n",
    "    count = 0\n",
    "    i = 5\n",
    "    while (n / i >= 1):\n",
    "        count += n//i\n",
    "        i *= 5\n",
    " \n",
    "    return count"
   ]
  },
  {
   "cell_type": "code",
   "execution_count": 59,
   "metadata": {},
   "outputs": [
    {
     "data": {
      "text/plain": [
       "[(1, 0),\n",
       " (2, 0),\n",
       " (3, 0),\n",
       " (4, 0),\n",
       " (5, 1),\n",
       " (6, 1),\n",
       " (7, 1),\n",
       " (8, 1),\n",
       " (9, 1),\n",
       " (10, 2),\n",
       " (11, 2),\n",
       " (12, 2),\n",
       " (13, 2),\n",
       " (14, 2),\n",
       " (15, 3),\n",
       " (16, 3),\n",
       " (17, 3),\n",
       " (18, 3),\n",
       " (19, 3),\n",
       " (20, 4),\n",
       " (21, 4),\n",
       " (22, 4),\n",
       " (23, 4),\n",
       " (24, 4),\n",
       " (25, 6),\n",
       " (26, 6),\n",
       " (27, 6),\n",
       " (28, 6),\n",
       " (29, 6),\n",
       " (30, 7),\n",
       " (31, 7),\n",
       " (32, 7),\n",
       " (33, 7),\n",
       " (34, 7),\n",
       " (35, 8),\n",
       " (36, 8),\n",
       " (37, 8),\n",
       " (38, 8),\n",
       " (39, 8),\n",
       " (40, 9),\n",
       " (41, 9),\n",
       " (42, 9),\n",
       " (43, 9),\n",
       " (44, 9),\n",
       " (45, 10),\n",
       " (46, 10),\n",
       " (47, 10),\n",
       " (48, 10),\n",
       " (49, 10),\n",
       " (50, 12),\n",
       " (51, 12),\n",
       " (52, 12),\n",
       " (53, 12),\n",
       " (54, 12),\n",
       " (55, 13),\n",
       " (56, 13),\n",
       " (57, 13),\n",
       " (58, 13),\n",
       " (59, 13),\n",
       " (60, 14),\n",
       " (61, 14),\n",
       " (62, 14),\n",
       " (63, 14),\n",
       " (64, 14),\n",
       " (65, 15),\n",
       " (66, 15),\n",
       " (67, 15),\n",
       " (68, 15),\n",
       " (69, 15),\n",
       " (70, 16),\n",
       " (71, 16),\n",
       " (72, 16),\n",
       " (73, 16),\n",
       " (74, 16),\n",
       " (75, 18),\n",
       " (76, 18),\n",
       " (77, 18),\n",
       " (78, 18),\n",
       " (79, 18),\n",
       " (80, 19),\n",
       " (81, 19),\n",
       " (82, 19),\n",
       " (83, 19),\n",
       " (84, 19),\n",
       " (85, 20),\n",
       " (86, 20),\n",
       " (87, 20),\n",
       " (88, 20),\n",
       " (89, 20),\n",
       " (90, 21),\n",
       " (91, 21),\n",
       " (92, 21),\n",
       " (93, 21),\n",
       " (94, 21),\n",
       " (95, 22),\n",
       " (96, 22),\n",
       " (97, 22),\n",
       " (98, 22),\n",
       " (99, 22),\n",
       " (100, 24),\n",
       " (101, 24),\n",
       " (102, 24),\n",
       " (103, 24),\n",
       " (104, 24),\n",
       " (105, 25),\n",
       " (106, 25),\n",
       " (107, 25),\n",
       " (108, 25),\n",
       " (109, 25),\n",
       " (110, 26),\n",
       " (111, 26),\n",
       " (112, 26),\n",
       " (113, 26),\n",
       " (114, 26),\n",
       " (115, 27),\n",
       " (116, 27),\n",
       " (117, 27),\n",
       " (118, 27),\n",
       " (119, 27),\n",
       " (120, 28),\n",
       " (121, 28),\n",
       " (122, 28),\n",
       " (123, 28),\n",
       " (124, 28),\n",
       " (125, 31),\n",
       " (126, 31),\n",
       " (127, 31),\n",
       " (128, 31),\n",
       " (129, 31),\n",
       " (130, 32)]"
      ]
     },
     "execution_count": 59,
     "metadata": {},
     "output_type": "execute_result"
    }
   ],
   "source": [
    "n = [(n, findTrailingZeros(n)) for n in range(1,131)]\n",
    "n"
   ]
  },
  {
   "cell_type": "markdown",
   "metadata": {},
   "source": [
    "# GCD"
   ]
  },
  {
   "cell_type": "code",
   "execution_count": 60,
   "metadata": {},
   "outputs": [],
   "source": [
    "def gcd(a, b):\n",
    "    if b > a:\n",
    "        return gcd(b, a)\n",
    "\n",
    "    if a % b == 0:\n",
    "        return b\n",
    "\n",
    "    return gcd(b, a % b)  "
   ]
  },
  {
   "cell_type": "code",
   "execution_count": null,
   "metadata": {},
   "outputs": [],
   "source": []
  }
 ],
 "metadata": {
  "kernelspec": {
   "display_name": "Python 3",
   "language": "python",
   "name": "python3"
  },
  "language_info": {
   "codemirror_mode": {
    "name": "ipython",
    "version": 3
   },
   "file_extension": ".py",
   "mimetype": "text/x-python",
   "name": "python",
   "nbconvert_exporter": "python",
   "pygments_lexer": "ipython3",
   "version": "3.7.6"
  },
  "toc": {
   "base_numbering": 1,
   "nav_menu": {},
   "number_sections": true,
   "sideBar": true,
   "skip_h1_title": false,
   "title_cell": "Table of Contents",
   "title_sidebar": "Contents",
   "toc_cell": false,
   "toc_position": {
    "height": "calc(100% - 180px)",
    "left": "10px",
    "top": "150px",
    "width": "384px"
   },
   "toc_section_display": true,
   "toc_window_display": true
  },
  "varInspector": {
   "cols": {
    "lenName": 16,
    "lenType": 16,
    "lenVar": 40
   },
   "kernels_config": {
    "python": {
     "delete_cmd_postfix": "",
     "delete_cmd_prefix": "del ",
     "library": "var_list.py",
     "varRefreshCmd": "print(var_dic_list())"
    },
    "r": {
     "delete_cmd_postfix": ") ",
     "delete_cmd_prefix": "rm(",
     "library": "var_list.r",
     "varRefreshCmd": "cat(var_dic_list()) "
    }
   },
   "types_to_exclude": [
    "module",
    "function",
    "builtin_function_or_method",
    "instance",
    "_Feature"
   ],
   "window_display": false
  }
 },
 "nbformat": 4,
 "nbformat_minor": 2
}
