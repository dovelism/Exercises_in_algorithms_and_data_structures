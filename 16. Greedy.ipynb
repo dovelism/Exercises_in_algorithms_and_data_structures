{
 "cells": [
  {
   "cell_type": "markdown",
   "metadata": {},
   "source": [
    "# 找出最小数量的硬币"
   ]
  },
  {
   "cell_type": "markdown",
   "metadata": {},
   "source": [
    "给定一个值V，如果我们想对V进行改变，我们有无限的每种面值的供应，我们有无限数量的{1,2,5,10,20,50,100,500,1000}价值的硬币/纸币，最少需要多少数量的硬币和/或纸币来进行兑换?"
   ]
  },
  {
   "cell_type": "code",
   "execution_count": 1,
   "metadata": {},
   "outputs": [],
   "source": [
    "def minCoins(V):\n",
    "    available = [1, 2, 5, 10, 20, 50, 100, 500, 1000]\n",
    "    result = []\n",
    "    for i in available[::-1]:\n",
    "        while (V >= i):\n",
    "            V -= i\n",
    "            result.append(i)\n",
    "    \n",
    "    return result"
   ]
  },
  {
   "cell_type": "markdown",
   "metadata": {},
   "source": [
    "# 活动问题"
   ]
  },
  {
   "cell_type": "markdown",
   "metadata": {},
   "source": [
    "Assume there exist n activities with each of them being represented by a start time si and finish time fi. Two activities i and j are said to be non-conflicting if si ≥ fj or sj ≥ fi. The activity selection problem consists in finding the maximal solution set (S) of non-conflicting activities, or more precisely there must exist no solution set S' such that |S'| > |S| in the case that multiple maximal solutions have equal sizes."
   ]
  },
  {
   "cell_type": "code",
   "execution_count": 2,
   "metadata": {},
   "outputs": [],
   "source": [
    "def printMaxActivities(acts):\n",
    "    n = len(acts)\n",
    "    sort_acts = sorted(acts, key=lambda tup: tup[1])\n",
    "    prev = sort_acts[0]\n",
    "    print(prev)\n",
    "    for curr in sort_acts:\n",
    "        if curr[0] >= prev[1]:\n",
    "            print(curr)\n",
    "            prev = curr"
   ]
  },
  {
   "cell_type": "code",
   "execution_count": 3,
   "metadata": {},
   "outputs": [
    {
     "name": "stdout",
     "output_type": "stream",
     "text": [
      "(1, 2)\n",
      "(3, 4)\n",
      "(5, 7)\n",
      "(8, 9)\n"
     ]
    }
   ],
   "source": [
    "acts = [(0,6),(3,4),(1,2),(5,7),(8,9),(5,9)]\n",
    "printMaxActivities(acts)"
   ]
  },
  {
   "cell_type": "markdown",
   "metadata": {},
   "source": [
    "# 给定位数和位数之和的最小数"
   ]
  },
  {
   "cell_type": "markdown",
   "metadata": {},
   "source": [
    "How to find the smallest number with given digit sum s and number of digits m?\n",
    "\n",
    "Input : s = 9, m = 2\n",
    "\n",
    "Output : 18\n",
    "\n",
    "There are many other possible numbers like 45, 54, 90, etc with sum of digits as 9 and number of digits as 2. The smallest of them is 18.\n",
    "\n",
    "Input : s = 20, m = 3\n",
    "\n",
    "Output : 299"
   ]
  },
  {
   "cell_type": "code",
   "execution_count": 4,
   "metadata": {},
   "outputs": [],
   "source": [
    "def findSmallest(m, s):\n",
    " \n",
    "    if (s == 0):\n",
    "        if(m == 1) :\n",
    "              print(\"Smallest number is 0\") \n",
    "        else : \n",
    "              print(\"Not possible\")\n",
    "        return\n",
    "  \n",
    "    # 9999\n",
    "    if (s > 9 * m):\n",
    "        print(\"Not possible\")\n",
    "        return\n",
    "  \n",
    "    res = [0 for i in range(m + 1)]\n",
    "  \n",
    "    # deduct sum by one to account for cases later \n",
    "    # (There must be 1 left for the most significant digit)\n",
    "    s -= 1\n",
    "  \n",
    "    for i in range(m-1,0,-1):\n",
    "     \n",
    "        # If sum is still greater than 9, digit must be 9.\n",
    "        if (s > 9):\n",
    "            res[i] = 9\n",
    "            s -= 9\n",
    "        else:\n",
    "            res[i] = s\n",
    "            s = 0\n",
    "  \n",
    "    res[0] = s + 1\n",
    "  \n",
    "    print(\"Smallest number is \",end=\"\")\n",
    "    for i in range(m):\n",
    "        print(res[i],end=\"\")"
   ]
  },
  {
   "cell_type": "code",
   "execution_count": 5,
   "metadata": {},
   "outputs": [
    {
     "name": "stdout",
     "output_type": "stream",
     "text": [
      "Smallest number is 299"
     ]
    }
   ],
   "source": [
    "s = 20\n",
    "m = 3\n",
    "findSmallest(m, s)"
   ]
  },
  {
   "cell_type": "markdown",
   "metadata": {},
   "source": [
    "# 两个数的最小和"
   ]
  },
  {
   "cell_type": "markdown",
   "metadata": {},
   "source": [
    "Given an array of digits (values are from 0 to 9), find the minimum possible sum of two numbers formed from digits of the array. All digits of given array must be used to form the two numbers.\n",
    "\n",
    "Input: [6, 8, 4, 5, 2, 3]\n",
    "\n",
    "Output: 604\n",
    "\n",
    "The minimum sum is formed by numbers\n",
    "\n",
    "358 and 246\n",
    "\n",
    "Input: [5, 3, 0, 7, 4]\n",
    "\n",
    "Output: 82\n",
    "\n",
    "The minimum sum is formed by numbers\n",
    "\n",
    "35 and 047"
   ]
  },
  {
   "cell_type": "code",
   "execution_count": 6,
   "metadata": {},
   "outputs": [],
   "source": [
    "import heapq\n",
    "def minSum(a):\n",
    "    heapq.heapify(a)\n",
    "    num1 = 0\n",
    "    num2 = 0\n",
    "    while a:\n",
    "        num1 = num1 * 10 + heapq.heappop(a)\n",
    "        if a:\n",
    "            num2 = num2 * 10 + heapq.heappop(a)\n",
    "    \n",
    "    return num1 + num2  "
   ]
  },
  {
   "cell_type": "code",
   "execution_count": 7,
   "metadata": {},
   "outputs": [
    {
     "data": {
      "text/plain": [
       "604"
      ]
     },
     "execution_count": 7,
     "metadata": {},
     "output_type": "execute_result"
    }
   ],
   "source": [
    "a = [6, 8, 4, 5, 2, 3]\n",
    "minSum(a)"
   ]
  },
  {
   "cell_type": "markdown",
   "metadata": {},
   "source": [
    "# 以最低成本连接N根绳索"
   ]
  },
  {
   "cell_type": "markdown",
   "metadata": {},
   "source": [
    "有n根不同长度的绳子，我们需要把这些绳子连接成一根绳子。连接两根绳子的费用等于它们长度的总和。我们需要以最低的成本连接绳索。\n",
    "For example if we are given 4 ropes of lengths 4, 3, 2 and 6. We can connect the ropes in following ways.\n",
    "\n",
    "1) First connect ropes of lengths 2 and 3. Now we have three ropes of lengths 4, 6 and 5.\n",
    "\n",
    "2) Now connect ropes of lengths 4 and 5. Now we have two ropes of lengths 6 and 9.\n",
    "\n",
    "3) Finally connect the two ropes and all ropes have connected.\n",
    "\n",
    "Total cost for connecting all ropes is 5 + 9 + 15 = 29."
   ]
  },
  {
   "cell_type": "code",
   "execution_count": 8,
   "metadata": {},
   "outputs": [],
   "source": [
    "import heapq\n",
    "def ropeCost(ropes):\n",
    "    heapq.heapify(ropes)\n",
    "    total = 0\n",
    "    \n",
    "    while ropes:\n",
    "        first = heapq.heappop(ropes)\n",
    "        second = heapq.heappop(ropes)\n",
    "        local = first + second\n",
    "        total += local\n",
    "        if not ropes:\n",
    "            break\n",
    "        heapq.heappush(ropes, local)\n",
    "    return total  "
   ]
  },
  {
   "cell_type": "code",
   "execution_count": 9,
   "metadata": {},
   "outputs": [
    {
     "data": {
      "text/plain": [
       "29"
      ]
     },
     "execution_count": 9,
     "metadata": {},
     "output_type": "execute_result"
    }
   ],
   "source": [
    "ropes = [4,3,2,6]\n",
    "ropeCost(ropes)"
   ]
  },
  {
   "cell_type": "markdown",
   "metadata": {},
   "source": [
    "# 铁路/巴士站所需的最少站台数目"
   ]
  },
  {
   "cell_type": "markdown",
   "metadata": {},
   "source": [
    "Given arrival and departure times of all trains that reach a railway station, find the minimum number of platforms required for the railway station so that no train waits. We are given two arrays which represent arrival and departure times of trains that stop.\n",
    "\n",
    "Input:\n",
    "\n",
    "arr[] = {9:00, 9:40, 9:50, 11:00, 15:00, 18:00}\n",
    "\n",
    "dep[] = {9:10, 12:00, 11:20, 11:30, 19:00, 20:00}\n",
    "\n",
    "Output: 3\n",
    "\n",
    "There are at-most three trains at a time (time between 11:00 to 11:20)"
   ]
  },
  {
   "cell_type": "code",
   "execution_count": 10,
   "metadata": {},
   "outputs": [],
   "source": [
    "def findPlatform(arr, dep, n):\n",
    " \n",
    "    arr.sort()\n",
    "    dep.sort()\n",
    "  \n",
    "    # plat_needed indicates number of platforms needed at a time\n",
    "    plat_needed = 0\n",
    "    result = 0\n",
    "    i = 0\n",
    "    j = 0\n",
    "  \n",
    "    # Similar to merge in merge sort to process all events in sorted order\n",
    "    while (i < n and j < n):\n",
    "        if (arr[i] < dep[j]):\n",
    "            plat_needed += 1\n",
    "            i += 1\n",
    "  \n",
    "            result = max(result, plat_needed)\n",
    "  \n",
    "        else:\n",
    "            plat_needed -= 1\n",
    "            j += 1\n",
    "         \n",
    "    return result"
   ]
  },
  {
   "cell_type": "code",
   "execution_count": 11,
   "metadata": {},
   "outputs": [
    {
     "data": {
      "text/plain": [
       "3"
      ]
     },
     "execution_count": 11,
     "metadata": {},
     "output_type": "execute_result"
    }
   ],
   "source": [
    "arr = [900, 940, 950, 1100, 1500, 1800]\n",
    "dep = [910, 1200, 1120, 1130, 1900, 2000]\n",
    "n = len(arr)\n",
    "findPlatform(arr, dep, n)"
   ]
  },
  {
   "cell_type": "markdown",
   "metadata": {},
   "source": [
    "# 分数背包问题"
   ]
  },
  {
   "cell_type": "markdown",
   "metadata": {},
   "source": [
    "Given weights and values of n items, we need put these items in a knapsack of capacity W to get the maximum total value in the knapsack.\n",
    "\n",
    "In the 0-1 Knapsack problem, we are not allowed to break items. We either take the whole item or don’t take it.\n",
    "\n",
    "In Fractional Knapsack, we can break items for maximizing the total value of knapsack. This problem in which we can break item also called fractional knapsack problem."
   ]
  },
  {
   "cell_type": "code",
   "execution_count": 12,
   "metadata": {},
   "outputs": [],
   "source": [
    "def fracKnapsack(capacity, weights, values):\n",
    "    numItems = len(values)\n",
    "    valuePerWeight = sorted([[v / w, w, v] for v,w in zip(values,weights)], reverse=True)\n",
    "    print(valuePerWeight)\n",
    "    totalCost = 0.\n",
    "    for tup in valuePerWeight:\n",
    "        if capacity >= tup[1]:\n",
    "            capacity -= tup[1]\n",
    "            totalCost += tup[2]\n",
    "        else:\n",
    "            totalCost += capacity * tup[0]\n",
    "            break\n",
    "    return totalCost"
   ]
  },
  {
   "cell_type": "code",
   "execution_count": 13,
   "metadata": {},
   "outputs": [
    {
     "name": "stdout",
     "output_type": "stream",
     "text": [
      "[[4.0, 30, 120], [3.0, 24, 72], [2.0, 50, 100]]\n"
     ]
    },
    {
     "data": {
      "text/plain": [
       "180.0"
      ]
     },
     "execution_count": 13,
     "metadata": {},
     "output_type": "execute_result"
    }
   ],
   "source": [
    "n = 3\n",
    "capacity = 50\n",
    "values = [72, 100, 120]\n",
    "weights = [24, 50, 30]\n",
    "fracKnapsack(capacity, weights, values)\n"
   ]
  },
  {
   "cell_type": "markdown",
   "metadata": {},
   "source": [
    "# 最小成本切割成正方形的纸板"
   ]
  },
  {
   "cell_type": "code",
   "execution_count": 14,
   "metadata": {},
   "outputs": [],
   "source": [
    "def minimumCostOfBreaking(X, Y, m, n):\n",
    " \n",
    "    res = 0\n",
    " \n",
    "    # sort the horizontal cost in reverse order\n",
    "    X.sort(reverse = True)\n",
    " \n",
    "    # sort the vertical cost in reverse order\n",
    "    Y.sort(reverse = True)\n",
    " \n",
    "    # initialize current width as 1\n",
    "    hzntl = 1; vert = 1\n",
    " \n",
    "    # loop untill one or both\n",
    "    # cost array are processed\n",
    "    i = 0; j = 0\n",
    "    while (i < m and j < n):\n",
    "     \n",
    "        if (X[i] > Y[j]):\n",
    "         \n",
    "            res += X[i] * vert\n",
    " \n",
    "            # increase current horizontal\n",
    "            # part count by 1\n",
    "            hzntl += 1\n",
    "            i += 1\n",
    "         \n",
    "        else:\n",
    "            res += Y[j] * hzntl\n",
    " \n",
    "            # increase current vertical\n",
    "            # part count by 1\n",
    "            vert += 1\n",
    "            j += 1\n",
    " \n",
    "    # loop for horizontal array, if remains\n",
    "    total = 0\n",
    "    while (i < m):\n",
    "        total += X[i]\n",
    "        i += 1\n",
    "    res += total * vert\n",
    " \n",
    "    #loop for vertical array, if remains\n",
    "    total = 0\n",
    "    while (j < n):\n",
    "        total += Y[j]\n",
    "        j += 1\n",
    "    res += total * hzntl\n",
    " \n",
    "    return res"
   ]
  },
  {
   "cell_type": "code",
   "execution_count": 15,
   "metadata": {},
   "outputs": [
    {
     "name": "stdout",
     "output_type": "stream",
     "text": [
      "42\n"
     ]
    }
   ],
   "source": [
    "m, n = 5, 3\n",
    "X = [2, 1, 3, 1, 4]\n",
    "Y = [4, 1, 2]\n",
    " \n",
    "print(minimumCostOfBreaking(X, Y, m, n))"
   ]
  },
  {
   "cell_type": "markdown",
   "metadata": {},
   "source": [
    "# 经过最多K次连续互换字典中最小的数组"
   ]
  },
  {
   "cell_type": "markdown",
   "metadata": {},
   "source": [
    "Given an array arr[], find the lexicographically smallest array that can be obtained after performing at maximum of k consecutive swaps.\n",
    "\n",
    "Examples :\n",
    "\n",
    "Input:\n",
    "\n",
    "arr = [7, 6, 9, 2, 1], k = 3\n",
    "\n",
    "Output: arr = [2, 7, 6, 9, 1]\n",
    "\n",
    "Explanation:\n",
    "\n",
    "Array is: 7, 6, 9, 2, 1\n",
    "\n",
    "Swap 1: 7, 6, 2, 9, 1\n",
    "\n",
    "Swap 2: 7, 2, 6, 9, 1\n",
    "\n",
    "Swap 3: 2, 7, 6, 9, 1\n",
    "\n",
    "So Our final array after k = 3 swaps :\n",
    "\n",
    "2, 7, 6, 9, 1\n",
    "\n",
    "Input:\n",
    "\n",
    "arr = [7, 6, 9, 2, 1], k = 1\n",
    "\n",
    "Output: arr = [6, 7, 9, 2, 1]"
   ]
  },
  {
   "cell_type": "code",
   "execution_count": 16,
   "metadata": {},
   "outputs": [],
   "source": [
    "def minimizeWithKSwaps(arr, n, k):\n",
    " \n",
    "    for i in range(n-1):\n",
    "        pos = i\n",
    "        for j in range(i+1, n):\n",
    " \n",
    "            # If we exceed the Max swaps then terminate the loop\n",
    "            if ( j - i > k):\n",
    "                break\n",
    " \n",
    "            # Find the minimum value from i+1 to max (k or n)\n",
    "            if (arr[j] < arr[pos]):\n",
    "                pos = j\n",
    " \n",
    "        # Swap the elements from Minimum position we found till now to the i index\n",
    "        for j in range(pos, i, -1):\n",
    "            arr[j],arr[j-1] = arr[j-1], arr[j]\n",
    " \n",
    "        # Set the final value after swapping pos-i elements\n",
    "        k -= pos - i"
   ]
  },
  {
   "cell_type": "code",
   "execution_count": 17,
   "metadata": {},
   "outputs": [
    {
     "name": "stdout",
     "output_type": "stream",
     "text": [
      "2 7 6 9 1 "
     ]
    }
   ],
   "source": [
    "n, k = 5, 3\n",
    "arr = [7, 6, 9, 2, 1]\n",
    "minimizeWithKSwaps(arr, n, k)\n",
    " \n",
    "# Print the final Array\n",
    "for i in range(n):\n",
    "    print(arr[i], end = \" \")"
   ]
  },
  {
   "cell_type": "markdown",
   "metadata": {},
   "source": [
    "# 最小化高度之间的最大差异"
   ]
  },
  {
   "cell_type": "markdown",
   "metadata": {},
   "source": [
    "给定n个塔的高度和一个值k。我们需要增加或减少每个塔的高度k(只有一次)，其中k > 0。任务是将修改后的最长塔和最短塔的高度差减到最小，并输出这个差值。"
   ]
  },
  {
   "cell_type": "code",
   "execution_count": null,
   "metadata": {},
   "outputs": [],
   "source": [
    "def getMinDiff(arr, n, k):\n",
    " \n",
    "    if (n == 1):\n",
    "        return 0\n",
    " \n",
    "    # Sort all elements\n",
    "    arr.sort() \n",
    " \n",
    "    # Initialize result\n",
    "    ans = arr[n-1] - arr[0] \n",
    " \n",
    "    # Handle corner elements\n",
    "    small = arr[0] + k \n",
    "    big = arr[n-1] - k \n",
    "     \n",
    "    if (small > big):\n",
    "        small, big = big, small \n",
    " \n",
    "    # Traverse middle elements\n",
    "    for i in range(1, n-1):\n",
    "     \n",
    "        subtract = arr[i] - k \n",
    "        add = arr[i] + k \n",
    " \n",
    "        # If both subtraction and addition\n",
    "        # do not change diff\n",
    "        if (subtract >= small or add <= big):\n",
    "            continue\n",
    " \n",
    "        # Either subtraction causes a smaller\n",
    "        # number or addition causes a greater\n",
    "        # number. Update small or big using\n",
    "        # greedy approach (If big - subtract\n",
    "        # causes smaller diff, update small\n",
    "        # Else update big)\n",
    "        if (big - subtract <= add - small):\n",
    "            small = subtract \n",
    "        else:\n",
    "            big = add \n",
    "     \n",
    " \n",
    "    return min(ans, big - small) "
   ]
  },
  {
   "cell_type": "code",
   "execution_count": null,
   "metadata": {},
   "outputs": [],
   "source": []
  }
 ],
 "metadata": {
  "kernelspec": {
   "display_name": "Python 3",
   "language": "python",
   "name": "python3"
  },
  "language_info": {
   "codemirror_mode": {
    "name": "ipython",
    "version": 3
   },
   "file_extension": ".py",
   "mimetype": "text/x-python",
   "name": "python",
   "nbconvert_exporter": "python",
   "pygments_lexer": "ipython3",
   "version": "3.6.4"
  },
  "toc": {
   "base_numbering": 1,
   "nav_menu": {},
   "number_sections": true,
   "sideBar": true,
   "skip_h1_title": false,
   "title_cell": "Table of Contents",
   "title_sidebar": "Contents",
   "toc_cell": false,
   "toc_position": {},
   "toc_section_display": true,
   "toc_window_display": true
  },
  "varInspector": {
   "cols": {
    "lenName": 16,
    "lenType": 16,
    "lenVar": 40
   },
   "kernels_config": {
    "python": {
     "delete_cmd_postfix": "",
     "delete_cmd_prefix": "del ",
     "library": "var_list.py",
     "varRefreshCmd": "print(var_dic_list())"
    },
    "r": {
     "delete_cmd_postfix": ") ",
     "delete_cmd_prefix": "rm(",
     "library": "var_list.r",
     "varRefreshCmd": "cat(var_dic_list()) "
    }
   },
   "types_to_exclude": [
    "module",
    "function",
    "builtin_function_or_method",
    "instance",
    "_Feature"
   ],
   "window_display": false
  }
 },
 "nbformat": 4,
 "nbformat_minor": 2
}
