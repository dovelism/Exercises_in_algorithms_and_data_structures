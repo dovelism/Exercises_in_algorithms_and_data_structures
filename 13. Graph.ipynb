{
 "cells": [
  {
   "cell_type": "markdown",
   "metadata": {},
   "source": [
    "# Graph I :AdjMatrixGraph"
   ]
  },
  {
   "cell_type": "code",
   "execution_count": 1,
   "metadata": {
    "code_folding": [
     0,
     24
    ]
   },
   "outputs": [],
   "source": [
    "class Vertex:\n",
    "    def __init__(self, node):\n",
    "        self.id = node\n",
    "        # Mark all nodes unvisited        \n",
    "        self.visited = False  \n",
    "\n",
    "    def addNeighbor(self, neighbor, G):\n",
    "        G.addEdge(self.id, neighbor)\n",
    "\n",
    "    def getConnections(self, G):\n",
    "        return G.adjMatrix[self.id]\n",
    "\n",
    "    def getVertexID(self):\n",
    "        return self.id\n",
    "\n",
    "    def setVertexID(self, id):\n",
    "        self.id = id\n",
    "\n",
    "    def setVisited(self):\n",
    "        self.visited = True\n",
    "\n",
    "    def __str__(self):\n",
    "        return str(self.id)\n",
    "\n",
    "class Graph:\n",
    "    def __init__(self, numVertices=10, directed=False):\n",
    "        self.adjMatrix = [[None] * numVertices for _ in range(numVertices)]\n",
    "        self.numVertices = numVertices\n",
    "        self.vertices = []\n",
    "        self.directed = directed\n",
    "        for i in range(0, numVertices):\n",
    "            newVertex = Vertex(i)\n",
    "            self.vertices.append(newVertex)\n",
    "\n",
    "    def addVertex(self, vtx, id):\n",
    "        if 0 <= vtx < self.numVertices:\n",
    "            self.vertices[vtx].setVertexID(id)\n",
    "\n",
    "    def getVertex(self, n):\n",
    "        for vertxin in range(0, self.numVertices):\n",
    "            if n == self.vertices[vertxin].getVertexID():\n",
    "                return vertxin\n",
    "        return None\n",
    "\n",
    "    def addEdge(self, frm, to, cost=0): \n",
    "        #print(\"from\",frm, self.getVertex(frm))\n",
    "        #print(\"to\",to, self.getVertex(to))\n",
    "        if self.getVertex(frm) is not None and self.getVertex(to) is not None:\n",
    "            self.adjMatrix[self.getVertex(frm)][self.getVertex(to)] = cost\n",
    "            if not self.directed:\n",
    "                # For directed graph do not add this\n",
    "                self.adjMatrix[self.getVertex(to)][self.getVertex(frm)] = cost  \n",
    "\n",
    "    def getVertices(self):\n",
    "        vertices = []\n",
    "        for vertxin in range(0, self.numVertices):\n",
    "            vertices.append(self.vertices[vertxin].getVertexID())\n",
    "        return vertices\n",
    "\n",
    "    def printMatrix(self):\n",
    "        for u in range(0, self.numVertices):\n",
    "            row = []\n",
    "            for v in range(0, self.numVertices):\n",
    "                row.append(str(self.adjMatrix[u][v]) if self.adjMatrix[u][v] is not None else '/')\n",
    "            print(row)\n",
    "\n",
    "    def getEdges(self):\n",
    "        edges = []\n",
    "        for v in range(0, self.numVertices):\n",
    "            for u in range(0, self.numVertices):\n",
    "                if self.adjMatrix[u][v] is not None:\n",
    "                    vid = self.vertices[v].getVertexID()\n",
    "                    wid = self.vertices[u].getVertexID()\n",
    "                    edges.append((vid, wid, self.adjMatrix[u][v]))\n",
    "        return edges\n",
    "    \n",
    "    def getNeighbors(self, n):\n",
    "        neighbors = []\n",
    "        for vertxin in range(0, self.numVertices):\n",
    "            if n == self.vertices[vertxin].getVertexID():\n",
    "                for neighbor in range(0, self.numVertices):\n",
    "                    if (self.adjMatrix[vertxin][neighbor] is not None):\n",
    "                        neighbors.append(self.vertices[neighbor].getVertexID())\n",
    "        return neighbors\n",
    "    \n",
    "    def isConnected(self, u, v):\n",
    "        uidx = self.getVertex(u) \n",
    "        vidx = self.getVertex(v)\n",
    "        return self.adjMatrix[uidx][vidx] is not None\n",
    "    \n",
    "    def get2Hops(self, u):\n",
    "        neighbors = self.getNeighbors(u)\n",
    "        print(neighbors)\n",
    "        hopset = set()\n",
    "        for v in neighbors:\n",
    "            hops = self.getNeighbors(v)\n",
    "            hopset |= set(hops)\n",
    "        return list(hopset)"
   ]
  },
  {
   "cell_type": "code",
   "execution_count": 2,
   "metadata": {},
   "outputs": [
    {
     "name": "stdout",
     "output_type": "stream",
     "text": [
      "['a', 'b', 'c', 'd', 'e', 'f']\n",
      "['/', '1', '2', '/', '/', '/']\n",
      "['/', '/', '/', '3', '4', '/']\n",
      "['/', '/', '/', '5', '6', '/']\n",
      "['/', '/', '/', '/', '7', '/']\n",
      "['8', '/', '/', '/', '/', '/']\n",
      "['/', '/', '/', '/', '/', '/']\n",
      "None\n",
      "[('a', 'e', 8), ('b', 'a', 1), ('c', 'a', 2), ('d', 'b', 3), ('d', 'c', 5), ('e', 'b', 4), ('e', 'c', 6), ('e', 'd', 7)]\n"
     ]
    }
   ],
   "source": [
    "graph = Graph(6,True)\n",
    "graph.addVertex(0, 'a')\n",
    "graph.addVertex(1, 'b')\n",
    "graph.addVertex(2, 'c')\n",
    "graph.addVertex(3, 'd')\n",
    "graph.addVertex(4, 'e')\n",
    "graph.addVertex(5, 'f')\n",
    "graph.addVertex(6, 'g') # doing nothing here \n",
    "graph.addVertex(7, 'h') # doing nothing here\n",
    "\n",
    "print(graph.getVertices())\n",
    "graph.addEdge('a', 'b', 1)  \n",
    "graph.addEdge('a', 'c', 2)\n",
    "graph.addEdge('b', 'd', 3)\n",
    "graph.addEdge('b', 'e', 4)\n",
    "graph.addEdge('c', 'd', 5)\n",
    "graph.addEdge('c', 'e', 6)\n",
    "graph.addEdge('d', 'e', 7)\n",
    "graph.addEdge('e', 'a', 8)\n",
    "print(graph.printMatrix())\n",
    "print(graph.getEdges())   "
   ]
  },
  {
   "cell_type": "code",
   "execution_count": 3,
   "metadata": {},
   "outputs": [
    {
     "data": {
      "text/plain": [
       "['b', 'c']"
      ]
     },
     "execution_count": 3,
     "metadata": {},
     "output_type": "execute_result"
    }
   ],
   "source": [
    "graph.getNeighbors('a')"
   ]
  },
  {
   "cell_type": "code",
   "execution_count": 4,
   "metadata": {},
   "outputs": [
    {
     "data": {
      "text/plain": [
       "False"
      ]
     },
     "execution_count": 4,
     "metadata": {},
     "output_type": "execute_result"
    }
   ],
   "source": [
    "graph.isConnected('a','e')"
   ]
  },
  {
   "cell_type": "code",
   "execution_count": 5,
   "metadata": {},
   "outputs": [
    {
     "name": "stdout",
     "output_type": "stream",
     "text": [
      "['b', 'c']\n"
     ]
    },
    {
     "data": {
      "text/plain": [
       "['e', 'd']"
      ]
     },
     "execution_count": 5,
     "metadata": {},
     "output_type": "execute_result"
    }
   ],
   "source": [
    "graph.get2Hops('a')"
   ]
  },
  {
   "cell_type": "code",
   "execution_count": 6,
   "metadata": {},
   "outputs": [
    {
     "name": "stdout",
     "output_type": "stream",
     "text": [
      "['/', '/', '20', '/', '10']\n",
      "['/', '/', '30', '/', '40']\n",
      "['20', '30', '/', '/', '/']\n",
      "['/', '/', '/', '/', '50']\n",
      "['10', '40', '/', '50', '/']\n",
      "None\n",
      "[('a', 'c', 20), ('a', 'e', 10), ('b', 'c', 30), ('b', 'e', 40), ('c', 'a', 20), ('c', 'b', 30), ('d', 'e', 50), ('e', 'a', 10), ('e', 'b', 40), ('e', 'd', 50)]\n"
     ]
    }
   ],
   "source": [
    "G = Graph(5)\n",
    "G.addVertex(0, 'a')\n",
    "G.addVertex(1, 'b')\n",
    "G.addVertex(2, 'c')\n",
    "G.addVertex(3, 'd')\n",
    "G.addVertex(4, 'e')\n",
    "G.addEdge('a', 'e', 10)  \n",
    "G.addEdge('a', 'c', 20)\n",
    "G.addEdge('c', 'b', 30)\n",
    "G.addEdge('b', 'e', 40)\n",
    "G.addEdge('e', 'd', 50)\n",
    "G.addEdge('f', 'e', 60)\n",
    "print(G.printMatrix())\n",
    "print(G.getEdges()) "
   ]
  },
  {
   "cell_type": "markdown",
   "metadata": {},
   "source": [
    "# Graph II : AdjListGraph"
   ]
  },
  {
   "cell_type": "code",
   "execution_count": 7,
   "metadata": {
    "code_folding": [
     1,
     43
    ]
   },
   "outputs": [],
   "source": [
    "import sys\n",
    "class Vertex:\n",
    "    def __init__(self, node):\n",
    "        self.id = node\n",
    "        self.adjacent = {}\n",
    "        # Set distance to infinity for all nodes\n",
    "        self.distance = sys.maxsize\n",
    "        # Mark all nodes unvisited        \n",
    "        self.visited = False  \n",
    "        # Predecessor\n",
    "        self.previous = None\n",
    "\n",
    "    def addNeighbor(self, neighbor, weight=0):\n",
    "        self.adjacent[neighbor] = weight\n",
    "\n",
    "    # returns a list \n",
    "    def getConnections(self): # neighbor keys\n",
    "        return self.adjacent.keys()  \n",
    "\n",
    "    def getVertexID(self):\n",
    "        return self.id\n",
    "\n",
    "    def getWeight(self, neighbor):\n",
    "        return self.adjacent[neighbor]\n",
    "\n",
    "    def setDistance(self, dist):\n",
    "        self.distance = dist\n",
    "\n",
    "    def getDistance(self):\n",
    "        return self.distance\n",
    "\n",
    "    def setPrevious(self, prev):\n",
    "        self.previous = prev\n",
    "\n",
    "    def setVisited(self):\n",
    "        self.visited = True\n",
    "\n",
    "    def __str__(self):\n",
    "        return str(self.id) + ' adjacent: ' + str([x.id for x in self.adjacent])\n",
    "    \n",
    "    def __lt__(self, other):\n",
    "        return self.distance < other.distance and self.id < other.id    \n",
    "\n",
    "class Graph:\n",
    "    def __init__(self, directed=False):\n",
    "        # key is string, vertex id\n",
    "        # value is Vertex\n",
    "        self.vertDictionary = {}\n",
    "        self.numVertices = 0\n",
    "        self.directed = directed\n",
    "        \n",
    "    def __iter__(self):\n",
    "        return iter(self.vertDictionary.values())\n",
    "\n",
    "    def isDirected(self):\n",
    "        return self.directed\n",
    "    \n",
    "    def vectexCount(self):\n",
    "        return self.numVertices\n",
    "\n",
    "    def addVertex(self, node):\n",
    "        self.numVertices = self.numVertices + 1\n",
    "        newVertex = Vertex(node)\n",
    "        self.vertDictionary[node] = newVertex\n",
    "        return newVertex\n",
    "\n",
    "    def getVertex(self, n):\n",
    "        if n in self.vertDictionary:\n",
    "            return self.vertDictionary[n]\n",
    "        else:\n",
    "            return None\n",
    "\n",
    "    def addEdge(self, frm, to, cost=0):\n",
    "        if frm not in self.vertDictionary:\n",
    "            self.addVertex(frm)\n",
    "        if to not in self.vertDictionary:\n",
    "            self.addVertex(to)\n",
    "\n",
    "        self.vertDictionary[frm].addNeighbor(self.vertDictionary[to], cost)\n",
    "        if not self.directed:\n",
    "            # For directed graph do not add this\n",
    "            self.vertDictionary[to].addNeighbor(self.vertDictionary[frm], cost)\n",
    "\n",
    "    def getVertices(self):\n",
    "        return self.vertDictionary.keys()\n",
    "\n",
    "    def setPrevious(self, current):\n",
    "        self.previous = current\n",
    "\n",
    "    def getPrevious(self, current):\n",
    "        return self.previous\n",
    "\n",
    "    def getEdges(self):\n",
    "        edges = []\n",
    "        for key, currentVert in self.vertDictionary.items():\n",
    "            for nbr in currentVert.getConnections():\n",
    "                currentVertID = currentVert.getVertexID()\n",
    "                nbrID = nbr.getVertexID()\n",
    "                edges.append((currentVertID, nbrID, currentVert.getWeight(nbr))) # tuple\n",
    "        return edges\n",
    "    \n",
    "    def getNeighbors(self, v):\n",
    "        vertex = self.vertDictionary[v]\n",
    "        return vertex.getConnections()"
   ]
  },
  {
   "cell_type": "code",
   "execution_count": 8,
   "metadata": {},
   "outputs": [
    {
     "name": "stdout",
     "output_type": "stream",
     "text": [
      "[('a', 'b', 1), ('a', 'c', 1), ('b', 'd', 1), ('b', 'e', 1), ('c', 'd', 1), ('c', 'e', 1), ('d', 'e', 1), ('e', 'a', 1)]\n",
      "('a', 'b', 1)\n",
      "('a', 'c', 1)\n",
      "('b', 'd', 1)\n",
      "('b', 'e', 1)\n",
      "('c', 'd', 1)\n",
      "('c', 'e', 1)\n",
      "('d', 'e', 1)\n",
      "('e', 'a', 1)\n"
     ]
    }
   ],
   "source": [
    "G = Graph(True)\n",
    "G.addVertex('a')\n",
    "G.addVertex('b')\n",
    "G.addVertex('c')\n",
    "G.addVertex('d')\n",
    "G.addVertex('e')\n",
    "G.addVertex('f')\n",
    "G.addEdge('a', 'b', 1)  \n",
    "G.addEdge('a', 'c', 1)\n",
    "G.addEdge('b', 'd', 1)\n",
    "G.addEdge('b', 'e', 1)\n",
    "G.addEdge('c', 'd', 1)\n",
    "G.addEdge('c', 'e', 1)\n",
    "G.addEdge('d', 'e', 1)\n",
    "G.addEdge('e', 'a', 1)\n",
    "print (G.getEdges())\n",
    "for k in G.getEdges():\n",
    "    print(k)"
   ]
  },
  {
   "cell_type": "code",
   "execution_count": null,
   "metadata": {},
   "outputs": [],
   "source": []
  },
  {
   "cell_type": "code",
   "execution_count": 9,
   "metadata": {},
   "outputs": [
    {
     "name": "stdout",
     "output_type": "stream",
     "text": [
      "b adjacent: ['d', 'e']\n",
      "c adjacent: ['d', 'e']\n"
     ]
    }
   ],
   "source": [
    "v = 'a'\n",
    "neighbors = G.getNeighbors(v)\n",
    "for n in neighbors:\n",
    "    print(n)"
   ]
  },
  {
   "cell_type": "code",
   "execution_count": 10,
   "metadata": {},
   "outputs": [],
   "source": [
    "'''\n",
    "根据边缘元组序列生成一个图实例。\n",
    "边可以是from(原点，终点)，也可以是(原点，终点，元素)。\n",
    "顶点集被认为是与至少一条边相关联的。顶点标签被认为是hashable的。\n",
    "'''\n",
    "def graphFromEdgelist(E, directed=False):\n",
    "\n",
    "    g = Graph(directed)\n",
    "    V = set()\n",
    "    for e in E:\n",
    "        V.add(e[0])\n",
    "        V.add(e[1])\n",
    "        \n",
    "    print(\"Vertex: \", V)\n",
    "\n",
    "    verts = {}  # map from vertex label to Vertex instance\n",
    "    for v in V:\n",
    "        verts[v] = g.addVertex(v)\n",
    "    print(g.vectexCount())\n",
    "\n",
    "    for e in E:\n",
    "        src = e[0]\n",
    "        dest = e[1]\n",
    "        cost = e[2] if len(e) > 2 else None\n",
    "        g.addEdge(src, dest, cost)\n",
    "    return g"
   ]
  },
  {
   "cell_type": "code",
   "execution_count": 11,
   "metadata": {},
   "outputs": [
    {
     "name": "stdout",
     "output_type": "stream",
     "text": [
      "Vertex:  {'C', 'B', 'A'}\n",
      "3\n",
      "('A', 'B', 1)\n",
      "('A', 'C', 1)\n"
     ]
    }
   ],
   "source": [
    "E2 = (\n",
    "('A','B', 1), ('A','C', 1),\n",
    ")\n",
    "graph = graphFromEdgelist(E2, True)\n",
    "for k in graph.getEdges():\n",
    "    print(k)"
   ]
  },
  {
   "cell_type": "markdown",
   "metadata": {},
   "source": [
    "# 深度优先搜索"
   ]
  },
  {
   "cell_type": "code",
   "execution_count": 12,
   "metadata": {},
   "outputs": [
    {
     "name": "stdout",
     "output_type": "stream",
     "text": [
      "[('a', 'b', 1), ('a', 'c', 1), ('a', 'f', 1), ('b', 'd', 1), ('b', 'e', 1), ('c', 'd', 1), ('c', 'e', 1), ('d', 'e', 1), ('e', 'a', 1)]\n",
      "('a', 'b', 1)\n",
      "('a', 'c', 1)\n",
      "('a', 'f', 1)\n",
      "('b', 'd', 1)\n",
      "('b', 'e', 1)\n",
      "('c', 'd', 1)\n",
      "('c', 'e', 1)\n",
      "('d', 'e', 1)\n",
      "('e', 'a', 1)\n"
     ]
    }
   ],
   "source": [
    "G = Graph(True)\n",
    "G.addVertex('a')\n",
    "G.addVertex('b')\n",
    "G.addVertex('c')\n",
    "G.addVertex('d')\n",
    "G.addVertex('e')\n",
    "G.addVertex('f')\n",
    "G.addEdge('a', 'b', 1)  \n",
    "G.addEdge('a', 'c', 1)\n",
    "G.addEdge('b', 'd', 1)\n",
    "G.addEdge('b', 'e', 1)\n",
    "G.addEdge('c', 'd', 1)\n",
    "G.addEdge('c', 'e', 1)\n",
    "G.addEdge('d', 'e', 1)\n",
    "G.addEdge('e', 'a', 1)\n",
    "G.addEdge('a', 'f', 1)\n",
    "print (G.getEdges())\n",
    "for k in G.getEdges():\n",
    "    print(k)"
   ]
  },
  {
   "cell_type": "markdown",
   "metadata": {},
   "source": [
    "## 递归的DFS"
   ]
  },
  {
   "cell_type": "code",
   "execution_count": 13,
   "metadata": {
    "code_folding": [
     0,
     8
    ]
   },
   "outputs": [],
   "source": [
    "def dfs(G, currentVert, visited):\n",
    "    visited[currentVert] = True  # mark the visited node \n",
    "    print(\"traversal: \" + currentVert.getVertexID())\n",
    "    for nbr in currentVert.getConnections():  # take a neighbouring node \n",
    "        if nbr not in visited:  # condition to check whether the neighbour node is already visited\n",
    "            dfs(G, nbr, visited)  # recursively traverse the neighbouring node\n",
    "    return \n",
    " \n",
    "def DFSTraversal(G):\n",
    "    visited = {}  # Dictionary to mark the visited nodes \n",
    "    for currentVert in G:  # G contains vertex objects\n",
    "        if currentVert not in visited:  # Start traversing from the root node only if its not visited \n",
    "            dfs(G, currentVert, visited)  # For a connected graph this is called only onc"
   ]
  },
  {
   "cell_type": "code",
   "execution_count": 14,
   "metadata": {},
   "outputs": [
    {
     "name": "stdout",
     "output_type": "stream",
     "text": [
      "traversal: a\n",
      "traversal: b\n",
      "traversal: d\n",
      "traversal: e\n",
      "traversal: c\n",
      "traversal: f\n"
     ]
    }
   ],
   "source": [
    "DFSTraversal(G)"
   ]
  },
  {
   "cell_type": "code",
   "execution_count": 15,
   "metadata": {},
   "outputs": [
    {
     "name": "stdout",
     "output_type": "stream",
     "text": [
      "traversal: e\n",
      "traversal: a\n",
      "traversal: b\n",
      "traversal: d\n",
      "traversal: c\n",
      "traversal: f\n"
     ]
    }
   ],
   "source": [
    "visited = {}\n",
    "v = G.getVertex('e')\n",
    "dfs(G, v, visited)"
   ]
  },
  {
   "cell_type": "markdown",
   "metadata": {},
   "source": [
    "## 迭代的DFS"
   ]
  },
  {
   "cell_type": "code",
   "execution_count": 16,
   "metadata": {
    "code_folding": [
     0
    ]
   },
   "outputs": [],
   "source": [
    "def dfsIterative(G, start, dest):\n",
    "    stack = [] # vertex\n",
    "    visited = set() # vertex id\n",
    "    parent = {} # vertex id\n",
    "    stack.append(start)\n",
    "    while len(stack) != 0:\n",
    "        curr = stack.pop() # vertex\n",
    "        print(\"visiting \", curr.getVertexID())\n",
    "        if (curr.getVertexID() == dest.getVertexID()):\n",
    "            return parent\n",
    "        neighbors = G.getNeighbors(curr.getVertexID())\n",
    "        for n in neighbors:\n",
    "            id = n.getVertexID()\n",
    "            visited.add(id)\n",
    "            parent[id] = curr.getVertexID()\n",
    "            stack.append(n)\n",
    "    return None"
   ]
  },
  {
   "cell_type": "code",
   "execution_count": 17,
   "metadata": {},
   "outputs": [
    {
     "name": "stdout",
     "output_type": "stream",
     "text": [
      "visiting  a\n",
      "visiting  f\n",
      "visiting  c\n",
      "visiting  e\n",
      "{'b': 'a', 'c': 'a', 'f': 'a', 'd': 'c', 'e': 'c'}\n"
     ]
    }
   ],
   "source": [
    "start = G.getVertex('a')\n",
    "dest = G.getVertex('e')\n",
    "parent = dfsIterative(G, start, dest)\n",
    "print(parent)"
   ]
  },
  {
   "cell_type": "markdown",
   "metadata": {},
   "source": [
    "# 广度优先搜索"
   ]
  },
  {
   "cell_type": "code",
   "execution_count": 18,
   "metadata": {},
   "outputs": [
    {
     "name": "stdout",
     "output_type": "stream",
     "text": [
      "[('a', 'b', 1), ('a', 'c', 1), ('a', 'f', 1), ('b', 'd', 1), ('b', 'e', 1), ('c', 'd', 1), ('c', 'e', 1), ('d', 'e', 1), ('e', 'a', 1)]\n",
      "('a', 'b', 1)\n",
      "('a', 'c', 1)\n",
      "('a', 'f', 1)\n",
      "('b', 'd', 1)\n",
      "('b', 'e', 1)\n",
      "('c', 'd', 1)\n",
      "('c', 'e', 1)\n",
      "('d', 'e', 1)\n",
      "('e', 'a', 1)\n"
     ]
    }
   ],
   "source": [
    "G = Graph(True)\n",
    "G.addVertex('a')\n",
    "G.addVertex('b')\n",
    "G.addVertex('c')\n",
    "G.addVertex('d')\n",
    "G.addVertex('e')\n",
    "G.addVertex('f')\n",
    "G.addEdge('a', 'b', 1)  \n",
    "G.addEdge('a', 'c', 1)\n",
    "G.addEdge('b', 'd', 1)\n",
    "G.addEdge('b', 'e', 1)\n",
    "G.addEdge('c', 'd', 1)\n",
    "G.addEdge('c', 'e', 1)\n",
    "G.addEdge('d', 'e', 1)\n",
    "G.addEdge('e', 'a', 1)\n",
    "G.addEdge('a', 'f', 1)\n",
    "print (G.getEdges())\n",
    "for k in G.getEdges():\n",
    "    print(k)"
   ]
  },
  {
   "cell_type": "code",
   "execution_count": 19,
   "metadata": {
    "code_folding": [
     2
    ]
   },
   "outputs": [],
   "source": [
    "from collections import deque\n",
    "\n",
    "def bfs(G, start, dest):\n",
    "    queue = deque() # vertex\n",
    "    visited = set() # vertex id\n",
    "    parent = {} # vertex id\n",
    "    queue.append(start)\n",
    "    while len(queue) != 0:\n",
    "        curr = queue.popleft() # vertex\n",
    "        print(\"visiting \", curr.getVertexID())\n",
    "        if (curr.getVertexID() == dest.getVertexID()):\n",
    "            return parent\n",
    "        neighbors = G.getNeighbors(curr.getVertexID())\n",
    "        for n in neighbors:\n",
    "            id = n.getVertexID()\n",
    "            visited.add(id)\n",
    "            parent[id] = curr.getVertexID()\n",
    "            queue.append(n)\n",
    "    return None"
   ]
  },
  {
   "cell_type": "code",
   "execution_count": 20,
   "metadata": {},
   "outputs": [
    {
     "name": "stdout",
     "output_type": "stream",
     "text": [
      "visiting  a\n",
      "visiting  b\n",
      "visiting  c\n",
      "visiting  f\n",
      "visiting  d\n",
      "visiting  e\n",
      "{'b': 'a', 'c': 'a', 'f': 'a', 'd': 'c', 'e': 'd'}\n"
     ]
    }
   ],
   "source": [
    "start = G.getVertex('a')\n",
    "dest = G.getVertex('e')\n",
    "parent = bfs(G, start, dest)\n",
    "print(parent)"
   ]
  },
  {
   "cell_type": "code",
   "execution_count": 21,
   "metadata": {},
   "outputs": [
    {
     "name": "stdout",
     "output_type": "stream",
     "text": [
      "[('a', 'b', 1), ('a', 'c', 1), ('a', 'd', 1), ('d', 'e', 1), ('e', 'f', 1)]\n",
      "('a', 'b', 1)\n",
      "('a', 'c', 1)\n",
      "('a', 'd', 1)\n",
      "('d', 'e', 1)\n",
      "('e', 'f', 1)\n"
     ]
    }
   ],
   "source": [
    "G = Graph(True)\n",
    "G.addVertex('a')\n",
    "G.addVertex('b')\n",
    "G.addVertex('c')\n",
    "G.addVertex('d')\n",
    "G.addVertex('e')\n",
    "G.addVertex('f')\n",
    "G.addEdge('a', 'b', 1)  \n",
    "G.addEdge('a', 'c', 1)\n",
    "G.addEdge('a', 'd', 1)\n",
    "G.addEdge('d', 'e', 1)\n",
    "G.addEdge('e', 'f', 1)\n",
    "print (G.getEdges())\n",
    "for k in G.getEdges():\n",
    "    print(k)"
   ]
  },
  {
   "cell_type": "code",
   "execution_count": 22,
   "metadata": {},
   "outputs": [
    {
     "name": "stdout",
     "output_type": "stream",
     "text": [
      "visiting  a\n",
      "visiting  b\n",
      "visiting  c\n",
      "visiting  d\n",
      "visiting  e\n",
      "visiting  f\n",
      "{'b': 'a', 'c': 'a', 'd': 'a', 'e': 'd', 'f': 'e'}\n"
     ]
    }
   ],
   "source": [
    "start = G.getVertex('a')\n",
    "dest = G.getVertex('f')\n",
    "parent = bfs(G, start, dest)\n",
    "print(parent)"
   ]
  },
  {
   "cell_type": "markdown",
   "metadata": {},
   "source": [
    "# Dijkstra Algorithm"
   ]
  },
  {
   "cell_type": "code",
   "execution_count": 23,
   "metadata": {
    "code_folding": [
     2,
     9
    ]
   },
   "outputs": [],
   "source": [
    "import heapq\n",
    "\n",
    "def shortest(v, path):\n",
    "    ''' make shortest path from v.previous'''\n",
    "    if v.previous:\n",
    "        path.append(v.previous.getVertexID())\n",
    "        shortest(v.previous, path)\n",
    "    return\n",
    "\n",
    "def dijkstra(G, source, destination):\n",
    "    print('''Dijkstra's shortest path''')\n",
    "    # Set the distance for the source node to zero \n",
    "    source.setDistance(0)\n",
    "\n",
    "    # Put tuple pair into the priority queue\n",
    "    unvisitedQueue = [(v.getDistance(), v) for v in G]\n",
    "    heapq.heapify(unvisitedQueue)\n",
    "\n",
    "    while len(unvisitedQueue):\n",
    "        # Pops a vertex with the smallest distance \n",
    "        uv = heapq.heappop(unvisitedQueue)\n",
    "        current = uv[1]\n",
    "        current.setVisited()\n",
    "\n",
    "        # for next in v.adjacent:\n",
    "        for next in current.adjacent:\n",
    "            # if visited, skip\n",
    "            if next.visited:\n",
    "                continue\n",
    "            newDist = current.getDistance() + current.getWeight(next)\n",
    "            \n",
    "            if newDist < next.getDistance():\n",
    "                next.setDistance(newDist)\n",
    "                next.setPrevious(current)\n",
    "                print('Updated : current = %s next = %s newDist = %s' \\\n",
    "                        % (current.getVertexID(), next.getVertexID(), next.getDistance()))\n",
    "            else:\n",
    "                print('Not updated : current = %s next = %s newDist = %s' \\\n",
    "                        % (current.getVertexID(), next.getVertexID(), next.getDistance()))\n",
    "\n",
    "        # Rebuild heap\n",
    "        # 1. Pop every item\n",
    "        while len(unvisitedQueue):\n",
    "            heapq.heappop(unvisitedQueue)\n",
    "        # 2. Put all vertices not visited into the queue\n",
    "        unvisitedQueue = [(v.getDistance(), v) for v in G if not v.visited]\n",
    "        heapq.heapify(unvisitedQueue)"
   ]
  },
  {
   "cell_type": "code",
   "execution_count": 24,
   "metadata": {},
   "outputs": [
    {
     "name": "stdout",
     "output_type": "stream",
     "text": [
      "( a , b,   4)\n",
      "( a , c,   1)\n",
      "( b , e,   4)\n",
      "( c , b,   2)\n",
      "( c , d,   4)\n",
      "( d , e,   4)\n"
     ]
    }
   ],
   "source": [
    "G = Graph(True)\n",
    "G.addVertex('a')\n",
    "G.addVertex('b')\n",
    "G.addVertex('c')\n",
    "G.addVertex('d')\n",
    "G.addVertex('e')\n",
    "G.addEdge('a', 'b', 4)  \n",
    "G.addEdge('a', 'c', 1)\n",
    "G.addEdge('c', 'b', 2)\n",
    "G.addEdge('b', 'e', 4)\n",
    "G.addEdge('c', 'd', 4)\n",
    "G.addEdge('d', 'e', 4)\n",
    "\n",
    "for v in G:\n",
    "    for w in v.getConnections():\n",
    "        vid = v.getVertexID()\n",
    "        wid = w.getVertexID()\n",
    "        print('( %s , %s, %3d)' % (vid, wid, v.getWeight(w)))"
   ]
  },
  {
   "cell_type": "code",
   "execution_count": 25,
   "metadata": {},
   "outputs": [
    {
     "name": "stdout",
     "output_type": "stream",
     "text": [
      "Dijkstra's shortest path\n",
      "Updated : current = a next = b newDist = 4\n",
      "Updated : current = a next = c newDist = 1\n",
      "Updated : current = c next = b newDist = 3\n",
      "Updated : current = c next = d newDist = 5\n",
      "Updated : current = b next = e newDist = 7\n",
      "Not updated : current = d next = e newDist = 7\n"
     ]
    }
   ],
   "source": [
    "source = G.getVertex('a')\n",
    "destination = G.getVertex('e')    \n",
    "dijkstra(G, source, destination) "
   ]
  },
  {
   "cell_type": "code",
   "execution_count": 26,
   "metadata": {},
   "outputs": [
    {
     "name": "stdout",
     "output_type": "stream",
     "text": [
      "a  to  a --> 0\n",
      "a  to  b --> 3\n",
      "a  to  c --> 1\n",
      "a  to  d --> 5\n",
      "a  to  e --> 7\n",
      "The shortest path from a to e is: ['a', 'c', 'b', 'e']\n"
     ]
    }
   ],
   "source": [
    "for v in G.vertDictionary.values():\n",
    "    print(source.getVertexID(), \" to \", v.getVertexID(), \"-->\", v.getDistance())\n",
    "\n",
    "path = [destination.getVertexID()]\n",
    "shortest(destination, path)\n",
    "print ('The shortest path from a to e is: %s' % (path[::-1]))"
   ]
  },
  {
   "cell_type": "markdown",
   "metadata": {},
   "source": [
    "# 迷宫 1"
   ]
  },
  {
   "cell_type": "raw",
   "metadata": {},
   "source": [
    "迷宫中有一个球，周围是空的空间和墙壁。球可以通过向上、向下、向左或向右滚动来穿过空的空间。\n",
    "给定球的起始位置、终点和迷宫，确定球是否可以停在终点。迷宫由一个二元二维数组表示。1表示墙，0表示空间。\n",
    "你可能认为迷宫的边界都是墙。起始和目标坐标由行和列索引表示。"
   ]
  },
  {
   "cell_type": "markdown",
   "metadata": {},
   "source": [
    "## 递归的DFS迷宫"
   ]
  },
  {
   "cell_type": "code",
   "execution_count": 27,
   "metadata": {},
   "outputs": [],
   "source": [
    "def dfs(matrix, start, dest):\n",
    "    visited = [[False] * len(matrix[0]) for i in range(len(matrix))]\n",
    "    return dfsHelper(matrix, start, dest, visited)\n",
    "    \n",
    "def dfsHelper(matrix, start, dest, visited):\n",
    "    if matrix[start[0]][start[1]] == 1:\n",
    "        return False\n",
    "    \n",
    "    if visited[start[0]][start[1]]:\n",
    "        return False\n",
    "    if start[0] == dest[0] and start[1] == dest[1]:\n",
    "        return True\n",
    "    \n",
    "    visited[start[0]][start[1]] = True\n",
    "    \n",
    "    if (start[1] < len(matrix[0]) - 1):\n",
    "        r = (start[0], start[1] + 1)\n",
    "        if (dfsHelper(matrix, r, dest, visited)):\n",
    "            return True\n",
    "        \n",
    "    if (start[1] > 0):\n",
    "        l = (start[0], start[1] - 1)\n",
    "        if (dfsHelper(matrix, l, dest, visited)):\n",
    "            return True\n",
    "        \n",
    "    if (start[0] > 0):\n",
    "        u = (start[0] - 1, start[1])\n",
    "        if (dfsHelper(matrix, u, dest, visited)):\n",
    "            return True\n",
    "        \n",
    "    if (start[0] < len(matrix[0]) - 1):\n",
    "        d = (start[0] + 1, start[1])\n",
    "        if (dfsHelper(matrix, d, dest, visited)):\n",
    "            return True\n",
    "            \n",
    "    return False"
   ]
  },
  {
   "cell_type": "code",
   "execution_count": 28,
   "metadata": {},
   "outputs": [
    {
     "data": {
      "text/plain": [
       "False"
      ]
     },
     "execution_count": 28,
     "metadata": {},
     "output_type": "execute_result"
    }
   ],
   "source": [
    "matrix = [\n",
    "    [0, 0, 1, 0, 0],\n",
    "    [0, 0, 0, 0, 0],\n",
    "    [0, 0, 0, 1, 0],\n",
    "    [1, 1, 1, 1, 1],\n",
    "    [0, 0, 0, 0, 0]\n",
    "]\n",
    "\n",
    "start = (0, 0)\n",
    "dest  = (4, 4)\n",
    "dfs(matrix, start, dest)"
   ]
  },
  {
   "cell_type": "code",
   "execution_count": 29,
   "metadata": {},
   "outputs": [
    {
     "data": {
      "text/plain": [
       "True"
      ]
     },
     "execution_count": 29,
     "metadata": {},
     "output_type": "execute_result"
    }
   ],
   "source": [
    "matrix = [\n",
    "    [0, 0, 1, 0, 0],\n",
    "    [0, 0, 0, 0, 0],\n",
    "    [0, 0, 0, 1, 0],\n",
    "    [1, 1, 0, 1, 1],\n",
    "    [0, 0, 0, 0, 0]\n",
    "]\n",
    "\n",
    "start = (0, 0)\n",
    "dest  = (4, 4)\n",
    "dfs(matrix, start, dest)"
   ]
  },
  {
   "cell_type": "markdown",
   "metadata": {},
   "source": [
    "## 迭代的DFS迷宫"
   ]
  },
  {
   "cell_type": "code",
   "execution_count": 30,
   "metadata": {},
   "outputs": [],
   "source": [
    "def dfsIterative(matrix, start, dest):\n",
    "    visited = [[False] * len(matrix[0]) for i in range(len(matrix))]\n",
    "    stack = []\n",
    "    stack.append(start)\n",
    "    visited[start[0]][start[1]] = True\n",
    "    \n",
    "    idxs = [[0,1], [0,-1], [-1,0], [1,0]]\n",
    "    \n",
    "    while len(stack) != 0:\n",
    "        curr = stack.pop() # vertex\n",
    "        if (curr[0] == dest[0] and curr[1] == dest[1]):\n",
    "            return True\n",
    "\n",
    "        for idx in idxs:\n",
    "            x = curr[0] + idx[0]\n",
    "            y = curr[1] + idx[1]\n",
    "            \n",
    "            if (x < 0 or x >= len(matrix) or y < 0 or y >= len(matrix[0])):\n",
    "                continue\n",
    "            \n",
    "            if (matrix[x][y] == 1):\n",
    "                continue\n",
    "                \n",
    "            if (visited[x][y] == True):\n",
    "                continue\n",
    "            visited[x][y] = True\n",
    "            stack.append((x, y))\n",
    "            \n",
    "    return False"
   ]
  },
  {
   "cell_type": "code",
   "execution_count": 31,
   "metadata": {},
   "outputs": [
    {
     "data": {
      "text/plain": [
       "False"
      ]
     },
     "execution_count": 31,
     "metadata": {},
     "output_type": "execute_result"
    }
   ],
   "source": [
    "matrix = [\n",
    "    [0, 0, 1, 0, 0],\n",
    "    [0, 0, 0, 0, 0],\n",
    "    [0, 0, 0, 1, 0],\n",
    "    [1, 1, 1, 1, 1],\n",
    "    [0, 0, 0, 0, 0]\n",
    "]\n",
    "\n",
    "start = (0, 0)\n",
    "dest  = (4, 4)\n",
    "dfsIterative(matrix, start, dest)"
   ]
  },
  {
   "cell_type": "code",
   "execution_count": 32,
   "metadata": {},
   "outputs": [
    {
     "data": {
      "text/plain": [
       "True"
      ]
     },
     "execution_count": 32,
     "metadata": {},
     "output_type": "execute_result"
    }
   ],
   "source": [
    "matrix = [\n",
    "    [0, 0, 1, 0, 0],\n",
    "    [0, 0, 0, 0, 0],\n",
    "    [0, 0, 0, 1, 0],\n",
    "    [1, 1, 0, 1, 1],\n",
    "    [0, 0, 0, 0, 0]\n",
    "]\n",
    "\n",
    "start = (0, 0)\n",
    "dest  = (4, 4)\n",
    "dfs(matrix, start, dest)"
   ]
  },
  {
   "cell_type": "markdown",
   "metadata": {},
   "source": [
    "## BFS迷宫"
   ]
  },
  {
   "cell_type": "code",
   "execution_count": 33,
   "metadata": {},
   "outputs": [],
   "source": [
    "from collections import deque\n",
    "\n",
    "def bfs(matrix, start, dest):\n",
    "    visited = [[False] * len(matrix[0]) for i in range(len(matrix))]\n",
    "    queue = deque()\n",
    "    queue.append(start)\n",
    "    visited[start[0]][start[1]] = True\n",
    "    \n",
    "    idxs = [[0,1], [0,-1], [-1,0], [1,0]]\n",
    "    \n",
    "    while len(queue) != 0:\n",
    "        curr = queue.popleft() # vertex\n",
    "        if (curr[0] == dest[0] and curr[1] == dest[1]):\n",
    "            return True\n",
    "\n",
    "        for idx in idxs:\n",
    "            x = curr[0] + idx[0]\n",
    "            y = curr[1] + idx[1]\n",
    "            \n",
    "            if (x < 0 or x >= len(matrix) or y < 0 or y >= len(matrix[0])):\n",
    "                continue\n",
    "            \n",
    "            if (matrix[x][y] == 1):\n",
    "                continue\n",
    "                \n",
    "            if (visited[x][y] == True):\n",
    "                continue\n",
    "            visited[x][y] = True\n",
    "            queue.append((x, y))\n",
    "            \n",
    "    return False"
   ]
  },
  {
   "cell_type": "code",
   "execution_count": 36,
   "metadata": {},
   "outputs": [
    {
     "data": {
      "text/plain": [
       "True"
      ]
     },
     "execution_count": 36,
     "metadata": {},
     "output_type": "execute_result"
    }
   ],
   "source": [
    "matrix = [\n",
    "    [0, 0, 1, 0, 0],\n",
    "    [0, 0, 0, 0, 0],\n",
    "    [0, 0, 0, 1, 0],\n",
    "    [1, 1, 0, 1, 1],\n",
    "    [0, 0, 0, 0, 0]\n",
    "]\n",
    "\n",
    "start = (0, 0)\n",
    "dest  = (4, 4)\n",
    "bfs(matrix, start, dest)"
   ]
  },
  {
   "cell_type": "code",
   "execution_count": 37,
   "metadata": {},
   "outputs": [
    {
     "data": {
      "text/plain": [
       "False"
      ]
     },
     "execution_count": 37,
     "metadata": {},
     "output_type": "execute_result"
    }
   ],
   "source": [
    "matrix = [\n",
    "    [0, 0, 1, 0, 0],\n",
    "    [0, 0, 0, 0, 0],\n",
    "    [0, 0, 0, 1, 0],\n",
    "    [1, 1, 1, 1, 1],\n",
    "    [0, 0, 0, 0, 0]\n",
    "]\n",
    "\n",
    "start = (0, 0)\n",
    "dest  = (4, 4)\n",
    "bfs(matrix, start, dest)"
   ]
  },
  {
   "cell_type": "markdown",
   "metadata": {},
   "source": [
    "# 迷宫 2"
   ]
  },
  {
   "cell_type": "raw",
   "metadata": {},
   "source": [
    "迷宫中有一个球，周围是空的空间和墙壁。球可以通过向上、向下、向左或向右滚动来穿过空的空间。\n",
    "但它不会停止滚动，直到撞到墙上。当球停止时，它可以选择下一个方向。给定球的起始位置、终点和迷宫，确定球是否可以停在终点。\n",
    "迷宫由一个二元二维数组表示。\n",
    "1表示墙，0表示空间。\n",
    "你可能认为迷宫的边界都是墙。起始和目标坐标由行和列索引表示。"
   ]
  },
  {
   "cell_type": "code",
   "execution_count": 38,
   "metadata": {},
   "outputs": [],
   "source": [
    "def dfs2(matrix, start, dest):\n",
    "    visited = [[False] * len(matrix[0]) for i in range(len(matrix))]\n",
    "    return dfsHelper2(matrix, start, dest, visited)\n",
    "    \n",
    "def dfsHelper2(matrix, start, dest, visited):\n",
    "    if matrix[start[0]][start[1]] == 1:\n",
    "        return False\n",
    "    \n",
    "    if visited[start[0]][start[1]]:\n",
    "        return False\n",
    "    if start[0] == dest[0] and start[1] == dest[1]:\n",
    "        return True\n",
    "    \n",
    "    visited[start[0]][start[1]] = True\n",
    "    \n",
    "    r = start[1] + 1\n",
    "    l = start[1] - 1\n",
    "    u = start[0] - 1\n",
    "    d = start[0] + 1\n",
    "    \n",
    "    while (r < len(matrix[0]) and matrix[start[0]][r] == 0):  ##  right\n",
    "        r += 1\n",
    "    x = (start[0], r - 1)\n",
    "    if (dfsHelper2(matrix, x, dest, visited)):\n",
    "        return True\n",
    "\n",
    "    while (l >= 0 and matrix[start[0]][l] == 0):  ##  left\n",
    "        l -= 1\n",
    "    x = (start[0], l + 1)\n",
    "    if (dfsHelper2(matrix, x, dest, visited)):\n",
    "        return True\n",
    "    \n",
    "    while (u >= 0 and matrix[u][start[1]] == 0): ##  up\n",
    "        u -= 1\n",
    "    x = (u + 1, start[1])\n",
    "    if (dfsHelper2(matrix, x, dest, visited)):\n",
    "        return True\n",
    "        \n",
    "    while (d < len(matrix) and matrix[d][start[1]] == 0): ##  down\n",
    "        d += 1\n",
    "    x = (d - 1, start[1])\n",
    "    if (dfsHelper2(matrix, x, dest, visited)):\n",
    "        return True\n",
    "            \n",
    "    return False"
   ]
  },
  {
   "cell_type": "code",
   "execution_count": 39,
   "metadata": {},
   "outputs": [
    {
     "data": {
      "text/plain": [
       "False"
      ]
     },
     "execution_count": 39,
     "metadata": {},
     "output_type": "execute_result"
    }
   ],
   "source": [
    "matrix = [\n",
    "    [0, 0, 1, 0, 0],\n",
    "    [0, 0, 0, 0, 0],\n",
    "    [0, 0, 0, 1, 0],\n",
    "    [1, 1, 0, 1, 1],\n",
    "    [0, 0, 0, 0, 0]\n",
    "]\n",
    "\n",
    "start = (0, 0)\n",
    "dest  = (3, 2)\n",
    "dfs2(matrix, start, dest)"
   ]
  },
  {
   "cell_type": "markdown",
   "metadata": {},
   "source": [
    "# 迷宫 3"
   ]
  },
  {
   "cell_type": "raw",
   "metadata": {},
   "source": [
    "迷宫中有一个球，周围是空的空间和墙壁。球可以通过向上、向下、向左或向右滚动来穿过空无一物的空间，但它不会停止滚动，直到撞到墙上。\n",
    "当球停止时，它可以选择下一个方向。给定球的起始位置、终点和迷宫，找出使球在终点停止的最短距离。\n",
    "距离是由球从起始位置(不包括)到终点(包括)所走过的空位数来定义的。如果球不能在终点停止，返回-1。迷宫由一个二元二维数组表示。\n",
    "1表示墙，0表示空间。你可能认为迷宫的边界都是墙。起始和目标坐标由行和列索引表示。"
   ]
  },
  {
   "cell_type": "code",
   "execution_count": 40,
   "metadata": {},
   "outputs": [],
   "source": [
    "import heapq\n",
    "\n",
    "def shortestDistance(matrix, start, destination):\n",
    "    def neighbors(matrix, node):\n",
    "        for dir in [(-1, 0), (0, 1), (0, -1), (1, 0)]:\n",
    "            cur_node, dist = list(node), 0\n",
    "            while 0 <= cur_node[0] + dir[0] < len(matrix) and \\\n",
    "                  0 <= cur_node[1] + dir[1] < len(matrix[0]) and \\\n",
    "                  matrix[cur_node[0] + dir[0]][cur_node[1] + dir[1]] == 0:\n",
    "                cur_node[0] += dir[0]\n",
    "                cur_node[1] += dir[1]\n",
    "                dist += 1\n",
    "            yield dist, tuple(cur_node)\n",
    "\n",
    "    heap = [(0, start)]\n",
    "    visited = set()\n",
    "    while heap:\n",
    "        dist, node = heapq.heappop(heap)\n",
    "        if node in visited: continue\n",
    "        if node == destination:\n",
    "            return dist\n",
    "        visited.add(node)\n",
    "        for neighbor_dist, neighbor in neighbors(matrix, node):\n",
    "            heapq.heappush(heap, (dist + neighbor_dist, neighbor))\n",
    "\n",
    "    return -1"
   ]
  },
  {
   "cell_type": "code",
   "execution_count": 41,
   "metadata": {},
   "outputs": [
    {
     "data": {
      "text/plain": [
       "12"
      ]
     },
     "execution_count": 41,
     "metadata": {},
     "output_type": "execute_result"
    }
   ],
   "source": [
    "matrix = [\n",
    "    [0, 0, 1, 0, 0],\n",
    "    [0, 0, 0, 0, 0],\n",
    "    [0, 0, 0, 1, 0],\n",
    "    [1, 1, 0, 1, 1],\n",
    "    [0, 0, 0, 0, 0]\n",
    "]\n",
    "\n",
    "start = (0, 4)\n",
    "dest  = (4, 4)\n",
    "shortestDistance(matrix, start, dest)"
   ]
  },
  {
   "cell_type": "code",
   "execution_count": 42,
   "metadata": {},
   "outputs": [
    {
     "data": {
      "text/plain": [
       "-1"
      ]
     },
     "execution_count": 42,
     "metadata": {},
     "output_type": "execute_result"
    }
   ],
   "source": [
    "start = (0, 4)\n",
    "dest  = (3, 2)\n",
    "shortestDistance(matrix, start, dest)\n"
   ]
  },
  {
   "cell_type": "markdown",
   "metadata": {},
   "source": [
    "# 迷宫 4"
   ]
  },
  {
   "cell_type": "raw",
   "metadata": {},
   "source": [
    "迷宫中有一个球，周围是空的空间和墙壁。球可以通过上卷(u)、下卷(d)、左卷(l)或右卷(r)来穿过空旷的空间，但它不会停止滚动，直到撞到墙上。当球停止时，它可以选择下一个方向。\n",
    "这个迷宫里还有一个洞。如果球滚到洞里去，它就会掉到洞里去。给定球的位置、洞的位置和迷宫，找出如何通过移动最短的距离使球落入洞中。距离是由球从起始位置(不包括)到球洞(包括)所走过的空位数来定义的。\n",
    "使用“u”、“d”、“l”和“r”输出移动方向。因为可能有几种不同的最短路径，所以您应该按照字典顺序输出最小的路径。如果球不能到达球洞，输出“不可能”。\n",
    "迷宫由一个二元二维数组表示。\n",
    "1表示墙，0表示空间。你可能认为迷宫的边界都是墙。球和球洞坐标由行和列索引表示。"
   ]
  },
  {
   "cell_type": "code",
   "execution_count": 43,
   "metadata": {},
   "outputs": [],
   "source": [
    "import heapq\n",
    "\n",
    "def findShortestWay(maze, ball, hole):\n",
    "    dirs = {'u' : (-1, 0), 'r' : (0, 1), 'l' : (0, -1), 'd': (1, 0)}\n",
    "\n",
    "    def neighbors(maze, node):\n",
    "        for dir, vec in dirs.items():\n",
    "            cur_node, dist = list(node), 0\n",
    "            while 0 <= cur_node[0]+vec[0] < len(maze) and \\\n",
    "                  0 <= cur_node[1]+vec[1] < len(maze[0]) and \\\n",
    "                  not maze[cur_node[0]+vec[0]][cur_node[1]+vec[1]]:\n",
    "                cur_node[0] += vec[0]\n",
    "                cur_node[1] += vec[1]\n",
    "                dist += 1\n",
    "                if tuple(cur_node) == hole:\n",
    "                    break\n",
    "            yield tuple(cur_node), dir, dist\n",
    "\n",
    "    heap = [(0, '', ball)]\n",
    "    visited = set()\n",
    "    while heap:\n",
    "        dist, path, node = heapq.heappop(heap)\n",
    "        if node in visited: continue\n",
    "        if node == hole: return path\n",
    "        visited.add(node)\n",
    "        for neighbor, dir, neighbor_dist in neighbors(maze, node):\n",
    "            heapq.heappush(heap, (dist+neighbor_dist, path+dir, neighbor))\n",
    "\n",
    "    return \"impossible\""
   ]
  },
  {
   "cell_type": "code",
   "execution_count": 44,
   "metadata": {},
   "outputs": [
    {
     "data": {
      "text/plain": [
       "'drur'"
      ]
     },
     "execution_count": 44,
     "metadata": {},
     "output_type": "execute_result"
    }
   ],
   "source": [
    "matrix = [\n",
    "    [0, 0, 1, 0, 0],\n",
    "    [0, 0, 0, 0, 0],\n",
    "    [0, 0, 0, 1, 0],\n",
    "    [1, 1, 0, 1, 1],\n",
    "    [0, 0, 0, 0, 0]\n",
    "]\n",
    "\n",
    "start = (0, 0)\n",
    "dest  = (1, 4)\n",
    "findShortestWay(matrix, start, dest)"
   ]
  },
  {
   "cell_type": "markdown",
   "metadata": {},
   "source": [
    "# 填色游戏"
   ]
  },
  {
   "cell_type": "raw",
   "metadata": {},
   "source": [
    "An image is represented by a 2-D array of integers, each integer representing the pixel value of the image (from 0 to 65535).\n",
    "\n",
    "Given a coordinate (sr, sc) representing the starting pixel (row and column) of the flood fill, and a pixel value newColor, \"flood fill\" the image.\n",
    "\n",
    "To perform a \"flood fill\", consider the starting pixel, plus any pixels connected 4-directionally to the starting pixel of the same color as the starting pixel, plus any pixels connected 4-directionally to those pixels (also with the same color as the starting pixel), and so on. Replace the color of all of the aforementioned pixels with the newColor.\n",
    "\n",
    "At the end, return the modified image."
   ]
  },
  {
   "cell_type": "code",
   "execution_count": 1,
   "metadata": {},
   "outputs": [],
   "source": [
    "def floodFill(image, sr, sc, newColor):\n",
    "    rows, cols, orig_color = len(image), len(image[0]), image[sr][sc]\n",
    "    def traverse(row, col):\n",
    "        if (not (0 <= row < rows and 0 <= col < cols)) or image[row][col] != orig_color:\n",
    "            return\n",
    "        image[row][col] = newColor\n",
    "        [traverse(row + x, col + y) for (x, y) in ((0, 1), (1, 0), (0, -1), (-1, 0))]\n",
    "    if orig_color != newColor:\n",
    "        traverse(sr, sc)\n",
    "    return image"
   ]
  },
  {
   "cell_type": "code",
   "execution_count": 2,
   "metadata": {},
   "outputs": [
    {
     "data": {
      "text/plain": [
       "[[2, 2, 2], [2, 2, 0], [2, 0, 1]]"
      ]
     },
     "execution_count": 2,
     "metadata": {},
     "output_type": "execute_result"
    }
   ],
   "source": [
    "image = [\n",
    "    [1,1,1],\n",
    "    [1,1,0],\n",
    "    [1,0,1]\n",
    "]\n",
    "sr = 1\n",
    "sc = 1\n",
    "newColor = 2\n",
    "floodFill(image, sr, sc, newColor)"
   ]
  },
  {
   "cell_type": "markdown",
   "metadata": {},
   "source": [
    "# 朋友圈"
   ]
  },
  {
   "cell_type": "markdown",
   "metadata": {},
   "source": [
    "There are N students in a class. Some of them are friends, while some are not. Their friendship is transitive in nature. For example, if A is a direct friend of B, and B is a direct friend of C, then A is an indirect friend of C. And we defined a friend circle is a group of students who are direct or indirect friends.\n",
    "\n",
    "Given a N*N matrix M representing the friend relationship between students in the class. If M[i][j] = 1, then the ith and jth students are direct friends with each other, otherwise not. And you have to output the total number of friend circles among all the students.\n",
    "\n",
    "Input:\n",
    "\n",
    "[[1,1,0],\n",
    "\n",
    "[1,1,0],\n",
    "\n",
    "[0,0,1]]\n",
    "\n",
    "Output: 2\n",
    "\n",
    "Explanation:The 0th and 1st students are direct friends, so they are in a friend circle.\n",
    "\n",
    "The 2nd student himself is in a friend circle. So return 2."
   ]
  },
  {
   "cell_type": "code",
   "execution_count": 3,
   "metadata": {},
   "outputs": [],
   "source": [
    "def findCircleNum(M):\n",
    "    circle = 0\n",
    "    n = len(M)\n",
    "    for i in range(n):\n",
    "        if M[i][i] != 1:\n",
    "            continue\n",
    "        friends = [i]\n",
    "        while friends:\n",
    "            f = friends.pop()\n",
    "            if M[f][f] == 0:\n",
    "                continue\n",
    "            M[f][f] = 0\n",
    "            for j in range(n):\n",
    "                if M[f][j] == 1 and M[j][j] == 1:\n",
    "                    friends.append(j)\n",
    "        circle += 1\n",
    "    return circle"
   ]
  },
  {
   "cell_type": "code",
   "execution_count": 4,
   "metadata": {},
   "outputs": [
    {
     "data": {
      "text/plain": [
       "2"
      ]
     },
     "execution_count": 4,
     "metadata": {},
     "output_type": "execute_result"
    }
   ],
   "source": [
    "M = [\n",
    "     [1,1,0],\n",
    "     [1,1,0],\n",
    "     [0,0,1]]\n",
    "findCircleNum(M)\n"
   ]
  },
  {
   "cell_type": "code",
   "execution_count": 5,
   "metadata": {},
   "outputs": [],
   "source": [
    "def findCircleNum2(M):\n",
    "    def dfs(node):\n",
    "        visited.add(node)\n",
    "        for friend in range(len(M)):\n",
    "            if M[node][friend] and friend not in visited:\n",
    "                dfs(friend)\n",
    "\n",
    "    circle = 0\n",
    "    visited = set()\n",
    "    for node in range(len(M)):\n",
    "        if node not in visited:\n",
    "            dfs(node)\n",
    "            circle += 1\n",
    "    return circle"
   ]
  },
  {
   "cell_type": "code",
   "execution_count": 6,
   "metadata": {},
   "outputs": [
    {
     "name": "stdout",
     "output_type": "stream",
     "text": [
      "[[0, 1, 0], [1, 0, 0], [0, 0, 0]]\n"
     ]
    },
    {
     "data": {
      "text/plain": [
       "2"
      ]
     },
     "execution_count": 6,
     "metadata": {},
     "output_type": "execute_result"
    }
   ],
   "source": [
    "print(M)\n",
    "findCircleNum2(M)"
   ]
  },
  {
   "cell_type": "markdown",
   "metadata": {},
   "source": [
    "# 岛的个数"
   ]
  },
  {
   "cell_type": "markdown",
   "metadata": {},
   "source": [
    "给定一个由 '1'（陆地）和 '0'（水）组成的的二维网格，计算岛屿的数量。一个岛被水包围，并且它是通过水平方向或垂直方向上相邻的陆地连接而成的。你可以假设网格的四个边均被水包围。\n"
   ]
  },
  {
   "cell_type": "code",
   "execution_count": 7,
   "metadata": {},
   "outputs": [],
   "source": [
    "def numIslands(grid):\n",
    "    if not grid:\n",
    "        return 0\n",
    "    count = 0\n",
    "    for i in range(len(grid)):\n",
    "        for j in range(len(grid[0])):\n",
    "            if grid[i][j] == 1:\n",
    "                dfs(grid, i, j)\n",
    "                count += 1\n",
    "    return count\n",
    "\n",
    "def dfs(grid, i, j):\n",
    "    if i < 0 or j < 0 or i >= len(grid) or j >= len(grid[0]) or grid[i][j] != 1:\n",
    "        return \n",
    "    grid[i][j] = '#'\n",
    "    dfs(grid, i + 1, j)\n",
    "    dfs(grid, i - 1, j)\n",
    "    dfs(grid, i, j + 1)\n",
    "    dfs(grid, i, j - 1)"
   ]
  },
  {
   "cell_type": "code",
   "execution_count": 9,
   "metadata": {},
   "outputs": [
    {
     "data": {
      "text/plain": [
       "2"
      ]
     },
     "execution_count": 9,
     "metadata": {},
     "output_type": "execute_result"
    }
   ],
   "source": [
    "M = [\n",
    "     [1,1,0],\n",
    "     [1,1,0],\n",
    "     [0,0,1]\n",
    "]\n",
    "numIslands(M)"
   ]
  },
  {
   "cell_type": "code",
   "execution_count": 6,
   "metadata": {},
   "outputs": [
    {
     "name": "stdout",
     "output_type": "stream",
     "text": [
      "\n",
      "\n",
      "\n",
      "\n",
      "\n",
      "\n",
      "\n",
      "\n",
      "\n",
      "\n",
      "\n",
      "\n",
      "\n",
      "\n",
      "\n",
      "\n",
      "\n",
      "\n",
      "\n",
      "\n",
      "\n",
      "\n",
      "\n",
      "\n",
      "\n",
      "\n",
      "\n",
      "\n",
      "\n",
      "\n",
      "\n",
      "\n",
      "\n",
      "\n",
      "\n",
      "\n",
      "\n"
     ]
    },
    {
     "data": {
      "text/plain": [
       "1"
      ]
     },
     "execution_count": 6,
     "metadata": {},
     "output_type": "execute_result"
    }
   ],
   "source": [
    "S =[\n",
    "    [1,1,1,1,0],\n",
    "    [1,1,0,1,0],\n",
    "    [1,1,0,0,0],\n",
    "    [0,0,0,0,0] ]\n",
    "numIslands(S)"
   ]
  },
  {
   "cell_type": "code",
   "execution_count": 10,
   "metadata": {},
   "outputs": [
    {
     "data": {
      "text/plain": [
       "3"
      ]
     },
     "execution_count": 10,
     "metadata": {},
     "output_type": "execute_result"
    }
   ],
   "source": [
    "M = [\n",
    "    [1,1,0,0,0],\n",
    "    [1,1,0,0,0],\n",
    "    [0,0,1,0,0],\n",
    "    [0,0,0,1,1]\n",
    "]\n",
    "numIslands(M)"
   ]
  },
  {
   "cell_type": "markdown",
   "metadata": {},
   "source": [
    "# 最大岛屿面积"
   ]
  },
  {
   "cell_type": "markdown",
   "metadata": {},
   "source": [
    "Given a non-empty 2D array grid of 0's and 1's, an island is a group of 1's (representing land) connected 4-directionally (horizontal or vertical.) You may assume all four edges of the grid are surrounded by water.\n",
    "\n",
    "Find the maximum area of an island in the given 2D array. (If there is no island, the maximum area is 0.)\n",
    "\n",
    "[0,0,1,0,0,0,0,1,0,0,0,0,0],\n",
    "\n",
    "[0,0,0,0,0,0,0,1,1,1,0,0,0],\n",
    "\n",
    "[0,1,1,0,1,0,0,0,0,0,0,0,0],\n",
    "\n",
    "[0,1,0,0,1,1,0,0,1,0,1,0,0],\n",
    "\n",
    "[0,1,0,0,1,1,0,0,1,1,1,0,0],\n",
    "\n",
    "[0,0,0,0,0,0,0,0,0,0,1,0,0],\n",
    "\n",
    "[0,0,0,0,0,0,0,1,1,1,0,0,0],\n",
    "\n",
    "[0,0,0,0,0,0,0,1,1,0,0,0,0]\n",
    "\n",
    "Given the above grid, return 6. Note the answer is not 11, because the island must be connected 4-directionally."
   ]
  },
  {
   "cell_type": "code",
   "execution_count": 11,
   "metadata": {},
   "outputs": [],
   "source": [
    "def maxAreaOfIsland(grid):\n",
    "    m, n = len(grid), len(grid[0])\n",
    "\n",
    "    def dfs(i, j):\n",
    "        if 0 <= i < m and 0 <= j < n and grid[i][j]:\n",
    "            grid[i][j] = 0\n",
    "            return 1 + dfs(i - 1, j) + dfs(i, j + 1) + dfs(i + 1, j) + dfs(i, j - 1)\n",
    "        return 0\n",
    "\n",
    "    result = 0\n",
    "    for x in range(m):\n",
    "        for y in range(n):\n",
    "            if grid[x][y]:\n",
    "                result = max(result, dfs(x, y))\n",
    "    return result"
   ]
  },
  {
   "cell_type": "code",
   "execution_count": 12,
   "metadata": {},
   "outputs": [
    {
     "data": {
      "text/plain": [
       "3"
      ]
     },
     "execution_count": 12,
     "metadata": {},
     "output_type": "execute_result"
    }
   ],
   "source": [
    "matrix = [\n",
    "    [0, 0, 1, 0, 0],\n",
    "    [0, 0, 0, 0, 0],\n",
    "    [0, 0, 0, 1, 0],\n",
    "    [1, 1, 0, 1, 1],\n",
    "    [0, 0, 0, 0, 0]\n",
    "]\n",
    "\n",
    "maxAreaOfIsland(matrix)"
   ]
  },
  {
   "cell_type": "markdown",
   "metadata": {},
   "source": [
    "# 员工的重要性"
   ]
  },
  {
   "cell_type": "markdown",
   "metadata": {},
   "source": [
    "You are given a data structure of employee information, which includes the employee's unique id, his importance value and his direct subordinates' id.\n",
    "\n",
    "For example, employee 1 is the leader of employee 2, and employee 2 is the leader of employee 3. They have importance value 15, 10 and 5, respectively. Then employee 1 has a data structure like [1, 15, [2]], and employee 2 has [2, 10, [3]], and employee 3 has [3, 5, []]. Note that although employee 3 is also a subordinate of employee 1, the relationship is not direct.\n",
    "\n",
    "Now given the employee information of a company, and an employee id, you need to return the total importance value of this employee and all his subordinates.\n",
    "\n",
    "Input: [[1, 5, [2, 3]], [2, 3, []], [3, 3, []]], 1\n",
    "\n",
    "Output: 11\n",
    "\n",
    "Explanation:\n",
    "\n",
    "Employee 1 has importance value 5, and he has two direct subordinates: employee 2 and employee 3. They both have importance value 3. So the total importance value of employee 1 is 5 + 3 + 3 = 11."
   ]
  },
  {
   "cell_type": "code",
   "execution_count": 13,
   "metadata": {},
   "outputs": [],
   "source": [
    "class Employee(object):\n",
    "    def __init__(self, id, importance, subordinates):\n",
    "        # It's the unique id of each node.\n",
    "        # unique id of this employee\n",
    "        self.id = id\n",
    "        # the importance value of this employee\n",
    "        self.importance = importance\n",
    "        # the id of direct subordinates\n",
    "        self.subordinates = subordinates"
   ]
  },
  {
   "cell_type": "code",
   "execution_count": 14,
   "metadata": {},
   "outputs": [],
   "source": [
    "def getImportance(employees, id):\n",
    "    table = {emp.id: emp for emp in employees}\n",
    "\n",
    "    def dfs(emp):\n",
    "        if emp.subordinates == []:  # base case\n",
    "            return emp.importance\n",
    "        else:  # recursive case\n",
    "            value = emp.importance\n",
    "            for sub in emp.subordinates:\n",
    "                value += dfs(table[sub])\n",
    "            return value\n",
    "            # or just:\n",
    "            # return emp.importance + sum(dfs(table[sub]) for sub in emp.subordinates)\n",
    "\n",
    "    return dfs(table[id])"
   ]
  },
  {
   "cell_type": "code",
   "execution_count": 15,
   "metadata": {},
   "outputs": [],
   "source": [
    "e3 = Employee(3, 3, [])\n",
    "e2 = Employee(2, 3, [])\n",
    "e1 = Employee(1, 5, [2, 3])\n",
    "emps = [e1, e2, e3]"
   ]
  },
  {
   "cell_type": "code",
   "execution_count": 16,
   "metadata": {},
   "outputs": [
    {
     "data": {
      "text/plain": [
       "11"
      ]
     },
     "execution_count": 16,
     "metadata": {},
     "output_type": "execute_result"
    }
   ],
   "source": [
    "getImportance(emps, 1)"
   ]
  },
  {
   "cell_type": "code",
   "execution_count": 17,
   "metadata": {},
   "outputs": [],
   "source": [
    "def getImportance2(employees, id):\n",
    "    value = 0\n",
    "    table = {}\n",
    "    for emp in employees:\n",
    "        table[emp.id] = emp\n",
    "\n",
    "    stack = [table[id]]\n",
    "\n",
    "    while stack:\n",
    "        emp = stack.pop()\n",
    "        for sub in emp.subordinates:\n",
    "            stack.append(table[sub])\n",
    "        value += emp.importance\n",
    "\n",
    "    return value"
   ]
  },
  {
   "cell_type": "code",
   "execution_count": 18,
   "metadata": {},
   "outputs": [
    {
     "data": {
      "text/plain": [
       "11"
      ]
     },
     "execution_count": 18,
     "metadata": {},
     "output_type": "execute_result"
    }
   ],
   "source": [
    "getImportance2(emps, 1)"
   ]
  },
  {
   "cell_type": "code",
   "execution_count": 19,
   "metadata": {},
   "outputs": [],
   "source": [
    "e3 = Employee(3, 5, [])\n",
    "e2 = Employee(2, 10, [3])\n",
    "e1 = Employee(1, 15, [2])\n",
    "emps = [e1, e2, e3]"
   ]
  },
  {
   "cell_type": "code",
   "execution_count": 20,
   "metadata": {},
   "outputs": [
    {
     "data": {
      "text/plain": [
       "30"
      ]
     },
     "execution_count": 20,
     "metadata": {},
     "output_type": "execute_result"
    }
   ],
   "source": [
    "getImportance(emps, 1)"
   ]
  },
  {
   "cell_type": "code",
   "execution_count": 21,
   "metadata": {},
   "outputs": [
    {
     "data": {
      "text/plain": [
       "30"
      ]
     },
     "execution_count": 21,
     "metadata": {},
     "output_type": "execute_result"
    }
   ],
   "source": [
    "getImportance2(emps, 1)"
   ]
  },
  {
   "cell_type": "markdown",
   "metadata": {},
   "source": [
    "# 判断是否是二分图"
   ]
  },
  {
   "cell_type": "raw",
   "metadata": {},
   "source": [
    "Given an undirected graph, return true if and only if it is bipartite.\n",
    "\n",
    "Recall that a graph is bipartite if we can split it's set of nodes into two independent subsets A and B such that every edge in the graph has one node in A and another node in B.\n",
    "\n",
    "The graph is given in the following form: graph[i] is a list of indexes j for which the edge between nodes i and j exists. Each node is an integer between 0 and graph.length - 1. There are no self edges or parallel edges: graph[i] does not contain i, and it doesn't contain any element twice."
   ]
  },
  {
   "cell_type": "markdown",
   "metadata": {},
   "source": [
    "Solution\n",
    "\n",
    "Our goal is trying to use two colors to color the graph and see if there are any adjacent nodes having the same color. Initialize a color[] array for each node. Here are three states for colors[] array:\n",
    "\n",
    "-1: Haven't been colored.\n",
    "\n",
    "0: Blue.\n",
    "\n",
    "1: Red.\n",
    "\n",
    "For each node,\n",
    "\n",
    "If it hasn’t been colored, use a color to color it. Then use the other color to color all its adjacent nodes (DFS). If it has been colored, check if the current color is the same as the color that is going to be used to color it."
   ]
  },
  {
   "cell_type": "code",
   "execution_count": 22,
   "metadata": {},
   "outputs": [],
   "source": [
    "def isBipartite(graph):\n",
    "    color = {}\n",
    "    def dfs(pos):\n",
    "        for i in graph[pos]:\n",
    "            if i in color:\n",
    "                if color[i] == color[pos]: return False\n",
    "            else:\n",
    "                color[i] = color[pos] ^ 1\n",
    "                if not dfs(i): return False\n",
    "        return True\n",
    "    \n",
    "    for i in range(len(graph)):\n",
    "        if i not in color: color[i] = 0\n",
    "        if not dfs(i): return False\n",
    "    return True"
   ]
  },
  {
   "cell_type": "code",
   "execution_count": 23,
   "metadata": {},
   "outputs": [
    {
     "data": {
      "text/plain": [
       "True"
      ]
     },
     "execution_count": 23,
     "metadata": {},
     "output_type": "execute_result"
    }
   ],
   "source": [
    "graph = [[1,3], [0,2], [1,3], [0,2]]\n",
    "isBipartite(graph)"
   ]
  },
  {
   "cell_type": "code",
   "execution_count": 24,
   "metadata": {},
   "outputs": [
    {
     "data": {
      "text/plain": [
       "False"
      ]
     },
     "execution_count": 24,
     "metadata": {},
     "output_type": "execute_result"
    }
   ],
   "source": [
    "graph = [[1,2,3], [0,2], [0,1,3], [0,2]]\n",
    "isBipartite(graph)"
   ]
  },
  {
   "cell_type": "markdown",
   "metadata": {},
   "source": [
    "# 太平洋大西洋水流"
   ]
  },
  {
   "cell_type": "markdown",
   "metadata": {},
   "source": [
    "Given an m x n matrix of non-negative integers representing the height of each unit cell in a continent, the \"Pacific ocean\" touches the left and top edges of the matrix and the \"Atlantic ocean\" touches the right and bottom edges.\n",
    "\n",
    "Water can only flow in four directions (up, down, left, or right) from a cell to another one with height equal or lower.\n",
    "\n",
    "Find the list of grid coordinates where water can flow to both the Pacific and Atlantic ocean."
   ]
  },
  {
   "cell_type": "code",
   "execution_count": 25,
   "metadata": {},
   "outputs": [],
   "source": [
    "def pacificAtlantic(matrix):\n",
    "\n",
    "    if not matrix: return []\n",
    "    directions = [(1,0),(-1,0),(0,1),(0,-1)]\n",
    "    m = len(matrix)\n",
    "    n = len(matrix[0])\n",
    "    p_visited = [[False for _ in range(n)] for _ in range(m)]\n",
    "\n",
    "    a_visited = [[False for _ in range(n)] for _ in range(m)]\n",
    "    result = []\n",
    "\n",
    "    for i in range(m):\n",
    "        # p_visited[i][0] = True\n",
    "        # a_visited[i][n-1] = True\n",
    "        dfs(matrix, i, 0, p_visited, m, n)\n",
    "        dfs(matrix, i, n-1, a_visited, m, n)\n",
    "    for j in range(n):\n",
    "        # p_visited[0][j] = True\n",
    "        # a_visited[m-1][j] = True\n",
    "        dfs(matrix, 0, j, p_visited, m, n)\n",
    "        dfs(matrix, m-1, j, a_visited, m, n)\n",
    "\n",
    "    for i in range(m):\n",
    "        for j in range(n):\n",
    "            if p_visited[i][j] and a_visited[i][j]:\n",
    "                result.append([i,j])\n",
    "    return result\n",
    "\n",
    "\n",
    "def dfs(matrix, i, j, visited, m, n):\n",
    "    # when dfs called, meaning its caller already verified this point \n",
    "    visited[i][j] = True\n",
    "    for dir in [(1,0),(-1,0),(0,1),(0,-1)]:\n",
    "        x, y = i + dir[0], j + dir[1]\n",
    "        if x < 0 or x >= m or y < 0 or y >= n or visited[x][y] or matrix[x][y] < matrix[i][j]:\n",
    "            continue\n",
    "        dfs(matrix, x, y, visited, m, n)"
   ]
  },
  {
   "cell_type": "code",
   "execution_count": 26,
   "metadata": {},
   "outputs": [
    {
     "data": {
      "text/plain": [
       "[[0, 4], [1, 3], [1, 4], [2, 2], [3, 0], [3, 1], [4, 0]]"
      ]
     },
     "execution_count": 26,
     "metadata": {},
     "output_type": "execute_result"
    }
   ],
   "source": [
    "matrix = [\n",
    "    [1,2,2,3,4],\n",
    "    [3,2,3,4,4],\n",
    "    [2,4,5,3,1],\n",
    "    [6,7,1,4,5],\n",
    "    [5,1,1,2,4]\n",
    "]\n",
    "pacificAtlantic(matrix)"
   ]
  },
  {
   "cell_type": "code",
   "execution_count": 27,
   "metadata": {},
   "outputs": [],
   "source": [
    "from collections import deque\n",
    "def pacificAtlantic(matrix):\n",
    "    if not matrix: return []\n",
    "    m, n = len(matrix), len(matrix[0])\n",
    "    def bfs(reachable_ocean):\n",
    "        q = deque(reachable_ocean)\n",
    "        while q:\n",
    "            (i, j) = q.popleft()\n",
    "            for (di, dj) in [(0,1), (0, -1), (1, 0), (-1, 0)]:\n",
    "                if 0 <= di+i < m and 0 <= dj+j < n and (di+i, dj+j) not in reachable_ocean \\\n",
    "                    and matrix[di+i][dj+j] >= matrix[i][j]:\n",
    "                    q.append( (di+i,dj+j) )\n",
    "                    reachable_ocean.add( (di+i, dj+j) )\n",
    "        return reachable_ocean         \n",
    "    pacific  =set ( [ (i, 0) for i in range(m)]   + [(0, j) for j  in range(1, n)]) \n",
    "    atlantic =set ( [ (i, n-1) for i in range(m)] + [(m-1, j) for j in range(n-1)]) \n",
    "    return list( bfs(pacific) & bfs(atlantic) )"
   ]
  },
  {
   "cell_type": "code",
   "execution_count": 28,
   "metadata": {},
   "outputs": [
    {
     "data": {
      "text/plain": [
       "[(1, 3), (3, 0), (3, 1), (1, 4), (0, 4), (2, 2), (4, 0)]"
      ]
     },
     "execution_count": 28,
     "metadata": {},
     "output_type": "execute_result"
    }
   ],
   "source": [
    "pacificAtlantic(matrix)"
   ]
  },
  {
   "cell_type": "markdown",
   "metadata": {},
   "source": [
    "# 矩阵中最长的递增路径"
   ]
  },
  {
   "cell_type": "raw",
   "metadata": {},
   "source": [
    "Given an integer matrix, find the length of the longest increasing path.\n",
    "\n",
    "From each cell, you can either move to four directions: left, right, up or down. You may NOT move diagonally or move outside of the boundary (i.e. wrap-around is not allowed)."
   ]
  },
  {
   "cell_type": "code",
   "execution_count": 29,
   "metadata": {},
   "outputs": [],
   "source": [
    "def longestIncreasingPath(matrix):\n",
    "    if not matrix: return 0\n",
    "    directions = [(1,0),(-1,0),(0,1),(0,-1)]\n",
    "    m = len(matrix)\n",
    "    n = len(matrix[0])\n",
    "    cache = [[-1 for _ in range(n)] for _ in range(m)]\n",
    "    res = 0\n",
    "    for i in range(m):\n",
    "        for j in range(n):\n",
    "            cur_len = dfs(i, j, matrix, cache, m, n)\n",
    "            res = max(res, cur_len)\n",
    "    return res\n",
    "\n",
    "def dfs(i, j, matrix, cache, m, n):\n",
    "    if cache[i][j] != -1:\n",
    "        return cache[i][j]\n",
    "    res = 1\n",
    "    for direction in [(1,0),(-1,0),(0,1),(0,-1)]:\n",
    "        x, y = i + direction[0], j + direction[1]\n",
    "        if x < 0 or x >= m or y < 0 or y >= n or matrix[x][y] <= matrix[i][j]:\n",
    "            continue\n",
    "        length = 1 + dfs(x, y, matrix, cache, m, n)\n",
    "        res = max(length, res)\n",
    "    cache[i][j] = res\n",
    "    return res"
   ]
  },
  {
   "cell_type": "code",
   "execution_count": 30,
   "metadata": {},
   "outputs": [
    {
     "data": {
      "text/plain": [
       "4"
      ]
     },
     "execution_count": 30,
     "metadata": {},
     "output_type": "execute_result"
    }
   ],
   "source": [
    "nums = [\n",
    "  [9,9,4],\n",
    "  [6,6,8],\n",
    "  [2,1,1]\n",
    "]\n",
    "longestIncreasingPath(nums)"
   ]
  },
  {
   "cell_type": "code",
   "execution_count": 31,
   "metadata": {},
   "outputs": [
    {
     "data": {
      "text/plain": [
       "6"
      ]
     },
     "execution_count": 31,
     "metadata": {},
     "output_type": "execute_result"
    }
   ],
   "source": [
    "nums = [\n",
    "  [8,4,5],\n",
    "  [3,9,6],\n",
    "  [2,8,7]\n",
    "]\n",
    "longestIncreasingPath(nums)"
   ]
  },
  {
   "cell_type": "markdown",
   "metadata": {},
   "source": [
    "# 0-1 Matrix"
   ]
  },
  {
   "cell_type": "markdown",
   "metadata": {},
   "source": [
    "Given a matrix consists of 0 and 1, find the distance of the nearest 0 for each cell.\n",
    "\n",
    "The distance between two adjacent cells is 1.\n",
    "\n",
    "Example 1:\n",
    "\n",
    "Input:\n",
    "\n",
    "0 0 0\n",
    "\n",
    "0 1 0\n",
    "\n",
    "0 0 0\n",
    "\n",
    "Output:\n",
    "\n",
    "0 0 0\n",
    "\n",
    "0 1 0\n",
    "\n",
    "0 0 0\n",
    "\n",
    "Example 2:\n",
    "\n",
    "Input:\n",
    "\n",
    "0 0 0\n",
    "\n",
    "0 1 0\n",
    "\n",
    "1 1 1\n",
    "\n",
    "Output:\n",
    "\n",
    "0 0 0\n",
    "\n",
    "0 1 0\n",
    "\n",
    "1 2 1"
   ]
  },
  {
   "cell_type": "code",
   "execution_count": 32,
   "metadata": {},
   "outputs": [],
   "source": [
    "def updateMatrix(matrix):\n",
    "    q, m, n = [], len(matrix), len(matrix[0])\n",
    "    for i in range(m):\n",
    "        for j in range(n):\n",
    "            if matrix[i][j] != 0:\n",
    "                matrix[i][j] = 0x7fffffff\n",
    "            else:\n",
    "                q.append((i, j))\n",
    "    for i, j in q:\n",
    "        for r, c in ((i, 1+j), (i, j-1), (i+1, j), (i-1, j)):\n",
    "            z = matrix[i][j] + 1\n",
    "            if 0 <= r < m and 0 <= c < n and matrix[r][c] > z:\n",
    "                matrix[r][c] = z\n",
    "                q.append((r, c))\n",
    "    return matrix"
   ]
  },
  {
   "cell_type": "code",
   "execution_count": 33,
   "metadata": {},
   "outputs": [
    {
     "data": {
      "text/plain": [
       "[[0, 0, 0], [0, 1, 0], [0, 0, 0]]"
      ]
     },
     "execution_count": 33,
     "metadata": {},
     "output_type": "execute_result"
    }
   ],
   "source": [
    "matrix = [\n",
    "    [0, 0, 0],\n",
    "    [0, 1, 0],\n",
    "    [0, 0, 0],\n",
    "]\n",
    "updateMatrix(matrix)"
   ]
  },
  {
   "cell_type": "code",
   "execution_count": 34,
   "metadata": {},
   "outputs": [
    {
     "data": {
      "text/plain": [
       "[[0, 0, 0], [0, 1, 0], [1, 2, 1]]"
      ]
     },
     "execution_count": 34,
     "metadata": {},
     "output_type": "execute_result"
    }
   ],
   "source": [
    "matrix = [\n",
    "    [0, 0, 0],\n",
    "    [0, 1, 0],\n",
    "    [1, 1, 1],\n",
    "]\n",
    "updateMatrix(matrix)"
   ]
  },
  {
   "cell_type": "code",
   "execution_count": 35,
   "metadata": {},
   "outputs": [],
   "source": [
    "def updateMatrix2(matrix):\n",
    "    def DP(i, j, m, n, dp):\n",
    "        if i > 0: dp[i][j] = min(dp[i][j], dp[i - 1][j] + 1)\n",
    "        if j > 0: dp[i][j] = min(dp[i][j], dp[i][j - 1] + 1)\n",
    "        if i < m - 1: dp[i][j] = min(dp[i][j], dp[i + 1][j] + 1)\n",
    "        if j < n - 1: dp[i][j] = min(dp[i][j], dp[i][j + 1] + 1)\n",
    "            \n",
    "    if not matrix: return [[]]\n",
    "    m, n = len(matrix), len(matrix[0])\n",
    "    dp = [[0x7fffffff if matrix[i][j] != 0 else 0 for j in range(n)] for i in range(m)]\n",
    "    for i in range(m):\n",
    "        for j in range(n):\n",
    "            DP(i, j, m, n, dp)\n",
    "\n",
    "    for i in range(m - 1, -1, -1):\n",
    "        for j in range(n - 1, -1, -1):\n",
    "            DP(i, j, m, n, dp)\n",
    "\n",
    "    return dp\n",
    "\n"
   ]
  },
  {
   "cell_type": "code",
   "execution_count": 36,
   "metadata": {},
   "outputs": [
    {
     "data": {
      "text/plain": [
       "[[0, 0, 0], [0, 1, 0], [0, 0, 0]]"
      ]
     },
     "execution_count": 36,
     "metadata": {},
     "output_type": "execute_result"
    }
   ],
   "source": [
    "matrix = [\n",
    "    [0, 0, 0],\n",
    "    [0, 1, 0],\n",
    "    [0, 0, 0],\n",
    "]\n",
    "updateMatrix2(matrix)"
   ]
  },
  {
   "cell_type": "code",
   "execution_count": 37,
   "metadata": {},
   "outputs": [
    {
     "data": {
      "text/plain": [
       "[[0, 0, 0], [0, 1, 0], [1, 2, 1]]"
      ]
     },
     "execution_count": 37,
     "metadata": {},
     "output_type": "execute_result"
    }
   ],
   "source": [
    "matrix = [\n",
    "    [0, 0, 0],\n",
    "    [0, 1, 0],\n",
    "    [1, 1, 1],\n",
    "]\n",
    "updateMatrix2(matrix)"
   ]
  },
  {
   "cell_type": "markdown",
   "metadata": {},
   "source": [
    "# 账户合并"
   ]
  },
  {
   "cell_type": "raw",
   "metadata": {},
   "source": [
    "Given a list accounts, each element accounts[i] is a list of strings, where the first element accounts[i][0] is a name, and the rest of the elements are emails representing emails of the account.\n",
    "\n",
    "Now, we would like to merge these accounts. Two accounts definitely belong to the same person if there is some email that is common to both accounts. Note that even if two accounts have the same name, they may belong to different people as people could have the same name. A person can have any number of accounts initially, but all of their accounts definitely have the same name.\n",
    "\n",
    "After merging the accounts, return the accounts in the following format: the first element of each account is the name, and the rest of the elements are emails in sorted order. The accounts themselves can be returned in any order.\n",
    "\n",
    "Example 1:\n",
    "\n",
    "Input:"
   ]
  },
  {
   "cell_type": "code",
   "execution_count": 38,
   "metadata": {},
   "outputs": [],
   "source": [
    "accounts = [\n",
    "    [\"John\", \"johnsmith@mail.com\", \"john00@mail.com\"], \n",
    "    [\"John\", \"johnnybravo@mail.com\"], \n",
    "    [\"John\", \"johnsmith@mail.com\", \"john_newyork@mail.com\"], \n",
    "    [\"Mary\", \"mary@mail.com\"]\n",
    "]\n",
    "\n",
    "Output = [\n",
    "    [\"John\", 'john00@mail.com', 'john_newyork@mail.com', 'johnsmith@mail.com'],  \n",
    "    [\"John\", \"johnnybravo@mail.com\"], \n",
    "    [\"Mary\", \"mary@mail.com\"]\n",
    "]"
   ]
  },
  {
   "cell_type": "markdown",
   "metadata": {},
   "source": [
    "Solution"
   ]
  },
  {
   "cell_type": "code",
   "execution_count": 40,
   "metadata": {},
   "outputs": [
    {
     "name": "stdout",
     "output_type": "stream",
     "text": [
      "\n"
     ]
    },
    {
     "data": {
      "text/plain": [
       "{'john00@mail.com': [0],\n",
       " 'john_newyork@mail.com': [2],\n",
       " 'johnnybravo@mail.com': [1],\n",
       " 'johnsmith@mail.com': [0, 2],\n",
       " 'mary@mail.com': [3]}"
      ]
     },
     "execution_count": 40,
     "metadata": {},
     "output_type": "execute_result"
    }
   ],
   "source": [
    "# We give each account an ID, based on the index of it within the list of accounts.\n",
    "[\n",
    "[\"John\", \"johnsmith@mail.com\", \"john00@mail.com\"], # Account 0\n",
    "[\"John\", \"johnnybravo@mail.com\"], # Account 1\n",
    "[\"John\", \"johnsmith@mail.com\", \"john_newyork@mail.com\"],  # Account 2\n",
    "[\"Mary\", \"mary@mail.com\"] # Account 3\n",
    "]\n",
    "print()\n",
    "\n",
    "# Next, build an emails_accounts_map that maps an email to a list of accounts, which can be used to track which email is linked to which account. This is essentially our graph.\n",
    "# emails_accounts_map of email to account ID\n",
    "{\n",
    "  \"johnsmith@mail.com\": [0, 2],\n",
    "  \"john00@mail.com\": [0],\n",
    "  \"johnnybravo@mail.com\": [1],\n",
    "  \"john_newyork@mail.com\": [2],\n",
    "  \"mary@mail.com\": [3]\n",
    "}\n",
    "# Next we do a DFS on each account in accounts list and look up emails_accounts_map to tell us which accounts are linked to that particular account via common emails. \n",
    "# This will make sure we visit each account only once. This is a recursive process and we should collect all the emails that we encounter along the way.\n",
    "\n",
    "# Lastly, sort the collected emails and add it to final results, res along with the name."
   ]
  },
  {
   "cell_type": "code",
   "execution_count": 41,
   "metadata": {},
   "outputs": [],
   "source": [
    "def accountsMerge(accounts):\n",
    "    from collections import defaultdict\n",
    "    visited_accounts = [False] * len(accounts)\n",
    "    emails_accounts_map = defaultdict(list)\n",
    "    res = []\n",
    "    # Build up the graph.\n",
    "    for i, account in enumerate(accounts):\n",
    "        for j in range(1, len(account)): #email starts from 2nd\n",
    "            email = account[j]\n",
    "            emails_accounts_map[email].append(i)\n",
    "            \n",
    "    print(emails_accounts_map)\n",
    "    # DFS code for traversing accounts.\n",
    "    def dfs(i, emails):\n",
    "        if visited_accounts[i]:\n",
    "            return\n",
    "        visited_accounts[i] = True\n",
    "        for j in range(1, len(accounts[i])):\n",
    "            email = accounts[i][j]\n",
    "            emails.add(email)\n",
    "            for neighbor in emails_accounts_map[email]:\n",
    "                dfs(neighbor, emails)\n",
    "    # Perform DFS for accounts and add to results.\n",
    "    for i, account in enumerate(accounts):\n",
    "        if visited_accounts[i]:\n",
    "            continue\n",
    "        name, emails = account[0], set()\n",
    "        dfs(i, emails)\n",
    "        res.append([name] + sorted(emails))\n",
    "    return res"
   ]
  },
  {
   "cell_type": "code",
   "execution_count": 42,
   "metadata": {},
   "outputs": [
    {
     "name": "stdout",
     "output_type": "stream",
     "text": [
      "defaultdict(<class 'list'>, {'johnsmith@mail.com': [0, 2], 'john00@mail.com': [0], 'johnnybravo@mail.com': [1], 'john_newyork@mail.com': [2], 'mary@mail.com': [3]})\n"
     ]
    },
    {
     "data": {
      "text/plain": [
       "[['John', 'john00@mail.com', 'john_newyork@mail.com', 'johnsmith@mail.com'],\n",
       " ['John', 'johnnybravo@mail.com'],\n",
       " ['Mary', 'mary@mail.com']]"
      ]
     },
     "execution_count": 42,
     "metadata": {},
     "output_type": "execute_result"
    }
   ],
   "source": [
    "accounts = [\n",
    "    [\"John\", \"johnsmith@mail.com\", \"john00@mail.com\"], \n",
    "    [\"John\", \"johnnybravo@mail.com\"], \n",
    "    [\"John\", \"johnsmith@mail.com\", \"john_newyork@mail.com\"], \n",
    "    [\"Mary\", \"mary@mail.com\"]\n",
    "]\n",
    "\n",
    "accountsMerge(accounts)"
   ]
  },
  {
   "cell_type": "markdown",
   "metadata": {},
   "source": [
    "# Word Ladder"
   ]
  },
  {
   "cell_type": "markdown",
   "metadata": {},
   "source": [
    "Given two words (beginWord and endWord), and a dictionary's word list, find the length of shortest transformation sequence from beginWord to endWord, such that:\n",
    "\n",
    "Only one letter can be changed at a time. Each transformed word must exist in the word list. Note that beginWord is not a transformed word. For example,\n",
    "\n",
    "Given:\n",
    "\n",
    "beginWord = \"hit\"\n",
    "\n",
    "endWord = \"cog\"\n",
    "\n",
    "wordList = [\"hot\",\"dot\",\"dog\",\"lot\",\"log\",\"cog\"]\n",
    "\n",
    "As one shortest transformation is \"hit\" -> \"hot\" -> \"dot\" -> \"dog\" -> \"cog\",\n",
    "\n",
    "return its length 5."
   ]
  },
  {
   "cell_type": "code",
   "execution_count": 43,
   "metadata": {},
   "outputs": [],
   "source": [
    "from collections import deque\n",
    "def ladderLength(beginWord, endWord, wordList):\n",
    "    wordSet=set(wordList)\n",
    "    wordSet.add(endWord)\n",
    "    queue = deque([[beginWord, 1]])\n",
    "    while queue:\n",
    "        word, length = queue.popleft()\n",
    "        if word == endWord:\n",
    "            return length\n",
    "        for i in range(len(word)):\n",
    "            for c in 'abcdefghijklmnopqrstuvwxyz':\n",
    "                next_word = word[:i] + c + word[i+1:]\n",
    "                if next_word in wordSet:\n",
    "                    wordSet.remove(next_word)\n",
    "                    queue.append([next_word, length + 1])\n",
    "    return 0"
   ]
  },
  {
   "cell_type": "code",
   "execution_count": 44,
   "metadata": {},
   "outputs": [
    {
     "data": {
      "text/plain": [
       "5"
      ]
     },
     "execution_count": 44,
     "metadata": {},
     "output_type": "execute_result"
    }
   ],
   "source": [
    "beginWord = \"hit\"\n",
    "endWord = \"cog\"\n",
    "wordList = [\"hot\",\"dot\",\"dog\",\"lot\",\"log\",\"cog\"]\n",
    "\n",
    "ladderLength(beginWord, endWord, wordList)"
   ]
  },
  {
   "cell_type": "markdown",
   "metadata": {},
   "source": [
    "# Word Ladder II"
   ]
  },
  {
   "cell_type": "raw",
   "metadata": {},
   "source": [
    "Given two words (beginWord and endWord), and a dictionary's word list, find all shortest transformation sequence(s) from beginWord to endWord, such that:\n",
    "\n",
    "Only one letter can be changed at a time Each transformed word must exist in the word list. Note that beginWord is not a transformed word. For example,\n",
    "\n",
    "Given:\n",
    "\n",
    "beginWord = \"hit\"\n",
    "\n",
    "endWord = \"cog\"\n",
    "\n",
    "wordList = [\"hot\",\"dot\",\"dog\",\"lot\",\"log\",\"cog\"]\n",
    "\n",
    "Returns:\n",
    "      [\n",
    "    [\"hit\",\"hot\",\"dot\",\"dog\",\"cog\"],\n",
    "    [\"hit\",\"hot\",\"lot\",\"log\",\"cog\"]\n",
    "  ]"
   ]
  },
  {
   "cell_type": "code",
   "execution_count": 45,
   "metadata": {},
   "outputs": [],
   "source": [
    "from collections import defaultdict\n",
    "import string\n",
    "def findLadders(start, end, wordList):\n",
    "    dic = set(wordList)\n",
    "    dic.add(end)\n",
    "    level = {start}\n",
    "    parents = defaultdict(set)\n",
    "    while level and end not in parents:\n",
    "        next_level = defaultdict(set)\n",
    "        for node in level:\n",
    "            for char in string.ascii_lowercase:\n",
    "                for i in range(len(start)):\n",
    "                    n = node[:i] + char + node[i+1:]\n",
    "                    if n in dic and n not in parents:\n",
    "                        next_level[n].add(node)\n",
    "        level = next_level\n",
    "        parents.update(next_level)\n",
    "    res = [[end]]\n",
    "    print(parents)\n",
    "    while res and res[0][0] != start:\n",
    "        res = [[p]+r for r in res for p in parents[r[0]]]\n",
    "    return res"
   ]
  },
  {
   "cell_type": "code",
   "execution_count": 46,
   "metadata": {},
   "outputs": [
    {
     "name": "stdout",
     "output_type": "stream",
     "text": [
      "defaultdict(<class 'set'>, {'hot': {'hit'}, 'dot': {'hot'}, 'lot': {'hot'}, 'dog': {'dot'}, 'log': {'lot'}, 'cog': {'log', 'dog'}})\n"
     ]
    },
    {
     "data": {
      "text/plain": [
       "[['hit', 'hot', 'lot', 'log', 'cog'], ['hit', 'hot', 'dot', 'dog', 'cog']]"
      ]
     },
     "execution_count": 46,
     "metadata": {},
     "output_type": "execute_result"
    }
   ],
   "source": [
    "beginWord = \"hit\"\n",
    "endWord = \"cog\"\n",
    "wordList = [\"hot\",\"dot\",\"dog\",\"lot\",\"log\",\"cog\"]\n",
    "findLadders(beginWord, endWord, wordList)"
   ]
  },
  {
   "cell_type": "code",
   "execution_count": null,
   "metadata": {},
   "outputs": [],
   "source": []
  }
 ],
 "metadata": {
  "kernelspec": {
   "display_name": "Python 3",
   "language": "python",
   "name": "python3"
  },
  "language_info": {
   "codemirror_mode": {
    "name": "ipython",
    "version": 3
   },
   "file_extension": ".py",
   "mimetype": "text/x-python",
   "name": "python",
   "nbconvert_exporter": "python",
   "pygments_lexer": "ipython3",
   "version": "3.6.4"
  },
  "toc": {
   "base_numbering": 1,
   "nav_menu": {},
   "number_sections": true,
   "sideBar": true,
   "skip_h1_title": false,
   "title_cell": "Table of Contents",
   "title_sidebar": "Contents",
   "toc_cell": false,
   "toc_position": {},
   "toc_section_display": true,
   "toc_window_display": true
  },
  "varInspector": {
   "cols": {
    "lenName": 16,
    "lenType": 16,
    "lenVar": 40
   },
   "kernels_config": {
    "python": {
     "delete_cmd_postfix": "",
     "delete_cmd_prefix": "del ",
     "library": "var_list.py",
     "varRefreshCmd": "print(var_dic_list())"
    },
    "r": {
     "delete_cmd_postfix": ") ",
     "delete_cmd_prefix": "rm(",
     "library": "var_list.r",
     "varRefreshCmd": "cat(var_dic_list()) "
    }
   },
   "types_to_exclude": [
    "module",
    "function",
    "builtin_function_or_method",
    "instance",
    "_Feature"
   ],
   "window_display": false
  }
 },
 "nbformat": 4,
 "nbformat_minor": 2
}
