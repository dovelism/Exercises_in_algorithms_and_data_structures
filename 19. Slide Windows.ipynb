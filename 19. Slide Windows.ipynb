{
 "cells": [
  {
   "cell_type": "markdown",
   "metadata": {},
   "source": [
    "# 从已排序的数组中删除重复项"
   ]
  },
  {
   "cell_type": "markdown",
   "metadata": {},
   "source": [
    "给定一个排序后的数组，删除重复项，使每个元素只出现一次，并返回新的长度。"
   ]
  },
  {
   "cell_type": "code",
   "execution_count": 1,
   "metadata": {},
   "outputs": [],
   "source": [
    "def removeDuplicates(alist):\n",
    "    if not alist:\n",
    "        return 0\n",
    "\n",
    "    tail = 0\n",
    "\n",
    "    for j in range(1, len(alist)):\n",
    "        if alist[j] != alist[tail]:\n",
    "            tail += 1\n",
    "            alist[tail] = alist[j]\n",
    "\n",
    "    return tail + 1"
   ]
  },
  {
   "cell_type": "code",
   "execution_count": 2,
   "metadata": {},
   "outputs": [
    {
     "data": {
      "text/plain": [
       "5"
      ]
     },
     "execution_count": 2,
     "metadata": {},
     "output_type": "execute_result"
    }
   ],
   "source": [
    "alist = [0,0,1,1,1,2,2,3,3,4]\n",
    "removeDuplicates(alist)"
   ]
  },
  {
   "cell_type": "code",
   "execution_count": 3,
   "metadata": {},
   "outputs": [],
   "source": [
    "def removeDuplicates(alist):\n",
    "    i = 0\n",
    "    for n in alist:\n",
    "        if i == 0 or n > alist[i - 1]:\n",
    "            alist[i] = n\n",
    "            i += 1\n",
    "    return i"
   ]
  },
  {
   "cell_type": "markdown",
   "metadata": {},
   "source": [
    "# 从已排序的数组中删除重复项 II"
   ]
  },
  {
   "cell_type": "markdown",
   "metadata": {},
   "source": [
    "如果最多允许重复两次该怎么办?"
   ]
  },
  {
   "cell_type": "code",
   "execution_count": 4,
   "metadata": {},
   "outputs": [],
   "source": [
    "def removeDuplicates(nums):\n",
    "    if len(nums) <= 2: return len(nums)\n",
    "    prev, curr = 1, 2\n",
    "    while curr < len(nums):\n",
    "        if nums[curr] == nums[prev] and  nums[curr] == nums[prev - 1]:\n",
    "            curr += 1\n",
    "        else:\n",
    "            prev += 1\n",
    "            nums[prev] = nums[curr]\n",
    "            curr += 1\n",
    "    return prev + 1"
   ]
  },
  {
   "cell_type": "code",
   "execution_count": 5,
   "metadata": {},
   "outputs": [],
   "source": [
    "def removeDuplicates2(nums):\n",
    "    count = 0\n",
    "    for i in range(len(nums)):\n",
    "        if count < 2 or nums[count - 2] != nums[i]:\n",
    "            nums[count] = nums[i]\n",
    "            count += 1\n",
    "    return count"
   ]
  },
  {
   "cell_type": "markdown",
   "metadata": {},
   "source": [
    "# 删除元素"
   ]
  },
  {
   "cell_type": "markdown",
   "metadata": {},
   "source": [
    "给定一个数组号和一个val值，删除该值的所有实例并返回新的长度。"
   ]
  },
  {
   "cell_type": "code",
   "execution_count": 6,
   "metadata": {},
   "outputs": [],
   "source": [
    "def removeElement(nums, val):\n",
    "    i = 0\n",
    "    for j in range(len(nums)):\n",
    "        if nums[j] != val:\n",
    "            nums[i] = nums[j]\n",
    "            i += 1\n",
    "    return i  "
   ]
  },
  {
   "cell_type": "code",
   "execution_count": 7,
   "metadata": {},
   "outputs": [
    {
     "data": {
      "text/plain": [
       "2"
      ]
     },
     "execution_count": 7,
     "metadata": {},
     "output_type": "execute_result"
    }
   ],
   "source": [
    "nums = [ 3, 2, 2, 3 ]\n",
    "removeElement(nums, 3)"
   ]
  },
  {
   "cell_type": "code",
   "execution_count": 8,
   "metadata": {},
   "outputs": [],
   "source": [
    "def removeElement(nums, val):\n",
    "    start, end = 0, len(nums) - 1\n",
    "    while start <= end:\n",
    "        if nums[start] == val:\n",
    "            nums[start], end = nums[end], end - 1\n",
    "        else:\n",
    "            start +=1\n",
    "    return start"
   ]
  },
  {
   "cell_type": "markdown",
   "metadata": {},
   "source": [
    "# 最大平均子数组"
   ]
  },
  {
   "cell_type": "markdown",
   "metadata": {},
   "source": [
    "给定一个由n个整数组成的数组，找出具有最大平均值的给定长度k的连续子数组。你需要输出最大平均值假设  1 <= k <= n"
   ]
  },
  {
   "cell_type": "code",
   "execution_count": 9,
   "metadata": {},
   "outputs": [],
   "source": [
    "def findMaxnumsverage(nums, K):\n",
    "    P = [0]\n",
    "    for x in nums:\n",
    "        P.append(P[-1] + x)\n",
    "\n",
    "    moving_sum = max(P[i+K] - P[i] \n",
    "             for i in range(len(nums) - K + 1))\n",
    "    return moving_sum / float(K)"
   ]
  },
  {
   "cell_type": "code",
   "execution_count": 10,
   "metadata": {},
   "outputs": [
    {
     "data": {
      "text/plain": [
       "12.75"
      ]
     },
     "execution_count": 10,
     "metadata": {},
     "output_type": "execute_result"
    }
   ],
   "source": [
    "nums = [ 1, 12, -5, -6, 50, 3 ]\n",
    "findMaxnumsverage(nums, 4)"
   ]
  },
  {
   "cell_type": "code",
   "execution_count": 11,
   "metadata": {},
   "outputs": [],
   "source": [
    "def findMaxnumsverage(nums, K):\n",
    "    moving_sum = 0.0\n",
    "    for i in range(K):\n",
    "        moving_sum += nums[i]\n",
    "    res = moving_sum\n",
    "    for i in range(K, len(nums)):\n",
    "        moving_sum += nums[i] - nums[i - K]\n",
    "        res = max(res, moving_sum)\n",
    "    return res / K"
   ]
  },
  {
   "cell_type": "code",
   "execution_count": 12,
   "metadata": {},
   "outputs": [
    {
     "data": {
      "text/plain": [
       "12.75"
      ]
     },
     "execution_count": 12,
     "metadata": {},
     "output_type": "execute_result"
    }
   ],
   "source": [
    "nums = [ 1, 12, -5, -6, 50, 3 ]\n",
    "findMaxnumsverage(nums, 4)"
   ]
  },
  {
   "cell_type": "markdown",
   "metadata": {},
   "source": [
    "# 最长连续递增子序列"
   ]
  },
  {
   "cell_type": "markdown",
   "metadata": {},
   "source": [
    "出一个未排序的整数数组，求其最长连续递增子序列(子数组)的长度。"
   ]
  },
  {
   "cell_type": "code",
   "execution_count": 13,
   "metadata": {},
   "outputs": [],
   "source": [
    "def findLengthOfLCIS(nums):\n",
    "    result, count = 0, 0\n",
    "    for i in range(len(nums)):\n",
    "        if i == 0 or nums[i-1] < nums[i]:\n",
    "            count += 1\n",
    "            result = max(result, count)\n",
    "        else:\n",
    "            count = 1\n",
    "    return result"
   ]
  },
  {
   "cell_type": "code",
   "execution_count": 14,
   "metadata": {},
   "outputs": [
    {
     "data": {
      "text/plain": [
       "3"
      ]
     },
     "execution_count": 14,
     "metadata": {},
     "output_type": "execute_result"
    }
   ],
   "source": [
    "nums = [1,3,5,4,7]\n",
    "findLengthOfLCIS(nums)"
   ]
  },
  {
   "cell_type": "markdown",
   "metadata": {},
   "source": [
    "# 最小size的子数组和"
   ]
  },
  {
   "cell_type": "raw",
   "metadata": {},
   "source": [
    "给定一个有n个正整数和一个正整数s的数组，求其总和≥s的连续子数组的最小长度。如果不存在，返回0\n",
    "给定数组[2,3,1,2,4,3]和s = 7\n",
    "子数组[4,3]在问题约束下具有最小长度"
   ]
  },
  {
   "cell_type": "code",
   "execution_count": 15,
   "metadata": {},
   "outputs": [],
   "source": [
    "def minsubarray(alist, target):\n",
    "    if len(alist) == 0:\n",
    "        return 0\n",
    "    \n",
    "    i = j = sums = 0\n",
    "    minimum = sys.maxsize\n",
    "    \n",
    "    while j < len(alist):\n",
    "        sums += alist[j]\n",
    "        j += 1\n",
    "        while sums >= target:\n",
    "            minimum = min(minimum, j - i)\n",
    "            sums -= alist[i]\n",
    "            i += 1\n",
    "    return 0 if min == sys.maxsize else minimum"
   ]
  },
  {
   "cell_type": "markdown",
   "metadata": {},
   "source": [
    "# 实现strStr ()"
   ]
  },
  {
   "cell_type": "markdown",
   "metadata": {},
   "source": [
    "返回草堆中第一次出现的针的索引，如果指针不是草堆的一部分，则返回-1。"
   ]
  },
  {
   "cell_type": "code",
   "execution_count": 16,
   "metadata": {},
   "outputs": [],
   "source": [
    "def strStr(haystack, needle):\n",
    "    if len(haystack) < len(needle): \n",
    "        return None\n",
    "    i = 0\n",
    "    while i < len(haystack) - len(needle) + 1:\n",
    "        j = 0\n",
    "        k = i\n",
    "        while j < len(needle):\n",
    "            if haystack[k] == needle[j]:\n",
    "                j+=1; k+=1\n",
    "            else:\n",
    "                break\n",
    "        if j == len(needle):\n",
    "            break\n",
    "        else:\n",
    "            i+=1\n",
    "    if i == len(haystack)-len(needle)+1:\n",
    "        return None\n",
    "    else:\n",
    "        return haystack[i:]"
   ]
  },
  {
   "cell_type": "code",
   "execution_count": 17,
   "metadata": {},
   "outputs": [],
   "source": [
    "def strStr(haystack, needle):\n",
    "    if len(haystack) < len(needle): \n",
    "        return None\n",
    "    l1 = len(haystack)\n",
    "    l2 = len(needle)\n",
    "    for i in range(l1 - l2 + 1):\n",
    "        count = 0\n",
    "        while count < l2 and haystack[i + count] == needle[count]:\n",
    "            count += 1\n",
    "        if count == l2:\n",
    "            return i\n",
    "    return -1"
   ]
  },
  {
   "cell_type": "markdown",
   "metadata": {},
   "source": [
    "# 子数组的积小于K"
   ]
  },
  {
   "cell_type": "markdown",
   "metadata": {},
   "source": [
    "你有一个正整数数组数字\n",
    "计算和打印子数组中所有元素的乘积小于k的(连续的)子数组的数目"
   ]
  },
  {
   "cell_type": "code",
   "execution_count": 18,
   "metadata": {},
   "outputs": [],
   "source": [
    "def bruteforce(nums, k):\n",
    "    count = 0\n",
    "    for i in range(len(nums)):\n",
    "        product = 1\n",
    "        for j in range(i, len(nums)):\n",
    "            product *= nums[j]\n",
    "            if (product >= k): break\n",
    "            count += 1\n",
    "    return count"
   ]
  },
  {
   "cell_type": "code",
   "execution_count": 19,
   "metadata": {},
   "outputs": [
    {
     "name": "stdout",
     "output_type": "stream",
     "text": [
      "8\n",
      "19\n"
     ]
    }
   ],
   "source": [
    "nums = [10, 5, 2, 6]\n",
    "k = bruteforce(nums, 100)\n",
    "print(k)\n",
    "\n",
    "nums = [1,5,4,3,6,2,7]\n",
    "k = bruteforce(nums, 100)\n",
    "print(k)"
   ]
  },
  {
   "cell_type": "code",
   "execution_count": 20,
   "metadata": {},
   "outputs": [],
   "source": [
    "def numSubarrayProductLessThanK(nums, k):\n",
    "    product = 1\n",
    "    i = 0\n",
    "    ans = 0\n",
    "    for j, num in enumerate(nums):\n",
    "        product *= num\n",
    "        while product >= k:\n",
    "            product /= nums[i]\n",
    "            i += 1\n",
    "        ans += (j - i + 1)\n",
    "    \n",
    "    return ans"
   ]
  },
  {
   "cell_type": "code",
   "execution_count": 21,
   "metadata": {},
   "outputs": [
    {
     "name": "stdout",
     "output_type": "stream",
     "text": [
      "8\n",
      "19\n"
     ]
    }
   ],
   "source": [
    "nums = [10, 5, 2, 6]\n",
    "k = numSubarrayProductLessThanK(nums, 100)\n",
    "print(k)\n",
    "\n",
    "nums = [1,5,4,3,6,2,7]\n",
    "k = numSubarrayProductLessThanK(nums, 100)\n",
    "print(k)"
   ]
  },
  {
   "cell_type": "markdown",
   "metadata": {},
   "source": [
    "# 最长不重复子串"
   ]
  },
  {
   "cell_type": "markdown",
   "metadata": {},
   "source": [
    "Given a string, find the length of the longest substring without repeating characters.\n",
    "\n",
    "Given \"abcabcbb\", the answer is \"abc\", which the length is 3.\n",
    "\n",
    "Given \"bbbbb\", the answer is \"b\", with the length of 1.\n",
    "\n",
    "Given \"pwwkew\", the answer is \"wke\", with the length of 3. Note that the answer must be a substring, \"pwke\" is a subsequence and not a substring."
   ]
  },
  {
   "cell_type": "code",
   "execution_count": 23,
   "metadata": {},
   "outputs": [],
   "source": [
    "def lengthOfLongestSubstring(s):\n",
    "    usedChar = set()\n",
    "    maxLength = 0\n",
    "    i = j = 0\n",
    "    n = len(s)\n",
    "    while (i < n and j < n):\n",
    "        if s[j] not in usedChar:\n",
    "            usedChar.add(s[j])\n",
    "            j += 1\n",
    "            maxLength = max(maxLength, j - i)\n",
    "        else:\n",
    "            usedChar.remove(s[i])\n",
    "            i += 1\n",
    "    return maxLength"
   ]
  },
  {
   "cell_type": "code",
   "execution_count": 24,
   "metadata": {},
   "outputs": [],
   "source": [
    "def lengthOfLongestSubstring(s):\n",
    "    start = maxLength = 0\n",
    "    usedChar = {}\n",
    "\n",
    "    for i, c in enumerate(s):\n",
    "        if c in usedChar and start <= usedChar[c]:\n",
    "            start = usedChar[c] + 1\n",
    "        else:\n",
    "            maxLength = max(maxLength, i - start + 1)\n",
    "\n",
    "        usedChar[c] = i\n",
    "\n",
    "    return maxLength"
   ]
  },
  {
   "cell_type": "markdown",
   "metadata": {},
   "source": [
    "# 找出字符串的所有字母异构词"
   ]
  },
  {
   "cell_type": "markdown",
   "metadata": {},
   "source": [
    "Given a string s and a non-empty string p, find all the start indices of p’s anagrams in s.\n",
    "\n",
    "Strings consists of lowercase English letters only and the length of both strings s and p will not be larger than 20,100. The order of output does not matter.\n",
    "\n",
    "Input:\n",
    "\n",
    "s: “cbaebabacd” p: “abc”\n",
    "\n",
    "Output:\n",
    "\n",
    "[0, 6]\n",
    "\n",
    "Explanation:\n",
    "\n",
    "The substring with start index = 0 is “cba”, which is an anagram of “abc”.\n",
    "\n",
    "The substring with start index = 6 is “bac”, which is an anagram of “abc”."
   ]
  },
  {
   "cell_type": "code",
   "execution_count": 25,
   "metadata": {},
   "outputs": [],
   "source": [
    "import collections\n",
    "def findAnagrams(s, p):\n",
    "    begin, end = 0, 0\n",
    "    count = len(p)\n",
    "    ans = []\n",
    "    d = collections.Counter(p)\n",
    "\n",
    "    while end < len(s):\n",
    "        # map[char]>=1, meaning the new char is in p, then count--\n",
    "        if d[s[end]] > 0:\n",
    "            count -= 1\n",
    "        d[s[end]] -= 1\n",
    "        end += 1\n",
    "\n",
    "        # find an anagram\n",
    "        if count == 0:\n",
    "            ans.append(begin)\n",
    "\n",
    "        # find a window, then advance begin to shrink the window\n",
    "        if end - begin == len(p):\n",
    "            # advance begin\n",
    "            d[s[begin]] += 1\n",
    "            begin += 1\n",
    "            # # map[char]>=1, meaning the exit char is in p, then count++\n",
    "            if d[s[begin-1]] >= 1:\n",
    "                count += 1\n",
    "\n",
    "    return ans"
   ]
  },
  {
   "cell_type": "code",
   "execution_count": 26,
   "metadata": {},
   "outputs": [],
   "source": [
    "from collections import Counter\n",
    "\n",
    "def findAnagrams(s, p):\n",
    "    res = []\n",
    "    pCounter = Counter(p)\n",
    "    sCounter = Counter(s[:len(p)-1])\n",
    "    for i in range(len(p)-1,len(s)):\n",
    "        sCounter[s[i]] += 1   # include a new char in the window\n",
    "        if sCounter == pCounter:    # This step is O(1), since there are at most 26 English letters \n",
    "            res.append(i-len(p)+1)   # append the starting index\n",
    "        sCounter[s[i-len(p)+1]] -= 1   # decrease the count of oldest char in the window\n",
    "        if sCounter[s[i-len(p)+1]] == 0:\n",
    "            del sCounter[s[i-len(p)+1]]   # remove the count if it is 0\n",
    "    return res"
   ]
  },
  {
   "cell_type": "markdown",
   "metadata": {},
   "source": [
    "# 最小窗口子串"
   ]
  },
  {
   "cell_type": "markdown",
   "metadata": {},
   "source": [
    "Given a string S and a string T, find the minimum window in S which will contain all the characters in T in complexity O(n).\n",
    "\n",
    "For example,\n",
    "\n",
    "S = “ADOBECODEBANC”\n",
    "\n",
    "T = “ABC”\n",
    "\n",
    "Minimum window is “BANC”.\n",
    "\n",
    "Note:\n",
    "\n",
    "If there is no such window in S that covers all characters in T, return the empty string “”.\n",
    "\n",
    "If there are multiple such windows, you are guaranteed that there will always be only one unique minimum window in S."
   ]
  },
  {
   "cell_type": "code",
   "execution_count": 28,
   "metadata": {},
   "outputs": [],
   "source": [
    "import sys\n",
    "def minWindow(s, t):\n",
    "    if len(t) > len(s):\n",
    "        return \"\"\n",
    "    lt = len(t)\n",
    "    count = lt\n",
    "    ct = collections.Counter(t)\n",
    "    left = 0\n",
    "    right = 0\n",
    "    minLength = sys.maxsize\n",
    "    notfound = 1\n",
    "    ansleft = 0\n",
    "    ansright = 0\n",
    "    print(ct)\n",
    "    for i in range(len(s)):\n",
    "        # found in t\n",
    "        if ct[s[i]] > 0:\n",
    "            count -= 1\n",
    "        ct[s[i]] -= 1\n",
    "        #print(s[i], ct)\n",
    "        # found a window, containing all chars from t\n",
    "        while count == 0:\n",
    "            right = i\n",
    "            notfound = 0\n",
    "            if right - left < minLength:\n",
    "                minLength = right-left\n",
    "                ansleft = left\n",
    "                ansright = right\n",
    "            # when map[left] is 0, meaning the exit char is in t, then count++\n",
    "            if ct[s[left]] == 0:\n",
    "                count += 1\n",
    "            ct[s[left]] += 1\n",
    "            #print(\"left: \", s[left], ct)\n",
    "            left += 1\n",
    "    if notfound == 1:\n",
    "        return \"\"\n",
    "    return s[ansleft:ansright+1]\n"
   ]
  },
  {
   "cell_type": "markdown",
   "metadata": {},
   "source": [
    "# 最长的子字符串，最多有K个不同的字符"
   ]
  },
  {
   "cell_type": "code",
   "execution_count": 29,
   "metadata": {},
   "outputs": [],
   "source": [
    "def lengthOfLongestSubstringKDistinct(s, k):\n",
    "    longest, start, distinct_count, visited = 0, 0, 0, [0 for _ in range(256)]\n",
    "    for i, char in enumerate(s):\n",
    "        if visited[ord(char)] == 0:\n",
    "            distinct_count += 1\n",
    "        visited[ord(char)] += 1\n",
    "\n",
    "        while distinct_count > k:\n",
    "            visited[ord(s[start])] -= 1\n",
    "            if visited[ord(s[start])] == 0:\n",
    "                distinct_count -= 1\n",
    "            start += 1\n",
    "\n",
    "        longest = max(longest, i - start + 1)\n",
    "    return longest"
   ]
  },
  {
   "cell_type": "code",
   "execution_count": 30,
   "metadata": {},
   "outputs": [],
   "source": [
    "def lengthOfLongestSubstringKDistinct(s, k):\n",
    "    start = 0\n",
    "    longest = 0\n",
    "    char_dict = {}\n",
    "\n",
    "\n",
    "    for index in range(len(s)):\n",
    "        char = s[index]\n",
    "        char_dict[char] = char_dict.get(char, 0) + 1  # track count of chars\n",
    "\n",
    "        # decrease the size of sliding window until you have k unique chars in sliding window\n",
    "        while len(char_dict) > k: \n",
    "            char_dict[s[start]] -= 1\n",
    "            if char_dict[s[start]] == 0:\n",
    "                del char_dict[s[start]]\n",
    "            start += 1\n",
    "\n",
    "        longest = max(longest, index+1-start)\n",
    "\n",
    "    return longest"
   ]
  },
  {
   "cell_type": "markdown",
   "metadata": {},
   "source": [
    "# 滑动窗口最大值"
   ]
  },
  {
   "cell_type": "markdown",
   "metadata": {},
   "source": [
    "给定一个数组编号，有一个大小为k的滑动窗口，它从数组的最左边移动到最右边。你只能在窗口中看到k个数字。每次滑动窗口向右移动一个位置。\n",
    "For example,\n",
    "\n",
    "Given nums = [1,3,-1,-3,5,3,6,7], and k = 3."
   ]
  },
  {
   "cell_type": "code",
   "execution_count": 31,
   "metadata": {},
   "outputs": [],
   "source": [
    "def maxSlidingWindow(nums, k):\n",
    "    d = collections.deque()\n",
    "    out = []\n",
    "    for i, n in enumerate(nums):\n",
    "        while d and nums[d[-1]] < n:\n",
    "            d.pop()\n",
    "        d += i,\n",
    "        if d[0] == i - k:\n",
    "            d.popleft()\n",
    "        if i >= k - 1:\n",
    "            out += nums[d[0]],\n",
    "    return out"
   ]
  },
  {
   "cell_type": "code",
   "execution_count": null,
   "metadata": {},
   "outputs": [],
   "source": []
  }
 ],
 "metadata": {
  "kernelspec": {
   "display_name": "Python 3",
   "language": "python",
   "name": "python3"
  },
  "language_info": {
   "codemirror_mode": {
    "name": "ipython",
    "version": 3
   },
   "file_extension": ".py",
   "mimetype": "text/x-python",
   "name": "python",
   "nbconvert_exporter": "python",
   "pygments_lexer": "ipython3",
   "version": "3.6.4"
  },
  "toc": {
   "base_numbering": 1,
   "nav_menu": {},
   "number_sections": true,
   "sideBar": true,
   "skip_h1_title": false,
   "title_cell": "Table of Contents",
   "title_sidebar": "Contents",
   "toc_cell": false,
   "toc_position": {},
   "toc_section_display": true,
   "toc_window_display": true
  },
  "varInspector": {
   "cols": {
    "lenName": 16,
    "lenType": 16,
    "lenVar": 40
   },
   "kernels_config": {
    "python": {
     "delete_cmd_postfix": "",
     "delete_cmd_prefix": "del ",
     "library": "var_list.py",
     "varRefreshCmd": "print(var_dic_list())"
    },
    "r": {
     "delete_cmd_postfix": ") ",
     "delete_cmd_prefix": "rm(",
     "library": "var_list.r",
     "varRefreshCmd": "cat(var_dic_list()) "
    }
   },
   "types_to_exclude": [
    "module",
    "function",
    "builtin_function_or_method",
    "instance",
    "_Feature"
   ],
   "window_display": false
  }
 },
 "nbformat": 4,
 "nbformat_minor": 2
}
