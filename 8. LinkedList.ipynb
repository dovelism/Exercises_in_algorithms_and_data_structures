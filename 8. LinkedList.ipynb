{
 "cells": [
  {
   "cell_type": "raw",
   "metadata": {},
   "source": [
    "链表：\n",
    "[1] 数据成员：数据，数据类型，数据size，是否为空\n",
    "[2] 操作：插入，删除，查找，修改，还有一些特殊的操作。\n",
    "\n",
    "链表：由一系列数据记录构成，再每一个记录中有个区域包含一个指向下一个数据记录的索引（也就是一个链接）。"
   ]
  },
  {
   "cell_type": "raw",
   "metadata": {},
   "source": [
    "如何判断linklist有多少元素呢？\n",
    "Ans：我的最后一个元素的下一个为空，则linklist结束"
   ]
  },
  {
   "cell_type": "raw",
   "metadata": {},
   "source": [
    "链表与动态数组的区别：\n",
    "\n",
    "[1] 使用固定步数的操作可以在列表中任意节点做插入、删除操作。\n",
    "[2] 不允许随机访问，不能用index访问。\n",
    "\n",
    "链表比动态数组更省空间吗？  不一定的。因为不仅仅是要保存data，还要保存指针。"
   ]
  },
  {
   "cell_type": "markdown",
   "metadata": {},
   "source": [
    "# Ex.1 : 实现一个链表的ADT"
   ]
  },
  {
   "cell_type": "raw",
   "metadata": {},
   "source": [
    "创建一个空列表\n",
    "判定列表是否为空\n",
    "确定列表中元素个数\n",
    "在列表中给定位置添加一个元素\n",
    "在列表中给定位置删除一个元素\n",
    "删除列表中所有元素\n",
    "在列表中取到给定位置上的元素\n",
    "其他"
   ]
  },
  {
   "cell_type": "code",
   "execution_count": 24,
   "metadata": {},
   "outputs": [],
   "source": [
    "# 自己跟video写的\n",
    "\n",
    "class Node:\n",
    "    # value和 next\n",
    "    def __init__(self,value=None,next=None):\n",
    "        self.value = value\n",
    "        self.next =  next\n",
    "class LinkedList:\n",
    "    \n",
    "    def __init__(self):\n",
    "        self.head = Node()\n",
    "        self.size = 0\n",
    "        \n",
    "    def add_pre(self,value):\n",
    "        node = Node(value,None)\n",
    "        node.next = self.head.next\n",
    "        self.head.next = node\n",
    "        self.size +=1\n",
    "        \n",
    "    def length(self):\n",
    "        return self.size\n",
    "    \n",
    "    def add_last(self,value):\n",
    "        new_node = Node(value)\n",
    "        node = self.head\n",
    "        while node.next != None:\n",
    "            node = node.next\n",
    "        node.next = new_node\n",
    "        self.size +=1\n",
    "    \n",
    "    def print_list(self):\n",
    "        node = self.head\n",
    "        while node.next != None:\n",
    "            node = node.next\n",
    "            print(node.value,end=\" \")\n",
    "        print()"
   ]
  },
  {
   "cell_type": "code",
   "execution_count": 23,
   "metadata": {},
   "outputs": [
    {
     "name": "stdout",
     "output_type": "stream",
     "text": [
      "8 5 10 \n"
     ]
    }
   ],
   "source": [
    "ll = LinkedList()\n",
    "ll.add_pre(5)\n",
    "ll.add_pre(8)\n",
    "ll.add_last(10)\n",
    "#print(ll.length())\n",
    "ll.print_list()"
   ]
  },
  {
   "cell_type": "raw",
   "metadata": {},
   "source": [
    "答案给的，比较完整"
   ]
  },
  {
   "cell_type": "code",
   "execution_count": 2,
   "metadata": {},
   "outputs": [],
   "source": [
    "class Empty(Exception):\n",
    "    pass"
   ]
  },
  {
   "cell_type": "code",
   "execution_count": 3,
   "metadata": {},
   "outputs": [],
   "source": [
    "class KeyError(Exception):\n",
    "    pass"
   ]
  },
  {
   "cell_type": "code",
   "execution_count": 4,
   "metadata": {},
   "outputs": [],
   "source": [
    "class Outbound(Exception):\n",
    "    pass"
   ]
  },
  {
   "cell_type": "code",
   "execution_count": 5,
   "metadata": {},
   "outputs": [],
   "source": [
    "from time import clock\n",
    "\n",
    "def timer(f):\n",
    "    def _f(*args):\n",
    "        t0 = clock()\n",
    "        f(*args)\n",
    "        return clock() - t0\n",
    "    return _f\n"
   ]
  },
  {
   "cell_type": "code",
   "execution_count": 7,
   "metadata": {},
   "outputs": [],
   "source": [
    "class Node:\n",
    "    def __init__ (self, value = None, next = None):\n",
    "        self.value = value\n",
    "        self.next = next\n",
    "\n",
    "class LinkedList:\n",
    "    def __init__(self):\n",
    "        self.head = Node()\n",
    "        self.tail = None\n",
    "        self.length = 0\n",
    "\n",
    "    def peek(self):\n",
    "        if not self.head.next:\n",
    "            raise Empty( 'LinkedList is empty' )\n",
    "        return self.head.next\n",
    "\n",
    "    def get_first(self):\n",
    "        if not self.head.next:\n",
    "            raise Empty( 'LinkedList is empty' )\n",
    "        return self.head.next\n",
    "        \n",
    "    def get_last(self):\n",
    "        if not self.head.next:\n",
    "            raise Empty( 'LinkedList is empty' )\n",
    "        node = self.head\n",
    "        while node.next != None:\n",
    "            node = node.next\n",
    "        return node\n",
    "    \n",
    "    def get(self, index):\n",
    "        if (index < 0 or index >= self.length):\n",
    "            raise Outbound( 'index is out of bound' );\n",
    "        if not self.head.next:\n",
    "            raise Empty( 'LinkedList is empty' )\n",
    "        node = self.head.next\n",
    "        for i in range(index):\n",
    "            node = node.next\n",
    "        return node\n",
    "                \n",
    "    def add_first(self, value):\n",
    "        node = Node(value, None)\n",
    "        node.next = self.head.next\n",
    "        self.head.next = node\n",
    "        self.length += 1   \n",
    "        \n",
    "    def add_last(self, value):\n",
    "        new_node = Node(value)\n",
    "        node = self.head\n",
    "        while node.next != None:\n",
    "            node = node.next\n",
    "        node.next = new_node\n",
    "        self.length += 1\n",
    "\n",
    "    def add(self, index, value):\n",
    "        if (index < 0 or index > self.length):\n",
    "            raise Outbound( 'index is out of bound' )\n",
    "        if not self.head.next:\n",
    "            raise Empty( 'LinkedList is empty' )\n",
    "        new_node = Node(value)\n",
    "        node = self.head\n",
    "        for i in range(index):\n",
    "            node = node.next\n",
    "        new_node.next = node.next;\n",
    "        node.next = new_node;\n",
    "        self.length += 1     \n",
    "        \n",
    "    def remove_first(self):\n",
    "        if not self.head.next:\n",
    "            raise Empty( 'LinkedList is empty' )\n",
    "        value = self.head.next\n",
    "        self.head.next = self.head.next.next\n",
    "        self.length -= 1\n",
    "        return value    \n",
    "        \n",
    "    def remove_last(self):\n",
    "        if not self.head.next:\n",
    "            raise Empty( 'LinkedList is empty' )\n",
    "        node = self.head.next\n",
    "        prev = self.head\n",
    "        while node.next != None:\n",
    "            prev = node\n",
    "            node = node.next\n",
    "        prev.next = None\n",
    "        return node.value\n",
    "\n",
    "    def remove(self, index):\n",
    "        if (index < 0 or index >= self.length):\n",
    "            raise Outbound( 'index is out of bound' );\n",
    "        if not self.head.next:\n",
    "            raise Empty( 'LinkedList is empty' )\n",
    "        node = self.head\n",
    "        for i in range(index):\n",
    "            node = node.next\n",
    "        result = node.next;\n",
    "        node.next = node.next.next;\n",
    "        self.length += 1     \n",
    "        return result;      \n",
    "        \n",
    "    def printlist(self):\n",
    "        node = self.head.next\n",
    "        count = 0\n",
    "        while node and count<20:\n",
    "            print(node.value, end = \" \")\n",
    "            node = node.next\n",
    "            count = count + 1\n",
    "        print('')"
   ]
  },
  {
   "cell_type": "markdown",
   "metadata": {},
   "source": [
    "# Ex.2 : 删除链表中的节点，除了结尾，只允许访问那个节点"
   ]
  },
  {
   "cell_type": "code",
   "execution_count": 8,
   "metadata": {},
   "outputs": [],
   "source": [
    "def delete_node(node):\n",
    "    print(node.value)\n",
    "    node.value = node.next.value\n",
    "    node.next = node.next.next"
   ]
  },
  {
   "cell_type": "code",
   "execution_count": 10,
   "metadata": {},
   "outputs": [
    {
     "name": "stdout",
     "output_type": "stream",
     "text": [
      "1 2 3 4 \n",
      "2\n",
      "1 3 4 \n"
     ]
    }
   ],
   "source": [
    "lst = LinkedList()\n",
    "lst.add_last(1)\n",
    "lst.add_last(2)\n",
    "lst.add_last(3)\n",
    "lst.add_last(4)\n",
    "lst.printlist() \n",
    "delete_node(lst.head.next.next)\n",
    "lst.printlist()"
   ]
  },
  {
   "cell_type": "markdown",
   "metadata": {},
   "source": [
    "# Ex.3 : 找到中间节点"
   ]
  },
  {
   "cell_type": "code",
   "execution_count": 11,
   "metadata": {},
   "outputs": [],
   "source": [
    "def find_middle(lst):\n",
    "    assert lst.head is not None and lst.head.next is not None\n",
    "    \n",
    "    head = lst.head\n",
    "    fast = head\n",
    "    slow = head\n",
    "    \n",
    "    while fast is not None and fast.next is not None:\n",
    "        fast = fast.next.next\n",
    "        slow = slow.next\n",
    "    \n",
    "    return slow.value"
   ]
  },
  {
   "cell_type": "code",
   "execution_count": 12,
   "metadata": {},
   "outputs": [
    {
     "name": "stdout",
     "output_type": "stream",
     "text": [
      "1\n",
      "2\n",
      "3\n"
     ]
    }
   ],
   "source": [
    "lst = LinkedList()\n",
    "#find_middle(lst)\n",
    "lst.add_last(1)\n",
    "print(find_middle(lst))\n",
    "lst.add_last(2)\n",
    "lst.add_last(3)\n",
    "lst.add_last(4)\n",
    "print(find_middle(lst))\n",
    "\n",
    "lst.add_last(5)\n",
    "print(find_middle(lst))"
   ]
  },
  {
   "cell_type": "markdown",
   "metadata": {},
   "source": [
    "# Ex.4 是否有环"
   ]
  },
  {
   "cell_type": "code",
   "execution_count": 13,
   "metadata": {},
   "outputs": [],
   "source": [
    "def has_cycle(lst):\n",
    "    return has_cycle_helper(lst.head)\n",
    "\n",
    "def has_cycle_helper(head):\n",
    "    if head is None:\n",
    "        return False\n",
    "    \n",
    "    slow = head \n",
    "    fast = head\n",
    "    \n",
    "    while fast is not None and fast.next is not None:\n",
    "        fast = fast.next.next\n",
    "        slow = slow.next\n",
    "        \n",
    "        if slow==fast:\n",
    "            return True\n",
    "        \n",
    "    return False"
   ]
  },
  {
   "cell_type": "code",
   "execution_count": 14,
   "metadata": {},
   "outputs": [
    {
     "name": "stdout",
     "output_type": "stream",
     "text": [
      "False\n",
      "False\n",
      "True\n"
     ]
    }
   ],
   "source": [
    "node1 = Node(1)\n",
    "print(has_cycle_helper(node1))\n",
    "node2 = Node(2)\n",
    "node3 = Node(3)\n",
    "node1.next = node2\n",
    "node2.next = node3\n",
    "print(has_cycle_helper(node1))\n",
    "node3.next = node1\n",
    "print(has_cycle_helper(node1))"
   ]
  },
  {
   "cell_type": "markdown",
   "metadata": {},
   "source": [
    "# Ex.5 : 环的开始"
   ]
  },
  {
   "cell_type": "code",
   "execution_count": 15,
   "metadata": {},
   "outputs": [],
   "source": [
    "def find_beginning(head):\n",
    "    if head is None:\n",
    "        return None\n",
    "    \n",
    "    slow = head\n",
    "    fast = head\n",
    "    \n",
    "    while fast is not None and fast.next is not None:\n",
    "        fast = fast.next.next\n",
    "        slow = slow.next\n",
    "        \n",
    "        if slow==fast:\n",
    "            fast = head\n",
    "            break\n",
    "        \n",
    "    if fast is None or fast.next is None:\n",
    "        return None\n",
    "    \n",
    "    while fast != slow:\n",
    "        fast = fast.next\n",
    "        slow = slow.next\n",
    "\n",
    "    return slow"
   ]
  },
  {
   "cell_type": "code",
   "execution_count": 12,
   "metadata": {},
   "outputs": [
    {
     "name": "stdout",
     "output_type": "stream",
     "text": [
      "1\n",
      "2\n",
      "3\n",
      "2\n"
     ]
    }
   ],
   "source": [
    "node1 = Node(1)\n",
    "node2 = Node(2)\n",
    "node3 = Node(3)\n",
    "node1.next = node2\n",
    "node2.next = node3\n",
    "node3.next = node1\n",
    "print(find_beginning(node1).value)\n",
    "node3.next = node2\n",
    "print(find_beginning(node1).value)\n",
    "node3.next = node3\n",
    "print(find_beginning(node1).value)\n",
    "node4 = Node(4)\n",
    "node3.next = node4\n",
    "node4.next = node2\n",
    "print(find_beginning(node1).value)"
   ]
  },
  {
   "cell_type": "markdown",
   "metadata": {},
   "source": [
    "# Ex.6: 删除倒数第N个节点"
   ]
  },
  {
   "cell_type": "code",
   "execution_count": 16,
   "metadata": {},
   "outputs": [],
   "source": [
    "def remove_nth(lst, n):\n",
    "    assert n <= lst.length() and n > 0\n",
    "    \n",
    "    fast = lst.head\n",
    "    while n>0:\n",
    "        fast = fast.next\n",
    "        n = n - 1\n",
    "        \n",
    "    slow = lst.head\n",
    "    while fast.next is not None:\n",
    "        fast = fast.next\n",
    "        slow = slow.next\n",
    "        \n",
    "    result = slow.next\n",
    "    slow.next = slow.next.next\n",
    "    \n",
    "    lst.length = lst.length() - 1\n",
    "        \n",
    "    return result"
   ]
  },
  {
   "cell_type": "code",
   "execution_count": 34,
   "metadata": {},
   "outputs": [
    {
     "name": "stdout",
     "output_type": "stream",
     "text": [
      "5\n",
      "1 3 7 9 \n"
     ]
    }
   ],
   "source": [
    "lst = LinkedList()\n",
    "lst.add_last(1)\n",
    "lst.add_last(3)\n",
    "lst.add_last(5)\n",
    "lst.add_last(7)\n",
    "lst.add_last(9)\n",
    "print(remove_nth(lst, 3).value)\n",
    "lst.print_list()"
   ]
  },
  {
   "cell_type": "markdown",
   "metadata": {},
   "source": [
    "# Ex.7: 分半"
   ]
  },
  {
   "cell_type": "code",
   "execution_count": 17,
   "metadata": {},
   "outputs": [],
   "source": [
    "def split(head):\n",
    "    if (head is None):\n",
    "        return\n",
    "    slow = head\n",
    "    fast = head\n",
    "    front_last_node = slow\n",
    "    while (fast is not None):\n",
    "        front_last_node = slow\n",
    "        slow = slow.next\n",
    "        fast = fast.next.next if fast.next is not None else None\n",
    "    front_last_node.next = None\n",
    "    front = head\n",
    "    back = slow\n",
    "    return (front, back)"
   ]
  },
  {
   "cell_type": "markdown",
   "metadata": {},
   "source": [
    "# 8. 合并两个有序链表 "
   ]
  },
  {
   "cell_type": "raw",
   "metadata": {},
   "source": [
    "Merge two sorted linked lists and return it as a new list.\n",
    "\n",
    "Input: 1->2->4, 1->3->4\n",
    "\n",
    "Output: 1->1->2->3->4->4"
   ]
  },
  {
   "cell_type": "code",
   "execution_count": 20,
   "metadata": {},
   "outputs": [],
   "source": [
    "# iteratively\n",
    "# O(m + n)\n",
    "def mergeTwoLists1(l1, l2):\n",
    "    dummy = cur = Node(0)\n",
    "    while l1 and l2:\n",
    "        if l1.value < l2.value:\n",
    "            cur.next = l1\n",
    "            l1 = l1.next\n",
    "        else:\n",
    "            cur.next = l2\n",
    "            l2 = l2.next\n",
    "        cur = cur.next\n",
    "    cur.next = l1 or l2\n",
    "    return dummy.next"
   ]
  },
  {
   "cell_type": "code",
   "execution_count": 21,
   "metadata": {},
   "outputs": [
    {
     "name": "stdout",
     "output_type": "stream",
     "text": [
      "1 1 2 3 4 4 \n"
     ]
    }
   ],
   "source": [
    "node11 = Node(1)\n",
    "node12 = Node(2)\n",
    "node14 = Node(4)\n",
    "node11.next = node12\n",
    "node12.next = node14\n",
    "\n",
    "node21 = Node(1)\n",
    "node23 = Node(3)\n",
    "node24 = Node(4)\n",
    "node21.next = node23\n",
    "node23.next = node24\n",
    "\n",
    "node = mergeTwoLists1(node11, node21)\n",
    "lst = LinkedList()\n",
    "lst.head.next = node\n",
    "lst.printlist()"
   ]
  },
  {
   "cell_type": "code",
   "execution_count": 22,
   "metadata": {},
   "outputs": [],
   "source": [
    "# recursively    \n",
    "def mergeTwoLists2(l1, l2):\n",
    "    if not l1 or not l2:\n",
    "        return l1 or l2\n",
    "    if l1.value < l2.value:\n",
    "        l1.next = mergeTwoLists2(l1.next, l2)\n",
    "        return l1\n",
    "    else:\n",
    "        l2.next = mergeTwoLists2(l1, l2.next)\n",
    "        return l2"
   ]
  },
  {
   "cell_type": "markdown",
   "metadata": {},
   "source": [
    "# 9. 两个链表的交集"
   ]
  },
  {
   "cell_type": "raw",
   "metadata": {},
   "source": [
    "找出两个单链表相交的起始点。"
   ]
  },
  {
   "cell_type": "code",
   "execution_count": 23,
   "metadata": {},
   "outputs": [],
   "source": [
    "def getIntersectionNode(headA, headB):\n",
    "    curA, curB = headA, headB\n",
    "    lenA, lenB = 0, 0\n",
    "    while curA is not None:\n",
    "        lenA += 1\n",
    "        curA = curA.next\n",
    "    while curB is not None:\n",
    "        lenB += 1\n",
    "        curB = curB.next\n",
    "    curA, curB = headA, headB\n",
    "    if lenA > lenB:\n",
    "        for i in range(lenA-lenB):\n",
    "            curA = curA.next\n",
    "    elif lenB > lenA:\n",
    "        for i in range(lenB-lenA):\n",
    "            curB = curB.next\n",
    "    while curB != curA:\n",
    "        curB = curB.next\n",
    "        curA = curA.next\n",
    "    return curA"
   ]
  },
  {
   "cell_type": "code",
   "execution_count": 24,
   "metadata": {},
   "outputs": [],
   "source": [
    "def getIntersectionNode2(headA, headB):\n",
    "    if headA and headB:\n",
    "        A, B = headA, headB\n",
    "        while A!=B:\n",
    "            A = A.next if A else headB\n",
    "            B = B.next if B else headA\n",
    "        return A"
   ]
  },
  {
   "cell_type": "markdown",
   "metadata": {},
   "source": [
    "# 10. 链表的插入排序"
   ]
  },
  {
   "cell_type": "code",
   "execution_count": 25,
   "metadata": {},
   "outputs": [],
   "source": [
    "def insertionSortList(head):\n",
    "    dummy = Node(0)\n",
    "    cur = head\n",
    "    # pre is the sorted part\n",
    "    # when see a new node, start from dummy\n",
    "    # cur is the unsorted part\n",
    "    while cur is not None: # 还有元素没有被探索\n",
    "        pre = dummy\n",
    "        while pre.next is not None and pre.next.value < cur.value:\n",
    "            pre = pre.next  \n",
    "        # 插入部分    \n",
    "        temp = cur.next\n",
    "        cur.next = pre.next\n",
    "        pre.next = cur\n",
    "        cur = temp\n",
    "    return dummy.next"
   ]
  },
  {
   "cell_type": "code",
   "execution_count": 26,
   "metadata": {},
   "outputs": [
    {
     "name": "stdout",
     "output_type": "stream",
     "text": [
      "-9 1 -13 6 5 \n",
      "-13 -9 1 5 6 \n"
     ]
    }
   ],
   "source": [
    "node1 = Node(-9)\n",
    "node2 = Node(1)\n",
    "node3 = Node(-13)\n",
    "node4 = Node(6)\n",
    "node5 = Node(5)\n",
    "node1.next = node2\n",
    "node2.next = node3\n",
    "node3.next = node4\n",
    "node4.next = node5\n",
    "lst = LinkedList()\n",
    "lst.head.next = node1\n",
    "lst.printlist()\n",
    "\n",
    "node = insertionSortList(node1)\n",
    "\n",
    "lst.head.next = node\n",
    "lst.printlist()"
   ]
  },
  {
   "cell_type": "markdown",
   "metadata": {},
   "source": [
    "# 11. 链表排序"
   ]
  },
  {
   "cell_type": "raw",
   "metadata": {},
   "source": [
    "使用常数空间复杂度，在O(n log n)时间内对链表进行排序。"
   ]
  },
  {
   "cell_type": "code",
   "execution_count": 27,
   "metadata": {},
   "outputs": [],
   "source": [
    "def sortList(head):\n",
    "    if head is None or head.next is None:\n",
    "        return head\n",
    "    mid = getMiddle(head)\n",
    "    rHead = mid.next\n",
    "    mid.next = None\n",
    "    return merge(sortList(head), sortList(rHead))\n",
    "\n",
    "def merge(lHead, rHead):\n",
    "    dummyNode = dummyHead = Node(0)\n",
    "    while lHead and rHead:\n",
    "        if lHead.value < rHead.value:\n",
    "            dummyHead.next = lHead\n",
    "            lHead = lHead.next\n",
    "        else:\n",
    "            dummyHead.next = rHead\n",
    "            rHead = rHead.next\n",
    "        dummyHead = dummyHead.next\n",
    "    if lHead:\n",
    "        dummyHead.next = lHead\n",
    "    elif rHead:\n",
    "        dummyHead.next = rHead\n",
    "    return dummyNode.next\n",
    "\n",
    "def getMiddle(head):\n",
    "    if head is None:\n",
    "        return head\n",
    "    slow = head\n",
    "    fast = head\n",
    "    while fast.next and fast.next.next:\n",
    "        slow = slow.next\n",
    "        fast = fast.next.next\n",
    "    return slow"
   ]
  },
  {
   "cell_type": "code",
   "execution_count": 28,
   "metadata": {},
   "outputs": [
    {
     "name": "stdout",
     "output_type": "stream",
     "text": [
      "1 5 6 9 13 \n"
     ]
    }
   ],
   "source": [
    "node1 = Node(9)\n",
    "node2 = Node(1)\n",
    "node3 = Node(13)\n",
    "node4 = Node(6)\n",
    "node5 = Node(5)\n",
    "node1.next = node2\n",
    "node2.next = node3\n",
    "node3.next = node4\n",
    "node4.next = node5\n",
    "node = sortList(node1)\n",
    "lst = LinkedList()\n",
    "lst.head.next = node\n",
    "lst.printlist()"
   ]
  },
  {
   "cell_type": "markdown",
   "metadata": {},
   "source": [
    "# 12. 链表分区排序"
   ]
  },
  {
   "cell_type": "raw",
   "metadata": {},
   "source": [
    "给定一个链表和一个值x，对其进行分区，使所有小于x的节点位于大于或等于x的节点之前。"
   ]
  },
  {
   "cell_type": "code",
   "execution_count": 29,
   "metadata": {},
   "outputs": [],
   "source": [
    "def partition(head, x):\n",
    "    left_head = Node(None)  # head of the list with nodes values < x\n",
    "    right_head = Node(None)  # head of the list with nodes values >= x\n",
    "    left = left_head  # attach here nodes with values < x\n",
    "    right = right_head  # attach here nodes with values >= x\n",
    "    # traverse the list and attach current node to left or right nodes\n",
    "    while head:\n",
    "        if head.value < x:\n",
    "            left.next = head\n",
    "            left = left.next\n",
    "        else:  # head.val >= x\n",
    "            right.next = head\n",
    "            right = right.next\n",
    "        head = head.next\n",
    "    right.next = None  # set tail of the right list to None\n",
    "    left.next = right_head.next  # attach left list to the right\n",
    "    return left_head.next  # head of a new partitioned list"
   ]
  },
  {
   "cell_type": "code",
   "execution_count": 30,
   "metadata": {},
   "outputs": [
    {
     "name": "stdout",
     "output_type": "stream",
     "text": [
      "1 2 2 4 3 5 \n"
     ]
    }
   ],
   "source": [
    "#head = 1->4->3->2->5->2, x = 3\n",
    "node1 = Node(1)\n",
    "node2 = Node(4)\n",
    "node3 = Node(3)\n",
    "node4 = Node(2)\n",
    "node5 = Node(5)\n",
    "node6 = Node(2)\n",
    "node1.next = node2\n",
    "node2.next = node3\n",
    "node3.next = node4\n",
    "node4.next = node5\n",
    "node5.next = node6\n",
    "node = partition(node1, 3)\n",
    "lst = LinkedList()\n",
    "lst.head.next = node\n",
    "lst.printlist()"
   ]
  },
  {
   "cell_type": "markdown",
   "metadata": {},
   "source": [
    "# 13. 反转链表 1"
   ]
  },
  {
   "cell_type": "code",
   "execution_count": 31,
   "metadata": {},
   "outputs": [],
   "source": [
    "def reverse(lst):\n",
    "    head = lst.head\n",
    "    result = None\n",
    "    current = head.next\n",
    "    nxt = None\n",
    "    \n",
    "    while current is not None:\n",
    "        nxt = current.next\n",
    "        current.next = result\n",
    "        result = current\n",
    "        current = nxt\n",
    "        \n",
    "    head.next = result"
   ]
  },
  {
   "cell_type": "code",
   "execution_count": 32,
   "metadata": {},
   "outputs": [
    {
     "name": "stdout",
     "output_type": "stream",
     "text": [
      "1 3 5 7 9 \n",
      "9 7 5 3 1 \n"
     ]
    }
   ],
   "source": [
    "lst = LinkedList()\n",
    "lst.add_last(1)\n",
    "lst.add_last(3)\n",
    "lst.add_last(5)\n",
    "lst.add_last(7)\n",
    "lst.add_last(9)\n",
    "lst.printlist()\n",
    "reverse(lst)\n",
    "lst.printlist()"
   ]
  },
  {
   "cell_type": "code",
   "execution_count": 33,
   "metadata": {},
   "outputs": [],
   "source": [
    "def reverseRecursion(node):\n",
    "    if (node is None or node.next is None):\n",
    "        return node\n",
    "    p = reverseRecursion(node.next)\n",
    "    node.next.next = node\n",
    "    node.next = None\n",
    "    return p\n"
   ]
  },
  {
   "cell_type": "markdown",
   "metadata": {},
   "source": [
    "# 14. 反转链表2（给定位置反转）"
   ]
  },
  {
   "cell_type": "raw",
   "metadata": {},
   "source": [
    "For example:\n",
    "\n",
    "Given 1->2->3->4->5->NULL, m = 2 and n = 4,\n",
    "\n",
    "return 1->4->3->2->5->NULL."
   ]
  },
  {
   "cell_type": "code",
   "execution_count": 34,
   "metadata": {},
   "outputs": [],
   "source": [
    "def reverseBetween(head, m, n):\n",
    "    if m == n:\n",
    "        return head\n",
    "\n",
    "    dummyNode = Node(0)\n",
    "    dummyNode.next = head\n",
    "    pre = dummyNode\n",
    "\n",
    "    for i in range(m - 1):\n",
    "        pre = pre.next\n",
    "\n",
    "    # reverse the [m, n] nodes\n",
    "    result = None\n",
    "    current = pre.next\n",
    "    for i in range(n - m + 1):\n",
    "        nxt = current.next\n",
    "        current.next = result\n",
    "        result = current\n",
    "        current = nxt\n",
    "\n",
    "    pre.next.next = current\n",
    "    pre.next = result\n",
    "\n",
    "    return dummyNode.next"
   ]
  },
  {
   "cell_type": "code",
   "execution_count": 35,
   "metadata": {},
   "outputs": [
    {
     "name": "stdout",
     "output_type": "stream",
     "text": [
      "1 3 5 7 9 \n",
      "1 7 5 3 9 \n",
      "3 5 7 1 9 \n",
      "7 5 3 1 9 \n"
     ]
    }
   ],
   "source": [
    "lst = LinkedList()\n",
    "lst.add_last(1)\n",
    "lst.add_last(3)\n",
    "lst.add_last(5)\n",
    "lst.add_last(7)\n",
    "lst.add_last(9)\n",
    "lst.printlist()\n",
    "lst.head.next = reverseBetween(lst.head.next, 2, 4)\n",
    "lst.printlist()\n",
    "lst.head.next = reverseBetween(lst.head.next, 1, 4)\n",
    "lst.printlist()\n",
    "lst.head.next = reverseBetween(lst.head.next, 1, 3)\n",
    "lst.printlist()"
   ]
  },
  {
   "cell_type": "markdown",
   "metadata": {},
   "source": [
    "# 15. 反转列表3（根据指定元素个数反转）"
   ]
  },
  {
   "cell_type": "raw",
   "metadata": {},
   "source": [
    "给定一个链表，每次反转一个链表k的节点，并返回其修改后的链表。k是一个正整数，小于或等于链表的长度。如果节点的数量不是k的倍数，那么最后被遗漏的节点应该保持原样。您不能更改节点中的值，只能更改节点本身。只允许使用常数内存。"
   ]
  },
  {
   "cell_type": "raw",
   "metadata": {},
   "source": [
    "For example,\n",
    "\n",
    "Given this linked list: 1->2->3->4->5\n",
    "\n",
    "For k = 2, you should return: 2->1->4->3->5\n",
    "\n",
    "For k = 3, you should return: 3->2->1->4->5"
   ]
  },
  {
   "cell_type": "code",
   "execution_count": 47,
   "metadata": {},
   "outputs": [],
   "source": [
    "def reverseKGroup(head, k):\n",
    "    if head is None or k < 2:\n",
    "        return head\n",
    "    \n",
    "    next_head = head\n",
    "    for i in range(k - 1):\n",
    "        next_head = next_head.next\n",
    "        if next_head is None:\n",
    "            return head\n",
    "    ret = next_head\n",
    "    \n",
    "    current = head\n",
    "    while next_head:\n",
    "        tail = current\n",
    "        prev = None\n",
    "        for i in range(k):\n",
    "            if next_head:\n",
    "                next_head = next_head.next\n",
    "            nxt = current.next\n",
    "            current.next = prev\n",
    "            prev = current\n",
    "            current = nxt\n",
    "        tail.next = next_head or current\n",
    "    return ret"
   ]
  },
  {
   "cell_type": "code",
   "execution_count": 48,
   "metadata": {},
   "outputs": [
    {
     "name": "stdout",
     "output_type": "stream",
     "text": [
      "1 3 5 7 9 \n",
      "3 1 7 5 9 \n",
      "7 1 3 5 9 \n",
      "5 3 1 7 9 \n",
      "9 7 1 3 5 \n",
      "9 7 1 3 5 \n"
     ]
    }
   ],
   "source": [
    "lst = LinkedList()\n",
    "lst.add_last(1)\n",
    "lst.add_last(3)\n",
    "lst.add_last(5)\n",
    "lst.add_last(7)\n",
    "lst.add_last(9)\n",
    "lst.printlist()\n",
    "lst.head.next = reverseKGroup(lst.head.next, 2)\n",
    "lst.printlist()\n",
    "lst.head.next = reverseKGroup(lst.head.next, 3)\n",
    "lst.printlist()\n",
    "lst.head.next = reverseKGroup(lst.head.next, 4)\n",
    "lst.printlist()\n",
    "lst.head.next = reverseKGroup(lst.head.next, 5)\n",
    "lst.printlist()\n",
    "lst.head.next = reverseKGroup(lst.head.next, 7)\n",
    "lst.printlist()"
   ]
  },
  {
   "cell_type": "markdown",
   "metadata": {},
   "source": [
    "# 16. 反转列表4（成对反转）"
   ]
  },
  {
   "cell_type": "raw",
   "metadata": {},
   "source": [
    "给定一个链表，成对交换节点，每两个相邻节点交换一次，并返回它的头。"
   ]
  },
  {
   "cell_type": "raw",
   "metadata": {},
   "source": [
    "For example,\n",
    "\n",
    "Given 1->2->3->4, you should return the list as 2->1->4->3.\n",
    "\n",
    "Your algorithm should use only constant space. You may not modify the values in the list, only nodes itself can be changed."
   ]
  },
  {
   "cell_type": "code",
   "execution_count": 36,
   "metadata": {},
   "outputs": [],
   "source": [
    "def swapPairs(head):\n",
    "    dummy = cur = Node(0)\n",
    "    dummy.next = head\n",
    "    \n",
    "    while cur.next and cur.next.next:\n",
    "        p1 = cur.next\n",
    "        p2 = cur.next.next\n",
    "        cur.next  = p2\n",
    "        p1.next = p2.next\n",
    "        p2.next = p1\n",
    "        cur = cur.next.next\n",
    "    return dummy.next"
   ]
  },
  {
   "cell_type": "code",
   "execution_count": 46,
   "metadata": {},
   "outputs": [
    {
     "name": "stdout",
     "output_type": "stream",
     "text": [
      "1 2 3 4 \n",
      "2 1 4 3 \n",
      "1 2 3 4 \n"
     ]
    }
   ],
   "source": [
    "lst = LinkedList()\n",
    "lst.add_last(1)\n",
    "lst.add_last(2)\n",
    "lst.add_last(3)\n",
    "lst.add_last(4)\n",
    "lst.printlist()\n",
    "lst.head.next = swapPairs(lst.head.next)\n",
    "lst.printlist()\n",
    "lst.head.next = swapPairs(lst.head.next)\n",
    "lst.printlist()"
   ]
  },
  {
   "cell_type": "code",
   "execution_count": 38,
   "metadata": {},
   "outputs": [
    {
     "name": "stdout",
     "output_type": "stream",
     "text": [
      "1 2 3 4 5 \n",
      "2 1 4 3 5 \n"
     ]
    }
   ],
   "source": [
    "lst.add_last(5)\n",
    "lst.printlist()\n",
    "lst.head.next = swapPairs(lst.head.next)\n",
    "lst.printlist()"
   ]
  },
  {
   "cell_type": "markdown",
   "metadata": {},
   "source": [
    "# 17. 回文链表的判断"
   ]
  },
  {
   "cell_type": "code",
   "execution_count": 39,
   "metadata": {},
   "outputs": [],
   "source": [
    "def isPalindrome(head):\n",
    "    rev = None\n",
    "    slow = fast = head\n",
    "    while fast and fast.next:\n",
    "        fast = fast.next.next\n",
    "        rev, rev.next, slow = slow, rev, slow.next\n",
    "    if fast:\n",
    "        slow = slow.next\n",
    "    while rev and rev.value == slow.value:\n",
    "        slow = slow.next\n",
    "        rev = rev.next\n",
    "    return not rev"
   ]
  },
  {
   "cell_type": "code",
   "execution_count": 40,
   "metadata": {},
   "outputs": [
    {
     "name": "stdout",
     "output_type": "stream",
     "text": [
      "1 3 5 7 9 \n",
      "False\n",
      "1 \n"
     ]
    }
   ],
   "source": [
    "lst = LinkedList()\n",
    "lst.add_last(1)\n",
    "lst.add_last(3)\n",
    "lst.add_last(5)\n",
    "lst.add_last(7)\n",
    "lst.add_last(9)\n",
    "lst.printlist()\n",
    "print(isPalindrome(lst.head.next))\n",
    "lst.printlist()"
   ]
  },
  {
   "cell_type": "code",
   "execution_count": 41,
   "metadata": {},
   "outputs": [
    {
     "name": "stdout",
     "output_type": "stream",
     "text": [
      "1 3 5 3 1 \n",
      "True\n",
      "1 \n"
     ]
    }
   ],
   "source": [
    "lst = LinkedList()\n",
    "lst.add_last(1)\n",
    "lst.add_last(3)\n",
    "lst.add_last(5)\n",
    "lst.add_last(3)\n",
    "lst.add_last(1)\n",
    "lst.printlist()\n",
    "print(isPalindrome(lst.head.next))\n",
    "lst.printlist()"
   ]
  },
  {
   "cell_type": "markdown",
   "metadata": {},
   "source": [
    "# 18. 从排序链表中删除重复元素"
   ]
  },
  {
   "cell_type": "raw",
   "metadata": {},
   "source": [
    "给定一个已排序的链表，删除所有重复项，使每个元素只出现一次。"
   ]
  },
  {
   "cell_type": "raw",
   "metadata": {},
   "source": [
    "For example,\n",
    "\n",
    "Given 1->1->2, return 1->2.\n",
    "\n",
    "Given 1->1->2->3->3, return 1->2->3."
   ]
  },
  {
   "cell_type": "code",
   "execution_count": 42,
   "metadata": {},
   "outputs": [],
   "source": [
    "def deleteDuplicates(head):\n",
    "    if head == None:\n",
    "        return head\n",
    "\n",
    "    node = head\n",
    "\n",
    "    while node.next:\n",
    "        if node.value == node.next.value:\n",
    "            node.next = node.next.next\n",
    "        else:\n",
    "            node = node.next\n",
    "\n",
    "    return head"
   ]
  },
  {
   "cell_type": "code",
   "execution_count": 43,
   "metadata": {},
   "outputs": [
    {
     "name": "stdout",
     "output_type": "stream",
     "text": [
      "1 3 5 7 9 \n"
     ]
    }
   ],
   "source": [
    "lst = LinkedList()\n",
    "lst.add_last(1)\n",
    "lst.add_last(3)\n",
    "lst.add_last(3)\n",
    "lst.add_last(3)\n",
    "lst.add_last(5)\n",
    "lst.add_last(7)\n",
    "lst.add_last(7)\n",
    "lst.add_last(9)\n",
    "lst.head.next = deleteDuplicates(lst.head.next)\n",
    "lst.printlist()"
   ]
  },
  {
   "cell_type": "markdown",
   "metadata": {},
   "source": [
    "# 19. 从排序链表中去除所有重复过的元素"
   ]
  },
  {
   "cell_type": "raw",
   "metadata": {},
   "source": [
    "给定一个已排序的链表，删除所有重复编号的节点，只留下与原始列表不同的编号。\n",
    "For example,\n",
    "\n",
    "Given 1->2->3->3->4->4->5, return 1->2->5.\n",
    "\n",
    "Given 1->1->1->2->3, return 2->3."
   ]
  },
  {
   "cell_type": "code",
   "execution_count": 44,
   "metadata": {},
   "outputs": [],
   "source": [
    "def deleteDuplicates2(head):\n",
    "    dummy = pre = Node(0)\n",
    "    dummy.next = head\n",
    "    while head and head.next:\n",
    "        if head.value == head.next.value:\n",
    "            while head and head.next and head.value == head.next.value:\n",
    "                head = head.next\n",
    "            head = head.next\n",
    "            pre.next = head\n",
    "        else:\n",
    "            pre = pre.next\n",
    "            head = head.next\n",
    "    return dummy.next"
   ]
  },
  {
   "cell_type": "code",
   "execution_count": 45,
   "metadata": {},
   "outputs": [
    {
     "name": "stdout",
     "output_type": "stream",
     "text": [
      "1 5 9 \n"
     ]
    }
   ],
   "source": [
    "lst = LinkedList()\n",
    "lst.add_last(1)\n",
    "lst.add_last(3)\n",
    "lst.add_last(3)\n",
    "lst.add_last(3)\n",
    "lst.add_last(5)\n",
    "lst.add_last(7)\n",
    "lst.add_last(7)\n",
    "lst.add_last(9)\n",
    "lst.head.next = deleteDuplicates2(lst.head.next)\n",
    "lst.printlist()"
   ]
  },
  {
   "cell_type": "code",
   "execution_count": null,
   "metadata": {},
   "outputs": [],
   "source": []
  }
 ],
 "metadata": {
  "kernelspec": {
   "display_name": "Python 3",
   "language": "python",
   "name": "python3"
  },
  "language_info": {
   "codemirror_mode": {
    "name": "ipython",
    "version": 3
   },
   "file_extension": ".py",
   "mimetype": "text/x-python",
   "name": "python",
   "nbconvert_exporter": "python",
   "pygments_lexer": "ipython3",
   "version": "3.6.4"
  },
  "toc": {
   "base_numbering": 1,
   "nav_menu": {},
   "number_sections": true,
   "sideBar": true,
   "skip_h1_title": false,
   "title_cell": "Table of Contents",
   "title_sidebar": "Contents",
   "toc_cell": false,
   "toc_position": {},
   "toc_section_display": true,
   "toc_window_display": true
  },
  "varInspector": {
   "cols": {
    "lenName": 16,
    "lenType": 16,
    "lenVar": 40
   },
   "kernels_config": {
    "python": {
     "delete_cmd_postfix": "",
     "delete_cmd_prefix": "del ",
     "library": "var_list.py",
     "varRefreshCmd": "print(var_dic_list())"
    },
    "r": {
     "delete_cmd_postfix": ") ",
     "delete_cmd_prefix": "rm(",
     "library": "var_list.r",
     "varRefreshCmd": "cat(var_dic_list()) "
    }
   },
   "types_to_exclude": [
    "module",
    "function",
    "builtin_function_or_method",
    "instance",
    "_Feature"
   ],
   "window_display": false
  }
 },
 "nbformat": 4,
 "nbformat_minor": 2
}
