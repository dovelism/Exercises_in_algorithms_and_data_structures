{
 "cells": [
  {
   "cell_type": "markdown",
   "metadata": {},
   "source": [
    "# 偶数子串的数目"
   ]
  },
  {
   "cell_type": "markdown",
   "metadata": {},
   "source": [
    "Given a string of digits 0 – 9. The task is to count number of substrings which when convert into integer form an even number.\n",
    "\n",
    "Input : str = \"1234\".\n",
    "\n",
    "Output : 6\n",
    "\n",
    "\"2\", \"4\", \"12\", \"34\", \"234\", \"1234\" are 6 substring which are even.\n",
    "\n",
    "Input : str = \"154\".\n",
    "\n",
    "Output : 3\n",
    "\n",
    "Input : str = \"15\".\n",
    "\n",
    "Output : 0"
   ]
  },
  {
   "cell_type": "code",
   "execution_count": 1,
   "metadata": {},
   "outputs": [],
   "source": [
    "def evenNum(s):\n",
    "    count = 0\n",
    "    for i in range(len(s)):\n",
    "        if int(s[i]) % 2 == 0:\n",
    "            count += i + 1\n",
    "    return count"
   ]
  },
  {
   "cell_type": "code",
   "execution_count": 2,
   "metadata": {},
   "outputs": [
    {
     "data": {
      "text/plain": [
       "6"
      ]
     },
     "execution_count": 2,
     "metadata": {},
     "output_type": "execute_result"
    }
   ],
   "source": [
    "evenNum(\"1234\")"
   ]
  },
  {
   "cell_type": "markdown",
   "metadata": {},
   "source": [
    "# 学生出勤记录 1"
   ]
  },
  {
   "cell_type": "markdown",
   "metadata": {},
   "source": [
    "You are given a string representing an attendance record for a student. The record only contains the following three characters:\n",
    "\n",
    "'A' : Absent.\n",
    "\n",
    "'L' : Late.\n",
    "\n",
    "'P' : Present.\n",
    "\n",
    "A student could be rewarded if his attendance record doesn't contain more than one 'A' (absent) or more than two continuous 'L' (late).\n",
    "\n",
    "You need to return whether the student could be rewarded according to his attendance record.\n",
    "\n",
    "Example 1:\n",
    "\n",
    "Input: \"PPALLP\"\n",
    "\n",
    "Output: True\n",
    "\n",
    "Example 2:\n",
    "\n",
    "Input: \"PPALLL\"\n",
    "\n",
    "Output: False"
   ]
  },
  {
   "cell_type": "code",
   "execution_count": 3,
   "metadata": {},
   "outputs": [],
   "source": [
    "def checkRecord(self, s):\n",
    "    return not (s.count('A') > 1 or 'LLL' in s)"
   ]
  },
  {
   "cell_type": "markdown",
   "metadata": {},
   "source": [
    "# 计算具有相同的第一个和最后一个字符的子字符串"
   ]
  },
  {
   "cell_type": "markdown",
   "metadata": {},
   "source": [
    "We are given a string S, we need to find count of all contiguous substrings starting and ending with same character.\n",
    "\n",
    "Input : S = \"abcab\"\n",
    "\n",
    "Output : 7\n",
    "\n",
    "There are 15 substrings of \"abcab\"\n",
    "\n",
    "Out of the above substrings, there are 7 substrings : a, abca, b, bcab, c, a and b."
   ]
  },
  {
   "cell_type": "code",
   "execution_count": 6,
   "metadata": {},
   "outputs": [],
   "source": [
    "# Solution: Brute Force\n",
    "def countSub(s):\n",
    "    result = 0\n",
    "    for i in range(len(s)):\n",
    "        for j in range(i, len(s)):\n",
    "            if (s[i] == s[j]):\n",
    "                result += 1\n",
    "    return result"
   ]
  },
  {
   "cell_type": "code",
   "execution_count": 7,
   "metadata": {},
   "outputs": [
    {
     "data": {
      "text/plain": [
       "7"
      ]
     },
     "execution_count": 7,
     "metadata": {},
     "output_type": "execute_result"
    }
   ],
   "source": [
    "s = \"abcab\"\n",
    "countSub(s)"
   ]
  },
  {
   "cell_type": "code",
   "execution_count": 8,
   "metadata": {},
   "outputs": [],
   "source": [
    "# Solution: a little math\n",
    "\n",
    "from collections import Counter\n",
    "\n",
    "def countSub(s):\n",
    "    counter = Counter(s)\n",
    "    result = 0\n",
    "    for x in counter:\n",
    "        result += counter[x] * (counter[x] + 1) // 2\n",
    "        \n",
    "    return result"
   ]
  },
  {
   "cell_type": "code",
   "execution_count": 9,
   "metadata": {},
   "outputs": [
    {
     "data": {
      "text/plain": [
       "7"
      ]
     },
     "execution_count": 9,
     "metadata": {},
     "output_type": "execute_result"
    }
   ],
   "source": [
    "s = \"abcab\"\n",
    "countSub(s)"
   ]
  },
  {
   "cell_type": "markdown",
   "metadata": {},
   "source": [
    "# 字符串中连续重复字符的最大值"
   ]
  },
  {
   "cell_type": "code",
   "execution_count": 13,
   "metadata": {},
   "outputs": [],
   "source": [
    "def maxRepeating(s):\n",
    "    n = len(s)\n",
    "    count = 0\n",
    "    result = s[0]\n",
    "    local = 1\n",
    "    \n",
    "    for i in range(n):\n",
    "        if (i < n - 1 and s[i] == s[i+1]):\n",
    "            local += 1\n",
    "        else:\n",
    "            if (local > count):\n",
    "                count = local\n",
    "                result = s[i]\n",
    "            local = 1\n",
    "    return result"
   ]
  },
  {
   "cell_type": "markdown",
   "metadata": {},
   "source": [
    "# 同字母异序词"
   ]
  },
  {
   "cell_type": "markdown",
   "metadata": {},
   "source": [
    "Write a function to check whether two given strings are anagram of each other or not. An anagram of a string is another string that contains same characters, only the order of characters can be different. For example, “abcd” and “dabc” are anagram of each other."
   ]
  },
  {
   "cell_type": "code",
   "execution_count": 14,
   "metadata": {},
   "outputs": [],
   "source": [
    "def areAnagram(str1, str2):\n",
    "    if len(str1) != len(str2):\n",
    "        return False\n",
    "    return sorted(str1) == sorted(str2)"
   ]
  },
  {
   "cell_type": "code",
   "execution_count": 15,
   "metadata": {},
   "outputs": [],
   "source": [
    "def areAnagram(str1, str2):\n",
    "    NO_OF_CHARS = 256\n",
    "    # Create two count arrays and initialize all values as 0\n",
    "    count1 = [0] * NO_OF_CHARS\n",
    "    count2 = [0] * NO_OF_CHARS\n",
    " \n",
    "    # For each character in input strings, increment count\n",
    "    # in the corresponding count array\n",
    "    for i in str1:\n",
    "        count1[ord(i)]+=1\n",
    " \n",
    "    for i in str2:\n",
    "        count2[ord(i)]+=1\n",
    " \n",
    "    # If both strings are of different length. Removing this\n",
    "    # condition will make the program fail for strings like\n",
    "    # \"aaca\" and \"aca\"\n",
    "    if len(str1) != len(str2):\n",
    "        return False\n",
    " \n",
    "    # Compare count arrays\n",
    "    for i in range(NO_OF_CHARS):\n",
    "        if count1[i] != count2[i]:\n",
    "            return False\n",
    " \n",
    "    return True"
   ]
  },
  {
   "cell_type": "code",
   "execution_count": 16,
   "metadata": {},
   "outputs": [
    {
     "data": {
      "text/plain": [
       "True"
      ]
     },
     "execution_count": 16,
     "metadata": {},
     "output_type": "execute_result"
    }
   ],
   "source": [
    "s1 = \"listen\"\n",
    "s2 = \"silent\"\n",
    "areAnagram(s1, s2)"
   ]
  },
  {
   "cell_type": "code",
   "execution_count": 17,
   "metadata": {},
   "outputs": [],
   "source": [
    "from collections import Counter\n",
    "\n",
    "def areAnagram(str1, str2):\n",
    "    return Counter(str1) == Counter(str2)"
   ]
  },
  {
   "cell_type": "markdown",
   "metadata": {},
   "source": [
    "# 在一个字符串内找到所有同字母异序词"
   ]
  },
  {
   "cell_type": "markdown",
   "metadata": {},
   "source": [
    "Given a string s and a non-empty string p, find all the start indices of p's anagrams in s.\n",
    "\n",
    "Strings consists of lowercase English letters only and the length of both strings s and p will not be larger than 20,100.\n",
    "\n",
    "The order of output does not matter.\n",
    "\n",
    "Input:\n",
    "\n",
    "s: \"cbaebabacd\" p: \"abc\"\n",
    "\n",
    "Output:\n",
    "\n",
    "[0, 6]\n",
    "\n",
    "Explanation:\n",
    "\n",
    "The substring with start index = 0 is \"cba\", which is an anagram of \"abc\".\n",
    "\n",
    "The substring with start index = 6 is \"bac\", which is an anagram of \"abc\"."
   ]
  },
  {
   "cell_type": "code",
   "execution_count": 18,
   "metadata": {},
   "outputs": [],
   "source": [
    "from collections import Counter\n",
    "\n",
    "def findAnagrams(s, p):\n",
    "    res = []\n",
    "    pCounter = Counter(p)\n",
    "    sCounter = Counter(s[:len(p) - 1])\n",
    "    for i in range(len(p) - 1,len(s)):\n",
    "        sCounter[s[i]] += 1   # include a new char in the window\n",
    "        if sCounter == pCounter:    # This step is O(1), since there are at most 26 English letters \n",
    "            res.append(i-len(p)+1)   # append the starting index\n",
    "        sCounter[s[i-len(p)+1]] -= 1   # decrease the count of oldest char in the window\n",
    "        if sCounter[s[i-len(p)+1]] == 0:\n",
    "            del sCounter[s[i-len(p)+1]]   # remove the count if it is 0\n",
    "    return res"
   ]
  },
  {
   "cell_type": "code",
   "execution_count": 19,
   "metadata": {},
   "outputs": [
    {
     "data": {
      "text/plain": [
       "[0, 6]"
      ]
     },
     "execution_count": 19,
     "metadata": {},
     "output_type": "execute_result"
    }
   ],
   "source": [
    "s = \"cbaebabacd\" \n",
    "p = \"abc\"\n",
    "findAnagrams(s, p)"
   ]
  },
  {
   "cell_type": "markdown",
   "metadata": {},
   "source": [
    "# 找到同字母异序映射"
   ]
  },
  {
   "cell_type": "markdown",
   "metadata": {},
   "source": [
    "Given two lists Aand B, and B is an anagram of A. B is an anagram of A means B is made by randomizing the order of the elements in A.\n",
    "\n",
    "We want to find an index mapping P, from A to B. A mapping P[i] = j means the ith element in A appears in B at index j.\n",
    "\n",
    "These lists A and B may contain duplicates. If there are multiple answers, output any of them.\n",
    "\n",
    "For example, given\n",
    "\n",
    "A = [12, 28, 46, 32, 50]\n",
    "\n",
    "B = [50, 12, 32, 46, 28]\n",
    "\n",
    "We should return\n",
    "\n",
    "[1, 4, 3, 2, 0]\n",
    "\n",
    "as P[0] = 1 because the 0th element of A appears at B1, and P1 = 4 because the 1st element of A appears at B[4], and so on."
   ]
  },
  {
   "cell_type": "code",
   "execution_count": 20,
   "metadata": {},
   "outputs": [],
   "source": [
    "def anagramMappings1(A, B):\n",
    "    answer = []\n",
    "    for a in A:\n",
    "        for i,b in enumerate(B):\n",
    "            if a == b:\n",
    "                answer.append(i)\n",
    "                break\n",
    "    return answer"
   ]
  },
  {
   "cell_type": "code",
   "execution_count": 21,
   "metadata": {},
   "outputs": [],
   "source": [
    "def anagramMappings2(A, B):\n",
    "    return [B.index(a) for a in A]"
   ]
  },
  {
   "cell_type": "code",
   "execution_count": 22,
   "metadata": {},
   "outputs": [],
   "source": [
    "def anagramMappings3(A, B):\n",
    "    d = {}\n",
    "    for i,b in enumerate(B):\n",
    "        d[b] = i\n",
    "    return [d[a] for a in A]"
   ]
  },
  {
   "cell_type": "code",
   "execution_count": 23,
   "metadata": {},
   "outputs": [
    {
     "data": {
      "text/plain": [
       "[1, 4, 3, 2, 0]"
      ]
     },
     "execution_count": 23,
     "metadata": {},
     "output_type": "execute_result"
    }
   ],
   "source": [
    "A = [12, 28, 46, 32, 50]\n",
    "B = [50, 12, 32, 46, 28]\n",
    "anagramMappings3(A, B)"
   ]
  },
  {
   "cell_type": "markdown",
   "metadata": {},
   "source": [
    "# 判断是否为翻转字符串"
   ]
  },
  {
   "cell_type": "markdown",
   "metadata": {},
   "source": [
    "给定一个字符串s1和一个字符串s2，写一个代码片段说明s2是否是s1的旋转。"
   ]
  },
  {
   "cell_type": "code",
   "execution_count": 24,
   "metadata": {},
   "outputs": [],
   "source": [
    "def areRotations(string1, string2):\n",
    "    size1 = len(string1)\n",
    "    size2 = len(string2)\n",
    "\n",
    "    if size1 != size2:\n",
    "        return 0\n",
    " \n",
    "    temp = string1 + string1\n",
    " \n",
    "    return temp.count(string2) > 0"
   ]
  },
  {
   "cell_type": "markdown",
   "metadata": {},
   "source": [
    "# 翻转字符串 2"
   ]
  },
  {
   "cell_type": "raw",
   "metadata": {},
   "source": [
    "写一个旋转函数(arr[]， d, n)，旋转的arr[]大小为n * d。"
   ]
  },
  {
   "cell_type": "code",
   "execution_count": 25,
   "metadata": {},
   "outputs": [],
   "source": [
    "def reverse(arr, start, end):\n",
    "    while start < end:\n",
    "        arr[start], arr[end] = arr[end], arr[start]\n",
    "        start += 1\n",
    "        end -= 1\n",
    "\n",
    "def rotate(arr, d):\n",
    "    n = len(arr)\n",
    "    reverse(arr, 0, d - 1)\n",
    "    reverse(arr, d, n - 1)\n",
    "    reverse(arr, 0, n - 1)"
   ]
  },
  {
   "cell_type": "markdown",
   "metadata": {},
   "source": [
    "# 判断回文"
   ]
  },
  {
   "cell_type": "code",
   "execution_count": 31,
   "metadata": {},
   "outputs": [],
   "source": [
    "# 解法1\n",
    "\n",
    "def reverse(s):\n",
    "    return s[::-1]\n",
    " \n",
    "def isPalindrome(s):\n",
    "    # Calling reverse function\n",
    "    rev = reverse(s)\n",
    " \n",
    "    # Checking if both string are equal or not\n",
    "    if (s == rev):\n",
    "        return True\n",
    "    return False"
   ]
  },
  {
   "cell_type": "code",
   "execution_count": 27,
   "metadata": {},
   "outputs": [
    {
     "name": "stdout",
     "output_type": "stream",
     "text": [
      "True\n",
      "False\n"
     ]
    }
   ],
   "source": [
    "s = \"malayalam\"\n",
    "print(isPalindrome(s))\n",
    "\n",
    "s = \"helloworld\"\n",
    "print(isPalindrome(s))"
   ]
  },
  {
   "cell_type": "code",
   "execution_count": 30,
   "metadata": {},
   "outputs": [],
   "source": [
    "# 解法2\n",
    "def isPalindrome(s):\n",
    "    return s == s[::-1]"
   ]
  },
  {
   "cell_type": "code",
   "execution_count": 32,
   "metadata": {},
   "outputs": [],
   "source": [
    "# 解法3\n",
    "\n",
    "def isPalindrome(s):\n",
    "    for i in range(len(s) // 2):\n",
    "        if s[i] != s[- 1 - i]:\n",
    "            return False\n",
    "\n",
    "    return True"
   ]
  },
  {
   "cell_type": "markdown",
   "metadata": {},
   "source": [
    "# 回文数"
   ]
  },
  {
   "cell_type": "code",
   "execution_count": 41,
   "metadata": {},
   "outputs": [],
   "source": [
    "def intPalindrome(n):\n",
    "    return str(n) == str(n)[::-1]"
   ]
  },
  {
   "cell_type": "code",
   "execution_count": 40,
   "metadata": {},
   "outputs": [],
   "source": [
    "def isPalindrome(x):\n",
    "    if x < 0:\n",
    "        return False\n",
    "\n",
    "    ranger = 1\n",
    "    while x // ranger >= 10:\n",
    "        ranger *= 10\n",
    "    print(ranger)\n",
    "    while x:\n",
    "        left = x // ranger\n",
    "        right = x % 10\n",
    "        if left != right:\n",
    "            return False\n",
    "\n",
    "        x = (x % ranger) // 10\n",
    "        ranger //= 100\n",
    "\n",
    "    return True"
   ]
  },
  {
   "cell_type": "markdown",
   "metadata": {},
   "source": [
    "# 旋转回文"
   ]
  },
  {
   "cell_type": "raw",
   "metadata": {},
   "source": [
    "检查给定的字符串是否是一个回文的旋转"
   ]
  },
  {
   "cell_type": "code",
   "execution_count": 44,
   "metadata": {},
   "outputs": [],
   "source": [
    "def reverse(s):\n",
    "    return s[::-1]\n",
    " \n",
    "def isPalindrome(s):\n",
    "    # Calling reverse function\n",
    "    rev = reverse(s)\n",
    " \n",
    "    # Checking if both string are equal or not\n",
    "    if (s == rev):\n",
    "        return True\n",
    "    return False\n",
    "\n",
    "def isRotationOfPalindrome(s):\n",
    " \n",
    "    # If string itself is palindrome\n",
    "    if isPalindrome(s):\n",
    "        return True\n",
    " \n",
    "    # Now try all rotations one by one\n",
    "    n = len(s)\n",
    "    for i in range(len(s) - 1):\n",
    "        s1 = s[i+1:n]\n",
    "        s2 = s[0:i+1]\n",
    " \n",
    "        # Check if this rotation is palindrome\n",
    "        s1 += s2\n",
    "        \n",
    "        if isPalindrome(s1):\n",
    "            return True\n",
    " \n",
    "    return False"
   ]
  },
  {
   "cell_type": "code",
   "execution_count": 45,
   "metadata": {},
   "outputs": [
    {
     "name": "stdout",
     "output_type": "stream",
     "text": [
      "True\n",
      "False\n",
      "True\n"
     ]
    }
   ],
   "source": [
    "print(isRotationOfPalindrome(\"aab\"))\n",
    "print(isRotationOfPalindrome(\"abcde\"))\n",
    "print(isRotationOfPalindrome(\"aaaad\"))"
   ]
  },
  {
   "cell_type": "markdown",
   "metadata": {},
   "source": [
    "# 重新排列回文"
   ]
  },
  {
   "cell_type": "raw",
   "metadata": {},
   "source": [
    "Given a string, Check if characters of the given string can be rearranged to form a palindrome."
   ]
  },
  {
   "cell_type": "code",
   "execution_count": 46,
   "metadata": {},
   "outputs": [],
   "source": [
    "from collections import Counter\n",
    "def canRearrage(s):\n",
    "    odd = 0\n",
    "    counter = Counter(s)\n",
    "    for key in counter.keys():\n",
    "        if counter[key] % 2 == 1:\n",
    "            odd += 1\n",
    "        if odd > 1:\n",
    "            return False\n",
    "    return True"
   ]
  },
  {
   "cell_type": "code",
   "execution_count": 47,
   "metadata": {},
   "outputs": [
    {
     "name": "stdout",
     "output_type": "stream",
     "text": [
      "True\n",
      "True\n",
      "True\n",
      "False\n"
     ]
    }
   ],
   "source": [
    "print(canRearrage(\"baaaa\"))\n",
    "print(canRearrage(\"ababaa\"))\n",
    "print(canRearrage(\"ababcbaab\"))\n",
    "print(canRearrage(\"ababcbaa\"))"
   ]
  },
  {
   "cell_type": "markdown",
   "metadata": {},
   "source": [
    "# 最长的回文"
   ]
  },
  {
   "cell_type": "markdown",
   "metadata": {},
   "source": [
    "Given a string which consists of lowercase or uppercase letters, find the length of the longest palindromes that can be built with those letters.\n",
    "\n",
    "This is case sensitive, for example \"Aa\" is not considered a palindrome here."
   ]
  },
  {
   "cell_type": "code",
   "execution_count": 49,
   "metadata": {},
   "outputs": [],
   "source": [
    "from collections import Counter\n",
    "def longestPalindrome(s):\n",
    "    ans = 0\n",
    "    counter = Counter(s)\n",
    "    for key in counter.keys():\n",
    "        v = counter[key]\n",
    "        ans += v // 2 * 2\n",
    "        if ans % 2 == 0 and v % 2 == 1:\n",
    "            ans += 1\n",
    "    return ans"
   ]
  },
  {
   "cell_type": "code",
   "execution_count": 50,
   "metadata": {},
   "outputs": [
    {
     "data": {
      "text/plain": [
       "7"
      ]
     },
     "execution_count": 50,
     "metadata": {},
     "output_type": "execute_result"
    }
   ],
   "source": [
    "longestPalindrome(\"abccccdd\")"
   ]
  },
  {
   "cell_type": "markdown",
   "metadata": {},
   "source": [
    "# 在stream中的回文"
   ]
  },
  {
   "cell_type": "markdown",
   "metadata": {},
   "source": [
    "\n",
    "Input: str[] = \"abcba\"\n",
    "Output: a Yes   // \"a\" is palindrome\n",
    "        b No    // \"ab\" is not palindrome\n",
    "        c No    // \"abc\" is not palindrome\n",
    "        b No    // \"abcb\" is not palindrome\n",
    "        a Yes   // \"abcba\" is palindrome\n",
    "\n",
    "Input: str[] = \"aabaacaabaa\"\n",
    "Output:  a Yes   // \"a\" is palindrome\n",
    "         a Yes   // \"aa\" is palindrome\n",
    "         b No    // \"aab\" is not palindrome \n",
    "         a No    // \"aaba\" is not palindrome  \n",
    "         a Yes   // \"aabaa\" is palindrome  \n",
    "         c No    // \"aabaac\" is not palindrome  \n",
    "         a No    // \"aabaaca\" is not palindrome  \n",
    "         a No    // \"aabaacaa\" is not palindrome  \n",
    "         b No    // \"aabaacaab\" is not palindrome  \n",
    "         a No    // \"aabaacaaba\" is not palindrome  \n",
    "         a Yes   // \"aabaacaabaa\" is palindrome  "
   ]
  },
  {
   "cell_type": "code",
   "execution_count": 52,
   "metadata": {},
   "outputs": [],
   "source": [
    "# d is the number of characters in input alphabet\n",
    "d = 256\n",
    " \n",
    "# q is a prime number used for evaluating Rabin Karp's\n",
    "# Rolling hash\n",
    "q = 103\n",
    " \n",
    "def checkPalindromes(string):\n",
    " \n",
    "    # Length of input string\n",
    "    N = len(string)\n",
    " \n",
    "    # A single character is always a palindrome\n",
    "    print(string[0] + \" Yes\")\n",
    " \n",
    "    # Return if string has only one character\n",
    "    if N == 1:\n",
    "        return\n",
    " \n",
    "    # Initialize first half reverse and second half for\n",
    "    # as firstr and second characters\n",
    "    firstr = ord(string[0]) % q\n",
    "    second = ord(string[1]) % q\n",
    " \n",
    "    h = 1\n",
    "    i = 0\n",
    "    j = 0\n",
    " \n",
    "    # Now check for palindromes from second character\n",
    "    # onward\n",
    "    for i in range(1,N):\n",
    " \n",
    "        # If the hash values of 'firstr' and 'second'\n",
    "        # match, then only check individual characters\n",
    "        if firstr == second:\n",
    " \n",
    "            # Check if str[0..i] is palindrome using\n",
    "            # simple character by character match\n",
    "            for j in range(0,i//2):\n",
    "                if string[j] != string[i-j]:\n",
    "                    break\n",
    "            j += 1\n",
    "            if j == i//2:\n",
    "                print(string[i] + \" Yes\")\n",
    "            else:\n",
    "                print(string[i] + \" No\")\n",
    "        else:\n",
    "            print(string[i] + \" No\")\n",
    " \n",
    "        # Calculate hash values for next iteration.\n",
    "        # Don't calculate hash for next characters if\n",
    "        # this is the last character of string\n",
    "        if i != N-1:\n",
    " \n",
    "            # If i is even (next i is odd)\n",
    "            if i % 2 == 0:\n",
    " \n",
    "                # Add next character after first half at\n",
    "                # beginning of 'firstr'\n",
    "                h = (h*d) % q\n",
    "                firstr = (firstr + h*ord(string[i//2]))%q\n",
    " \n",
    "                # Add next character after second half at\n",
    "                # the end of second half.\n",
    "                second = (second*d + ord(string[i+1]))%q\n",
    "            else:\n",
    "                # If next i is odd (next i is even) then we\n",
    "                # need not to change firstr, we need to remove\n",
    "                # first character of second and append a\n",
    "                # character to it.\n",
    "                second = (d*(second + q - ord(string[(i+1)//2])*h)%q\n",
    "                            + ord(string[i+1]))%q"
   ]
  },
  {
   "cell_type": "markdown",
   "metadata": {},
   "source": [
    "# 最长的子序列"
   ]
  },
  {
   "cell_type": "markdown",
   "metadata": {},
   "source": [
    "Given a string ‘s’ and an integer k, find other string ‘t’ such that ‘t’ is the largest subsequence of given string ‘s’ and each character of ‘t’ must occur at least k times in string s.\n",
    "\n",
    "Input : s = \"baaabaacba\"\n",
    "\n",
    "k = 3\n",
    "\n",
    "Output : baaabaaba"
   ]
  },
  {
   "cell_type": "code",
   "execution_count": 53,
   "metadata": {},
   "outputs": [],
   "source": [
    "import collections\n",
    "\n",
    "def longestSub(s, k):\n",
    "    result = list()\n",
    "    c = collections.Counter(s)\n",
    "    for i in s:\n",
    "        if (c[i] >= k):\n",
    "            result.append(i)\n",
    "    return \"\".join(result)"
   ]
  },
  {
   "cell_type": "code",
   "execution_count": 54,
   "metadata": {},
   "outputs": [
    {
     "data": {
      "text/plain": [
       "'baaabaaba'"
      ]
     },
     "execution_count": 54,
     "metadata": {},
     "output_type": "execute_result"
    }
   ],
   "source": [
    "s = \"baaabaacba\"\n",
    "k = 3\n",
    "longestSub(s, k)"
   ]
  },
  {
   "cell_type": "markdown",
   "metadata": {},
   "source": [
    "# 检查子序列"
   ]
  },
  {
   "cell_type": "raw",
   "metadata": {},
   "source": [
    "给定两个字符串str1和str2。判断str1是否是str2的子序列。子序列是一个序列，它可以通过删除某些元素而不改变其余元素的顺序从另一个序列派生出来。\n",
    "输入:str1 = \"AXY\"， str2 = \"ADXCPY\"\n",
    "输出:True (str1是str2的子序列)\n",
    "输入:str1 = \"AXY\"， str2 = \"YADXCP\"\n",
    "输出:False (str1不是str2的子序列)"
   ]
  },
  {
   "cell_type": "code",
   "execution_count": 56,
   "metadata": {},
   "outputs": [],
   "source": [
    "# 解法 1\n",
    "def isSubSequence(string1, string2, m, n):\n",
    "    # Base Cases\n",
    "    if m == 0:    return True\n",
    "    if n == 0:    return False\n",
    " \n",
    "    # If last characters of two strings are matching\n",
    "    if string1[m-1] == string2[n-1]:\n",
    "        return isSubSequence(string1, string2, m-1, n-1)\n",
    " \n",
    "    # If last characters are not matching\n",
    "    return isSubSequence(string1, string2, m, n-1)"
   ]
  },
  {
   "cell_type": "code",
   "execution_count": 57,
   "metadata": {},
   "outputs": [],
   "source": [
    "# 解法 2\n",
    "\n",
    "def isSubSequence(str1, str2):\n",
    "    m = len(str1)\n",
    "    n = len(str2)\n",
    "    j = 0   # Index of str1\n",
    "    i = 0   # Index of str2\n",
    "    while j < m and i < n:\n",
    "        if str1[j] == str2[i]:  \n",
    "            j = j + 1\n",
    "        i = i + 1\n",
    "         \n",
    "    return j == m"
   ]
  },
  {
   "cell_type": "markdown",
   "metadata": {},
   "source": [
    "# 通过删除给定字符串中的字符得到的字典中最长的单词"
   ]
  },
  {
   "cell_type": "raw",
   "metadata": {},
   "source": [
    "给出一个字典和一个字符串' str '，找出字典中最长的可以通过删除给定' str '中的一些字符来形成的字符串。"
   ]
  },
  {
   "cell_type": "markdown",
   "metadata": {},
   "source": [
    "Giving a dictionary and a string ‘str’, find the longest string in dictionary which can be formed by deleting some characters of the given ‘str’.\n",
    "\n",
    "Examples:\n",
    "\n",
    "Input :\n",
    "\n",
    "dict = {\"ale\", \"apple\", \"monkey\", \"plea\"}\n",
    "\n",
    "str = \"abpcplea\"\n",
    "\n",
    "Output : apple"
   ]
  },
  {
   "cell_type": "code",
   "execution_count": 58,
   "metadata": {},
   "outputs": [],
   "source": [
    "def findLongestString(words, s):\n",
    "    result = \"\"\n",
    "    length = 0\n",
    "    for w in words:\n",
    "        if length < len(w) and isSubSequence(w, s):\n",
    "            result = w\n",
    "            length = len(w)\n",
    "    return result"
   ]
  },
  {
   "cell_type": "code",
   "execution_count": 59,
   "metadata": {},
   "outputs": [
    {
     "data": {
      "text/plain": [
       "'apple'"
      ]
     },
     "execution_count": 59,
     "metadata": {},
     "output_type": "execute_result"
    }
   ],
   "source": [
    "words = [\"ale\", \"apple\", \"monkey\", \"plea\"]\n",
    "s = \"abpcplea\"\n",
    "findLongestString(words, s)"
   ]
  },
  {
   "cell_type": "markdown",
   "metadata": {},
   "source": [
    "# 求所有子序列的和"
   ]
  },
  {
   "cell_type": "raw",
   "metadata": {},
   "source": [
    "给定一个n个整数的数组。任务是找出数组中每个子序列的和的和。"
   ]
  },
  {
   "cell_type": "code",
   "execution_count": 60,
   "metadata": {},
   "outputs": [],
   "source": [
    "def sumSub(arr):\n",
    "    ans = sum(arr)\n",
    "    return ans * pow(2, len(arr) - 1)"
   ]
  },
  {
   "cell_type": "code",
   "execution_count": 61,
   "metadata": {},
   "outputs": [
    {
     "name": "stdout",
     "output_type": "stream",
     "text": [
      "76\n"
     ]
    }
   ],
   "source": [
    "arr = [5, 6, 8]\n",
    "print(sumSub(arr))"
   ]
  },
  {
   "cell_type": "markdown",
   "metadata": {},
   "source": [
    "# 寻找"
   ]
  },
  {
   "cell_type": "raw",
   "metadata": {},
   "source": [
    "Return the index of the first occurrence of needle in haystack, or -1 if needle is not part of haystack."
   ]
  },
  {
   "cell_type": "code",
   "execution_count": 62,
   "metadata": {},
   "outputs": [],
   "source": [
    "def strStr(text, pattern):\n",
    "    for i in range(len(text) - len(pattern)+1):\n",
    "        if text[i:i+len(pattern)] == pattern:\n",
    "            return i\n",
    "    return -1"
   ]
  },
  {
   "cell_type": "code",
   "execution_count": 63,
   "metadata": {},
   "outputs": [],
   "source": [
    "def strStr(text, pattern):\n",
    "    \"\"\" \n",
    "    Brute force algorithm.\n",
    "    Time complexity: O(n * m). Space complexity: O(1),\n",
    "    where m, n are the lengths of text and pattern.\n",
    "    \"\"\"\n",
    "    n, m = len(text), len(pattern)\n",
    "    for i in range(n - m + 1):\n",
    "        start = i\n",
    "        for j in range(m):\n",
    "            if text[i] != pattern[j]:\n",
    "                break\n",
    "            i += 1\n",
    "        else:  # no break occured, i.e. match was found\n",
    "            return start\n",
    "    return -1"
   ]
  },
  {
   "cell_type": "code",
   "execution_count": 66,
   "metadata": {},
   "outputs": [],
   "source": [
    "# Rolling Hash\n",
    "\n",
    "def strStr(text, pattern):\n",
    "    base = 29\n",
    "    patternHash = 0\n",
    "    tempBase = 1\n",
    "    hayHash = 0\n",
    "    \n",
    "    for i in range(len(pattern) - 1, -1, -1):\n",
    "        patternHash += ord(pattern[i]) * tempBase\n",
    "        tempBase *= base\n",
    "        \n",
    "    tempBase = 1\n",
    "    for i in range(len(pattern) - 1, -1, -1):\n",
    "        hayHash += ord(text[i]) * tempBase\n",
    "        tempBase *= base    \n",
    "\n",
    "    if patternHash == hayHash and text[0:len(pattern)] == pattern:\n",
    "        return 0\n",
    "    \n",
    "    tempBase /= base\n",
    "    for i in range(len(pattern), len(text)):\n",
    "        hayHash = (hayHash - ord(text[i - len(pattern)]) * tempBase) * base + ord(text[i])\n",
    "        if hayHash == patternHash and text[i-len(pattern)+1:i+1] == pattern:\n",
    "            return i - len(pattern) + 1\n",
    "                                  \n",
    "    return -1\n",
    "                     "
   ]
  },
  {
   "cell_type": "markdown",
   "metadata": {},
   "source": [
    "# 用C替换所有为AB的字符串"
   ]
  },
  {
   "cell_type": "code",
   "execution_count": 68,
   "metadata": {},
   "outputs": [],
   "source": [
    "def translate(st) :\n",
    "    l = len(st)\n",
    "     \n",
    "    if (l < 2) :\n",
    "        return\n",
    " \n",
    "    i = 0 # Index in modified string\n",
    "    j = 0 # Index in original string\n",
    " \n",
    "    while (j < l - 1) :\n",
    "        # Replace occurrence of \"AB\" with \"C\"\n",
    "        if (st[j] == 'A' and st[j + 1] == 'B') :\n",
    "             \n",
    "            # Increment j by 2\n",
    "            j += 2\n",
    "            st[i] = 'C'\n",
    "            i += 1\n",
    "            continue\n",
    "         \n",
    "        st[i] = st[j]\n",
    "        i += 1\n",
    "        j += 1\n",
    " \n",
    "    if (j == l - 1) :\n",
    "        st[i] = st[j]\n",
    "        i += 1\n",
    " \n",
    "    # add a null character to\n",
    "    # terminate string\n",
    "    return i"
   ]
  },
  {
   "cell_type": "code",
   "execution_count": 69,
   "metadata": {},
   "outputs": [
    {
     "name": "stdout",
     "output_type": "stream",
     "text": [
      "h\n",
      "e\n",
      "l\n",
      "l\n",
      "o\n",
      "C\n",
      "w\n",
      "o\n",
      "r\n",
      "l\n",
      "d\n",
      "C\n",
      "G\n",
      "f\n",
      "G\n",
      "A\n",
      "A\n",
      "C\n"
     ]
    }
   ],
   "source": [
    "st = list(\"helloABworldABGfGAAAB\")\n",
    "length = translate(st)\n",
    "for i in range(length):\n",
    "    print(st[i])"
   ]
  },
  {
   "cell_type": "markdown",
   "metadata": {},
   "source": [
    "# “1(0+)1”模式出现次数的计数"
   ]
  },
  {
   "cell_type": "raw",
   "metadata": {},
   "source": [
    "Input : 1001010001\n",
    "Output : 3\n",
    "First sequence is in between 0th and 3rd index.\n",
    "Second sequence is in between 3rd and 5th index.\n",
    "Third sequence is in between 5th and 9th index.\n",
    "So total number of sequences comes out to be 3.\n",
    "\n",
    "Input : 1001ab010abc01001\n",
    "Output : 2\n",
    "First sequence is in between 0th and 3rd index.\n",
    "Second valid sequence is in between 13th and 16th index. \n",
    "So total number of sequences comes out to be 2."
   ]
  },
  {
   "cell_type": "code",
   "execution_count": 70,
   "metadata": {},
   "outputs": [],
   "source": [
    "def patternCount(s):\n",
    "    last = s[0]\n",
    "    i = 1\n",
    "    counter = 0\n",
    "    while (i < len(s)):\n",
    "         \n",
    "        # We found 0 and last character was '1',\n",
    "        # state change\n",
    "        if (s[i] == '0' and last == '1'):\n",
    "            while (s[i] == '0' and i < len(s)):\n",
    "                i += 1\n",
    "                if (i == len(s)):\n",
    "                    return counter\n",
    "                # After the stream of 0's, we got a '1',\n",
    "                # counter incremented\n",
    "                if (s[i] == '1'): \n",
    "                    counter += 1\n",
    "         \n",
    "        # Last character stored \n",
    "        last = s[i]\n",
    "        i += 1\n",
    "     \n",
    "    return counter"
   ]
  },
  {
   "cell_type": "code",
   "execution_count": 71,
   "metadata": {},
   "outputs": [
    {
     "name": "stdout",
     "output_type": "stream",
     "text": [
      "3\n"
     ]
    }
   ],
   "source": [
    "s = \"100001abc1010100\"\n",
    "print(patternCount(s))"
   ]
  },
  {
   "cell_type": "markdown",
   "metadata": {},
   "source": [
    "# 与通配符匹配的字符串"
   ]
  },
  {
   "cell_type": "raw",
   "metadata": {},
   "source": [
    "Given two strings where first string may contain wild card characters and second string is a normal string. Write a function that returns true if the two strings match. The following are allowed wild card characters in first string.\n",
    "\n",
    "* --> Matches with 0 or more instances of any character or set of characters.\n",
    "\n",
    "? --> Matches with any one character."
   ]
  },
  {
   "cell_type": "code",
   "execution_count": 72,
   "metadata": {},
   "outputs": [],
   "source": [
    "def match(first, second):\n",
    "    if len(first) == 0 and len(second) == 0:\n",
    "        return True\n",
    " \n",
    "    # Make sure that the characters after '*' are present\n",
    "    # in second string. This function assumes that the first\n",
    "    # string will not contain two consecutive '*'\n",
    "    if len(first) > 1 and first[0] == '*' and len(second) == 0:\n",
    "        return False\n",
    " \n",
    "    # If the first string contains '?', or current characters\n",
    "    # of both strings match\n",
    "    if (len(first) > 1 and first[0] == '?')  \\\n",
    "        or (len(first) != 0  \\\n",
    "        and len(second) !=0 and first[0] == second[0]):\n",
    "        return match(first[1:],second[1:]);\n",
    " \n",
    "    # If there is *, then there are two possibilities\n",
    "    # a) We consider current character of second string\n",
    "    # b) We ignore current character of second string.\n",
    "    if len(first) !=0 and first[0] == '*':\n",
    "        return match(first[1:],second) or match(first,second[1:])"
   ]
  },
  {
   "cell_type": "code",
   "execution_count": 73,
   "metadata": {},
   "outputs": [
    {
     "name": "stdout",
     "output_type": "stream",
     "text": [
      "False\n",
      "False\n",
      "True\n",
      "False\n",
      "True\n",
      "True\n"
     ]
    }
   ],
   "source": [
    "print(match(\"g*k\", \"gee\"))\n",
    "print(match(\"*pqrs\", \"pqrst\")) # No because 't' is not in first\n",
    "print(match(\"abc*bcd\", \"abcdhghgbcd\")) # Yes\n",
    "print(match(\"abc*c?d\", \"abcd\")) # No because second must have 2 instances of 'c'\n",
    "print(match(\"*c*d\", \"abcd\")) # Yes\n",
    "print(match(\"*?c*d\", \"abcd\")) # Yes"
   ]
  },
  {
   "cell_type": "code",
   "execution_count": null,
   "metadata": {},
   "outputs": [],
   "source": []
  }
 ],
 "metadata": {
  "kernelspec": {
   "display_name": "Python 3",
   "language": "python",
   "name": "python3"
  },
  "language_info": {
   "codemirror_mode": {
    "name": "ipython",
    "version": 3
   },
   "file_extension": ".py",
   "mimetype": "text/x-python",
   "name": "python",
   "nbconvert_exporter": "python",
   "pygments_lexer": "ipython3",
   "version": "3.6.4"
  },
  "toc": {
   "base_numbering": 1,
   "nav_menu": {},
   "number_sections": true,
   "sideBar": true,
   "skip_h1_title": false,
   "title_cell": "Table of Contents",
   "title_sidebar": "Contents",
   "toc_cell": false,
   "toc_position": {
    "height": "calc(100% - 180px)",
    "left": "10px",
    "top": "150px",
    "width": "384px"
   },
   "toc_section_display": true,
   "toc_window_display": true
  },
  "varInspector": {
   "cols": {
    "lenName": 16,
    "lenType": 16,
    "lenVar": 40
   },
   "kernels_config": {
    "python": {
     "delete_cmd_postfix": "",
     "delete_cmd_prefix": "del ",
     "library": "var_list.py",
     "varRefreshCmd": "print(var_dic_list())"
    },
    "r": {
     "delete_cmd_postfix": ") ",
     "delete_cmd_prefix": "rm(",
     "library": "var_list.r",
     "varRefreshCmd": "cat(var_dic_list()) "
    }
   },
   "types_to_exclude": [
    "module",
    "function",
    "builtin_function_or_method",
    "instance",
    "_Feature"
   ],
   "window_display": false
  }
 },
 "nbformat": 4,
 "nbformat_minor": 2
}
