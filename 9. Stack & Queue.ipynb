{
 "cells": [
  {
   "cell_type": "markdown",
   "metadata": {},
   "source": [
    "# 1. ArrayStack"
   ]
  },
  {
   "cell_type": "raw",
   "metadata": {},
   "source": [
    "堆栈：后进先出 last in frist out\n",
    "\n",
    "操作\n",
    "push：将项添加到堆栈的顶部，隐藏堆栈上已经存在的任何项\n",
    "pop：从堆栈顶部移除一个项目，并将此值返回给调用者\n",
    "大小：返回堆栈中当前的项目数量\n",
    "peek：返回堆栈的当前顶层元素而不删除它\n",
    "堆栈可以通过数组和链表实现"
   ]
  },
  {
   "cell_type": "code",
   "execution_count": 1,
   "metadata": {},
   "outputs": [],
   "source": [
    "class ArrayStack(object):\n",
    "    def __init__ (self):\n",
    "        self._data = []\n",
    "        \n",
    "    def __len__ (self):\n",
    "        return len(self._data)\n",
    "    \n",
    "    def is_empty(self):\n",
    "        return len(self._data) == 0\n",
    "    \n",
    "    # O(1)\n",
    "    def push(self, e):\n",
    "        self._data.append(e)\n",
    "        \n",
    "    # O(1)\n",
    "    def top(self):\n",
    "        if self.is_empty( ):\n",
    "            raise ValueError( 'Stack is empty' )\n",
    "        return self._data[-1]\n",
    "    \n",
    "    # O(1)\n",
    "    def pop(self):\n",
    "        if self.is_empty( ):\n",
    "            raise ValueError( 'Stack is empty' )\n",
    "        return self._data.pop( )  \n",
    "        \n",
    "    def printstack(self):\n",
    "        for i in range(len(self._data)):\n",
    "            print(self._data[i], end = ' ')\n",
    "        print()"
   ]
  },
  {
   "cell_type": "code",
   "execution_count": 2,
   "metadata": {},
   "outputs": [
    {
     "name": "stdout",
     "output_type": "stream",
     "text": [
      "size was:  0\n",
      "size was:  5\n",
      "1 2 3 4 5 \n",
      "size was:  3\n",
      "1 2 3 \n",
      "3\n"
     ]
    },
    {
     "data": {
      "text/plain": [
       "1"
      ]
     },
     "execution_count": 2,
     "metadata": {},
     "output_type": "execute_result"
    }
   ],
   "source": [
    "mystack = ArrayStack()\n",
    "print ('size was: ', str(len(mystack)))\n",
    "mystack.push(1)\n",
    "mystack.push(2)\n",
    "mystack.push(3)\n",
    "mystack.push(4)\n",
    "mystack.push(5)\n",
    "print ('size was: ', str(len(mystack)))\n",
    "mystack.printstack()\n",
    "mystack.pop()\n",
    "mystack.pop()\n",
    "print ('size was: ', str(len(mystack)))\n",
    "mystack.printstack()\n",
    "print(mystack.top())\n",
    "mystack.pop()\n",
    "mystack.pop()\n",
    "mystack.pop()"
   ]
  },
  {
   "cell_type": "markdown",
   "metadata": {},
   "source": [
    "# 2. LinkedStack"
   ]
  },
  {
   "cell_type": "code",
   "execution_count": 2,
   "metadata": {},
   "outputs": [],
   "source": [
    "class Empty(Exception):\n",
    "    pass\n",
    "\n",
    "class KeyError(Exception):\n",
    "    pass\n",
    "\n",
    "class Outbound(Exception):\n",
    "    pass\n",
    "\n",
    "from time import clock\n",
    "def timer(f):\n",
    "    def _f(*args):\n",
    "        t0 = clock()\n",
    "        f(*args)\n",
    "        return clock() - t0\n",
    "    return _f\n",
    "\n",
    "class Node:\n",
    "    def __init__ (self, value = None, next = None):\n",
    "        self.value = value\n",
    "        self.next = next\n",
    "        \n",
    "class Node:\n",
    "    def __init__ (self, value = None, next = None):\n",
    "        self.value = value\n",
    "        self.next = next\n",
    "        \n",
    "\n",
    "class LinkedList:\n",
    "    def __init__(self):\n",
    "        self.head = Node()\n",
    "        self.length = 0\n",
    "        self.tail = self.head\n",
    "\n",
    "    def peek(self):\n",
    "        if not self.head.next:\n",
    "            raise Empty( 'LinkedList is empty' )\n",
    "        return self.head.next\n",
    "\n",
    "    def get_first(self):\n",
    "        if not self.head.next:\n",
    "            raise Empty( 'LinkedList is empty' )\n",
    "        return self.head.next\n",
    "        \n",
    "    def get_last(self):\n",
    "        if not self.head.next:\n",
    "            raise Empty( 'LinkedList is empty' )\n",
    "        node = self.head\n",
    "        while node.next != None:\n",
    "            node = node.next\n",
    "        return node\n",
    "    \n",
    "    def get(self, index):\n",
    "        if (index < 0 or index >= self.length):\n",
    "            raise Outbound( 'index is out of bound' );\n",
    "        if not self.head.next:\n",
    "            raise Empty( 'LinkedList is empty' )\n",
    "        node = self.head.next\n",
    "        for i in range(index):\n",
    "            node = node.next\n",
    "        return node\n",
    "                \n",
    "    def add_first(self, value):\n",
    "        node = Node(value, None)\n",
    "        node.next = self.head.next\n",
    "        self.head.next = node\n",
    "        self.length += 1   \n",
    "        \n",
    "    def add_last(self, value):\n",
    "        node = Node(value)\n",
    "        self.tail.next = node\n",
    "        self.tail = self.tail.next\n",
    "        self.length += 1   \n",
    "        \n",
    "    def remove_first(self):\n",
    "        if not self.head.next:\n",
    "            raise Empty( 'LinkedList is empty' )\n",
    "        value = self.head.next.value\n",
    "        self.head.next = self.head.next.next\n",
    "        self.length -= 1\n",
    "        return value    \n",
    "        \n",
    "    def remove_last(self):\n",
    "        if not self.head.next:\n",
    "            raise Empty( 'LinkedList is empty' )\n",
    "        node = self.head.next\n",
    "        prev = self.head\n",
    "        while node.next != None:\n",
    "            prev = node\n",
    "            node = node.next\n",
    "        prev.next = None\n",
    "        return node.value\n",
    "\n",
    "    def printlist(self):\n",
    "        node = self.head.next\n",
    "        count = 0\n",
    "        while node and count<20:\n",
    "            print(node.value, end = \" \")\n",
    "            node = node.next\n",
    "            count = count + 1\n",
    "        print('')\n",
    "        \n",
    "    def size(self):\n",
    "        return self.length"
   ]
  },
  {
   "cell_type": "code",
   "execution_count": 43,
   "metadata": {},
   "outputs": [],
   "source": [
    "class LinkedStack(object):\n",
    "    def __init__ (self):\n",
    "        self._list = LinkedList()\n",
    "        \n",
    "    def __len__ (self):\n",
    "        return self._list.length\n",
    "    \n",
    "    def is_empty(self):\n",
    "        return self._list.length == 0\n",
    "    \n",
    "    # O(1)\n",
    "    def push(self, e):\n",
    "        self._list.add_first(e);\n",
    "        \n",
    "    # O(1)\n",
    "    def top(self):\n",
    "        return self._list.get_first().value;\n",
    "    \n",
    "    # O(1)\n",
    "    def pop(self):\n",
    "        return self._list.remove_first().value;\n",
    "        \n",
    "    def printstack(self):\n",
    "        self._list.printlist()"
   ]
  },
  {
   "cell_type": "code",
   "execution_count": 34,
   "metadata": {},
   "outputs": [
    {
     "name": "stdout",
     "output_type": "stream",
     "text": [
      "size was:  0\n",
      "size was:  5\n",
      "5 4 3 2 1 \n",
      "size was:  3\n",
      "3 2 1 \n",
      "3\n"
     ]
    },
    {
     "data": {
      "text/plain": [
       "1"
      ]
     },
     "execution_count": 34,
     "metadata": {},
     "output_type": "execute_result"
    }
   ],
   "source": [
    "mystack = LinkedStack()\n",
    "print ('size was: ', str(len(mystack)))\n",
    "mystack.push(1)\n",
    "mystack.push(2)\n",
    "mystack.push(3)\n",
    "mystack.push(4)\n",
    "mystack.push(5)\n",
    "print ('size was: ', str(len(mystack)))\n",
    "mystack.printstack()\n",
    "mystack.pop()\n",
    "mystack.pop()\n",
    "print ('size was: ', str(len(mystack)))\n",
    "mystack.printstack()\n",
    "print(mystack.top())\n",
    "mystack.pop()\n",
    "mystack.pop()\n",
    "mystack.pop()"
   ]
  },
  {
   "cell_type": "markdown",
   "metadata": {},
   "source": [
    "# 3. ArrayQueue"
   ]
  },
  {
   "cell_type": "raw",
   "metadata": {},
   "source": [
    "先进先出 FIFO\n",
    "\n",
    "Enqueue\n",
    "Dequeue"
   ]
  },
  {
   "cell_type": "code",
   "execution_count": 3,
   "metadata": {},
   "outputs": [],
   "source": [
    "class ArrayQueue:\n",
    "    DEFAULT_CAPACITY = 10\n",
    "    def __init__(self):\n",
    "        self._data = [None] * ArrayQueue.DEFAULT_CAPACITY\n",
    "        self._size = 0\n",
    "        self._front = 0\n",
    "        \n",
    "    def __len__(self):\n",
    "        return self._size\n",
    "    \n",
    "    def is_empty(self):\n",
    "        return self._size == 0\n",
    "    \n",
    "    def first(self):\n",
    "        if self.is_empty( ):\n",
    "            raise ValueError( 'Queue is empty' )\n",
    "        return self._data[self._front]\n",
    "    \n",
    "    def dequeue(self):\n",
    "        if self.is_empty( ):\n",
    "            raise ValueError( 'Queue is empty' )\n",
    "        answer = self._data[self._front]\n",
    "        self._data[self._front] = None\n",
    "        self._front = (self._front + 1) % len(self._data)\n",
    "        self._size -= 1\n",
    "        return answer\n",
    "    \n",
    "    def enqueue(self, e):\n",
    "        if self._size == len(self._data):\n",
    "            self._resize(2 * len(self._data))\n",
    "        pos = (self._front + self._size) % len(self._data)\n",
    "        self._data[pos] = e\n",
    "        self._size += 1\n",
    "        \n",
    "    def resize(self, cap):\n",
    "        old = self._data\n",
    "        self._data = [None] * cap\n",
    "        walk = self._front\n",
    "        for k in range(self._size):\n",
    "            self._data[k] = old[walk]\n",
    "            walk = (1 + walk) % len(old)\n",
    "        self._front = 0\n",
    "        \n",
    "    def printqueue(self):\n",
    "        for i in range(self._size):\n",
    "            pos = (self._front + self._size - 1 - i) % len(self._data)\n",
    "            #print(str(i), \": \", str(pos))\n",
    "            print(self._data[pos], end = \" \")  \n",
    "        print()"
   ]
  },
  {
   "cell_type": "code",
   "execution_count": 36,
   "metadata": {},
   "outputs": [
    {
     "name": "stdout",
     "output_type": "stream",
     "text": [
      "size was:  0\n",
      "size was:  5\n",
      "5 4 3 2 1 \n",
      "size was:  3\n",
      "5 4 3 \n",
      "7 6 5 4 3 \n",
      "size was:  3\n",
      "7 6 5 \n",
      "size was:  0\n",
      "\n"
     ]
    }
   ],
   "source": [
    "myqueue = ArrayQueue()\n",
    "print ('size was: ', str(len(myqueue)))\n",
    "myqueue.enqueue(1)\n",
    "myqueue.enqueue(2)\n",
    "myqueue.enqueue(3)\n",
    "myqueue.enqueue(4)\n",
    "myqueue.enqueue(5)\n",
    "print ('size was: ', str(len(myqueue)))\n",
    "myqueue.printqueue()\n",
    "myqueue.dequeue()\n",
    "myqueue.dequeue()\n",
    "print ('size was: ', str(len(myqueue)))\n",
    "myqueue.printqueue()\n",
    "myqueue.enqueue(6)\n",
    "myqueue.enqueue(7)\n",
    "myqueue.printqueue()\n",
    "myqueue.dequeue()\n",
    "myqueue.dequeue()\n",
    "print ('size was: ', str(len(myqueue)))\n",
    "myqueue.printqueue()\n",
    "myqueue.dequeue()\n",
    "myqueue.dequeue()\n",
    "myqueue.dequeue()\n",
    "print ('size was: ', str(len(myqueue)))\n",
    "myqueue.printqueue()"
   ]
  },
  {
   "cell_type": "markdown",
   "metadata": {},
   "source": [
    "# 4. LinkedQueue"
   ]
  },
  {
   "cell_type": "code",
   "execution_count": 4,
   "metadata": {},
   "outputs": [],
   "source": [
    "class LinkedQueue(object):\n",
    "    def __init__(self):\n",
    "        self.head = None\n",
    "        self.tail = None\n",
    "        self.count = 0  \n",
    "        \n",
    "    def enqueue(self, value):\n",
    "        new_node = Node(value)\n",
    "\n",
    "        if self.tail is not None:\n",
    "            self.tail.next = new_node\n",
    "\n",
    "        else:\n",
    "            self.head = new_node\n",
    "\n",
    "        self.tail = new_node\n",
    "        self.count += 1\n",
    "\n",
    "    def dequeue(self):\n",
    "        if not self.is_empty():\n",
    "            # point head to next node\n",
    "            tmp = self.head\n",
    "            self.head = self.head.next\n",
    "            print(\"dequeue sucess\")\n",
    "            self.count -= 1\n",
    "            return tmp\n",
    "        else:\n",
    "            raise ValueError(\"Empty QUEUE\")\n",
    "\n",
    "    def is_empty(self):\n",
    "        if self.head is None and self.tail is None:\n",
    "            return True\n",
    "        else:\n",
    "            return False\n",
    "\n",
    "    def peek(self):\n",
    "        return self.head.data\n",
    "\n",
    "        \n",
    "    def __len__(self):\n",
    "        return self.count    \n",
    "\n",
    "    def is_empty(self):\n",
    "        return self.count == 0\n",
    "    \n",
    "    def print(self):\n",
    "        node = self.head\n",
    "        while node:\n",
    "            print(node.value, end = \" \")\n",
    "            node = node.next\n",
    "        print('')"
   ]
  },
  {
   "cell_type": "code",
   "execution_count": 38,
   "metadata": {},
   "outputs": [
    {
     "name": "stdout",
     "output_type": "stream",
     "text": [
      "size was:  0\n",
      "size was:  5\n",
      "1 2 3 4 5 \n",
      "dequeue sucess\n",
      "1\n",
      "dequeue sucess\n",
      "2\n",
      "size was:  3\n",
      "3 4 5 \n",
      "dequeue sucess\n",
      "dequeue sucess\n",
      "size was:  3\n",
      "5 6 7 \n",
      "dequeue sucess\n",
      "dequeue sucess\n",
      "dequeue sucess\n",
      "size was:  0\n",
      "\n"
     ]
    }
   ],
   "source": [
    "myqueue = LinkedQueue()\n",
    "print ('size was: ', str(len(myqueue)))\n",
    "myqueue.enqueue(1)\n",
    "myqueue.enqueue(2)\n",
    "myqueue.enqueue(3)\n",
    "myqueue.enqueue(4)\n",
    "myqueue.enqueue(5)\n",
    "print ('size was: ', str(len(myqueue)))\n",
    "myqueue.print()\n",
    "print(myqueue.dequeue().value)\n",
    "print(myqueue.dequeue().value)\n",
    "print ('size was: ', str(len(myqueue)))\n",
    "myqueue.print()\n",
    "myqueue.enqueue(6)\n",
    "myqueue.enqueue(7)\n",
    "myqueue.dequeue()\n",
    "myqueue.dequeue()\n",
    "print ('size was: ', str(len(myqueue)))\n",
    "myqueue.print()\n",
    "myqueue.dequeue()\n",
    "myqueue.dequeue()\n",
    "myqueue.dequeue()\n",
    "print ('size was: ', str(len(myqueue)))\n",
    "myqueue.print()"
   ]
  },
  {
   "cell_type": "markdown",
   "metadata": {},
   "source": [
    "# 5. 使用堆栈实现队列"
   ]
  },
  {
   "cell_type": "code",
   "execution_count": 5,
   "metadata": {},
   "outputs": [
    {
     "name": "stdout",
     "output_type": "stream",
     "text": [
      "3\n",
      "2\n",
      "1\n",
      "3\n",
      "2\n"
     ]
    }
   ],
   "source": [
    "class QueueWithTwoStacks:\n",
    "    \n",
    "    def __init__(self):\n",
    "        self.insertStack = []\n",
    "        self.popStack = []\n",
    "\n",
    "    def enqueue(self, e):\n",
    "        self.insertStack.append(e)\n",
    "        return e\n",
    "    \n",
    "    def dequeue(self):\n",
    "        if len(self.insertStack)==0 and len(self.popStack)==0:\n",
    "            return None\n",
    "        \n",
    "        if len(self.popStack)==0:\n",
    "            while len(self.insertStack)!=0:\n",
    "                self.popStack.append(self.insertStack.pop())\n",
    "        \n",
    "        return self.popStack.pop()\n",
    "    \n",
    "mystack = QueueWithTwoStacks()\n",
    "e = mystack.enqueue(3)\n",
    "print(e)\n",
    "e = mystack.enqueue(2)\n",
    "print(e)\n",
    "e = mystack.enqueue(1)\n",
    "print(e)\n",
    "e = mystack.dequeue()\n",
    "print(e)\n",
    "e = mystack.dequeue()\n",
    "print(e)"
   ]
  },
  {
   "cell_type": "markdown",
   "metadata": {},
   "source": [
    "# 6. 使用队列实现堆栈"
   ]
  },
  {
   "cell_type": "code",
   "execution_count": 6,
   "metadata": {},
   "outputs": [],
   "source": [
    "class StackWithQueue:\n",
    "    \n",
    "    def __init__(self):\n",
    "        self.queue = LinkedList()\n",
    "\n",
    "    # Push element x onto stack.\n",
    "    def push(self, x):\n",
    "        self.queue.add_last(x)\n",
    "\n",
    "    # Removes the element on top of the stack.\n",
    "    def pop(self):\n",
    "        size = self.queue.size()\n",
    "        for i in range(1, size):\n",
    "            self.queue.add_last(self.queue.remove_first())\n",
    "        self.queue.remove_first()\n",
    "        \n",
    "    def top(self):\n",
    "        size = self.queue.size()\n",
    "        for i in range(1, size):\n",
    "            self.queue.add_last(self.queue.remove_first())\n",
    "        result = self.queue.remove_first()\n",
    "        self.queue.add_last(result)\n",
    "        return result"
   ]
  },
  {
   "cell_type": "code",
   "execution_count": 46,
   "metadata": {},
   "outputs": [
    {
     "name": "stdout",
     "output_type": "stream",
     "text": [
      "2\n",
      "3\n"
     ]
    }
   ],
   "source": [
    "stack = StackWithQueue() \n",
    "stack.push(1)\n",
    "stack.push(2)\n",
    "print(stack.top())\n",
    "\n",
    "\n",
    "stack = StackWithQueue()\n",
    "stack.push(1)\n",
    "stack.push(2)\n",
    "stack.pop()\n",
    "stack.push(3)\n",
    "print(stack.top())"
   ]
  },
  {
   "cell_type": "markdown",
   "metadata": {},
   "source": [
    "# 7. 最小堆栈(检索堆栈中的最小元素)"
   ]
  },
  {
   "cell_type": "raw",
   "metadata": {},
   "source": [
    "设计一个栈，支持推，弹出，顶部，并在常数时间检索最小的元素。\n",
    "\n",
    "getMin()——检索堆栈中的最小元素。"
   ]
  },
  {
   "cell_type": "code",
   "execution_count": 7,
   "metadata": {},
   "outputs": [],
   "source": [
    "import sys\n",
    "\n",
    "class MinStack(ArrayStack):\n",
    "    \n",
    "    def __init__(self):\n",
    "        super(MinStack, self).__init__()\n",
    "    \n",
    "    def push(self, v):       \n",
    "        newMin = min(v, self.min())\n",
    "        super(MinStack, self).push(NodeWithMin(v, newMin))\n",
    "    \n",
    "    def min(self):\n",
    "        if (super(MinStack, self).is_empty()):\n",
    "            return sys.maxsize\n",
    "        else:\n",
    "            return super(MinStack, self).top()._min;\n",
    "    \n",
    "\n",
    "class NodeWithMin:\n",
    "    def __init__(self, v, min):\n",
    "        self._value = v\n",
    "        self._min = min  "
   ]
  },
  {
   "cell_type": "code",
   "execution_count": 48,
   "metadata": {},
   "outputs": [
    {
     "name": "stdout",
     "output_type": "stream",
     "text": [
      "3\n",
      "4\n"
     ]
    }
   ],
   "source": [
    "minStack = MinStack()\n",
    "minStack.push(4)\n",
    "minStack.push(6)\n",
    "minStack.push(8)\n",
    "minStack.push(3)\n",
    "print(minStack.min())\n",
    "minStack.pop()\n",
    "minStack.pop()\n",
    "print(minStack.min())"
   ]
  },
  {
   "cell_type": "code",
   "execution_count": 8,
   "metadata": {},
   "outputs": [
    {
     "name": "stdout",
     "output_type": "stream",
     "text": [
      "3\n",
      "4\n"
     ]
    }
   ],
   "source": [
    "class MinStack2(ArrayStack):\n",
    "    \n",
    "    def __init__(self):\n",
    "        super(MinStack2, self).__init__()\n",
    "        self.min_stack = ArrayStack()\n",
    "        \n",
    "    def push(self, value):\n",
    "        if value <= self.min():\n",
    "            self.min_stack.push(value)\n",
    "        super(MinStack2, self).push(value)   # 继承\n",
    "        return value\n",
    "          \n",
    "    def min(self):\n",
    "        if self.min_stack.is_empty():\n",
    "            return sys.maxsize\n",
    "        else:\n",
    "            return self.min_stack.top()    \n",
    "\n",
    "    def pop(self):\n",
    "        value = super(MinStack2, self).pop()\n",
    "        if value == self.min():\n",
    "            self.min_stack.pop()\n",
    "        return value\n",
    "\n",
    "minStack = MinStack2()\n",
    "minStack.push(4)\n",
    "minStack.push(6)\n",
    "minStack.push(8)\n",
    "minStack.push(3)\n",
    "print(minStack.min())\n",
    "minStack.pop()\n",
    "minStack.pop()\n",
    "print(minStack.min())"
   ]
  },
  {
   "cell_type": "markdown",
   "metadata": {},
   "source": [
    "# 8. 使用单个数组实现两个堆栈"
   ]
  },
  {
   "cell_type": "code",
   "execution_count": 9,
   "metadata": {},
   "outputs": [],
   "source": [
    "class twoStacks:\n",
    "     \n",
    "    def __init__(self, n): \n",
    "        self.size = n\n",
    "        self.arr = [None] * n\n",
    "        self.top1 = -1\n",
    "        self.top2 = self.size\n",
    "         \n",
    "    # Method to push an element x to stack1\n",
    "    def push1(self, x):\n",
    "         \n",
    "        # There is at least one empty space for new element\n",
    "        if self.top1 < self.top2 - 1 :\n",
    "            self.top1 = self.top1 + 1\n",
    "            self.arr[self.top1] = x\n",
    "\n",
    "        else:\n",
    "            print(\"Stack Overflow \")\n",
    "\n",
    "    # Method to push an element x to stack2\n",
    "    def push2(self, x):\n",
    "\n",
    "        # There is at least one empty space for new element\n",
    "        if self.top1 < self.top2 - 1:\n",
    "            self.top2 = self.top2 - 1\n",
    "            self.arr[self.top2] = x \n",
    "        else :\n",
    "           print(\"Stack Overflow \")\n",
    "\n",
    "    # Method to pop an element from first stack\n",
    "    def pop1(self):\n",
    "        if self.top1 >= 0:\n",
    "            x = self.arr[self.top1]\n",
    "            self.top1 = self.top1 -1\n",
    "            return x\n",
    "        else:\n",
    "            print(\"Stack Underflow \")\n",
    "\n",
    "    # Method to pop an element from second stack\n",
    "    def pop2(self):\n",
    "        if self.top2 < self.size:\n",
    "            x = self.arr[self.top2]\n",
    "            self.top2 = self.top2 + 1\n",
    "            return x\n",
    "        else:\n",
    "            print(\"Stack Underflow \")"
   ]
  },
  {
   "cell_type": "code",
   "execution_count": 51,
   "metadata": {},
   "outputs": [],
   "source": [
    "ts = twoStacks(5)\n",
    "ts.push1(5)\n",
    "ts.push2(10)\n",
    "ts.push2(15)\n",
    "ts.push1(11)\n",
    "ts.push2(7)"
   ]
  },
  {
   "cell_type": "code",
   "execution_count": 52,
   "metadata": {},
   "outputs": [
    {
     "name": "stdout",
     "output_type": "stream",
     "text": [
      "Popped element from stack1 is  11\n",
      "Popped element from stack2 is  40\n",
      "Popped element from stack2 is  7\n",
      "Popped element from stack2 is  15\n",
      "Popped element from stack2 is  10\n",
      "Stack Underflow \n",
      "Popped element from stack2 is  None\n",
      "Stack Underflow \n",
      "Popped element from stack2 is  None\n",
      "Popped element from stack2 is  30\n",
      "Popped element from stack2 is  20\n",
      "Stack Underflow \n",
      "Popped element from stack2 is  None\n"
     ]
    }
   ],
   "source": [
    "print(\"Popped element from stack1 is \", ts.pop1())\n",
    "ts.push2(40)\n",
    "print(\"Popped element from stack2 is \", ts.pop2())\n",
    "print(\"Popped element from stack2 is \", ts.pop2())\n",
    "print(\"Popped element from stack2 is \", ts.pop2())\n",
    "print(\"Popped element from stack2 is \", ts.pop2())\n",
    "print(\"Popped element from stack2 is \", ts.pop2())\n",
    "print(\"Popped element from stack2 is \", ts.pop2())\n",
    "ts.push2(20)\n",
    "ts.push2(30)\n",
    "print(\"Popped element from stack2 is \", ts.pop2())\n",
    "print(\"Popped element from stack2 is \", ts.pop2())\n",
    "print(\"Popped element from stack2 is \", ts.pop2())"
   ]
  },
  {
   "cell_type": "markdown",
   "metadata": {},
   "source": [
    "# 9. 堆栈排序"
   ]
  },
  {
   "cell_type": "code",
   "execution_count": 10,
   "metadata": {},
   "outputs": [],
   "source": [
    "def sortStack(s):\n",
    "    r = ArrayStack()\n",
    "    \n",
    "    while not s.is_empty():\n",
    "        tmp = s.pop()\n",
    "        \n",
    "        while not r.is_empty() and r.top() > tmp:\n",
    "            s.push(r.pop())\n",
    "            \n",
    "        r.push(tmp)\n",
    "    \n",
    "    return r"
   ]
  },
  {
   "cell_type": "code",
   "execution_count": 54,
   "metadata": {},
   "outputs": [
    {
     "name": "stdout",
     "output_type": "stream",
     "text": [
      "size was:  0\n",
      "3 1 4 2 5 6 9 8 7 \n"
     ]
    }
   ],
   "source": [
    "mystack = ArrayStack()\n",
    "print ('size was: ', str(len(mystack)))\n",
    "mystack.push(3)\n",
    "mystack.push(1)\n",
    "mystack.push(4)\n",
    "mystack.push(2)\n",
    "mystack.push(5)\n",
    "mystack.push(6)\n",
    "mystack.push(9)\n",
    "mystack.push(8)\n",
    "mystack.push(7)\n",
    "mystack.printstack()"
   ]
  },
  {
   "cell_type": "code",
   "execution_count": 55,
   "metadata": {},
   "outputs": [
    {
     "name": "stdout",
     "output_type": "stream",
     "text": [
      "1 2 3 4 5 6 7 8 9 \n"
     ]
    }
   ],
   "source": [
    "r = sortStack(mystack)\n",
    "r.printstack()"
   ]
  },
  {
   "cell_type": "code",
   "execution_count": 11,
   "metadata": {},
   "outputs": [],
   "source": [
    "def sortedInsert(s, x):\n",
    "    if len(s) == 0 or x > s.top():\n",
    "        s.push(x)\n",
    "        return\n",
    "    temp = s.pop()\n",
    "    sortedInsert(s, x)\n",
    "    s.push(temp)\n",
    "    \n",
    "def sortStack(s):\n",
    "    if len(s) != 0:\n",
    "        x = s.pop()\n",
    "        sortStack(s)\n",
    "        sortedInsert(s, x)"
   ]
  },
  {
   "cell_type": "code",
   "execution_count": 57,
   "metadata": {},
   "outputs": [
    {
     "name": "stdout",
     "output_type": "stream",
     "text": [
      "30 -5 18 14 -3 \n",
      "-5 -3 14 18 30 \n"
     ]
    }
   ],
   "source": [
    "s = ArrayStack()\n",
    "s.push(30)\n",
    "s.push(-5)\n",
    "s.push(18)\n",
    "s.push(14)\n",
    "s.push(-3)\n",
    "s.printstack()\n",
    "sortStack(s)\n",
    "s.printstack()"
   ]
  },
  {
   "cell_type": "markdown",
   "metadata": {},
   "source": [
    "# 10. 反转字符"
   ]
  },
  {
   "cell_type": "code",
   "execution_count": 13,
   "metadata": {},
   "outputs": [
    {
     "name": "stdout",
     "output_type": "stream",
     "text": [
      "dlrow olleh\n",
      "madamimadam\n"
     ]
    }
   ],
   "source": [
    "def reverse(s):\n",
    "    lst = []\n",
    "    for i in s:\n",
    "        lst.append(i)\n",
    "    result = []\n",
    "    while len(lst) != 0:\n",
    "        result.append(lst.pop())\n",
    "    return ''.join(result)\n",
    "\n",
    "s = \"hello world\"\n",
    "print(reverse(s))\n",
    "\n",
    "s = \"madamimadam\"\n",
    "print(reverse(s))"
   ]
  },
  {
   "cell_type": "markdown",
   "metadata": {},
   "source": [
    "# 11. 判断是否是回文"
   ]
  },
  {
   "cell_type": "code",
   "execution_count": 14,
   "metadata": {},
   "outputs": [],
   "source": [
    "def isPalindrome(s):\n",
    "    r = reverse(s)\n",
    "    return r == s\n",
    "\n",
    "def reverse(s):\n",
    "    lst = []\n",
    "    for i in s:\n",
    "        lst.append(i)\n",
    "    result = []\n",
    "    while len(lst) != 0:\n",
    "        result.append(lst.pop())\n",
    "    return ''.join(result)"
   ]
  },
  {
   "cell_type": "code",
   "execution_count": 15,
   "metadata": {},
   "outputs": [
    {
     "name": "stdout",
     "output_type": "stream",
     "text": [
      "False\n",
      "True\n"
     ]
    }
   ],
   "source": [
    "s = \"hello world\"\n",
    "print(isPalindrome(s))\n",
    "\n",
    "s = \"madamimadam\"\n",
    "print(isPalindrome(s))"
   ]
  },
  {
   "cell_type": "markdown",
   "metadata": {},
   "source": [
    "# 12. 验证括号"
   ]
  },
  {
   "cell_type": "raw",
   "metadata": {},
   "source": [
    "Given a string containing just the characters '(', ')', '{', '}', '[' and ']', determine if the input string is valid."
   ]
  },
  {
   "cell_type": "code",
   "execution_count": 16,
   "metadata": {},
   "outputs": [],
   "source": [
    "def isValid(s):\n",
    "    stack = []\n",
    "    for c in s:\n",
    "        if (c == '(' or c == '[' or c == '{'):\n",
    "            stack.append(c)\n",
    "        else:\n",
    "            if len(stack)==0:\n",
    "                return False\n",
    "            if (   (c == ')' and stack[-1] == '(')\n",
    "                or (c == ']' and stack[-1] == '[')\n",
    "                or (c == '}' and stack[-1] == '{')):\n",
    "                stack.pop()\n",
    "            else:\n",
    "                return False\n",
    "    return len(stack)==0"
   ]
  },
  {
   "cell_type": "code",
   "execution_count": 18,
   "metadata": {},
   "outputs": [
    {
     "name": "stdout",
     "output_type": "stream",
     "text": [
      "True\n",
      "True\n",
      "True\n",
      "True\n",
      "True\n",
      "True\n",
      "False\n",
      "False\n",
      "False\n",
      "False\n",
      "False\n"
     ]
    }
   ],
   "source": [
    "s = \"\"\n",
    "print(isValid(s))\n",
    "s = \"{}\"\n",
    "print(isValid(s))\n",
    "s = \"{{}}\"\n",
    "print(isValid(s))\n",
    "s = \"{{}}{}{}\"\n",
    "print(isValid(s))\n",
    "s = \"{{{}}{}{{}}}\"\n",
    "print(isValid(s))\n",
    "s = \"[]{}([{}]{})\"\n",
    "print(isValid(s))\n",
    "\n",
    "s = \"{\"\n",
    "print(isValid(s))\n",
    "s = \"}\"\n",
    "print(isValid(s))\n",
    "s = \"{}}\"\n",
    "print(isValid(s))\n",
    "s = \"{}{}}\"\n",
    "print(isValid(s))\n",
    "s = \"}{\"\n",
    "print(isValid(s))"
   ]
  },
  {
   "cell_type": "markdown",
   "metadata": {},
   "source": [
    "# 13. 简化路径"
   ]
  },
  {
   "cell_type": "raw",
   "metadata": {},
   "source": [
    "Given an absolute path for a file (Unix-style), simplify it.\n",
    "\n",
    "For example,\n",
    "\n",
    "path = \"/home/\" => \"/home\"\n",
    "\n",
    "path = \"/a/./b/../../c/\" => \"/c\""
   ]
  },
  {
   "cell_type": "code",
   "execution_count": 19,
   "metadata": {},
   "outputs": [
    {
     "name": "stdout",
     "output_type": "stream",
     "text": [
      "/home\n",
      "/c/e/f\n"
     ]
    }
   ],
   "source": [
    "def simplifyPath(path):\n",
    "    lst = []\n",
    "    splits = path.split(\"/\")\n",
    "    \n",
    "    for s in splits:\n",
    "        if s == \"\":\n",
    "            continue\n",
    "        if s == \".\":\n",
    "            continue\n",
    "            \n",
    "        if s == \"..\":\n",
    "            if len(lst) != 0:\n",
    "                lst.pop()\n",
    "        else:\n",
    "            lst.append(s)\n",
    "    \n",
    "    result = []\n",
    "    if len(lst) == 0:\n",
    "        return \"/\"\n",
    "    result = ['/' + i for i in lst]\n",
    "    return ''.join(result)\n",
    "\n",
    "path = \"/home/\"\n",
    "print(simplifyPath(path))\n",
    "path = \"/a/./b/../../c/d/../e/f/g/../\"\n",
    "print(simplifyPath(path))"
   ]
  },
  {
   "cell_type": "markdown",
   "metadata": {},
   "source": [
    "# 14. 解码字符串"
   ]
  },
  {
   "cell_type": "raw",
   "metadata": {},
   "source": [
    "Examples:\n",
    "\n",
    "s = \"3[a]2[bc]\", return \"aaabcbc\".\n",
    "\n",
    "s = \"3[a2[c]]\", return \"accaccacc\".\n",
    "\n",
    "s = \"2[abc]3[cd]ef\", return \"abcabccdcdcdef\"."
   ]
  },
  {
   "cell_type": "code",
   "execution_count": 20,
   "metadata": {},
   "outputs": [],
   "source": [
    "def decodeString(s):\n",
    "    stack = []\n",
    "    stack.append([\"\", 1])      #存储最终答案\n",
    "    num = \"\"\n",
    "    for ch in s:\n",
    "        if ch.isdigit():    # 检测字符串是否只由数字组成\n",
    "            num += ch      \n",
    "        elif ch == '[':     \n",
    "            stack.append([\"\", int(num)])\n",
    "            num = \"\"\n",
    "        elif ch == ']':  \n",
    "            st, k = stack.pop()\n",
    "            stack[-1][0] += st*k\n",
    "        else: # 遇到了字母\n",
    "            stack[-1][0] += ch\n",
    "    return stack[0][0]"
   ]
  },
  {
   "cell_type": "code",
   "execution_count": 21,
   "metadata": {},
   "outputs": [
    {
     "name": "stdout",
     "output_type": "stream",
     "text": [
      "aaabcbc\n",
      "accaccacc\n",
      "abcabccdcdcdef\n",
      "abababababababababababab\n"
     ]
    }
   ],
   "source": [
    "s = \"3[a]2[bc]\"\n",
    "print(decodeString(s))\n",
    "s = \"3[a2[c]]\"\n",
    "print(decodeString(s))\n",
    "s = \"2[abc]3[cd]ef\"\n",
    "print(decodeString(s))\n",
    "s = \"12[ab]\"\n",
    "print(decodeString(s))"
   ]
  },
  {
   "cell_type": "markdown",
   "metadata": {},
   "source": [
    "# 15. 篮球比赛"
   ]
  },
  {
   "cell_type": "markdown",
   "metadata": {},
   "source": [
    "You're now a baseball game point recorder.\n",
    "\n",
    "Given a list of strings, each string can be one of the 4 following types:\n",
    "\n",
    "Integer (one round's score): Directly represents the number of points you get in this round.\n",
    "\"+\" (one round's score): Represents that the points you get in this round are the sum of the last two valid round's points.\n",
    "\"D\" (one round's score): Represents that the points you get in this round are the doubled data of the last valid round's points.\n",
    "\"C\" (an operation, which isn't a round's score): Represents the last valid round's points you get were invalid and should be removed.\n",
    "Each round's operation is permanent and could have an impact on the round before and the round after.\n",
    "You need to return the sum of the points you could get in all the rounds.\n",
    "\n",
    "Input: [\"5\",\"2\",\"C\",\"D\",\"+\"]\n",
    "\n",
    "Output: 30\n",
    "Round 1: You could get 5 points. The sum is: 5.\n",
    "Round 2: You could get 2 points. The sum is: 7. Operation 1: The round 2's data was invalid. The sum is: 5.\n",
    "Round 3: You could get 10 points (the round 2's data has been removed). The sum is: 15.\n",
    "Round 4: You could get 5 + 10 = 15 points.\n",
    "\n",
    "The sum is: 30."
   ]
  },
  {
   "cell_type": "code",
   "execution_count": 22,
   "metadata": {},
   "outputs": [],
   "source": [
    "def calPoints(ops):\n",
    "    stack = []\n",
    "    for op in ops:\n",
    "        if op == '+':\n",
    "            stack.append(stack[-1] + stack[-2])\n",
    "        elif op == 'C':\n",
    "            stack.pop()\n",
    "        elif op == 'D':\n",
    "            stack.append(2 * stack[-1])\n",
    "        else:\n",
    "            stack.append(int(op))\n",
    "\n",
    "    return sum(stack)"
   ]
  },
  {
   "cell_type": "code",
   "execution_count": 23,
   "metadata": {},
   "outputs": [
    {
     "data": {
      "text/plain": [
       "30"
      ]
     },
     "execution_count": 23,
     "metadata": {},
     "output_type": "execute_result"
    }
   ],
   "source": [
    "ops = [\"5\",\"2\",\"C\",\"D\",\"+\"]\n",
    "calPoints(ops)"
   ]
  },
  {
   "cell_type": "code",
   "execution_count": 24,
   "metadata": {},
   "outputs": [
    {
     "data": {
      "text/plain": [
       "27"
      ]
     },
     "execution_count": 24,
     "metadata": {},
     "output_type": "execute_result"
    }
   ],
   "source": [
    "ops = [\"5\",\"-2\",\"4\",\"C\",\"D\",\"9\",\"+\",\"+\"]\n",
    "calPoints(ops)"
   ]
  },
  {
   "cell_type": "markdown",
   "metadata": {},
   "source": [
    "# 16. 星球大战"
   ]
  },
  {
   "cell_type": "raw",
   "metadata": {},
   "source": [
    "We are given an array asteroids of integers representing asteroids in a row.\n",
    "\n",
    "For each asteroid, the absolute value represents its size, and the sign represents its direction (positive meaning right, negative meaning left). Each asteroid moves at the same speed.\n",
    "\n",
    "Find out the state of the asteroids after all collisions. If two asteroids meet, the smaller one will explode. If both are the same size, both will explode. Two asteroids moving in the same direction will never meet.\n",
    "Example 1:\n",
    "\n",
    "Input: asteroids = [5, 10, -5]\n",
    "Output: [5, 10]\n",
    "Explanation: The 10 and -5 collide resulting in 10. The 5 and 10 never collide.\n",
    "Example 2:\n",
    "\n",
    "Input: asteroids = [10, 2, -5]\n",
    "Output: [10]\n",
    "Explanation: The 2 and -5 collide resulting in -5. The 10 and -5 collide resulting in 10.\n",
    "Example 3:\n",
    "\n",
    "Input: asteroids = [-2, -1, 1, 2]\n",
    "Output: [-2, -1, 1, 2]\n",
    "Explanation: The -2 and -1 are moving left, while the 1 and 2 are moving right.\n",
    "Asteroids moving the same direction never meet, so no asteroids will meet each other."
   ]
  },
  {
   "cell_type": "code",
   "execution_count": 25,
   "metadata": {},
   "outputs": [],
   "source": [
    "def asteroidCollision(asteroids):\n",
    "    ans = []\n",
    "    for new in asteroids:\n",
    "        while ans and new < 0 < ans[-1]:   #栈里的元素和新的小于0 ，而栈顶大于0\n",
    "            if ans[-1] < -new:  \n",
    "                ans.pop()\n",
    "                continue\n",
    "            elif ans[-1] == -new:\n",
    "                ans.pop()\n",
    "            break\n",
    "        else:\n",
    "            ans.append(new)\n",
    "    return ans"
   ]
  },
  {
   "cell_type": "code",
   "execution_count": 26,
   "metadata": {},
   "outputs": [
    {
     "data": {
      "text/plain": [
       "[-1, -2, 3]"
      ]
     },
     "execution_count": 26,
     "metadata": {},
     "output_type": "execute_result"
    }
   ],
   "source": [
    "asteroids =  [-1,-2,3,-2] \n",
    "asteroidCollision(asteroids)"
   ]
  },
  {
   "cell_type": "markdown",
   "metadata": {},
   "source": [
    "# 17. 下一个更大的元素"
   ]
  },
  {
   "cell_type": "raw",
   "metadata": {},
   "source": [
    "Given an array, print the Next Greater Element for every element. The Next greater Element for an element x is the first greater element on the right side of x in array. Elements for which no greater element exist, consider next greater element as -1."
   ]
  },
  {
   "cell_type": "code",
   "execution_count": 27,
   "metadata": {},
   "outputs": [],
   "source": [
    "def nextGreat(nums):\n",
    "    if len(nums) == 0:\n",
    "        return\n",
    "    stack = []\n",
    "    stack.append(nums[0])\n",
    "    \n",
    "    for i in range(1, len(nums)):\n",
    "        while (len(stack) != 0 and nums[i] > stack[-1]):\n",
    "            num = stack.pop()\n",
    "            print(num, \": \", array[i])\n",
    "        stack.append(nums[i])\n",
    "        \n",
    "    while len(stack) != 0:\n",
    "        print(stack.pop(), \": -1\")"
   ]
  },
  {
   "cell_type": "code",
   "execution_count": 28,
   "metadata": {},
   "outputs": [
    {
     "name": "stdout",
     "output_type": "stream",
     "text": [
      "4 :  5\n",
      "2 :  25\n",
      "5 :  25\n",
      "6 :  25\n",
      "25 : -1\n"
     ]
    }
   ],
   "source": [
    "array = [6, 4, 5, 2, 25]\n",
    "nextGreat(array)"
   ]
  },
  {
   "cell_type": "markdown",
   "metadata": {},
   "source": [
    "# 18. 循环列表的下一个更大的元素"
   ]
  },
  {
   "cell_type": "raw",
   "metadata": {},
   "source": [
    "Given a circular array (the next element of the last element is the first element of the array), print the Next Greater Number for every element. The Next Greater Number of a number x is the first greater number to its traversing-order next in the array, which means you could search circularly to find its next greater number. If it doesn't exist, output -1 for this number.\n",
    "\n",
    "Example 1:\n",
    "\n",
    "Input: [1,2,1]\n",
    "\n",
    "Output: [2,-1,2]\n",
    "\n",
    "Explanation:\n",
    "\n",
    "The first 1's next greater number is 2;\n",
    "\n",
    "The number 2 can't find next greater number;\n",
    "\n",
    "The second 1's next greater number needs to search circularly, which is also 2."
   ]
  },
  {
   "cell_type": "code",
   "execution_count": 29,
   "metadata": {},
   "outputs": [],
   "source": [
    "def nextGreat2(nums):\n",
    "    stack, r = [], [-1] * len(nums)\n",
    "    for i in range(len(nums)):\n",
    "        while stack and (nums[stack[-1]] < nums[i]):\n",
    "            r[stack.pop()] = nums[i]\n",
    "        stack.append(i)\n",
    "    print(r)\n",
    "    for i in range(len(nums)):\n",
    "        while stack and (nums[stack[-1]] < nums[i]):\n",
    "            r[stack.pop()] = nums[i]\n",
    "        if stack == []:\n",
    "            break\n",
    "    return r"
   ]
  },
  {
   "cell_type": "code",
   "execution_count": 30,
   "metadata": {},
   "outputs": [
    {
     "name": "stdout",
     "output_type": "stream",
     "text": [
      "[-1, 25, 5, 25, 25, -1]\n"
     ]
    },
    {
     "data": {
      "text/plain": [
       "[-1, 25, 5, 25, 25, 37]"
      ]
     },
     "execution_count": 30,
     "metadata": {},
     "output_type": "execute_result"
    }
   ],
   "source": [
    "array = [37, 6, 4, 5, 2, 25]\n",
    "nextGreat2(array)"
   ]
  },
  {
   "cell_type": "markdown",
   "metadata": {},
   "source": [
    "# 19. 每天的温度"
   ]
  },
  {
   "cell_type": "raw",
   "metadata": {},
   "source": [
    "Given a list of daily temperatures, produce a list that, for each day in the input, tells you how many days you would have to wait until a warmer temperature. If there is no future day for which this is possible, put 0 instead.\n",
    "\n",
    "For example, given the list temperatures = [73, 74, 75, 71, 69, 72, 76, 73], your output should be [1, 1, 4, 2, 1, 1, 0, 0].\n",
    "\n",
    "Note: The length of temperatures will be in the range [1, 30000]. Each temperature will be an integer in the range [30, 100]."
   ]
  },
  {
   "cell_type": "code",
   "execution_count": 31,
   "metadata": {},
   "outputs": [],
   "source": [
    "def dailyTemperatures(temperatures):\n",
    "    if not temperatures: return []\n",
    "    result, stack = [0] * len(temperatures), []\n",
    "    stack.append((temperatures[0], 0))\n",
    "\n",
    "    for i in range(1, len(temperatures)):\n",
    "        while stack:\n",
    "            prev = stack[-1]\n",
    "            if prev[0] < temperatures[i]:\n",
    "                result[prev[1]] = i - prev[1]\n",
    "                stack.pop()\n",
    "            else:\n",
    "                break\n",
    "        stack.append((temperatures[i], i))\n",
    "    return result"
   ]
  },
  {
   "cell_type": "code",
   "execution_count": 32,
   "metadata": {},
   "outputs": [
    {
     "data": {
      "text/plain": [
       "[1, 1, 4, 2, 1, 1, 0, 0]"
      ]
     },
     "execution_count": 32,
     "metadata": {},
     "output_type": "execute_result"
    }
   ],
   "source": [
    "t = [73, 74, 75, 71, 69, 72, 76, 73]\n",
    "dailyTemperatures(t)"
   ]
  },
  {
   "cell_type": "code",
   "execution_count": 33,
   "metadata": {},
   "outputs": [],
   "source": [
    "def dailyTemperatures2(temperatures):\n",
    "    if not temperatures: return []\n",
    "    result, stack = [0] * len(temperatures), []\n",
    "    stack.append(0)\n",
    "\n",
    "    for i in range(1, len(temperatures)):\n",
    "        while stack:\n",
    "            prev = stack[-1]\n",
    "            if temperatures[prev] < temperatures[i]:\n",
    "                result[prev] = i - prev\n",
    "                stack.pop()\n",
    "            else:\n",
    "                break\n",
    "        stack.append(i)\n",
    "    return result"
   ]
  },
  {
   "cell_type": "code",
   "execution_count": 34,
   "metadata": {},
   "outputs": [
    {
     "data": {
      "text/plain": [
       "[1, 1, 4, 2, 1, 1, 0, 0]"
      ]
     },
     "execution_count": 34,
     "metadata": {},
     "output_type": "execute_result"
    }
   ],
   "source": [
    "t = [73, 74, 75, 71, 69, 72, 76, 73]\n",
    "dailyTemperatures2(t)"
   ]
  },
  {
   "cell_type": "markdown",
   "metadata": {},
   "source": [
    "# 20. 每一个滑动窗口的最大值"
   ]
  },
  {
   "cell_type": "markdown",
   "metadata": {},
   "source": [
    "Given an array and an integer k, find the maximum for each and every contiguous subarray of size k.\n",
    "\n",
    "Examples:\n",
    "\n",
    "Input :\n",
    "\n",
    "arr[] = {1, 2, 3, 1, 4, 5, 2, 3, 6}\n",
    "\n",
    "k = 3\n",
    "\n",
    "Output :\n",
    "\n",
    "3 3 4 5 5 5 6\n",
    "\n",
    "Input :\n",
    "\n",
    "arr[] = {8, 5, 10, 7, 9, 4, 15, 12, 90, 13}\n",
    "\n",
    "k = 4\n",
    "\n",
    "Output :\n",
    "\n",
    "10 10 10 15 15 90 90"
   ]
  },
  {
   "cell_type": "code",
   "execution_count": 43,
   "metadata": {},
   "outputs": [],
   "source": [
    "def maxSlidingWindow(nums, k) :\n",
    "    if k == 1: return nums\n",
    "    stack = []\n",
    "    res = []\n",
    "    for i,v in enumerate(nums):\n",
    "        while stack and nums[stack[-1]] < v:\n",
    "            stack.pop()\n",
    "        stack.append(i)\n",
    "        if i >= k-1:\n",
    "            res.append(nums[stack[0]])\n",
    "        if i - stack[0] >= k-1:\n",
    "            stack.pop(0)\n",
    "    return res"
   ]
  },
  {
   "cell_type": "code",
   "execution_count": 45,
   "metadata": {},
   "outputs": [
    {
     "data": {
      "text/plain": [
       "[78, 90, 90, 90, 89]"
      ]
     },
     "execution_count": 45,
     "metadata": {},
     "output_type": "execute_result"
    }
   ],
   "source": [
    "nums = [12, 1, 78, 90, 57, 89, 56]\n",
    "k = 3\n",
    "maxSlidingWindow(nums,k)"
   ]
  },
  {
   "cell_type": "code",
   "execution_count": null,
   "metadata": {},
   "outputs": [],
   "source": []
  },
  {
   "cell_type": "markdown",
   "metadata": {},
   "source": [
    "# 21. 算术表达式求值"
   ]
  },
  {
   "cell_type": "code",
   "execution_count": 37,
   "metadata": {},
   "outputs": [],
   "source": [
    "def infixToPostfix(infixexpr):\n",
    "    prec = {}\n",
    "    prec[\"*\"] = 3\n",
    "    prec[\"/\"] = 3\n",
    "    prec[\"+\"] = 2\n",
    "    prec[\"-\"] = 2\n",
    "    prec[\"(\"] = 1\n",
    "    opStack = []\n",
    "    postfixList = []\n",
    "    tokenList = infixexpr.split()\n",
    "\n",
    "    for token in tokenList:\n",
    "        if token in \"ABCDEFGHIJKLMNOPQRSTUVWXYZ\" or token in \"0123456789\":\n",
    "            postfixList.append(token)\n",
    "        elif token == '(':\n",
    "            opStack.append(token)\n",
    "        elif token == ')':\n",
    "            topToken = opStack.pop()\n",
    "            while topToken != '(':\n",
    "                postfixList.append(topToken)\n",
    "                topToken = opStack.pop()\n",
    "        else:\n",
    "            while (len(opStack) != 0) and \\\n",
    "               (prec[opStack[-1]] >= prec[token]):\n",
    "                postfixList.append(opStack.pop())\n",
    "            opStack.append(token)\n",
    "\n",
    "    while len(opStack) != 0:\n",
    "        postfixList.append(opStack.pop())\n",
    "    return \" \".join(postfixList)"
   ]
  },
  {
   "cell_type": "code",
   "execution_count": 38,
   "metadata": {},
   "outputs": [
    {
     "name": "stdout",
     "output_type": "stream",
     "text": [
      "A B * C D * +\n",
      "A B + C * D E - F G + * -\n",
      "A B C * + D E - F * - G +\n"
     ]
    }
   ],
   "source": [
    "print(infixToPostfix(\"A * B + C * D\"))\n",
    "print(infixToPostfix(\"( A + B ) * C - ( D - E ) * ( F + G )\"))\n",
    "print(infixToPostfix(\"A + B * C - ( D - E ) * F + G\"))"
   ]
  },
  {
   "cell_type": "code",
   "execution_count": 41,
   "metadata": {},
   "outputs": [
    {
     "name": "stdout",
     "output_type": "stream",
     "text": [
      "1 2 * 3 4 * +\n",
      "1 2 + 3 * 4 5 - 6 7 + * -\n",
      "1 2 3 * + 4 5 - 6 * - 7 +\n"
     ]
    }
   ],
   "source": [
    "print(infixToPostfix(\"1 * 2 + 3 * 4\"))\n",
    "print(infixToPostfix(\"( 1 + 2 ) * 3 - ( 4 - 5 ) * ( 6 + 7 )\"))\n",
    "print(infixToPostfix(\"1 + 2 * 3 - ( 4 - 5 ) * 6 + 7\"))"
   ]
  },
  {
   "cell_type": "code",
   "execution_count": 40,
   "metadata": {},
   "outputs": [
    {
     "data": {
      "text/plain": [
       "20"
      ]
     },
     "execution_count": 40,
     "metadata": {},
     "output_type": "execute_result"
    }
   ],
   "source": [
    "def postfixEval(postfixExpr):\n",
    "    operandStack = []\n",
    "    tokenList = postfixExpr.split()\n",
    "\n",
    "    for token in tokenList:\n",
    "        if token in \"0123456789\":\n",
    "            operandStack.append(int(token))\n",
    "        else:\n",
    "            operand2 = operandStack.pop()\n",
    "            operand1 = operandStack.pop()\n",
    "            result = doMath(token, operand1, operand2)\n",
    "            operandStack.append(result)\n",
    "    return operandStack.pop()\n",
    "\n",
    "def doMath(op, op1, op2):\n",
    "    if op == \"*\":\n",
    "        return op1 * op2\n",
    "    elif op == \"/\":\n",
    "        return op1 / op2\n",
    "    elif op == \"+\":\n",
    "        return op1 + op2\n",
    "    else:\n",
    "        return op1 - op2\n",
    "\n",
    "postfixEval(infixToPostfix(\"1 + 2 * 3 - ( 4 - 5 ) * 6 + 7\"))"
   ]
  },
  {
   "cell_type": "code",
   "execution_count": 42,
   "metadata": {},
   "outputs": [
    {
     "name": "stdout",
     "output_type": "stream",
     "text": [
      "3.0\n",
      "14\n",
      "22\n",
      "20\n"
     ]
    }
   ],
   "source": [
    "print(postfixEval('7 8 + 3 2 + /'))\n",
    "print(postfixEval('1 2 * 3 4 * +'))\n",
    "print(postfixEval('1 2 + 3 * 4 5 - 6 7 + * -'))\n",
    "print(postfixEval('1 2 3 * + 4 5 - 6 * - 7 +'))"
   ]
  },
  {
   "cell_type": "code",
   "execution_count": null,
   "metadata": {},
   "outputs": [],
   "source": []
  }
 ],
 "metadata": {
  "kernelspec": {
   "display_name": "Python 3",
   "language": "python",
   "name": "python3"
  },
  "language_info": {
   "codemirror_mode": {
    "name": "ipython",
    "version": 3
   },
   "file_extension": ".py",
   "mimetype": "text/x-python",
   "name": "python",
   "nbconvert_exporter": "python",
   "pygments_lexer": "ipython3",
   "version": "3.6.4"
  },
  "toc": {
   "base_numbering": 1,
   "nav_menu": {},
   "number_sections": true,
   "sideBar": true,
   "skip_h1_title": false,
   "title_cell": "Table of Contents",
   "title_sidebar": "Contents",
   "toc_cell": false,
   "toc_position": {},
   "toc_section_display": true,
   "toc_window_display": true
  },
  "varInspector": {
   "cols": {
    "lenName": 16,
    "lenType": 16,
    "lenVar": 40
   },
   "kernels_config": {
    "python": {
     "delete_cmd_postfix": "",
     "delete_cmd_prefix": "del ",
     "library": "var_list.py",
     "varRefreshCmd": "print(var_dic_list())"
    },
    "r": {
     "delete_cmd_postfix": ") ",
     "delete_cmd_prefix": "rm(",
     "library": "var_list.r",
     "varRefreshCmd": "cat(var_dic_list()) "
    }
   },
   "types_to_exclude": [
    "module",
    "function",
    "builtin_function_or_method",
    "instance",
    "_Feature"
   ],
   "window_display": true
  }
 },
 "nbformat": 4,
 "nbformat_minor": 2
}
