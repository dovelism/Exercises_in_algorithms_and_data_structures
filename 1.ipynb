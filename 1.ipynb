{
 "cells": [
  {
   "cell_type": "markdown",
   "metadata": {},
   "source": [
    "# Ex1：计算一元二次方程解"
   ]
  },
  {
   "cell_type": "code",
   "execution_count": 5,
   "metadata": {},
   "outputs": [],
   "source": [
    "def solve(a, b, c):\n",
    "    r = pow(b, 2) - 4 * a * c\n",
    "    if (r < 0):\n",
    "        raise ValueError(\"No Solution\") \n",
    "    return (-b + math.sqrt(r)) / (2 * a), (-b - math.sqrt(r)) / (2 * a)"
   ]
  },
  {
   "cell_type": "code",
   "execution_count": 7,
   "metadata": {},
   "outputs": [
    {
     "data": {
      "text/plain": [
       "(-0.2679491924311228, -3.732050807568877)"
      ]
     },
     "execution_count": 7,
     "metadata": {},
     "output_type": "execute_result"
    }
   ],
   "source": [
    "solve(1,4,1)"
   ]
  },
  {
   "cell_type": "markdown",
   "metadata": {},
   "source": [
    "# Ex2：Singing Contest"
   ]
  },
  {
   "cell_type": "code",
   "execution_count": 9,
   "metadata": {},
   "outputs": [],
   "source": [
    "#一个歌唱比赛的歌手打分，我们设计一个程序帮助现场去掉一个最低分和一个最高分，再计算一个平均分。\n",
    "#例如分数为: [8,9,5,10,9.5,8,7,9,9.5] 则去掉最低分 [8,9,5,10,9.5,8,9,9.5]"
   ]
  },
  {
   "cell_type": "code",
   "execution_count": 10,
   "metadata": {},
   "outputs": [
    {
     "data": {
      "text/plain": [
       "(8.642857142857142, 7, 0.0)"
      ]
     },
     "execution_count": 10,
     "metadata": {},
     "output_type": "execute_result"
    }
   ],
   "source": [
    "def singing_score(values):\n",
    "    start = time.time()\n",
    "    small_pos = 0\n",
    "    for i in range(1, len(values)):\n",
    "        if values[i] < values[small_pos] :\n",
    "            small_pos = i\n",
    "            \n",
    "    high_pos = 0\n",
    "    for i in range(1, len(values)):\n",
    "        if values[i] > values[high_pos] :\n",
    "            high_pos = i\n",
    "            \n",
    "            # 这有一个bug\n",
    "    values.remove(values[small_pos])\n",
    "    values.remove(values[high_pos])\n",
    "    rst = sum(values)/len(values)\n",
    "    t = time.time() - start\n",
    "    return rst, len(values), t\n",
    "\n",
    "#Find the min and max\n",
    "#Remove it from the list.\n",
    "values =  [8,9,5,10,5,8,7,9,9.5]\n",
    "singing_score(values)"
   ]
  },
  {
   "cell_type": "code",
   "execution_count": 12,
   "metadata": {},
   "outputs": [
    {
     "data": {
      "text/plain": [
       "(8.642857142857142, 7, 0.0)"
      ]
     },
     "execution_count": 12,
     "metadata": {},
     "output_type": "execute_result"
    }
   ],
   "source": [
    "def singing_score2(values):\n",
    "    start = time.time()\n",
    "    maxx = values[0]\n",
    "    minn = values[0]\n",
    "    summ = values[0]\n",
    "    for i in range(1, len(values)):\n",
    "        if values[i] < minn :\n",
    "            minn = values[i]\n",
    "        if values[i] > minn :\n",
    "            maxx = values[i]\n",
    "        summ += values[i]\n",
    "            \n",
    "    rst = summ / (len(values)-2)\n",
    "    t = time.time() - start\n",
    "    return rst, len(values), t\n",
    "\n",
    "values =  [8,9,5,10,5,8,7,9,9.5]\n",
    "singing_score(values)"
   ]
  },
  {
   "cell_type": "markdown",
   "metadata": {},
   "source": [
    "# Ex3：计算 𝜋 值"
   ]
  },
  {
   "cell_type": "markdown",
   "metadata": {},
   "source": [
    "方法一:\n",
    "𝜋/4=1−1/3+1/5−1/7+1/9+…"
   ]
  },
  {
   "cell_type": "code",
   "execution_count": 13,
   "metadata": {},
   "outputs": [],
   "source": [
    "def pi1(n):\n",
    "    pi = 0\n",
    "    sign = 1\n",
    "    for i in range(1, n + 1, 2):\n",
    "        pi += sign * (1 / i)\n",
    "        sign *= -1\n",
    "    return pi * 4"
   ]
  },
  {
   "cell_type": "code",
   "execution_count": 14,
   "metadata": {},
   "outputs": [],
   "source": [
    "def pi2():\n",
    "    pi = 0\n",
    "    sign = 1\n",
    "    pre = 999\n",
    "    i = 1\n",
    "    delta = 0.000001\n",
    "    \n",
    "    while (abs(pi - pre) > delta):\n",
    "        pre = pi\n",
    "        pi += sign * (1 / i)\n",
    "        sign *= -1\n",
    "        i += 2\n",
    "    return pi * 4"
   ]
  },
  {
   "cell_type": "code",
   "execution_count": 17,
   "metadata": {},
   "outputs": [
    {
     "data": {
      "text/plain": [
       "3.141392653591791"
      ]
     },
     "execution_count": 17,
     "metadata": {},
     "output_type": "execute_result"
    }
   ],
   "source": [
    "pi1(10000)"
   ]
  },
  {
   "cell_type": "code",
   "execution_count": 18,
   "metadata": {},
   "outputs": [
    {
     "data": {
      "text/plain": [
       "3.1415946535856922"
      ]
     },
     "execution_count": 18,
     "metadata": {},
     "output_type": "execute_result"
    }
   ],
   "source": [
    "pi2()"
   ]
  },
  {
   "cell_type": "markdown",
   "metadata": {},
   "source": [
    "方法二: 蒙特卡洛模拟"
   ]
  },
  {
   "cell_type": "code",
   "execution_count": 20,
   "metadata": {},
   "outputs": [
    {
     "data": {
      "text/plain": [
       "3.14171"
      ]
     },
     "execution_count": 20,
     "metadata": {},
     "output_type": "execute_result"
    }
   ],
   "source": [
    "from random import random\n",
    "\n",
    "def pi3(TRIES):\n",
    "    hits = 0\n",
    "    for i in range(TRIES) :\n",
    "        # Generate two random numbers between –1 and 1\n",
    "        r = random()\n",
    "        x = -1 + 2 * r\n",
    "        r = random()\n",
    "        y = -1 + 2 * r\n",
    "        # Check whether the point lies in the unit circle\n",
    "        if x * x + y * y <= 1 :\n",
    "            hits = hits + 1\n",
    "\n",
    "        # The ratio hits / tries is approximately the same as the ratio\n",
    "        # circle area / square area = pi / 4.\n",
    "    return 4.0 * hits / TRIES\n",
    "\n",
    "pi3(10000000)"
   ]
  },
  {
   "cell_type": "markdown",
   "metadata": {},
   "source": [
    "# Ex4：乘法口诀表"
   ]
  },
  {
   "cell_type": "markdown",
   "metadata": {},
   "source": [
    "第一种写法"
   ]
  },
  {
   "cell_type": "code",
   "execution_count": 21,
   "metadata": {},
   "outputs": [
    {
     "name": "stdout",
     "output_type": "stream",
     "text": [
      "1 * 1 = 1   \n",
      "2 * 1 = 2   2 * 2 = 4   \n",
      "3 * 1 = 3   3 * 2 = 6   3 * 3 = 9   \n",
      "4 * 1 = 4   4 * 2 = 8   4 * 3 = 12   4 * 4 = 16   \n",
      "5 * 1 = 5   5 * 2 = 10   5 * 3 = 15   5 * 4 = 20   5 * 5 = 25   \n",
      "6 * 1 = 6   6 * 2 = 12   6 * 3 = 18   6 * 4 = 24   6 * 5 = 30   6 * 6 = 36   \n",
      "7 * 1 = 7   7 * 2 = 14   7 * 3 = 21   7 * 4 = 28   7 * 5 = 35   7 * 6 = 42   7 * 7 = 49   \n",
      "8 * 1 = 8   8 * 2 = 16   8 * 3 = 24   8 * 4 = 32   8 * 5 = 40   8 * 6 = 48   8 * 7 = 56   8 * 8 = 64   \n",
      "9 * 1 = 9   9 * 2 = 18   9 * 3 = 27   9 * 4 = 36   9 * 5 = 45   9 * 6 = 54   9 * 7 = 63   9 * 8 = 72   9 * 9 = 81   \n"
     ]
    }
   ],
   "source": [
    "def mults():\n",
    "    for i in range(1,10):\n",
    "        for j in range(1, i+1):\n",
    "            print(i, \"*\", j, \"=\", i*j, end = \"   \")\n",
    "        print() \n",
    "mults()"
   ]
  },
  {
   "cell_type": "markdown",
   "metadata": {},
   "source": [
    "第二种写法"
   ]
  },
  {
   "cell_type": "code",
   "execution_count": 24,
   "metadata": {},
   "outputs": [
    {
     "data": {
      "text/plain": [
       "[(1, 1, 1),\n",
       " (2, 1, 2),\n",
       " (2, 2, 4),\n",
       " (3, 1, 3),\n",
       " (3, 2, 6),\n",
       " (3, 3, 9),\n",
       " (4, 1, 4),\n",
       " (4, 2, 8),\n",
       " (4, 3, 12),\n",
       " (4, 4, 16),\n",
       " (5, 1, 5),\n",
       " (5, 2, 10),\n",
       " (5, 3, 15),\n",
       " (5, 4, 20),\n",
       " (5, 5, 25),\n",
       " (6, 1, 6),\n",
       " (6, 2, 12),\n",
       " (6, 3, 18),\n",
       " (6, 4, 24),\n",
       " (6, 5, 30),\n",
       " (6, 6, 36),\n",
       " (7, 1, 7),\n",
       " (7, 2, 14),\n",
       " (7, 3, 21),\n",
       " (7, 4, 28),\n",
       " (7, 5, 35),\n",
       " (7, 6, 42),\n",
       " (7, 7, 49),\n",
       " (8, 1, 8),\n",
       " (8, 2, 16),\n",
       " (8, 3, 24),\n",
       " (8, 4, 32),\n",
       " (8, 5, 40),\n",
       " (8, 6, 48),\n",
       " (8, 7, 56),\n",
       " (8, 8, 64),\n",
       " (9, 1, 9),\n",
       " (9, 2, 18),\n",
       " (9, 3, 27),\n",
       " (9, 4, 36),\n",
       " (9, 5, 45),\n",
       " (9, 6, 54),\n",
       " (9, 7, 63),\n",
       " (9, 8, 72),\n",
       " (9, 9, 81)]"
      ]
     },
     "execution_count": 24,
     "metadata": {},
     "output_type": "execute_result"
    }
   ],
   "source": [
    "[(i,j,i*j) for i in range(1,10) for j in range(1, i+1)]"
   ]
  },
  {
   "cell_type": "markdown",
   "metadata": {},
   "source": [
    "# Ex5：洗牌"
   ]
  },
  {
   "cell_type": "markdown",
   "metadata": {},
   "source": [
    "洗牌后的每个元素随机出现在每个位置，且概率相同"
   ]
  },
  {
   "cell_type": "code",
   "execution_count": 25,
   "metadata": {},
   "outputs": [],
   "source": [
    "import random\n",
    "\n",
    "def shuffle_system(cards):\n",
    "    random.shuffle(cards) "
   ]
  },
  {
   "cell_type": "code",
   "execution_count": 26,
   "metadata": {},
   "outputs": [],
   "source": [
    "def shuffle_1st(cards):\n",
    "    for k in range(len(cards)):\n",
    "        i = random.randint(0, len(cards) - 1)\n",
    "        j = random.randint(0, len(cards) - 1)\n",
    "        cards[i], cards[j] = cards[j], cards[i]"
   ]
  },
  {
   "cell_type": "code",
   "execution_count": 27,
   "metadata": {},
   "outputs": [],
   "source": [
    "def shuffle_correct(cards):\n",
    "    for i in range(len(cards)):\n",
    "        randomi = i + random.randint(0, (len(cards) - i - 1))\n",
    "        cards[i], cards[randomi] = cards[randomi], cards[i]"
   ]
  },
  {
   "cell_type": "code",
   "execution_count": 28,
   "metadata": {},
   "outputs": [
    {
     "data": {
      "text/plain": [
       "[0, 1, 2, 3, 4, 5, 6, 7, 8, 9]"
      ]
     },
     "execution_count": 28,
     "metadata": {},
     "output_type": "execute_result"
    }
   ],
   "source": [
    "A = [i for i in range(0, 10)]\n",
    "A"
   ]
  },
  {
   "cell_type": "code",
   "execution_count": 30,
   "metadata": {},
   "outputs": [
    {
     "data": {
      "text/plain": [
       "[2, 4, 1, 0, 8, 9, 6, 7, 3, 5]"
      ]
     },
     "execution_count": 30,
     "metadata": {},
     "output_type": "execute_result"
    }
   ],
   "source": [
    "shuffle_system(A)\n",
    "A"
   ]
  },
  {
   "cell_type": "markdown",
   "metadata": {},
   "source": [
    "测试shuffle是否是好的"
   ]
  },
  {
   "cell_type": "code",
   "execution_count": 32,
   "metadata": {},
   "outputs": [],
   "source": [
    "def test_shuffle(f):\n",
    "    result = [[0 for i in range(10)] for j in range(10)]\n",
    "\n",
    "    for i in range(1000):\n",
    "        A = [i for i in range(0, 10)]\n",
    "        f(A)\n",
    "        for j in range(len(A)):\n",
    "            result[A[j]][j] += 1\n",
    "        \n",
    "    print('\\n'.join([''.join(['{:6}'.format(item) for item in row]) \n",
    "          for row in result]))"
   ]
  },
  {
   "cell_type": "code",
   "execution_count": 33,
   "metadata": {},
   "outputs": [
    {
     "name": "stdout",
     "output_type": "stream",
     "text": [
      "    95    90    86   118    99   108    79    93   113   119\n",
      "    92   104    95   115   106    97   105   112    82    92\n",
      "   107   108   114    96    98    79    98    98    97   105\n",
      "   109    82   103    86   104   109    93   100   122    92\n",
      "   103   103    92   107   108   101    83    93    94   116\n",
      "    98   102   105    87   101    91   115   113   111    77\n",
      "   103    92   101    91    89   119    94   111   100   100\n",
      "   110   101    93   104    88   108   103    78   114   101\n",
      "    80   113   105   112    95    98   115   101    81   100\n",
      "   103   105   106    84   112    90   115   101    86    98\n"
     ]
    }
   ],
   "source": [
    "test_shuffle(shuffle_system)"
   ]
  },
  {
   "cell_type": "code",
   "execution_count": 34,
   "metadata": {},
   "outputs": [
    {
     "name": "stdout",
     "output_type": "stream",
     "text": [
      "   127    93    97    95   102    91    92   105    84   114\n",
      "   100    98    92   116    93   120    98    95    99    89\n",
      "   102    87    99   103    99   112   101    90   121    86\n",
      "   107   108   101    82   104   102    96    96   103   101\n",
      "    92   117    86    92   100    96    93   116    89   119\n",
      "    98   104    97   106    90    86   107   112    90   110\n",
      "    99   103   120   100   102    90   103    85    99    99\n",
      "    70    98   112    93   109    96   108    97   113   104\n",
      "    92    94   107   109   102   119    99    96   106    76\n",
      "   113    98    89   104    99    88   103   108    96   102\n"
     ]
    }
   ],
   "source": [
    "test_shuffle(shuffle_correct)"
   ]
  },
  {
   "cell_type": "code",
   "execution_count": 35,
   "metadata": {},
   "outputs": [
    {
     "name": "stdout",
     "output_type": "stream",
     "text": [
      "   211    97    63    86    93    89    80    80    95   106\n",
      "    83   195   104    73    91    84    89    97   101    83\n",
      "    87   109   181    98    89    88    79    79    99    91\n",
      "    93    74    93   186    88   101    99   102    81    83\n",
      "    90   104    97    84   212    97    78    83    71    84\n",
      "    93    85    97    97    98   189    81    80    99    81\n",
      "    76    81    90    91    84    82   216    94    94    92\n",
      "    78    88    86    97    78    90    93   211    76   103\n",
      "   101    86    87    73    97   100    89    92   193    82\n",
      "    88    81   102   115    70    80    96    82    91   195\n"
     ]
    }
   ],
   "source": [
    "test_shuffle(shuffle_1st)"
   ]
  },
  {
   "cell_type": "markdown",
   "metadata": {},
   "source": [
    "# Ex6：数质数"
   ]
  },
  {
   "cell_type": "markdown",
   "metadata": {},
   "source": [
    "给定一个正整数n，计算出小于等于n的质数有多少个。\n",
    "比如17，则返回7，因为小于等于7的质数有2，3，5，7，13，17"
   ]
  },
  {
   "cell_type": "code",
   "execution_count": 37,
   "metadata": {},
   "outputs": [],
   "source": [
    "def count_prime(n):\n",
    "    is_prime = [True] * (n + 1)\n",
    "    i = 2\n",
    "    while (i * i <= n):\n",
    "        if (is_prime[i]):\n",
    "            j = i\n",
    "            while (j * i <= n):\n",
    "                is_prime[i * j] = False\n",
    "                j += 1\n",
    "        i += 1\n",
    "        \n",
    "    count = 0\n",
    "    for i in range(2, n+1):\n",
    "        if (is_prime[i]):\n",
    "            count += 1\n",
    "            print(i, end = \" \")\n",
    "            \n",
    "    return count"
   ]
  },
  {
   "cell_type": "code",
   "execution_count": 38,
   "metadata": {},
   "outputs": [
    {
     "name": "stdout",
     "output_type": "stream",
     "text": [
      "2 3 5 7 11 13 17 19 23 29 31 37 41 43 47 53 59 61 67 71 73 79 83 89 97 "
     ]
    },
    {
     "data": {
      "text/plain": [
       "25"
      ]
     },
     "execution_count": 38,
     "metadata": {},
     "output_type": "execute_result"
    }
   ],
   "source": [
    "count_prime(100)"
   ]
  },
  {
   "cell_type": "markdown",
   "metadata": {},
   "source": [
    "# Ex7：哥德巴赫猜想"
   ]
  },
  {
   "cell_type": "markdown",
   "metadata": {},
   "source": [
    "任一大于2的偶数，都可表示成两个质数之和"
   ]
  },
  {
   "cell_type": "code",
   "execution_count": 39,
   "metadata": {},
   "outputs": [],
   "source": [
    "def goldbach(n):\n",
    "    is_prime = [True] * (n + 1)\n",
    "    i = 2\n",
    "    while (i * i <= n):\n",
    "        if (is_prime[i]):\n",
    "            j = i\n",
    "            while (j * i <= n):\n",
    "                is_prime[i * j] = False\n",
    "                j += 1\n",
    "        i += 1\n",
    "        \n",
    "    count = 0\n",
    "    for i in range(2, n+1):\n",
    "        if (is_prime[i]):\n",
    "            count += 1\n",
    "            \n",
    "    primes = [None] * count\n",
    "    idx = 0\n",
    "    for i in range(2, n + 1):\n",
    "        if (is_prime[i]):\n",
    "            primes[idx] = i\n",
    "            idx += 1\n",
    "    \n",
    "    left = 0\n",
    "    right = count - 1\n",
    "    while (left < right):\n",
    "        if (n == primes[left] + primes[right]):\n",
    "            print(n,\" = \", primes[left], \" + \", primes[right])\n",
    "            left += 1\n",
    "            right -= 1\n",
    "        elif (n > primes[left] + primes[right]):\n",
    "            left += 1\n",
    "        else:\n",
    "            right -= 1"
   ]
  },
  {
   "cell_type": "code",
   "execution_count": 40,
   "metadata": {},
   "outputs": [
    {
     "name": "stdout",
     "output_type": "stream",
     "text": [
      "100  =  3  +  97\n",
      "100  =  11  +  89\n",
      "100  =  17  +  83\n",
      "100  =  29  +  71\n",
      "100  =  41  +  59\n",
      "100  =  47  +  53\n"
     ]
    }
   ],
   "source": [
    "goldbach(100)"
   ]
  },
  {
   "cell_type": "code",
   "execution_count": null,
   "metadata": {},
   "outputs": [],
   "source": []
  }
 ],
 "metadata": {
  "kernelspec": {
   "display_name": "Python 3",
   "language": "python",
   "name": "python3"
  },
  "language_info": {
   "codemirror_mode": {
    "name": "ipython",
    "version": 3
   },
   "file_extension": ".py",
   "mimetype": "text/x-python",
   "name": "python",
   "nbconvert_exporter": "python",
   "pygments_lexer": "ipython3",
   "version": "3.6.4"
  }
 },
 "nbformat": 4,
 "nbformat_minor": 2
}
