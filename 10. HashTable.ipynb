{
 "cells": [
  {
   "cell_type": "markdown",
   "metadata": {},
   "source": [
    "# 字母计数"
   ]
  },
  {
   "cell_type": "code",
   "execution_count": 1,
   "metadata": {},
   "outputs": [],
   "source": [
    "def letterCount(s):\n",
    "    freq = {}\n",
    "    for piece in s:\n",
    "        # only consider alphabetic characters within this piece\n",
    "        word = ''.join(c for c in piece if c.isalpha())\n",
    "        if word:\n",
    "            freq[word] = 1 + freq.get(word, 0) #default 0\n",
    "\n",
    "    max_word = ''\n",
    "    max_count = 0\n",
    "    for (w,c) in freq.items():    # (key, value) tuples represent (word, count)\n",
    "        if c > max_count:\n",
    "            max_word = w\n",
    "            max_count = c\n",
    "    print('The most frequent word is', max_word)\n",
    "    print('Its number of occurrences is', max_count) "
   ]
  },
  {
   "cell_type": "code",
   "execution_count": 2,
   "metadata": {},
   "outputs": [],
   "source": [
    "from collections import Counter\n",
    "def letterCount2(s):\n",
    "    c = Counter(x for x in s if x != \" \")\n",
    "\n",
    "    for letter, count in c.most_common(4):\n",
    "        print('%s: %7d' % (letter, count))"
   ]
  },
  {
   "cell_type": "code",
   "execution_count": 3,
   "metadata": {},
   "outputs": [
    {
     "name": "stdout",
     "output_type": "stream",
     "text": [
      "o:       6\n",
      "a:       4\n",
      "e:       3\n",
      "l:       3\n"
     ]
    }
   ],
   "source": [
    "s = \"Hello World How are you I am fine thank you and you\"\n",
    "letterCount2(s)"
   ]
  },
  {
   "cell_type": "markdown",
   "metadata": {},
   "source": [
    "# 单词计数"
   ]
  },
  {
   "cell_type": "code",
   "execution_count": 4,
   "metadata": {},
   "outputs": [],
   "source": [
    "from collections import Counter\n",
    "def wordCount(s):\n",
    "    wordcount = Counter(s.split())\n",
    "    print(wordcount)"
   ]
  },
  {
   "cell_type": "code",
   "execution_count": 5,
   "metadata": {},
   "outputs": [
    {
     "name": "stdout",
     "output_type": "stream",
     "text": [
      "Counter({'you': 3, 'Hello': 1, 'World': 1, 'How': 1, 'are': 1, 'I': 1, 'am': 1, 'fine': 1, 'thank': 1, 'and': 1})\n"
     ]
    }
   ],
   "source": [
    "s = \"Hello World How are you I am fine thank you and you\"\n",
    "wordCount(s)"
   ]
  },
  {
   "cell_type": "markdown",
   "metadata": {},
   "source": [
    "# 找到第一个出现一次的字符"
   ]
  },
  {
   "cell_type": "raw",
   "metadata": {},
   "source": [
    "Given a string, find the first non-repeating character in it and return it's index. If it doesn't exist, return -1.\n",
    "\n",
    "Examples:\n",
    "\n",
    "s = \"givenastring\"\n",
    "\n",
    "return 2.\n",
    "\n",
    "s = \"ifitdoesnotexist\",\n",
    "\n",
    "return 1.\n",
    "\n",
    "Note: You may assume the string contain only lowercase letters."
   ]
  },
  {
   "cell_type": "raw",
   "metadata": {},
   "source": [
    "Python String count() Method\n",
    "\n",
    "The method count() returns the number of occurrences of substring sub in the range [start, end]. Optional arguments start and end are interpreted as in slice notation."
   ]
  },
  {
   "cell_type": "code",
   "execution_count": 7,
   "metadata": {},
   "outputs": [
    {
     "name": "stdout",
     "output_type": "stream",
     "text": [
      "str.count(sub, 0, 40) :  3\n",
      "str.count(sub) :  2\n"
     ]
    }
   ],
   "source": [
    "str = \"this is string example....wow!!!\";\n",
    "\n",
    "sub = \"i\";\n",
    "print(\"str.count(sub, 0, 40) : \", str.count(sub, 0, 40))\n",
    "sub = \"is\";\n",
    "print(\"str.count(sub) : \", str.count(sub))"
   ]
  },
  {
   "cell_type": "code",
   "execution_count": 8,
   "metadata": {},
   "outputs": [],
   "source": [
    "def firstUniqChar(s):\n",
    "    letters='abcdefghijklmnopqrstuvwxyz'\n",
    "    index=[s.index(l) for l in letters if s.count(l) == 1]\n",
    "    return min(index) if len(index) > 0 else -1"
   ]
  },
  {
   "cell_type": "markdown",
   "metadata": {},
   "source": [
    "# 数组（没排序）的交集"
   ]
  },
  {
   "cell_type": "raw",
   "metadata": {},
   "source": [
    "Given two arrays, write a function to compute their intersection.\n",
    "\n",
    "Example:\n",
    "\n",
    "Given nums1 = [1, 2, 2, 1], nums2 = [2, 2], return [2].\n",
    "\n",
    "Note:\n",
    "\n",
    "Each element in the result must be unique.\n",
    "\n",
    "The result can be in any order."
   ]
  },
  {
   "cell_type": "code",
   "execution_count": 9,
   "metadata": {},
   "outputs": [],
   "source": [
    "def intersection(nums1, nums2):\n",
    "    return list(set(nums1) & set(nums2))"
   ]
  },
  {
   "cell_type": "code",
   "execution_count": 11,
   "metadata": {},
   "outputs": [],
   "source": [
    "# Note:Each element in the result should appear as many times as it shows in both arrays.The result can be in any order.\n",
    "\n",
    "def intersect(nums1, nums2):\n",
    "\n",
    "    dict1 = dict()\n",
    "    for i in nums1:\n",
    "        if i not in dict1:\n",
    "            dict1[i] = 1\n",
    "        else:\n",
    "            dict1[i] += 1\n",
    "    ret = []\n",
    "    for i in nums2:\n",
    "        if i in dict1 and dict1[i]>0:\n",
    "            ret.append(i)\n",
    "            dict1[i] -= 1\n",
    "    return ret"
   ]
  },
  {
   "cell_type": "code",
   "execution_count": null,
   "metadata": {},
   "outputs": [],
   "source": []
  },
  {
   "cell_type": "markdown",
   "metadata": {},
   "source": [
    "# 宝石与石头"
   ]
  },
  {
   "cell_type": "markdown",
   "metadata": {},
   "source": [
    "You're given strings J representing the types of stones that are jewels, and S representing the stones you have. Each character in S is a type of stone you have. You want to know how many of the stones you have are also jewels.\n",
    "\n",
    "The letters in J are guaranteed distinct, and all characters in J and S are letters. Letters are case sensitive, so \"a\" is considered a different type of stone from \"A\".\n",
    "\n",
    "Example 1:\n",
    "\n",
    "Input: J = \"aA\", S = \"aAAbbbb\"\n",
    "\n",
    "Output: 3\n",
    "\n",
    "Example 2:\n",
    "\n",
    "Input: J = \"z\", S = \"ZZ\"\n",
    "\n",
    "Output: 0\n",
    "\n",
    "Note:\n",
    "\n",
    "S and J will consist of letters and have length at most 50.\n",
    "\n",
    "The characters in J are distinct."
   ]
  },
  {
   "cell_type": "code",
   "execution_count": 12,
   "metadata": {},
   "outputs": [],
   "source": [
    "## brute force\n",
    "def numJewelsInStones_bf(J, S):\n",
    "    count=0\n",
    "    for c in S:\n",
    "        if c in J:\n",
    "            count += 1\n",
    "    return count"
   ]
  },
  {
   "cell_type": "code",
   "execution_count": 13,
   "metadata": {},
   "outputs": [],
   "source": [
    "## set\n",
    "def numJewelsInStones(J, S):\n",
    "    setJ = set(J)\n",
    "    return sum(s in setJ for s in S)"
   ]
  },
  {
   "cell_type": "code",
   "execution_count": 14,
   "metadata": {},
   "outputs": [
    {
     "data": {
      "text/plain": [
       "3"
      ]
     },
     "execution_count": 14,
     "metadata": {},
     "output_type": "execute_result"
    }
   ],
   "source": [
    "J = \"aA\"\n",
    "S = \"aAAbbbb\"\n",
    "numJewelsInStones_bf(J, S)"
   ]
  },
  {
   "cell_type": "markdown",
   "metadata": {},
   "source": [
    "# 数组是否包含重复元素 1"
   ]
  },
  {
   "cell_type": "raw",
   "metadata": {},
   "source": [
    "给定一个整数数组，查找该数组是否包含任何重复项。如果任何值在数组中出现至少两次，则函数应该返回true;如果每个元素都是不同的，则函数应该返回false。"
   ]
  },
  {
   "cell_type": "code",
   "execution_count": 15,
   "metadata": {},
   "outputs": [],
   "source": [
    "def containsDuplicate(nums):\n",
    "    return len(nums) > len(set(nums))"
   ]
  },
  {
   "cell_type": "code",
   "execution_count": 16,
   "metadata": {},
   "outputs": [
    {
     "name": "stdout",
     "output_type": "stream",
     "text": [
      "False\n",
      "True\n"
     ]
    }
   ],
   "source": [
    "nums = [1,2,3,4,5]\n",
    "print(containsDuplicate(nums))\n",
    "nums = [1,2,3,4,5,3]\n",
    "print(containsDuplicate(nums))"
   ]
  },
  {
   "cell_type": "markdown",
   "metadata": {},
   "source": [
    "# 数组是否包含重复元素 2 "
   ]
  },
  {
   "cell_type": "raw",
   "metadata": {},
   "source": [
    "Given an array of integers and an integer k, find out whether there are two distinct indices i and j in the array such that nums[i] = nums[j] and the difference between i and j is at most k."
   ]
  },
  {
   "cell_type": "code",
   "execution_count": 17,
   "metadata": {},
   "outputs": [],
   "source": [
    "def containsNearbyDuplicate(nums, k):\n",
    "    dic = {}\n",
    "    for i, v in enumerate(nums):\n",
    "        if v in dic and i - dic[v] <= k:\n",
    "            return True\n",
    "        dic[v] = i\n",
    "    return False"
   ]
  },
  {
   "cell_type": "code",
   "execution_count": 18,
   "metadata": {},
   "outputs": [
    {
     "name": "stdout",
     "output_type": "stream",
     "text": [
      "False\n",
      "False\n",
      "False\n",
      "False\n",
      "True\n"
     ]
    }
   ],
   "source": [
    "nums = [1,2,3,4,5]\n",
    "print(containsNearbyDuplicate(nums, 1))\n",
    "print(containsNearbyDuplicate(nums, 6))\n",
    "nums = [1,2,3,4,5,3]\n",
    "print(containsNearbyDuplicate(nums, 1))\n",
    "print(containsNearbyDuplicate(nums, 2))\n",
    "print(containsNearbyDuplicate(nums, 3))"
   ]
  },
  {
   "cell_type": "markdown",
   "metadata": {},
   "source": [
    "# 子域名访问数"
   ]
  },
  {
   "cell_type": "raw",
   "metadata": {},
   "source": [
    "Example 1:\n",
    "\n",
    "Input:\n",
    "\n",
    "[\"9001 scholar.google.com\"]\n",
    "\n",
    "Output:\n",
    "\n",
    "[\"9001 scholar.google.com\", \"9001 google.com\", \"9001 com\"]"
   ]
  },
  {
   "cell_type": "code",
   "execution_count": 19,
   "metadata": {},
   "outputs": [],
   "source": [
    "import collections \n",
    "def subdomainVisits(cpdomains):\n",
    "    ans = collections.Counter()\n",
    "    for domain in cpdomains:\n",
    "        count, domain = domain.split()\n",
    "        count = int(count)\n",
    "        frags = domain.split('.')\n",
    "        for i in range(len(frags)):\n",
    "            ans[\".\".join(frags[i:])] += count\n",
    "\n",
    "    return [\"{} {}\".format(ct, dom) for dom, ct in ans.items()]"
   ]
  },
  {
   "cell_type": "code",
   "execution_count": 20,
   "metadata": {},
   "outputs": [
    {
     "data": {
      "text/plain": [
       "['9001 scholar.google.com', '9001 google.com', '9001 com']"
      ]
     },
     "execution_count": 20,
     "metadata": {},
     "output_type": "execute_result"
    }
   ],
   "source": [
    "cp = [\"9001 scholar.google.com\"]\n",
    "subdomainVisits(cp)"
   ]
  },
  {
   "cell_type": "markdown",
   "metadata": {},
   "source": [
    "# 键盘的一行"
   ]
  },
  {
   "cell_type": "code",
   "execution_count": 21,
   "metadata": {},
   "outputs": [],
   "source": [
    "def findWords(words):\n",
    "    line1, line2, line3 = set('qwertyuiop'), set('asdfghjkl'), set('zxcvbnm')\n",
    "    ret = []\n",
    "    for word in words:\n",
    "        w = set(word.lower())\n",
    "        if w.issubset(line1) or w.issubset(line2) or w.issubset(line3):\n",
    "            ret.append(word)\n",
    "    return ret"
   ]
  },
  {
   "cell_type": "code",
   "execution_count": 22,
   "metadata": {},
   "outputs": [
    {
     "data": {
      "text/plain": [
       "['Alaska', 'Dad']"
      ]
     },
     "execution_count": 22,
     "metadata": {},
     "output_type": "execute_result"
    }
   ],
   "source": [
    "words = [\"Hello\", \"Alaska\", \"Dad\", \"Peace\"]\n",
    "findWords(words)"
   ]
  },
  {
   "cell_type": "markdown",
   "metadata": {},
   "source": [
    "# 字符串模式匹配"
   ]
  },
  {
   "cell_type": "markdown",
   "metadata": {},
   "source": [
    "Examples:\n",
    "\n",
    "pattern = \"abba\", str = \"dog cat cat dog\" should return true.\n",
    "\n",
    "pattern = \"abba\", str = \"dog cat cat fish\" should return false.\n",
    "\n",
    "pattern = \"aaaa\", str = \"dog cat cat dog\" should return false.\n",
    "\n",
    "pattern = \"abba\", str = \"dog dog dog dog\" should return false."
   ]
  },
  {
   "cell_type": "code",
   "execution_count": 23,
   "metadata": {},
   "outputs": [],
   "source": [
    "def wordPattern(pattern, str):\n",
    "    s = pattern\n",
    "    t = str.split()\n",
    "    return len(set(zip(s, t))) == len(set(s)) == len(set(t)) and len(s) == len(t)"
   ]
  },
  {
   "cell_type": "markdown",
   "metadata": {},
   "source": [
    "# 两个列表的最小索引和"
   ]
  },
  {
   "cell_type": "markdown",
   "metadata": {},
   "source": [
    "假设Andy和Doris要选择一家餐厅吃饭，他们都有一个用字符串表示的最喜欢的餐厅列表。你需要用最少的列表索引和来帮助他们找到他们的共同兴趣。如果答案之间存在选择关系，则输出所有答案，不要求顺序。你可以假设总是存在一个答案。"
   ]
  },
  {
   "cell_type": "markdown",
   "metadata": {},
   "source": [
    "Example 1:\n",
    "\n",
    "Input:\n",
    "\n",
    "[\"Shogun\", \"Tapioca Express\", \"Burger King\", \"KFC\"]\n",
    "\n",
    "[\"Piatti\", \"The Grill at Torrey Pines\", \"Hungry Hunter Steakhouse\", \"Shogun\"]\n",
    "\n",
    "Output: [\"Shogun\"]\n",
    "\n",
    "Explanation: The only restaurant they both like is \"Shogun\".\n",
    "\n",
    "Example 2:\n",
    "\n",
    "Input:\n",
    "\n",
    "[\"Shogun\", \"Tapioca Express\", \"Burger King\", \"KFC\"]\n",
    "\n",
    "[\"KFC\", \"Shogun\", \"Burger King\"]\n",
    "\n",
    "Output: [\"Shogun\"]\n",
    "\n",
    "Explanation: The restaurant they both like and have the least index sum is \"Shogun\" with index sum 1 (0+1)."
   ]
  },
  {
   "cell_type": "code",
   "execution_count": 24,
   "metadata": {},
   "outputs": [],
   "source": [
    "def findRestaurant(A, B):\n",
    "    Aindex = {u: i for i, u in enumerate(A)}\n",
    "    best, ans = 1e9, []\n",
    "\n",
    "    for j, v in enumerate(B):\n",
    "        i = Aindex.get(v, 1e9)\n",
    "        if i + j < best:\n",
    "            best = i + j\n",
    "            ans = [v]\n",
    "        elif i + j == best:\n",
    "            ans.append(v)\n",
    "    return ans"
   ]
  },
  {
   "cell_type": "code",
   "execution_count": 25,
   "metadata": {},
   "outputs": [
    {
     "data": {
      "text/plain": [
       "['Shogun']"
      ]
     },
     "execution_count": 25,
     "metadata": {},
     "output_type": "execute_result"
    }
   ],
   "source": [
    "A = [\"Shogun\", \"Tapioca Express\", \"Burger King\", \"KFC\"]\n",
    "B = [\"Piatti\", \"The Grill at Torrey Pines\", \"Hungry Hunter Steakhouse\", \"Shogun\"]\n",
    "findRestaurant(A, B)"
   ]
  },
  {
   "cell_type": "markdown",
   "metadata": {},
   "source": [
    "# 字典中最长的单词"
   ]
  },
  {
   "cell_type": "markdown",
   "metadata": {},
   "source": [
    "Example 1:\n",
    "\n",
    "Input:\n",
    "\n",
    "words = [\"w\",\"wo\",\"wor\",\"worl\", \"world\"]\n",
    "\n",
    "Output: \"world\"\n",
    "\n",
    "Explanation:\n",
    "\n",
    "The word \"world\" can be built one character at a time by \"w\", \"wo\", \"wor\", and \"worl\".\n",
    "\n",
    "Example 2:\n",
    "\n",
    "Input:\n",
    "\n",
    "words = [\"a\", \"banana\", \"app\", \"appl\", \"ap\", \"apply\", \"apple\"]\n",
    "\n",
    "Output: \"apple\""
   ]
  },
  {
   "cell_type": "code",
   "execution_count": 26,
   "metadata": {},
   "outputs": [],
   "source": [
    "def longestWord(words):\n",
    "    words, resword, res = sorted(words), '', set()\n",
    "    for word in words:\n",
    "        if len(word) == 1 or word[:-1] in res:\n",
    "            res.add(word)\n",
    "            resword = word if resword == '' else word if len(word) > len(resword) else resword\n",
    "    return resword"
   ]
  },
  {
   "cell_type": "code",
   "execution_count": 27,
   "metadata": {},
   "outputs": [
    {
     "data": {
      "text/plain": [
       "'apple'"
      ]
     },
     "execution_count": 27,
     "metadata": {},
     "output_type": "execute_result"
    }
   ],
   "source": [
    "words = [\"a\", \"banana\", \"app\", \"appl\", \"ap\", \"apply\", \"apple\"]\n",
    "longestWord(words)"
   ]
  },
  {
   "cell_type": "markdown",
   "metadata": {},
   "source": [
    "# 快乐数字"
   ]
  },
  {
   "cell_type": "markdown",
   "metadata": {},
   "source": [
    "快乐的数字定义为以下过程:从任何正整数,取代数的平方和的位数,并重复这个过程,直到数字 = 1(它将停在这里),它在一个不包含1的循环中无限循环。这个过程以1结束的那些数字是令人满意的数字。\n",
    "1^2 + 9^2 = 82\n",
    "8^2 + 2^2 = 68\n",
    "6^2 + 8^2 = 100\n",
    "1^2 + 0^2 + 0^2 = 1"
   ]
  },
  {
   "cell_type": "raw",
   "metadata": {},
   "source": [
    "Example: 19 is a happy number"
   ]
  },
  {
   "cell_type": "code",
   "execution_count": 34,
   "metadata": {},
   "outputs": [],
   "source": [
    "def isHappy(n):\n",
    "    seen = set()\n",
    "    while n not in seen:\n",
    "        seen.add(n)\n",
    "        n = sum([int(x) **2 for x in str(n)])\n",
    "    return n == 1"
   ]
  },
  {
   "cell_type": "code",
   "execution_count": 33,
   "metadata": {},
   "outputs": [
    {
     "ename": "TypeError",
     "evalue": "'str' object is not callable",
     "output_type": "error",
     "traceback": [
      "\u001b[1;31m---------------------------------------------------------------------------\u001b[0m",
      "\u001b[1;31mTypeError\u001b[0m                                 Traceback (most recent call last)",
      "\u001b[1;32m<ipython-input-33-0c7693f674b9>\u001b[0m in \u001b[0;36m<module>\u001b[1;34m()\u001b[0m\n\u001b[0;32m      1\u001b[0m \u001b[0mn\u001b[0m \u001b[1;33m=\u001b[0m \u001b[1;36m19\u001b[0m\u001b[1;33m\u001b[0m\u001b[0m\n\u001b[1;32m----> 2\u001b[1;33m \u001b[0misHappy\u001b[0m\u001b[1;33m(\u001b[0m\u001b[0mn\u001b[0m\u001b[1;33m)\u001b[0m\u001b[1;33m\u001b[0m\u001b[0m\n\u001b[0m",
      "\u001b[1;32m<ipython-input-32-d2e968b606aa>\u001b[0m in \u001b[0;36misHappy\u001b[1;34m(n)\u001b[0m\n\u001b[0;32m      3\u001b[0m     \u001b[1;32mwhile\u001b[0m \u001b[0mn\u001b[0m \u001b[1;32mnot\u001b[0m \u001b[1;32min\u001b[0m \u001b[0mseen\u001b[0m\u001b[1;33m:\u001b[0m\u001b[1;33m\u001b[0m\u001b[0m\n\u001b[0;32m      4\u001b[0m         \u001b[0mseen\u001b[0m\u001b[1;33m.\u001b[0m\u001b[0madd\u001b[0m\u001b[1;33m(\u001b[0m\u001b[0mn\u001b[0m\u001b[1;33m)\u001b[0m\u001b[1;33m\u001b[0m\u001b[0m\n\u001b[1;32m----> 5\u001b[1;33m         \u001b[0mn\u001b[0m \u001b[1;33m=\u001b[0m \u001b[0msum\u001b[0m\u001b[1;33m(\u001b[0m\u001b[1;33m[\u001b[0m\u001b[0mint\u001b[0m\u001b[1;33m(\u001b[0m\u001b[0mx\u001b[0m\u001b[1;33m)\u001b[0m \u001b[1;33m**\u001b[0m\u001b[1;36m2\u001b[0m \u001b[1;32mfor\u001b[0m \u001b[0mx\u001b[0m \u001b[1;32min\u001b[0m \u001b[0mstr\u001b[0m\u001b[1;33m(\u001b[0m\u001b[0mn\u001b[0m\u001b[1;33m)\u001b[0m\u001b[1;33m]\u001b[0m\u001b[1;33m)\u001b[0m\u001b[1;33m\u001b[0m\u001b[0m\n\u001b[0m\u001b[0;32m      6\u001b[0m     \u001b[1;32mreturn\u001b[0m \u001b[0mn\u001b[0m \u001b[1;33m==\u001b[0m \u001b[1;36m1\u001b[0m\u001b[1;33m\u001b[0m\u001b[0m\n",
      "\u001b[1;31mTypeError\u001b[0m: 'str' object is not callable"
     ]
    }
   ],
   "source": [
    "n = 19\n",
    "isHappy(n)"
   ]
  },
  {
   "cell_type": "markdown",
   "metadata": {},
   "source": [
    "# 异序词"
   ]
  },
  {
   "cell_type": "raw",
   "metadata": {},
   "source": [
    "For example,\n",
    "\n",
    "s = \"anagram\", t = \"nagaram\", return true.\n",
    "\n",
    "s = \"rat\", t = \"car\", return false."
   ]
  },
  {
   "cell_type": "code",
   "execution_count": 35,
   "metadata": {},
   "outputs": [],
   "source": [
    "def isAnagram1(s, t):\n",
    "    dic1, dic2 = {}, {}\n",
    "    for item in s:\n",
    "        dic1[item] = dic1.get(item, 0) + 1\n",
    "    for item in t:\n",
    "        dic2[item] = dic2.get(item, 0) + 1\n",
    "    return dic1 == dic2"
   ]
  },
  {
   "cell_type": "code",
   "execution_count": 36,
   "metadata": {},
   "outputs": [],
   "source": [
    "def isAnagram2(s, t):\n",
    "    dic1, dic2 = [0]*26, [0]*26\n",
    "    for item in s:\n",
    "        dic1[ord(item)-ord('a')] += 1\n",
    "    for item in t:\n",
    "        dic2[ord(item)-ord('a')] += 1\n",
    "    return dic1 == dic2"
   ]
  },
  {
   "cell_type": "code",
   "execution_count": 37,
   "metadata": {},
   "outputs": [],
   "source": [
    "def isAnagram3(s, t):\n",
    "    return sorted(s) == sorted(t)"
   ]
  },
  {
   "cell_type": "markdown",
   "metadata": {},
   "source": [
    "# 找到字符串中所有字母异位词"
   ]
  },
  {
   "cell_type": "raw",
   "metadata": {},
   "source": [
    "给定一个字符串s和一个非空字符串p，找出s中p的重新组合的字符串的所有起始索引。\n",
    "字符串仅由小写英文字母组成，字符串s和p的长度不会大于20,100。输出的顺序并不重要。"
   ]
  },
  {
   "cell_type": "markdown",
   "metadata": {},
   "source": [
    "nput: s: \"cbaebabacd\" p: \"abc\"\n",
    "\n",
    "Output: [0, 6]\n",
    "\n",
    "Explanation:\n",
    "\n",
    "The substring with start index = 0 is \"cba\", which is an anagram of \"abc\".\n",
    "\n",
    "The substring with start index = 6 is \"bac\", which is an anagram of \"abc\"."
   ]
  },
  {
   "cell_type": "code",
   "execution_count": 38,
   "metadata": {},
   "outputs": [],
   "source": [
    "def findAnagrams(s, p):\n",
    "\n",
    "    res = []\n",
    "    n, m = len(s), len(p)\n",
    "    if n < m: return res\n",
    "    phash, shash = [0]*123, [0]*123\n",
    "    for x in p:\n",
    "        phash[ord(x)] += 1\n",
    "    for x in s[:m-1]:\n",
    "        shash[ord(x)] += 1\n",
    "    for i in range(m-1, n):\n",
    "        shash[ord(s[i])] += 1\n",
    "        if i-m >= 0:\n",
    "            shash[ord(s[i-m])] -= 1\n",
    "        if shash == phash:\n",
    "            res.append(i - m + 1)\n",
    "    return res"
   ]
  },
  {
   "cell_type": "markdown",
   "metadata": {},
   "source": [
    "# 字母异位词分组"
   ]
  },
  {
   "cell_type": "raw",
   "metadata": {},
   "source": [
    "Given an array of strings, group anagrams together.\n",
    "\n",
    "For example, given: [\"eat\", \"tea\", \"tan\", \"ate\", \"nat\", \"bat\"], Return:\n",
    "\n",
    "[\n",
    "\n",
    "[\"ate\", \"eat\",\"tea\"],\n",
    "\n",
    "[\"nat\",\"tan\"],\n",
    "\n",
    "[\"bat\"]\n",
    "\n",
    "]\n",
    "\n",
    "Note: All inputs will be in lower-case."
   ]
  },
  {
   "cell_type": "code",
   "execution_count": 40,
   "metadata": {},
   "outputs": [],
   "source": [
    "def groupAnagrams(strs):\n",
    "    ans = collections.defaultdict(list)\n",
    "    for s in strs:\n",
    "        ans[tuple(sorted(s))].append(s)\n",
    "    return ans.values()"
   ]
  },
  {
   "cell_type": "code",
   "execution_count": 41,
   "metadata": {},
   "outputs": [],
   "source": [
    "def groupAnagrams(strs):\n",
    "    ans = collections.defaultdict(list)\n",
    "    for s in strs:\n",
    "        count = [0] * 26\n",
    "        for c in s:\n",
    "            count[ord(c) - ord('a')] += 1\n",
    "        ans[tuple(count)].append(s)\n",
    "    #return ans.values()\n",
    "    return list(ans.values())"
   ]
  },
  {
   "cell_type": "markdown",
   "metadata": {},
   "source": [
    "# 按频率对字符排序"
   ]
  },
  {
   "cell_type": "raw",
   "metadata": {},
   "source": [
    "Given a string, sort it in decreasing order based on the frequency of characters.\n",
    "\n",
    "Example 1:\n",
    "\n",
    "Input: \"tree\"\n",
    "\n",
    "Output: \"eert\""
   ]
  },
  {
   "cell_type": "code",
   "execution_count": 42,
   "metadata": {},
   "outputs": [],
   "source": [
    "def frequencySort(s):\n",
    "    import collections\n",
    "    if not s:\n",
    "        return \"\"\n",
    "    count_s = collections.Counter(s)\n",
    "    counter = count_s.most_common()\n",
    "    rs = ''\n",
    "    for i in counter:\n",
    "        rs += i[0] * i[1]\n",
    "    return rs"
   ]
  },
  {
   "cell_type": "code",
   "execution_count": 43,
   "metadata": {},
   "outputs": [],
   "source": [
    "def frequencySort(self, s):\n",
    "    import operator\n",
    "    if not s:\n",
    "        return \"\"\n",
    "    counter = {}; rs = ''\n",
    "    for i in s:\n",
    "        counter[i] = 1 if i not in counter else counter[i]+1\n",
    "    sorted_counter = sorted(counter.items(), key=operator.itemgetter(1))\n",
    "    sorted_counter.reverse()\n",
    "    for i in sorted_counter:\n",
    "        rs += i[0] * i[1]\n",
    "    return rs"
   ]
  },
  {
   "cell_type": "markdown",
   "metadata": {},
   "source": [
    "# 森林里的兔子"
   ]
  },
  {
   "cell_type": "raw",
   "metadata": {},
   "source": [
    "在森林里，每只兔子都有自己的颜色。一些兔子的子集(可能是全部)告诉你有多少其他兔子和它们有相同的颜色。这些答案被放在一个数组中。\n",
    "返回森林中兔子的最小数量。"
   ]
  },
  {
   "cell_type": "markdown",
   "metadata": {},
   "source": [
    "Examples:\n",
    "\n",
    "Input: answers = [1, 1, 2]\n",
    "\n",
    "Output: 5"
   ]
  },
  {
   "cell_type": "code",
   "execution_count": 45,
   "metadata": {},
   "outputs": [],
   "source": [
    "from collections import Counter\n",
    "from math import ceil\n",
    "def numRabbits(answers):\n",
    "    C=Counter(answers)\n",
    "    res=0\n",
    "    print(C)\n",
    "    for key,cnt in C.items():\n",
    "        key+=1\n",
    "        res+=ceil(1.0*cnt/key)*key\n",
    "    return int(res)"
   ]
  },
  {
   "cell_type": "markdown",
   "metadata": {},
   "source": [
    "# 实现魔术字典"
   ]
  },
  {
   "cell_type": "raw",
   "metadata": {},
   "source": [
    "使用buildDict和搜索方法实现一个神奇的字典。对于buildDict方法，您将获得一个非重复单词列表来构建字典。\n",
    "对于方法搜索，您将得到一个单词，并判断如果您将这个单词中的一个字符恰好修改为另一个字符，那么修改后的单词是否在您刚才构建的字典中。"
   ]
  },
  {
   "cell_type": "code",
   "execution_count": 46,
   "metadata": {},
   "outputs": [],
   "source": [
    "class MagicDictionary(object):\n",
    "    def _candidates(self, word):\n",
    "        for i in xrange(len(word)):\n",
    "            yield word[:i] + '*' + word[i+1:]\n",
    "            \n",
    "    def buildDict(self, words):\n",
    "        self.words = set(words)\n",
    "        self.near = collections.Counter(cand for word in words\n",
    "                                        for cand in self._candidates(word))\n",
    "\n",
    "    def search(self, word):\n",
    "        return any(self.near[cand] > 1 or \n",
    "                   self.near[cand] == 1 and word not in self.words\n",
    "                   for cand in self._candidates(word))"
   ]
  },
  {
   "cell_type": "markdown",
   "metadata": {},
   "source": [
    "# 砖墙"
   ]
  },
  {
   "cell_type": "code",
   "execution_count": 50,
   "metadata": {},
   "outputs": [],
   "source": [
    "def leastBricks(wall):\n",
    "    d = collections.defaultdict(int)\n",
    "    for line in wall:\n",
    "        i = 0\n",
    "        for brick in line[:-1]:\n",
    "            i += brick\n",
    "            d[i] += 1\n",
    "    # print len(wall), d\n",
    "    return len(wall) - max(d.values() + [0])"
   ]
  },
  {
   "cell_type": "code",
   "execution_count": 51,
   "metadata": {},
   "outputs": [
    {
     "ename": "TypeError",
     "evalue": "unsupported operand type(s) for +: 'dict_values' and 'list'",
     "output_type": "error",
     "traceback": [
      "\u001b[1;31m---------------------------------------------------------------------------\u001b[0m",
      "\u001b[1;31mTypeError\u001b[0m                                 Traceback (most recent call last)",
      "\u001b[1;32m<ipython-input-51-c9c03bc903c8>\u001b[0m in \u001b[0;36m<module>\u001b[1;34m()\u001b[0m\n\u001b[0;32m      1\u001b[0m \u001b[0mwalls\u001b[0m \u001b[1;33m=\u001b[0m \u001b[1;33m[\u001b[0m\u001b[1;33m[\u001b[0m\u001b[1;36m1\u001b[0m\u001b[1;33m,\u001b[0m\u001b[1;36m2\u001b[0m\u001b[1;33m,\u001b[0m\u001b[1;36m2\u001b[0m\u001b[1;33m,\u001b[0m\u001b[1;36m1\u001b[0m\u001b[1;33m]\u001b[0m\u001b[1;33m,\u001b[0m\u001b[1;33m[\u001b[0m\u001b[1;36m3\u001b[0m\u001b[1;33m,\u001b[0m\u001b[1;36m1\u001b[0m\u001b[1;33m,\u001b[0m\u001b[1;36m2\u001b[0m\u001b[1;33m]\u001b[0m\u001b[1;33m,\u001b[0m\u001b[1;33m[\u001b[0m\u001b[1;36m1\u001b[0m\u001b[1;33m,\u001b[0m\u001b[1;36m3\u001b[0m\u001b[1;33m,\u001b[0m\u001b[1;36m2\u001b[0m\u001b[1;33m]\u001b[0m\u001b[1;33m,\u001b[0m \u001b[1;33m[\u001b[0m\u001b[1;36m2\u001b[0m\u001b[1;33m,\u001b[0m\u001b[1;36m4\u001b[0m\u001b[1;33m]\u001b[0m\u001b[1;33m,\u001b[0m\u001b[1;33m[\u001b[0m\u001b[1;36m3\u001b[0m\u001b[1;33m,\u001b[0m\u001b[1;36m1\u001b[0m\u001b[1;33m,\u001b[0m\u001b[1;36m2\u001b[0m\u001b[1;33m]\u001b[0m\u001b[1;33m,\u001b[0m \u001b[1;33m[\u001b[0m\u001b[1;36m1\u001b[0m\u001b[1;33m,\u001b[0m\u001b[1;36m3\u001b[0m\u001b[1;33m,\u001b[0m\u001b[1;36m1\u001b[0m\u001b[1;33m,\u001b[0m\u001b[1;36m1\u001b[0m\u001b[1;33m]\u001b[0m\u001b[1;33m]\u001b[0m\u001b[1;33m\u001b[0m\u001b[0m\n\u001b[1;32m----> 2\u001b[1;33m \u001b[0mleastBricks\u001b[0m\u001b[1;33m(\u001b[0m\u001b[0mwalls\u001b[0m\u001b[1;33m)\u001b[0m\u001b[1;33m\u001b[0m\u001b[0m\n\u001b[0m",
      "\u001b[1;32m<ipython-input-50-81de25e82b02>\u001b[0m in \u001b[0;36mleastBricks\u001b[1;34m(wall)\u001b[0m\n\u001b[0;32m      7\u001b[0m             \u001b[0md\u001b[0m\u001b[1;33m[\u001b[0m\u001b[0mi\u001b[0m\u001b[1;33m]\u001b[0m \u001b[1;33m+=\u001b[0m \u001b[1;36m1\u001b[0m\u001b[1;33m\u001b[0m\u001b[0m\n\u001b[0;32m      8\u001b[0m     \u001b[1;31m# print len(wall), d\u001b[0m\u001b[1;33m\u001b[0m\u001b[1;33m\u001b[0m\u001b[0m\n\u001b[1;32m----> 9\u001b[1;33m     \u001b[1;32mreturn\u001b[0m \u001b[0mlen\u001b[0m\u001b[1;33m(\u001b[0m\u001b[0mwall\u001b[0m\u001b[1;33m)\u001b[0m \u001b[1;33m-\u001b[0m \u001b[0mmax\u001b[0m\u001b[1;33m(\u001b[0m\u001b[0md\u001b[0m\u001b[1;33m.\u001b[0m\u001b[0mvalues\u001b[0m\u001b[1;33m(\u001b[0m\u001b[1;33m)\u001b[0m \u001b[1;33m+\u001b[0m \u001b[1;33m[\u001b[0m\u001b[1;36m0\u001b[0m\u001b[1;33m]\u001b[0m\u001b[1;33m)\u001b[0m\u001b[1;33m\u001b[0m\u001b[0m\n\u001b[0m",
      "\u001b[1;31mTypeError\u001b[0m: unsupported operand type(s) for +: 'dict_values' and 'list'"
     ]
    }
   ],
   "source": [
    "walls = [[1,2,2,1],[3,1,2],[1,3,2], [2,4],[3,1,2], [1,3,1,1]]\n",
    "leastBricks(walls)\n"
   ]
  },
  {
   "cell_type": "code",
   "execution_count": null,
   "metadata": {},
   "outputs": [],
   "source": []
  }
 ],
 "metadata": {
  "kernelspec": {
   "display_name": "Python 3",
   "language": "python",
   "name": "python3"
  },
  "language_info": {
   "codemirror_mode": {
    "name": "ipython",
    "version": 3
   },
   "file_extension": ".py",
   "mimetype": "text/x-python",
   "name": "python",
   "nbconvert_exporter": "python",
   "pygments_lexer": "ipython3",
   "version": "3.6.4"
  },
  "toc": {
   "base_numbering": 1,
   "nav_menu": {},
   "number_sections": true,
   "sideBar": true,
   "skip_h1_title": false,
   "title_cell": "Table of Contents",
   "title_sidebar": "Contents",
   "toc_cell": false,
   "toc_position": {
    "height": "calc(100% - 180px)",
    "left": "10px",
    "top": "150px",
    "width": "320px"
   },
   "toc_section_display": true,
   "toc_window_display": true
  },
  "varInspector": {
   "cols": {
    "lenName": 16,
    "lenType": 16,
    "lenVar": 40
   },
   "kernels_config": {
    "python": {
     "delete_cmd_postfix": "",
     "delete_cmd_prefix": "del ",
     "library": "var_list.py",
     "varRefreshCmd": "print(var_dic_list())"
    },
    "r": {
     "delete_cmd_postfix": ") ",
     "delete_cmd_prefix": "rm(",
     "library": "var_list.r",
     "varRefreshCmd": "cat(var_dic_list()) "
    }
   },
   "types_to_exclude": [
    "module",
    "function",
    "builtin_function_or_method",
    "instance",
    "_Feature"
   ],
   "window_display": false
  }
 },
 "nbformat": 4,
 "nbformat_minor": 2
}
