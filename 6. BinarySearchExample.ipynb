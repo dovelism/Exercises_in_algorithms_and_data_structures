{
 "cells": [
  {
   "cell_type": "markdown",
   "metadata": {},
   "source": [
    "# Ex.1: 二分查找的一个模板"
   ]
  },
  {
   "cell_type": "code",
   "execution_count": 2,
   "metadata": {},
   "outputs": [],
   "source": [
    "def binarysearch(alist, item):\n",
    "    if len(alist) == 0:   # 不空\n",
    "        return -1\n",
    "    \n",
    "    left, right = 0, len(alist) - 1\n",
    "    \n",
    "    while left + 1 < right:         \n",
    "        mid = left + (right - left) // 2\n",
    "        if alist[mid] == item:\n",
    "            right = mid\n",
    "        elif alist[mid] < item:\n",
    "            left = mid\n",
    "        elif alist[mid] > item:\n",
    "            right = mid\n",
    "            \n",
    "    # 不满足则跳出循环体 ：【1】 当Left和right相邻的时候 【2】Left和right指向同一元素    \n",
    "    \n",
    "    if alist[left] == item:\n",
    "        return left\n",
    "    if alist[right] == item:\n",
    "        return right\n",
    "    \n",
    "    return -1"
   ]
  },
  {
   "cell_type": "code",
   "execution_count": 3,
   "metadata": {},
   "outputs": [
    {
     "data": {
      "text/plain": [
       "2"
      ]
     },
     "execution_count": 3,
     "metadata": {},
     "output_type": "execute_result"
    }
   ],
   "source": [
    "alist = [1,2,5,9,10]\n",
    "item = 5\n",
    "binarysearch(alist, item)"
   ]
  },
  {
   "cell_type": "markdown",
   "metadata": {},
   "source": [
    "# Ex.2 求旋转排序数组中的最小值"
   ]
  },
  {
   "cell_type": "raw",
   "metadata": {},
   "source": [
    "假设一个按升序排序的数组在某个未知节点处被前后调换，找出该数组中的最小值。\n",
    "复杂度为lgn的方法，只有一种：就是二分"
   ]
  },
  {
   "cell_type": "code",
   "execution_count": 5,
   "metadata": {},
   "outputs": [],
   "source": [
    "def searchlazy(alist):\n",
    "    alist.sort()\n",
    "    return alist[0]\n",
    "\n",
    "def searchslow(alist):\n",
    "    mmin = alist[0]\n",
    "    for i in alist:\n",
    "        mmin = min(mmin, i)\n",
    "    return mmin \n",
    "        \n",
    "def search(alist):\n",
    "    if len(alist) == 0:\n",
    "        return -1    \n",
    "    left, right = 0, len(alist) - 1\n",
    "    while left + 1 < right: \n",
    "        if (alist[left] < alist[right]):\n",
    "            return alist[left];\n",
    "        mid = left + (right - left) // 2\n",
    "        if (alist[mid] >= alist[left]):\n",
    "            left = mid + 1\n",
    "        else:\n",
    "            right = mid\n",
    "    return alist[left] if alist[left] < alist[right] else alist[right]"
   ]
  },
  {
   "cell_type": "markdown",
   "metadata": {},
   "source": [
    "# Ex.3 在旋转数组中查找"
   ]
  },
  {
   "cell_type": "code",
   "execution_count": 6,
   "metadata": {},
   "outputs": [],
   "source": [
    "def search(alist, target):\n",
    "    if len(alist) == 0:\n",
    "        return -1    \n",
    "    left, right = 0, len(alist) - 1\n",
    "    while left + 1 < right: \n",
    "        mid = left + (right - left) // 2\n",
    "        if alist[mid] == target:\n",
    "            return mid\n",
    "        \n",
    "        if (alist[left] < alist[mid]):\n",
    "            if alist[left] <= target and target <= alist[mid]:\n",
    "                right = mid\n",
    "            else:\n",
    "                left = mid\n",
    "        else:\n",
    "            if alist[mid] <= target and target <= alist[right]:\n",
    "                left = mid\n",
    "            else: \n",
    "                right = mid\n",
    "                            \n",
    "    if alist[left] == target:\n",
    "        return left\n",
    "    if alist[right] == target:\n",
    "        return right\n",
    "        \n",
    "    return -1"
   ]
  },
  {
   "cell_type": "markdown",
   "metadata": {},
   "source": [
    "# Ex.4 查找插入位置"
   ]
  },
  {
   "cell_type": "raw",
   "metadata": {},
   "source": [
    "给定一个已排序的数组和一个目标值，如果找到目标，则返回索引。如果没有，则返回按顺序插入的索引所在的位置。您可以假定数组中没有重复项"
   ]
  },
  {
   "cell_type": "code",
   "execution_count": 7,
   "metadata": {},
   "outputs": [],
   "source": [
    "def search_insert_position(alist, target):\n",
    "    if len(alist) == 0:\n",
    "        return 0  \n",
    "    left, right = 0, len(alist) - 1\n",
    "    while left + 1 < right: \n",
    "        mid = left + (right - left) // 2\n",
    "        if alist[mid] == target:\n",
    "            return mid\n",
    "        \n",
    "        if (alist[mid] < target):\n",
    "            left = mid\n",
    "        else:\n",
    "            right = mid\n",
    "            \n",
    "    if alist[left] >= target:\n",
    "        return left\n",
    "    if alist[right] >= target:\n",
    "        return right\n",
    "        \n",
    "    return right + 1"
   ]
  },
  {
   "cell_type": "markdown",
   "metadata": {},
   "source": [
    "# Ex.5 搜索区间"
   ]
  },
  {
   "cell_type": "raw",
   "metadata": {},
   "source": [
    "找出给定目标值的起始和结束位置"
   ]
  },
  {
   "cell_type": "code",
   "execution_count": 8,
   "metadata": {},
   "outputs": [],
   "source": [
    "def search_range(alist, target):\n",
    "    if len(alist) == 0:\n",
    "        return (-1, -1)  \n",
    "    \n",
    "    lbound, rbound = -1, -1\n",
    "\n",
    "    # search for left bound \n",
    "    left, right = 0, len(alist) - 1\n",
    "    while left + 1 < right: \n",
    "        mid = left + (right - left) // 2\n",
    "        if alist[mid] == target:\n",
    "            right = mid\n",
    "        elif (alist[mid] < target):\n",
    "            left = mid\n",
    "        else:\n",
    "            right = mid\n",
    "            \n",
    "    if alist[left] == target:\n",
    "        lbound = left\n",
    "    elif alist[right] == target:\n",
    "        lbound = right\n",
    "    else:\n",
    "        return (-1, -1)\n",
    "\n",
    "    # search for right bound \n",
    "    left, right = 0, len(alist) - 1        \n",
    "    while left + 1 < right: \n",
    "        mid = left + (right - left) // 2\n",
    "        if alist[mid] == target:\n",
    "            left = mid\n",
    "        elif (alist[mid] < target):\n",
    "            left = mid\n",
    "        else:\n",
    "            right = mid\n",
    "            \n",
    "    if alist[right] == target:\n",
    "        rbound = right\n",
    "    elif alist[left] == target:\n",
    "        rbound = left\n",
    "    else:\n",
    "        return (-1, -1)        \n",
    "        \n",
    "    return (lbound, rbound)"
   ]
  },
  {
   "cell_type": "markdown",
   "metadata": {},
   "source": [
    "# Ex.6 在包含空字符串的排序数组中搜索"
   ]
  },
  {
   "cell_type": "raw",
   "metadata": {},
   "source": [
    "给定一个排序的字符串数组，其中穿插着空字符串，写一个方法来找到给定字符串的位置。"
   ]
  },
  {
   "cell_type": "code",
   "execution_count": 9,
   "metadata": {},
   "outputs": [],
   "source": [
    "def search_empty(alist, target):\n",
    "    if len(alist) == 0:\n",
    "        return -1\n",
    "      \n",
    "    left, right = 0, len(alist) - 1\n",
    "    \n",
    "    while left + 1 < right:\n",
    "        while left + 1 < right and alist[right] == \"\":\n",
    "            right -= 1\n",
    "        if alist[right] == \"\":\n",
    "            right -= 1\n",
    "        if right < left:\n",
    "            return -1\n",
    "        \n",
    "        mid = left + (right - left) // 2\n",
    "        while alist[mid] == \"\":\n",
    "            mid += 1\n",
    "            \n",
    "        if alist[mid] == target:\n",
    "            return mid\n",
    "        if alist[mid] < target:\n",
    "            left = mid + 1\n",
    "        else:\n",
    "            right = mid - 1\n",
    "            \n",
    "    if alist[left] == target:\n",
    "        return left\n",
    "    if alist[right] == target:\n",
    "        return right    \n",
    "        \n",
    "    return -1   "
   ]
  },
  {
   "cell_type": "markdown",
   "metadata": {},
   "source": [
    "# Ex.7 查找无限数组中元素的第一个位置"
   ]
  },
  {
   "cell_type": "code",
   "execution_count": 10,
   "metadata": {},
   "outputs": [],
   "source": [
    "def search_first(alist):\n",
    "    left, right = 0, 1\n",
    "    \n",
    "    while alist[right] == 0:\n",
    "        left = right\n",
    "        right *= 2\n",
    "        \n",
    "        if (right > len(alist)):\n",
    "            right = len(alist) - 1\n",
    "            break\n",
    "    \n",
    "    return left + search_range(alist[left:right+1], 1)[0]"
   ]
  },
  {
   "cell_type": "markdown",
   "metadata": {},
   "source": [
    "# Ex.8 供暖器"
   ]
  },
  {
   "cell_type": "raw",
   "metadata": {},
   "source": [
    "Leetcode题目描述：冬季已经来临。 你的任务是设计一个有固定加热半径的供暖器向所有房屋供暖。\n",
    "现在，给出位于一条水平线上的房屋和供暖器的位置，找到可以覆盖所有房屋的最小加热半径。\n",
    "所以，你的输入将会是房屋和供暖器的位置。你将输出供暖器的最小加热半径。\n"
   ]
  },
  {
   "cell_type": "raw",
   "metadata": {},
   "source": [
    "解决方案这个想法是利用Python提供的leverage decent bisect function。\n",
    "计算房子与左加热器和右加热器之间的距离，得到这两个值的最小值。\n",
    "Corner cases是没有左或右加热器。\n",
    "在步骤2中获得距离的最大值。\n",
    "这是答案。"
   ]
  },
  {
   "cell_type": "code",
   "execution_count": 1,
   "metadata": {},
   "outputs": [],
   "source": [
    "from bisect import bisect\n",
    "\n",
    "def findRadius(houses, heaters):\n",
    "    heaters.sort()\n",
    "    ans = 0\n",
    "\n",
    "    for h in houses:\n",
    "        hi = bisect(heaters, h)\n",
    "        left = heaters[hi-1] if hi - 1 >= 0 else float('-inf')\n",
    "        right = heaters[hi] if hi < len(heaters) else float('inf')\n",
    "        ans = max(ans, min(h - left, right - h))\n",
    "\n",
    "    return ans"
   ]
  },
  {
   "cell_type": "code",
   "execution_count": 2,
   "metadata": {},
   "outputs": [
    {
     "data": {
      "text/plain": [
       "1"
      ]
     },
     "execution_count": 2,
     "metadata": {},
     "output_type": "execute_result"
    }
   ],
   "source": [
    "houses = [1,2,3,4]\n",
    "heaters = [1,4]\n",
    "findRadius(houses, heaters)"
   ]
  },
  {
   "cell_type": "code",
   "execution_count": 3,
   "metadata": {},
   "outputs": [
    {
     "data": {
      "text/plain": [
       "11"
      ]
     },
     "execution_count": 3,
     "metadata": {},
     "output_type": "execute_result"
    }
   ],
   "source": [
    "houses = [1,12,23,34]\n",
    "heaters = [12,24]\n",
    "findRadius(houses, heaters)"
   ]
  },
  {
   "cell_type": "markdown",
   "metadata": {},
   "source": [
    "# Ex.9: sqrt(x)"
   ]
  },
  {
   "cell_type": "raw",
   "metadata": {},
   "source": [
    "实现int sqrt(int x)。\n",
    "计算并返回x的平方根。\n",
    "x保证是一个非负整数。"
   ]
  },
  {
   "cell_type": "code",
   "execution_count": 4,
   "metadata": {},
   "outputs": [],
   "source": [
    "def sqrt(x):\n",
    "    if x == 0:\n",
    "        return 0\n",
    "    left, right = 1, x\n",
    "    while left <= right:\n",
    "        mid = left + (right - left) // 2\n",
    "        if (mid == x // mid):\n",
    "            return mid\n",
    "        if (mid < x // mid):\n",
    "            left = mid + 1\n",
    "        else:\n",
    "            right = mid - 1\n",
    "    return right"
   ]
  },
  {
   "cell_type": "code",
   "execution_count": 5,
   "metadata": {},
   "outputs": [
    {
     "data": {
      "text/plain": [
       "7"
      ]
     },
     "execution_count": 5,
     "metadata": {},
     "output_type": "execute_result"
    }
   ],
   "source": [
    "sqrt(50)"
   ]
  },
  {
   "cell_type": "markdown",
   "metadata": {},
   "source": [
    "# Ex.10: 排序矩阵中第k小的元素"
   ]
  },
  {
   "cell_type": "raw",
   "metadata": {},
   "source": [
    "给定一个n x n矩阵，其中每一行和每一列都是按升序排序的，找出矩阵中第k小的元素。注意，它是排序后第k小的元素，而不是第k个不同的元素。"
   ]
  },
  {
   "cell_type": "code",
   "execution_count": 10,
   "metadata": {},
   "outputs": [
    {
     "data": {
      "text/plain": [
       "6"
      ]
     },
     "execution_count": 10,
     "metadata": {},
     "output_type": "execute_result"
    }
   ],
   "source": [
    "from bisect import bisect\n",
    "def kthSmallest(matrix, k):\n",
    "    lo, hi = matrix[0][0], matrix[-1][-1]\n",
    "    while lo < hi:\n",
    "        mid = lo + (hi - lo) // 2\n",
    "        if sum(bisect(row, mid) for row in matrix) < k:\n",
    "            lo = mid+1\n",
    "        else:\n",
    "            hi = mid\n",
    "    return lo\n",
    "\n",
    "matrix = [\n",
    "    [1, 4, 8, 10,15],\n",
    "    [3, 5, 6, 7, 20],\n",
    "    [9, 20,22,24,29],\n",
    "    [11,22,23,29,39]\n",
    "]\n",
    "k = 5\n",
    "kthSmallest(matrix, k)"
   ]
  },
  {
   "cell_type": "markdown",
   "metadata": {},
   "source": [
    "# Ex.11: 找到重复的数字"
   ]
  },
  {
   "cell_type": "raw",
   "metadata": {},
   "source": [
    "给定一个包含n + 1个整数的数组，其中每个整数都在1和n之间(包括1和n)，证明至少有一个重复的数字存在。假设只有一个重复的数字，找出重复的那个。"
   ]
  },
  {
   "cell_type": "code",
   "execution_count": 1,
   "metadata": {},
   "outputs": [],
   "source": [
    "def findDuplicate(nums):\n",
    "\n",
    "    low = 1\n",
    "    high = len(nums)-1\n",
    "\n",
    "    while low < high:\n",
    "        mid = low + (high - low) // 2\n",
    "        count = 0\n",
    "        for i in nums:\n",
    "            if i <= mid:\n",
    "                count+=1\n",
    "        if count <= mid:\n",
    "            low = mid+1\n",
    "        else:\n",
    "            high = mid\n",
    "    return low"
   ]
  },
  {
   "cell_type": "code",
   "execution_count": 2,
   "metadata": {},
   "outputs": [
    {
     "data": {
      "text/plain": [
       "1"
      ]
     },
     "execution_count": 2,
     "metadata": {},
     "output_type": "execute_result"
    }
   ],
   "source": [
    "nums=[2, 3, 1, 0, 2, 5, 3]   # 这个用例下是错的\n",
    "findDuplicate(nums)"
   ]
  },
  {
   "cell_type": "code",
   "execution_count": 13,
   "metadata": {},
   "outputs": [
    {
     "data": {
      "text/plain": [
       "3"
      ]
     },
     "execution_count": 13,
     "metadata": {},
     "output_type": "execute_result"
    }
   ],
   "source": [
    "nums = [3,5,6,3,1,4,2]\n",
    "findDuplicate(nums)"
   ]
  },
  {
   "cell_type": "code",
   "execution_count": 14,
   "metadata": {},
   "outputs": [],
   "source": [
    "def findDuplicate(nums):\n",
    "    # The \"tortoise and hare\" step.  We start at the end of the array and try\n",
    "    # to find an intersection point in the cycle.\n",
    "    slow = 0\n",
    "    fast = 0\n",
    "\n",
    "    # Keep advancing 'slow' by one step and 'fast' by two steps until they\n",
    "    # meet inside the loop.\n",
    "    while True:\n",
    "        slow = nums[slow]\n",
    "        fast = nums[nums[fast]]\n",
    "\n",
    "        if slow == fast:\n",
    "            break\n",
    "\n",
    "    # Start up another pointer from the end of the array and march it forward\n",
    "    # until it hits the pointer inside the array.\n",
    "    finder = 0\n",
    "    while True:\n",
    "        slow   = nums[slow]\n",
    "        finder = nums[finder]\n",
    "\n",
    "        # If the two hit, the intersection index is the duplicate element.\n",
    "        if slow == finder:\n",
    "            return slow"
   ]
  },
  {
   "cell_type": "code",
   "execution_count": 15,
   "metadata": {},
   "outputs": [
    {
     "data": {
      "text/plain": [
       "3"
      ]
     },
     "execution_count": 15,
     "metadata": {},
     "output_type": "execute_result"
    }
   ],
   "source": [
    "nums = [3,5,6,3,1,4,2]\n",
    "findDuplicate(nums)"
   ]
  },
  {
   "cell_type": "code",
   "execution_count": null,
   "metadata": {},
   "outputs": [],
   "source": []
  },
  {
   "cell_type": "markdown",
   "metadata": {},
   "source": [
    "# Ex.12: 矩阵搜索 "
   ]
  },
  {
   "cell_type": "raw",
   "metadata": {},
   "source": [
    "Leetcode描述：\n",
    "\n",
    "编写一个高效的算法来搜索 m x n 矩阵 matrix 中的一个目标值 target。该矩阵具有以下特性：\n",
    "每行的元素从左到右升序排列。\n",
    "每列的元素从上到下升序排列。\n"
   ]
  },
  {
   "cell_type": "code",
   "execution_count": 25,
   "metadata": {},
   "outputs": [],
   "source": [
    "    def searchMatrix(self, matrix, target):\n",
    "        \"\"\"\n",
    "        :type matrix: List[List[int]]\n",
    "        :type target: int\n",
    "        :rtype: bool\n",
    "        \"\"\"\n",
    "\n",
    "        if len(matrix)<1 or len(matrix[0])<1:\n",
    "            return False\n",
    "        if target<matrix[0][0] or target>matrix[-1][-1]:\n",
    "            return False\n",
    "        sis1 = []\n",
    "        for i in range(len(matrix)):\n",
    "            if matrix[i][0]<=target and matrix[i][-1]>= target:\n",
    "                sis1.append(i)\n",
    "        for i in range(len(matrix[0])):\n",
    "            cur = []\n",
    "            for j in range(len(sis1)):\n",
    "                if matrix[sis1[j]][i] == target:\n",
    "                    return True\n",
    "                elif matrix[sis1[j]][i] < target:\n",
    "                    cur.append(sis1[j])\n",
    "            sis1 = cur\n",
    "        return False"
   ]
  },
  {
   "cell_type": "markdown",
   "metadata": {},
   "source": [
    "# Ex.13: 矩阵搜索2"
   ]
  },
  {
   "cell_type": "raw",
   "metadata": {},
   "source": [
    "Leetcode描述:\n",
    "编写一个高效的算法来判断 m x n 矩阵中，是否存在一个目标值。该矩阵具有如下特性：\n",
    "每行中的整数从左到右按升序排列。\n",
    "每行的第一个整数大于前一行的最后一个整数。\n",
    "\n"
   ]
  },
  {
   "cell_type": "code",
   "execution_count": 23,
   "metadata": {},
   "outputs": [],
   "source": [
    "    def erfenfa(self, x, n):\n",
    "        l = len(x)\n",
    "        left = 0\n",
    "        right = (l-1)\n",
    "        while (left<right):\n",
    "            mid = int((left+right+1)/2)\n",
    "            if x[mid]==n:\n",
    "                left=mid\n",
    "                right=mid\n",
    "            elif x[mid]<n:\n",
    "                left=mid\n",
    "            else:\n",
    "                right=mid-1\n",
    "        return left\n",
    "\n",
    "    def searchMatrix(self, matrix, target):\n",
    "        \"\"\"\n",
    "        :type matrix: List[List[int]]\n",
    "        :type target: int\n",
    "        :rtype: bool\n",
    "        \"\"\"\n",
    "        if len(matrix)<1 or len(matrix[0])<1:\n",
    "            return False\n",
    "        if target<matrix[0][0] or target>matrix[-1][-1]:\n",
    "            return False\n",
    "        sis1 = [x[0] for x in matrix]\n",
    "        a1 = self.erfenfa(sis1, target)\n",
    "        a2 = self.erfenfa(matrix[a1], target)\n",
    "\n",
    "        if matrix[a1][a2] == target:\n",
    "            return True\n",
    "        else:\n",
    "            return False"
   ]
  },
  {
   "cell_type": "markdown",
   "metadata": {},
   "source": [
    "# Ex.14: 找到两个有序数组的中值"
   ]
  },
  {
   "cell_type": "code",
   "execution_count": null,
   "metadata": {},
   "outputs": [],
   "source": []
  },
  {
   "cell_type": "markdown",
   "metadata": {},
   "source": [
    "# Ex.15: 找到两个有序数组的中值(相同大小)"
   ]
  },
  {
   "cell_type": "markdown",
   "metadata": {},
   "source": [
    "# Ex.16: 合并区间"
   ]
  },
  {
   "cell_type": "markdown",
   "metadata": {},
   "source": [
    "# Ex.17: 插入区间"
   ]
  },
  {
   "cell_type": "code",
   "execution_count": null,
   "metadata": {},
   "outputs": [],
   "source": []
  }
 ],
 "metadata": {
  "kernelspec": {
   "display_name": "Python 3",
   "language": "python",
   "name": "python3"
  },
  "language_info": {
   "codemirror_mode": {
    "name": "ipython",
    "version": 3
   },
   "file_extension": ".py",
   "mimetype": "text/x-python",
   "name": "python",
   "nbconvert_exporter": "python",
   "pygments_lexer": "ipython3",
   "version": "3.7.6"
  },
  "toc": {
   "base_numbering": 1,
   "nav_menu": {},
   "number_sections": true,
   "sideBar": true,
   "skip_h1_title": false,
   "title_cell": "Table of Contents",
   "title_sidebar": "Contents",
   "toc_cell": false,
   "toc_position": {},
   "toc_section_display": true,
   "toc_window_display": true
  },
  "varInspector": {
   "cols": {
    "lenName": 16,
    "lenType": 16,
    "lenVar": 40
   },
   "kernels_config": {
    "python": {
     "delete_cmd_postfix": "",
     "delete_cmd_prefix": "del ",
     "library": "var_list.py",
     "varRefreshCmd": "print(var_dic_list())"
    },
    "r": {
     "delete_cmd_postfix": ") ",
     "delete_cmd_prefix": "rm(",
     "library": "var_list.r",
     "varRefreshCmd": "cat(var_dic_list()) "
    }
   },
   "types_to_exclude": [
    "module",
    "function",
    "builtin_function_or_method",
    "instance",
    "_Feature"
   ],
   "window_display": false
  }
 },
 "nbformat": 4,
 "nbformat_minor": 2
}
