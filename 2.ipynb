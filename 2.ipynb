{
 "cells": [
  {
   "cell_type": "markdown",
   "metadata": {},
   "source": [
    "# EX1：一个动态数组的抽象数据类型"
   ]
  },
  {
   "cell_type": "code",
   "execution_count": 1,
   "metadata": {},
   "outputs": [],
   "source": [
    "import ctypes\n",
    "\n",
    "class DynamicArray:\n",
    "    \n",
    "    def __init__ (self):\n",
    "        'Create an empty array.'\n",
    "        self._n = 0 #size\n",
    "        self._capacity = 10\n",
    "        self._A = self._make_array(self._capacity)\n",
    "        \n",
    "    # len(list)\n",
    "    def __len__ (self):\n",
    "        return self._n\n",
    "    \n",
    "    def is_empty(self):\n",
    "        return self._n == 0\n",
    "    \n",
    "    # O(1)\n",
    "    def __getitem__ (self, k):\n",
    "        if not 0 <= k < self._n:\n",
    "            raise ValueError('invalid index') \n",
    "        return self._A[k]\n",
    "       \n",
    "    # O(1) \n",
    "    def append(self, obj):\n",
    "        if self._n == self._capacity:\n",
    "            self._resize(2 * self._capacity)\n",
    "        self._A[self._n] = obj    \n",
    "        self._n += 1\n",
    "        \n",
    "    def _make_array(self, c):\n",
    "        return (c * ctypes.py_object)( )\n",
    "    \n",
    "    def _resize(self, c):\n",
    "        B = self._make_array(c)\n",
    "        for k in range(self._n):\n",
    "            B[k] = self._A[k]\n",
    "        self._A = B\n",
    "        self._capacity = c   \n",
    "\n",
    "    # O(n)\n",
    "    def insert(self, k, value):\n",
    "        if self._n == self._capacity:\n",
    "            self._resize(2 * self._capacity)\n",
    "        for j in range(self._n, k, -1):\n",
    "            self._A[j] = self._A[j-1]\n",
    "        self._A[k] = value\n",
    "        self._n += 1\n",
    "     \n",
    "    # O(n)    \n",
    "    def remove(self, value):\n",
    "        for k in range(self._n):\n",
    "            if self._A[k] == value:\n",
    "                for j in range(k, self._n - 1):\n",
    "                    self._A[j] = self._A[j+1]\n",
    "                self._A[self._n - 1] = None\n",
    "                self._n -= 1\n",
    "                return\n",
    "        raise ValueError( 'value not found' )\n",
    "    \n",
    "    def _print(self):\n",
    "        for i in range(self._n):\n",
    "            print(self._A[i], end = ' ')\n",
    "        print()"
   ]
  },
  {
   "cell_type": "code",
   "execution_count": 2,
   "metadata": {},
   "outputs": [
    {
     "name": "stdout",
     "output_type": "stream",
     "text": [
      "size was:  0\n",
      "0 5 10 15 20 30 \n",
      "0 5 10 15 30 \n",
      "size is:  5\n"
     ]
    }
   ],
   "source": [
    "mylist = DynamicArray()\n",
    "print ('size was: ', str(len(mylist)))\n",
    "mylist.append(10)\n",
    "mylist.append(20)\n",
    "mylist.append(30)\n",
    "mylist.insert(0, 0)\n",
    "mylist.insert(1, 5)\n",
    "mylist.insert(3, 15)\n",
    "mylist._print()\n",
    "mylist.remove(20)\n",
    "mylist._print()\n",
    "\n",
    "print ('size is: ', str(len(mylist)))"
   ]
  },
  {
   "cell_type": "markdown",
   "metadata": {},
   "source": [
    "# Ex2：扫雷游戏"
   ]
  },
  {
   "cell_type": "raw",
   "metadata": {},
   "source": [
    "程序接收三个参数，M，N和p，然后生成一个M * N的矩阵，然后每一个cell有p的概率是地雷。生成矩阵后，再计算出每一个cell周围地雷的数量。"
   ]
  },
  {
   "cell_type": "code",
   "execution_count": 3,
   "metadata": {},
   "outputs": [],
   "source": [
    "import random\n",
    "\n",
    "def minesweeper(m, n, p):\n",
    "    board = [[None] * (n+2) for i in range(m+2)]\n",
    "    for i in range(1, m + 1):\n",
    "        for j in range(1, n + 1):\n",
    "            r = random.random()\n",
    "            board[i][j] = -1 if r < p else 0\n",
    "\n",
    "    for i in range(1, m + 1):\n",
    "        for j in range(1, n + 1):\n",
    "            print(\"*\", end=\" \") if board[i][j] == -1 else print(\".\", end=\" \")\n",
    "        print()\n",
    "        \n",
    "    for i in range(1, m + 1):\n",
    "        for j in range(1, n + 1):\n",
    "            if (board[i][j] != -1):\n",
    "                for ii in range(i-1, i+2):\n",
    "                    for jj in range(j-1, j+2):\n",
    "                        if (board[ii][jj] == -1):\n",
    "                            board[i][j] += 1\n",
    "    \n",
    "    print()\n",
    "    for i in range(1, m + 1):\n",
    "        for j in range(1, n + 1):\n",
    "            print(\"*\", end=\" \") if board[i][j] == -1 else print(board[i][j], end=\" \")\n",
    "        print()"
   ]
  },
  {
   "cell_type": "code",
   "execution_count": 4,
   "metadata": {},
   "outputs": [
    {
     "name": "stdout",
     "output_type": "stream",
     "text": [
      ". . * . * . . . . * \n",
      ". . . . * * . . . . \n",
      "* * . . . . . . . . \n",
      "* . . * * . . . . . \n",
      ". . . . * . . . . . \n",
      "\n",
      "0 1 * 3 * 3 1 0 1 * \n",
      "2 3 2 3 * * 1 0 1 1 \n",
      "* * 2 3 4 3 1 0 0 0 \n",
      "* 3 2 * * 2 0 0 0 0 \n",
      "1 1 1 3 * 2 0 0 0 0 \n"
     ]
    }
   ],
   "source": [
    "minesweeper(5, 10, 0.2)"
   ]
  },
  {
   "cell_type": "markdown",
   "metadata": {},
   "source": [
    "# Ex3：矩阵0变换"
   ]
  },
  {
   "cell_type": "raw",
   "metadata": {},
   "source": [
    "给一个m×n的矩阵，如果有一个元素为0，则把该元素对应的行与列所有元素全部变成0。"
   ]
  },
  {
   "cell_type": "code",
   "execution_count": 5,
   "metadata": {},
   "outputs": [],
   "source": [
    "# O(m+n) space complexity\n",
    "def zero(matrix):\n",
    "    m = [None] * len(matrix)\n",
    "    n = [None] * len(matrix[0])\n",
    "    for i in range(len(matrix)):\n",
    "        for j in range(len(matrix[0])):\n",
    "            if (matrix[i][j] == 0):\n",
    "                m[i] = 1\n",
    "                n[j] = 1\n",
    "                \n",
    "    for i in range(len(matrix)):\n",
    "        for j in range(len(matrix[0])):\n",
    "            if (m[i] == 1 or n[j] == 1):\n",
    "                matrix[i][j] = 0"
   ]
  },
  {
   "cell_type": "code",
   "execution_count": 6,
   "metadata": {},
   "outputs": [],
   "source": [
    "matrix = [  [ 1, 1, 1, 1, 1, 0, 1, 1, 1, 1 ],\n",
    "            [ 1, 1, 1, 1, 1, 1, 1, 1, 1, 1 ],\n",
    "            [ 1, 1, 0, 1, 1, 1, 1, 1, 1, 1 ],\n",
    "            [ 1, 1, 1, 1, 1, 1, 1, 1, 1, 1 ],\n",
    "            [ 1, 1, 1, 1, 1, 1, 1, 1, 1, 1 ] ]"
   ]
  },
  {
   "cell_type": "code",
   "execution_count": 7,
   "metadata": {},
   "outputs": [
    {
     "name": "stdout",
     "output_type": "stream",
     "text": [
      "[1, 1, 1, 1, 1, 0, 1, 1, 1, 1]\n",
      "[1, 1, 1, 1, 1, 1, 1, 1, 1, 1]\n",
      "[1, 1, 0, 1, 1, 1, 1, 1, 1, 1]\n",
      "[1, 1, 1, 1, 1, 1, 1, 1, 1, 1]\n",
      "[1, 1, 1, 1, 1, 1, 1, 1, 1, 1]\n"
     ]
    }
   ],
   "source": [
    "for x in matrix:\n",
    "    print(x, sep=\" \")"
   ]
  },
  {
   "cell_type": "code",
   "execution_count": 8,
   "metadata": {},
   "outputs": [
    {
     "name": "stdout",
     "output_type": "stream",
     "text": [
      "[0, 0, 0, 0, 0, 0, 0, 0, 0, 0]\n",
      "[1, 1, 0, 1, 1, 0, 1, 1, 1, 1]\n",
      "[0, 0, 0, 0, 0, 0, 0, 0, 0, 0]\n",
      "[1, 1, 0, 1, 1, 0, 1, 1, 1, 1]\n",
      "[1, 1, 0, 1, 1, 0, 1, 1, 1, 1]\n"
     ]
    }
   ],
   "source": [
    "zero(matrix)\n",
    "for x in matrix:\n",
    "    print(x, sep=\" \")"
   ]
  },
  {
   "cell_type": "markdown",
   "metadata": {},
   "source": [
    "# Ex4：九宫图"
   ]
  },
  {
   "cell_type": "code",
   "execution_count": 9,
   "metadata": {},
   "outputs": [],
   "source": [
    "def magic_square(n):\n",
    "    magic = [[0] * (n) for i in range(n)]\n",
    "    row = n - 1\n",
    "    col = n//2\n",
    "    magic[row][col] = 1\n",
    "    \n",
    "    for i in range(2, n * n + 1):\n",
    "        try_row = (row + 1) % n\n",
    "        try_col = (col + 1) % n\n",
    "\n",
    "        if (magic[try_row][try_col] == 0):\n",
    "            row = try_row\n",
    "            col = try_col\n",
    "        else:\n",
    "            row = (row - 1 + n) % n\n",
    "        \n",
    "        magic[row][col] = i\n",
    "    \n",
    "    for x in magic:\n",
    "        print(x, sep=\" \")"
   ]
  },
  {
   "cell_type": "code",
   "execution_count": 10,
   "metadata": {},
   "outputs": [
    {
     "name": "stdout",
     "output_type": "stream",
     "text": [
      "[4, 9, 2]\n",
      "[3, 5, 7]\n",
      "[8, 1, 6]\n"
     ]
    }
   ],
   "source": [
    "magic_square(3)"
   ]
  },
  {
   "cell_type": "code",
   "execution_count": 11,
   "metadata": {},
   "outputs": [
    {
     "name": "stdout",
     "output_type": "stream",
     "text": [
      "[11, 18, 25, 2, 9]\n",
      "[10, 12, 19, 21, 3]\n",
      "[4, 6, 13, 20, 22]\n",
      "[23, 5, 7, 14, 16]\n",
      "[17, 24, 1, 8, 15]\n"
     ]
    }
   ],
   "source": [
    "magic_square(5)"
   ]
  },
  {
   "cell_type": "markdown",
   "metadata": {},
   "source": [
    "# Ex5：验证有效的数独"
   ]
  },
  {
   "cell_type": "raw",
   "metadata": {},
   "source": [
    "给一个填好的数独，验证是否正确"
   ]
  },
  {
   "cell_type": "code",
   "execution_count": 12,
   "metadata": {},
   "outputs": [],
   "source": [
    "matrix = [\n",
    "    [5,3,4,6,7,8,9,1,2],\n",
    "    [6,7,2,1,9,5,3,4,8],\n",
    "    [1,9,8,3,4,2,5,6,7],\n",
    "    [8,5,9,7,6,1,4,2,3],\n",
    "    [4,2,6,8,5,3,7,9,1],\n",
    "    [7,1,3,9,2,4,8,5,6],\n",
    "    [9,6,1,5,3,7,2,8,4],\n",
    "    [2,8,7,4,1,9,6,3,5],\n",
    "    [3,4,5,2,8,6,1,7,9]\n",
    "]"
   ]
  },
  {
   "cell_type": "code",
   "execution_count": 13,
   "metadata": {},
   "outputs": [],
   "source": [
    "def sudoku(matrix):\n",
    "    n = len(matrix)\n",
    "    result_row = result_col = result_blk = 0\n",
    "\n",
    "    for i in range(n):\n",
    "        result_row = result_col = result_blk = 0\n",
    "        for j in range(n):\n",
    "            ## check row\n",
    "            tmp = matrix[i][j]\n",
    "            if ((result_row & (1 << (tmp-1))) == 0):\n",
    "                result_row = result_row | (1<<(tmp-1))\n",
    "            else:\n",
    "                print(\"row: \", i, j)\n",
    "                return False\n",
    "\n",
    "            ## check column\n",
    "            tmp = matrix[j][i]\n",
    "            if ((result_col & (1 << (tmp-1))) == 0):\n",
    "                result_col = result_col | (1<<(tmp-1))\n",
    "            else:\n",
    "                print(\"col: \", j, i)\n",
    "                return False\n",
    "\n",
    "            ## check block\n",
    "            idx_row = (i//3) * 3 + j//3\n",
    "            idx_col = (i%3)  * 3 + j%3\n",
    "            tmp = matrix[idx_row][idx_col]\n",
    "            if ((result_blk & (1 << (tmp-1))) == 0):\n",
    "                result_blk = result_blk | (1<<(tmp-1))\n",
    "            else:\n",
    "                print(\"block: \", idx_row, idx_col)\n",
    "                return False\n",
    "    return True"
   ]
  },
  {
   "cell_type": "code",
   "execution_count": 14,
   "metadata": {},
   "outputs": [
    {
     "data": {
      "text/plain": [
       "True"
      ]
     },
     "execution_count": 14,
     "metadata": {},
     "output_type": "execute_result"
    }
   ],
   "source": [
    "sudoku(matrix)"
   ]
  },
  {
   "cell_type": "markdown",
   "metadata": {},
   "source": [
    "# Ex6：旋转数组90度"
   ]
  },
  {
   "cell_type": "raw",
   "metadata": {},
   "source": [
    "给一个n×n的数组，旋转90度。"
   ]
  },
  {
   "cell_type": "code",
   "execution_count": 15,
   "metadata": {},
   "outputs": [],
   "source": [
    "def rotate(matrix):\n",
    "    n = len(matrix)\n",
    "    result = [[0] * (n) for i in range(n)]\n",
    "    \n",
    "    for i in range(n):\n",
    "        for j in range(n):\n",
    "            result[j][n-1-i] = matrix[i][j]\n",
    "    \n",
    "    for x in result:\n",
    "        print(x, sep=\" \")"
   ]
  },
  {
   "cell_type": "code",
   "execution_count": 16,
   "metadata": {},
   "outputs": [
    {
     "data": {
      "text/plain": [
       "[[0, 1, 2, 3, 4],\n",
       " [5, 6, 7, 8, 9],\n",
       " [10, 11, 12, 13, 14],\n",
       " [15, 16, 17, 18, 19],\n",
       " [20, 21, 22, 23, 24]]"
      ]
     },
     "execution_count": 16,
     "metadata": {},
     "output_type": "execute_result"
    }
   ],
   "source": [
    "matrix = [[i*5+j for j in range(5)] for i in range(5)]\n",
    "matrix"
   ]
  },
  {
   "cell_type": "code",
   "execution_count": 17,
   "metadata": {},
   "outputs": [
    {
     "name": "stdout",
     "output_type": "stream",
     "text": [
      "[20, 15, 10, 5, 0]\n",
      "[21, 16, 11, 6, 1]\n",
      "[22, 17, 12, 7, 2]\n",
      "[23, 18, 13, 8, 3]\n",
      "[24, 19, 14, 9, 4]\n"
     ]
    }
   ],
   "source": [
    "rotate(matrix)"
   ]
  },
  {
   "cell_type": "code",
   "execution_count": 18,
   "metadata": {},
   "outputs": [],
   "source": [
    "# in-place\n",
    "\n",
    "def rotate_in_place(matrix):\n",
    "    n = len(matrix)\n",
    "    for layer in range(n//2):\n",
    "        first = layer\n",
    "        last = n - 1 - layer\n",
    "        for i in range(first, last):\n",
    "            offset = i - first\n",
    "            top = matrix[first][i]  # save top\n",
    "            \n",
    "            ## left->top\n",
    "            matrix[first][i] = matrix[last-offset][first]\n",
    "            \n",
    "            ##bottom -> left\n",
    "            matrix[last-offset][first] = matrix[last][last - offset];\n",
    "\n",
    "            # right -> bottom\n",
    "            matrix[last][last - offset] = matrix[i][last];\n",
    "\n",
    "            # top -> right\n",
    "            matrix[i][last] = top;  # right <- saved top            \n",
    "            \n",
    "    for x in matrix:\n",
    "        print(x, sep=\" \")"
   ]
  },
  {
   "cell_type": "code",
   "execution_count": 19,
   "metadata": {},
   "outputs": [
    {
     "name": "stdout",
     "output_type": "stream",
     "text": [
      "[20, 15, 10, 5, 0]\n",
      "[21, 16, 11, 6, 1]\n",
      "[22, 17, 12, 7, 2]\n",
      "[23, 18, 13, 8, 3]\n",
      "[24, 19, 14, 9, 4]\n"
     ]
    }
   ],
   "source": [
    "matrix = [[i*5+j for j in range(5)] for i in range(5)]\n",
    "rotate(matrix)"
   ]
  },
  {
   "cell_type": "markdown",
   "metadata": {},
   "source": [
    "# Ex7：反转字符串"
   ]
  },
  {
   "cell_type": "code",
   "execution_count": 20,
   "metadata": {},
   "outputs": [],
   "source": [
    "def reverse(s):\n",
    "    return s[::-1]"
   ]
  },
  {
   "cell_type": "code",
   "execution_count": 21,
   "metadata": {},
   "outputs": [
    {
     "data": {
      "text/plain": [
       "'olleh'"
      ]
     },
     "execution_count": 21,
     "metadata": {},
     "output_type": "execute_result"
    }
   ],
   "source": [
    "s = \"hello\"\n",
    "r = reverse(s) # O(n)\n",
    "r"
   ]
  },
  {
   "cell_type": "code",
   "execution_count": 22,
   "metadata": {},
   "outputs": [],
   "source": [
    "def reverse1(s):\n",
    "    l = list(s)\n",
    "    for i in range(len(l)//2):\n",
    "        l[i], l[len(s)-1-i] = l[len(s)-1-i], l[i]\n",
    "    return ''.join(l)"
   ]
  },
  {
   "cell_type": "code",
   "execution_count": 23,
   "metadata": {},
   "outputs": [
    {
     "data": {
      "text/plain": [
       "'olleh'"
      ]
     },
     "execution_count": 23,
     "metadata": {},
     "output_type": "execute_result"
    }
   ],
   "source": [
    "#s = \"hello\"\n",
    "s = [\"h\",\"e\",\"l\",\"l\",\"o\"]\n",
    "r = reverse1(s)\n",
    "r"
   ]
  },
  {
   "cell_type": "code",
   "execution_count": 35,
   "metadata": {},
   "outputs": [],
   "source": [
    "def reverse2(s):\n",
    "    l = list(s)\n",
    "    begin, end = 0, len(l) - 1\n",
    "    while begin <= end:\n",
    "        l[begin], l[end] = l[end], l[begin]\n",
    "        begin = begin+1\n",
    "        end = end-1\n",
    "    return ''.join(l)"
   ]
  },
  {
   "cell_type": "code",
   "execution_count": 36,
   "metadata": {},
   "outputs": [
    {
     "data": {
      "text/plain": [
       "'olleh'"
      ]
     },
     "execution_count": 36,
     "metadata": {},
     "output_type": "execute_result"
    }
   ],
   "source": [
    "s1 = \"hello\"\n",
    "r = reverse2(s1)\n",
    "r"
   ]
  },
  {
   "cell_type": "markdown",
   "metadata": {},
   "source": [
    "# Ex8：最长连续子串"
   ]
  },
  {
   "cell_type": "raw",
   "metadata": {},
   "source": [
    "给一个只包含0和1的数组，找出最长的全是1的子数组。\n",
    "\n",
    "Example:\n",
    "\n",
    "Input: [1,1,0,1,1,1]\n",
    "\n",
    "Output: 3"
   ]
  },
  {
   "cell_type": "code",
   "execution_count": 37,
   "metadata": {},
   "outputs": [],
   "source": [
    "def find_consecutive_ones(nums):\n",
    "    local = maximum = 0\n",
    "    for i in nums:\n",
    "        local = local + 1 if i == 1 else 0\n",
    "        maximum = max(maximum, local)\n",
    "    return maximum"
   ]
  },
  {
   "cell_type": "code",
   "execution_count": 38,
   "metadata": {},
   "outputs": [
    {
     "data": {
      "text/plain": [
       "4"
      ]
     },
     "execution_count": 38,
     "metadata": {},
     "output_type": "execute_result"
    }
   ],
   "source": [
    "nums = [1,1,0,1,1,1,1,0,0,0,0,0,1,1,1,0,0,1]\n",
    "result = find_consecutive_ones(nums)\n",
    "result"
   ]
  },
  {
   "cell_type": "markdown",
   "metadata": {},
   "source": [
    "# Ex9：最大数"
   ]
  },
  {
   "cell_type": "raw",
   "metadata": {},
   "source": [
    "给定一个数组，数组里有一个数组有且只有一个最大数，判断这个最大数是否是其他数的两倍或更大。\n",
    "如果存在这个数，则返回其index，否则返回-1。"
   ]
  },
  {
   "cell_type": "code",
   "execution_count": 39,
   "metadata": {},
   "outputs": [],
   "source": [
    "# O(n) time\n",
    "# O(1) space\n",
    "def largest_twice(nums):\n",
    "    maximum = second = idx = 0\n",
    "    for i in range(len(nums)):\n",
    "        if (maximum < nums[i]):\n",
    "            second = maximum\n",
    "            maximum = nums[i]\n",
    "            idx = i\n",
    "        elif second < nums[i]:\n",
    "            second = nums[i]\n",
    "    return idx if (maximum >= second * 2) else -1"
   ]
  },
  {
   "cell_type": "code",
   "execution_count": 40,
   "metadata": {},
   "outputs": [
    {
     "data": {
      "text/plain": [
       "3"
      ]
     },
     "execution_count": 40,
     "metadata": {},
     "output_type": "execute_result"
    }
   ],
   "source": [
    "nums = [1, 2,3,8,3,2,1]\n",
    "result = largest_twice(nums)\n",
    "result"
   ]
  },
  {
   "cell_type": "markdown",
   "metadata": {},
   "source": [
    "# Ex10：查找数组中消失的数字"
   ]
  },
  {
   "cell_type": "raw",
   "metadata": {},
   "source": [
    "Example:\n",
    "\n",
    "Input: [4,3,2,7,8,2,3,1]\n",
    "\n",
    "Output: [5,6]"
   ]
  },
  {
   "cell_type": "code",
   "execution_count": 42,
   "metadata": {},
   "outputs": [],
   "source": [
    "# O(n^2)\n",
    "def findDisappearedNumbers1(nums):\n",
    "    result = []\n",
    "    for i in range(1, len(nums) + 1):\n",
    "        if (i not in nums):\n",
    "            result.append(i)\n",
    "    return result"
   ]
  },
  {
   "cell_type": "code",
   "execution_count": 47,
   "metadata": {},
   "outputs": [],
   "source": [
    "# O(n)\n",
    "def findDisappearedNumbers2(nums):\n",
    "    # For each number i in nums,\n",
    "    # we mark the number that i points as negative.\n",
    "    # Then we filter the list, get all the indexes\n",
    "    # who points to a positive number\n",
    "    for i in range(len(nums)):\n",
    "        index = abs(nums[i]) - 1\n",
    "        nums[index] = - abs(nums[index])\n",
    "\n",
    "    return [i + 1 for i in range(len(nums)) if nums[i] > 0]"
   ]
  },
  {
   "cell_type": "code",
   "execution_count": 43,
   "metadata": {},
   "outputs": [
    {
     "name": "stdout",
     "output_type": "stream",
     "text": [
      "[5, 6]\n"
     ]
    }
   ],
   "source": [
    "nums = [4,3,2,7,8,2,3,1]\n",
    "print(findDisappearedNumbers1(nums))"
   ]
  },
  {
   "cell_type": "code",
   "execution_count": 48,
   "metadata": {},
   "outputs": [
    {
     "name": "stdout",
     "output_type": "stream",
     "text": [
      "[5, 6]\n"
     ]
    }
   ],
   "source": [
    "nums = [4,3,2,7,8,2,3,1]\n",
    "print(findDisappearedNumbers2(nums))"
   ]
  },
  {
   "cell_type": "code",
   "execution_count": null,
   "metadata": {},
   "outputs": [],
   "source": [
    "    def missingNumber(self, nums: List[int]) -> int:\n",
    "\n",
    "        n = len(nums)+1\n",
    "\n",
    "        sum_all = (1/2) * (n) * (n-1)\n",
    "        sum_miss = sum([i for i in nums])\n",
    "        missNumber = int(sum_all - sum_miss)\n",
    "\n",
    "        return missNumber "
   ]
  },
  {
   "cell_type": "code",
   "execution_count": null,
   "metadata": {},
   "outputs": [],
   "source": []
  },
  {
   "cell_type": "code",
   "execution_count": null,
   "metadata": {},
   "outputs": [],
   "source": []
  }
 ],
 "metadata": {
  "kernelspec": {
   "display_name": "Python 3",
   "language": "python",
   "name": "python3"
  },
  "language_info": {
   "codemirror_mode": {
    "name": "ipython",
    "version": 3
   },
   "file_extension": ".py",
   "mimetype": "text/x-python",
   "name": "python",
   "nbconvert_exporter": "python",
   "pygments_lexer": "ipython3",
   "version": "3.6.4"
  }
 },
 "nbformat": 4,
 "nbformat_minor": 2
}
