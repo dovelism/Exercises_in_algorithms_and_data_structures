{
 "cells": [
  {
   "cell_type": "markdown",
   "metadata": {},
   "source": [
    "# 对于一个数字，找到它的不同的组合方式"
   ]
  },
  {
   "cell_type": "raw",
   "metadata": {},
   "source": [
    "找出不同的方法把n写成1 3 4的和。"
   ]
  },
  {
   "cell_type": "code",
   "execution_count": 1,
   "metadata": {},
   "outputs": [],
   "source": [
    "def coin(n):\n",
    "    dp = [0] * (n + 1)\n",
    "    dp[0] = dp[1] = dp[2] = 1\n",
    "    dp[3] = 2\n",
    "    for i in range(4, n + 1):\n",
    "        dp[i] = dp[i - 1] + dp[i - 3] + dp[i - 4]\n",
    "    \n",
    "    return dp[n]   "
   ]
  },
  {
   "cell_type": "markdown",
   "metadata": {},
   "source": [
    "# 房子强盗"
   ]
  },
  {
   "cell_type": "raw",
   "metadata": {},
   "source": [
    "你是一个专业的强盗，计划去抢劫街道上的房子。每家都有一定数量的钱被藏起来，阻止你抢劫他们的唯一限制是相邻的房子都有安全系统连接，如果两个相邻的房子在同一天晚上被闯入，它会自动联系警察。\n",
    "给出一个非负整数的清单，代表每家的钱数，确定你今晚不报警就能抢劫的最大钱数。"
   ]
  },
  {
   "cell_type": "code",
   "execution_count": 2,
   "metadata": {},
   "outputs": [],
   "source": [
    "def rob(nums):\n",
    "    n = len(nums)\n",
    "    dp = [ [0] * 2 for _ in range(n + 1)]\n",
    "    for i in range(1, n + 1):\n",
    "        dp[i][0] = max(dp[i - 1][0], dp[i - 1][1]) # forget it\n",
    "        dp[i][1] = nums[i - 1] + dp[i - 1][0]       # let's do it\n",
    "    return max(dp[n][0], dp[n][1])  "
   ]
  },
  {
   "cell_type": "code",
   "execution_count": 3,
   "metadata": {},
   "outputs": [
    {
     "data": {
      "text/plain": [
       "12"
      ]
     },
     "execution_count": 3,
     "metadata": {},
     "output_type": "execute_result"
    }
   ],
   "source": [
    "nums = [2,7,9,3,1]\n",
    "rob(nums)"
   ]
  },
  {
   "cell_type": "code",
   "execution_count": 4,
   "metadata": {},
   "outputs": [],
   "source": [
    "def rob(nums):\n",
    "    yes, no = 0, 0\n",
    "    for i in nums: \n",
    "        no, yes = max(no, yes), i + no\n",
    "    return max(no, yes)"
   ]
  },
  {
   "cell_type": "code",
   "execution_count": 5,
   "metadata": {},
   "outputs": [
    {
     "data": {
      "text/plain": [
       "12"
      ]
     },
     "execution_count": 5,
     "metadata": {},
     "output_type": "execute_result"
    }
   ],
   "source": [
    "nums = [2,7,9,3,1]\n",
    "rob(nums)"
   ]
  },
  {
   "cell_type": "markdown",
   "metadata": {},
   "source": [
    "# 房子强盗 II"
   ]
  },
  {
   "cell_type": "raw",
   "metadata": {},
   "source": [
    "# 这个地方所有的房子都排成一圈。这意味着第一个房子是最后一个房子的邻居。与此同时，这些房屋的安全系统与前一条街道的一样。"
   ]
  },
  {
   "cell_type": "code",
   "execution_count": 6,
   "metadata": {},
   "outputs": [],
   "source": [
    "def rob(nums):\n",
    "    def rob(nums):\n",
    "        yes, no = 0, 0\n",
    "        for i in nums: \n",
    "            no, yes = max(no, yes), i + no\n",
    "        return max(no, yes)\n",
    "    return max(rob(nums[len(nums) != 1:]), rob(nums[:-1]))"
   ]
  },
  {
   "cell_type": "code",
   "execution_count": 7,
   "metadata": {},
   "outputs": [],
   "source": [
    "def rob(nums):\n",
    "    if len(nums) == 0:\n",
    "        return 0\n",
    "\n",
    "    if len(nums) == 1:\n",
    "        return nums[0]\n",
    "\n",
    "    return max(robRange(nums, 0, len(nums) - 1),\\\n",
    "               robRange(nums, 1, len(nums)))\n",
    "\n",
    "def robRange(nums, start, end):\n",
    "    yes, no = nums[start], 0\n",
    "    for i in range(start + 1, end): \n",
    "        no, yes = max(no, yes), i + no\n",
    "    return max(no, yes)"
   ]
  },
  {
   "cell_type": "code",
   "execution_count": 8,
   "metadata": {},
   "outputs": [
    {
     "data": {
      "text/plain": [
       "11"
      ]
     },
     "execution_count": 8,
     "metadata": {},
     "output_type": "execute_result"
    }
   ],
   "source": [
    "nums = [2,7,9,3,1]\n",
    "rob(nums)"
   ]
  },
  {
   "cell_type": "markdown",
   "metadata": {},
   "source": [
    "# 最低成本爬楼梯"
   ]
  },
  {
   "cell_type": "raw",
   "metadata": {},
   "source": [
    "On a staircase, the i-th step has some non-negative cost cost[i] assigned (0 indexed).\n",
    "\n",
    "Once you pay the cost, you can either climb one or two steps. You need to find minimum cost to reach the top of the floor, and you can either start from the step with index 0, or the step with index 1."
   ]
  },
  {
   "cell_type": "code",
   "execution_count": 9,
   "metadata": {},
   "outputs": [],
   "source": [
    "def minCostClimbingStairs(cost):\n",
    "    n = len(cost) + 1\n",
    "    dp = [0] * n\n",
    "    for i in range(2, n):\n",
    "        dp[i] = min(dp[i - 2] + cost[i - 2], dp[i - 1] + cost[i - 1])\n",
    "    return dp[n - 1]"
   ]
  },
  {
   "cell_type": "code",
   "execution_count": 10,
   "metadata": {},
   "outputs": [
    {
     "data": {
      "text/plain": [
       "6"
      ]
     },
     "execution_count": 10,
     "metadata": {},
     "output_type": "execute_result"
    }
   ],
   "source": [
    "cost = [1, 100, 1, 1, 1, 100, 1, 1, 100, 1]\n",
    "minCostClimbingStairs(cost)"
   ]
  },
  {
   "cell_type": "code",
   "execution_count": 11,
   "metadata": {},
   "outputs": [],
   "source": [
    "def minCostClimbingStairs2(cost):\n",
    "    dp0, dp1, dp2 = 0, 0, 0\n",
    "    for i in range(2, len(cost) + 1):\n",
    "        dp2 = min(dp0 + cost[i - 2], dp1 + cost[i - 1])\n",
    "        dp0, dp1 = dp1, dp2\n",
    "    return dp2"
   ]
  },
  {
   "cell_type": "markdown",
   "metadata": {},
   "source": [
    "# 解码方式"
   ]
  },
  {
   "cell_type": "raw",
   "metadata": {},
   "source": [
    "A message containing letters from A-Z is being encoded to numbers using the following mapping:\n",
    "\n",
    "'A' -> 1\n",
    "\n",
    "'B' -> 2\n",
    "\n",
    "...\n",
    "\n",
    "'Z' -> 26\n",
    "\n",
    "Given an encoded message containing digits, determine the total number of ways to decode it.\n",
    "\n",
    "Input: \"226\"\n",
    "\n",
    "Output: 3\n",
    "\n",
    "Explanation: It could be decoded as \"BZ\" (2 26), \"VF\" (22 6), or \"BBF\" (2 2 6)."
   ]
  },
  {
   "cell_type": "code",
   "execution_count": 12,
   "metadata": {},
   "outputs": [],
   "source": [
    "def numDecodings(s):\n",
    "    if s==\"\" or s[0]=='0': return 0\n",
    "    dp=[1,1]\n",
    "    for i in range(2,len(s)+1):\n",
    "        # if it is 0, then dp[i] = 0\n",
    "        result = 0\n",
    "        if 10 <=int(s[i-2:i]) <=26:\n",
    "            result = dp[i-2]\n",
    "        if s[i-1] != '0':\n",
    "            result += dp[i-1]\n",
    "        dp.append(result)\n",
    "    return dp[len(s)]"
   ]
  },
  {
   "cell_type": "code",
   "execution_count": 13,
   "metadata": {},
   "outputs": [],
   "source": [
    "def numDecodings(s):\n",
    "    if s==\"\" or s[0]=='0': return 0\n",
    "    dp=[1,1]\n",
    "    for i in range(2,len(s)+1):\n",
    "        # if it is 0, then dp[i] = 0\n",
    "        result = 0\n",
    "        if 10 <=int(s[i-2:i]) <=26:\n",
    "            result = dp[i-2]\n",
    "        if s[i-1] != '0':\n",
    "            result += dp[i-1]\n",
    "        dp.append(result)\n",
    "    return dp[len(s)]"
   ]
  },
  {
   "cell_type": "code",
   "execution_count": 14,
   "metadata": {},
   "outputs": [
    {
     "data": {
      "text/plain": [
       "1"
      ]
     },
     "execution_count": 14,
     "metadata": {},
     "output_type": "execute_result"
    }
   ],
   "source": [
    "numDecodings(\"110\")"
   ]
  },
  {
   "cell_type": "markdown",
   "metadata": {},
   "source": [
    "# 独特二叉树搜索路径"
   ]
  },
  {
   "cell_type": "raw",
   "metadata": {},
   "source": [
    "Given n, how many structurally unique BST's (binary search trees) that store values 1...n?"
   ]
  },
  {
   "cell_type": "code",
   "execution_count": 15,
   "metadata": {},
   "outputs": [],
   "source": [
    "def numTress(n):\n",
    "    if n <= 2:\n",
    "        return n\n",
    "    sol = [0] * (n + 1)\n",
    "    sol[0] = sol[1] = 1\n",
    "    for i in range(2, n + 1):\n",
    "        for left in range (0, i):\n",
    "            sol[i] += sol[left] * sol[i - 1 - left]\n",
    "    \n",
    "    return sol[n]    "
   ]
  },
  {
   "cell_type": "code",
   "execution_count": 16,
   "metadata": {},
   "outputs": [
    {
     "data": {
      "text/plain": [
       "[1, 2, 5, 14, 42]"
      ]
     },
     "execution_count": 16,
     "metadata": {},
     "output_type": "execute_result"
    }
   ],
   "source": [
    "[numTress(i) for i in range(1, 6)]"
   ]
  },
  {
   "cell_type": "markdown",
   "metadata": {},
   "source": [
    "# 最大子序列乘积"
   ]
  },
  {
   "cell_type": "raw",
   "metadata": {},
   "source": [
    "查找一个具有最大乘积的数组(至少包含一个数字)中的相邻子数组。"
   ]
  },
  {
   "cell_type": "code",
   "execution_count": 17,
   "metadata": {},
   "outputs": [],
   "source": [
    "def maxProduct(nums):\n",
    "    if len(nums) == 0:\n",
    "        return 0\n",
    "    maximum = minimum = result = nums[0]\n",
    "    for i in range(1, len(nums)):\n",
    "        maximum, minimum = max(maximum * nums[i], minimum * nums[i], nums[i]), \\\n",
    "                           min(maximum * nums[i], minimum * nums[i], nums[i])\n",
    "        result = max(result, maximum)\n",
    "    return result"
   ]
  },
  {
   "cell_type": "code",
   "execution_count": 18,
   "metadata": {},
   "outputs": [
    {
     "data": {
      "text/plain": [
       "6"
      ]
     },
     "execution_count": 18,
     "metadata": {},
     "output_type": "execute_result"
    }
   ],
   "source": [
    "nums = [2,3,-2,4]\n",
    "maxProduct(nums)"
   ]
  },
  {
   "cell_type": "markdown",
   "metadata": {},
   "source": [
    "# 股票问题 1"
   ]
  },
  {
   "cell_type": "raw",
   "metadata": {},
   "source": [
    "假设你有一个数组，其中的第i个元素是某只股票在第i天的价格（买一股，卖一股)，设计一个算法来寻找最大的利润。注意，你不能在买股票之前卖掉它。"
   ]
  },
  {
   "cell_type": "code",
   "execution_count": 1,
   "metadata": {},
   "outputs": [],
   "source": [
    "def maxProfit(prices):\n",
    "    if len(prices) < 2:\n",
    "        return 0\n",
    "    min_price = prices[0]\n",
    "    max_profit = 0\n",
    "    for price in prices:\n",
    "        if price < min_price:\n",
    "            min_price = price\n",
    "        if price - min_price > max_profit:\n",
    "            max_profit = price - min_price\n",
    "    return max_profit"
   ]
  },
  {
   "cell_type": "code",
   "execution_count": 2,
   "metadata": {},
   "outputs": [
    {
     "data": {
      "text/plain": [
       "5"
      ]
     },
     "execution_count": 2,
     "metadata": {},
     "output_type": "execute_result"
    }
   ],
   "source": [
    "prices = [7,1,5,3,6,4]\n",
    "maxProfit(prices)"
   ]
  },
  {
   "cell_type": "code",
   "execution_count": 3,
   "metadata": {},
   "outputs": [],
   "source": [
    "def maxProfit(prices):\n",
    "    if len(prices) < 2:\n",
    "        return 0\n",
    "    minPrice = prices[0]\n",
    "    dp = [0] * len(prices)\n",
    "    for i in range(len(prices)):\n",
    "        dp[i] = max(dp[i-1], prices[i] - minPrice)\n",
    "        minPrice = min(minPrice, prices[i])\n",
    "    return dp[-1]"
   ]
  },
  {
   "cell_type": "code",
   "execution_count": 4,
   "metadata": {},
   "outputs": [
    {
     "data": {
      "text/plain": [
       "5"
      ]
     },
     "execution_count": 4,
     "metadata": {},
     "output_type": "execute_result"
    }
   ],
   "source": [
    "prices = [7,1,5,3,6,4]\n",
    "maxProfit(prices)"
   ]
  },
  {
   "cell_type": "markdown",
   "metadata": {},
   "source": [
    "# 股票问题 2"
   ]
  },
  {
   "cell_type": "raw",
   "metadata": {},
   "source": [
    "假设你有一个数组，其中的第i个元素是某只股票在第一天的价格。你可以完成许多交易，因为你喜欢(即买一股，再多次卖出一股)。注:你不可以同时进行多项交易(即，你必须先把股票卖了再买。"
   ]
  },
  {
   "cell_type": "code",
   "execution_count": 5,
   "metadata": {},
   "outputs": [],
   "source": [
    "def maxProfit2(prices):\n",
    "    max_profit = 0\n",
    "    for i in range(1, len(prices)):\n",
    "        if prices[i] > prices[i - 1]:\n",
    "            max_profit += prices[i] - prices[i - 1]\n",
    "    return max_profit"
   ]
  },
  {
   "cell_type": "code",
   "execution_count": 6,
   "metadata": {},
   "outputs": [
    {
     "data": {
      "text/plain": [
       "7"
      ]
     },
     "execution_count": 6,
     "metadata": {},
     "output_type": "execute_result"
    }
   ],
   "source": [
    "prices = [7,1,5,3,6,4]\n",
    "maxProfit2(prices)"
   ]
  },
  {
   "cell_type": "code",
   "execution_count": 8,
   "metadata": {},
   "outputs": [],
   "source": [
    "def maxProfit2(prices):\n",
    "    max_profit = 0\n",
    "    for i in range(1, len(prices)):\n",
    "        max_profit += max(0, prices[i] - prices[i - 1])\n",
    "    return max_profit"
   ]
  },
  {
   "cell_type": "code",
   "execution_count": 9,
   "metadata": {},
   "outputs": [
    {
     "data": {
      "text/plain": [
       "7"
      ]
     },
     "execution_count": 9,
     "metadata": {},
     "output_type": "execute_result"
    }
   ],
   "source": [
    "prices = [7,1,5,3,6,4]\n",
    "maxProfit2(prices)"
   ]
  },
  {
   "cell_type": "markdown",
   "metadata": {},
   "source": [
    "# 股票问题 3（含手续费）"
   ]
  },
  {
   "cell_type": "raw",
   "metadata": {},
   "source": [
    "你有一个整数价格数组，其中的第i个元素是给定股票第一天的价格;非负整数费表示交易费。您可以完成任意数量的交易，但您需要为每笔交易支付交易费。你一次只能买一股股票。你必须先把股票卖了再买。返回你能获得的最大利润。"
   ]
  },
  {
   "cell_type": "code",
   "execution_count": 10,
   "metadata": {},
   "outputs": [],
   "source": [
    "def maxProfit3(prices, fee):\n",
    "    cash, hold = 0, -prices[0]\n",
    "    for i in range(1, len(prices)):\n",
    "        cash, hold = max(cash, hold + prices[i] - fee), max(hold, cash - prices[i])\n",
    "    return cash"
   ]
  },
  {
   "cell_type": "code",
   "execution_count": 11,
   "metadata": {},
   "outputs": [
    {
     "data": {
      "text/plain": [
       "8"
      ]
     },
     "execution_count": 11,
     "metadata": {},
     "output_type": "execute_result"
    }
   ],
   "source": [
    "prices = [1, 3, 2, 8, 4, 9]\n",
    "fee = 2\n",
    "maxProfit3(prices, fee)"
   ]
  },
  {
   "cell_type": "markdown",
   "metadata": {},
   "source": [
    "# 股票问题 4"
   ]
  },
  {
   "cell_type": "raw",
   "metadata": {},
   "source": [
    "假设你有一个数组，其中的第i个元素是某只股票在第一天的价格。您最多可以完成两个交易。注:你不可以同时进行多项交易(即，你必须先把股票卖了再买）。"
   ]
  },
  {
   "cell_type": "code",
   "execution_count": 12,
   "metadata": {},
   "outputs": [],
   "source": [
    "def maxProfit4(prices):\n",
    "    total_max_profit = 0\n",
    "    n = len(prices)\n",
    "    left_profits = [0] * n\n",
    "    min_price = float('inf')\n",
    "\n",
    "    for i in range(n):\n",
    "        min_price = min(min_price, prices[i])\n",
    "        total_max_profit = max(total_max_profit, prices[i] - min_price)\n",
    "        left_profits[i] = total_max_profit\n",
    "\n",
    "    max_profit = 0\n",
    "    max_price = float('-inf')\n",
    "    for i in range(n - 1, 0, -1):\n",
    "        max_price = max(max_price, prices[i])\n",
    "        max_profit = max(max_profit, max_price - prices[i])\n",
    "        total_max_profit = max(total_max_profit, max_profit + left_profits[i - 1])\n",
    "    return total_max_profit"
   ]
  },
  {
   "cell_type": "code",
   "execution_count": 13,
   "metadata": {},
   "outputs": [
    {
     "data": {
      "text/plain": [
       "6"
      ]
     },
     "execution_count": 13,
     "metadata": {},
     "output_type": "execute_result"
    }
   ],
   "source": [
    "prices = [3,3,5,0,0,3,1,4]\n",
    "maxProfit4(prices)"
   ]
  },
  {
   "cell_type": "markdown",
   "metadata": {},
   "source": [
    "# 股票问题 5"
   ]
  },
  {
   "cell_type": "raw",
   "metadata": {},
   "source": [
    "假设你有一个数组，其中的第i个元素是某只股票在第一天的价格。\n",
    "设计一个算法来寻找最大的利润。您最多可以完成k个交易。"
   ]
  },
  {
   "cell_type": "code",
   "execution_count": 18,
   "metadata": {},
   "outputs": [],
   "source": [
    "def maxProfit5(prices, k):\n",
    "    if len(prices) < 2:\n",
    "        return 0\n",
    "\n",
    "    if len(prices) <= k / 2:\n",
    "        maxProfit(prices)\n",
    "        \n",
    "    local = [0] * (k+1)\n",
    "    globl = [0] * (k+1)\n",
    "    \n",
    "    for i in range(1, len(prices)):\n",
    "        diff = prices[i] - prices[i - 1]\n",
    "        j = k\n",
    "        while j > 0:\n",
    "            local[j] = max(globl[j - 1], local[j] + diff)\n",
    "            globl[j] = max(globl[j], local[j])\n",
    "            j -= 1\n",
    "            \n",
    "    return globl[k]\n",
    "\n",
    "def maxProfit(prices):\n",
    "    if len(prices) < 2:\n",
    "        return 0\n",
    "    min_price = prices[0]\n",
    "    max_profit = 0\n",
    "    for price in prices:\n",
    "        if price < min_price:\n",
    "            min_price = price\n",
    "        if price - min_price > max_profit:\n",
    "            max_profit = price - min_price\n",
    "    return max_profit"
   ]
  },
  {
   "cell_type": "code",
   "execution_count": 15,
   "metadata": {},
   "outputs": [
    {
     "data": {
      "text/plain": [
       "7"
      ]
     },
     "execution_count": 15,
     "metadata": {},
     "output_type": "execute_result"
    }
   ],
   "source": [
    "prices = [3,2,6,5,0,3]\n",
    "k = 2\n",
    "maxProfit5(prices, k)"
   ]
  },
  {
   "cell_type": "markdown",
   "metadata": {},
   "source": [
    "# 股票问题 6"
   ]
  },
  {
   "cell_type": "raw",
   "metadata": {},
   "source": [
    "假设你有一个数组，其中的第i个元素是某只股票在第一天的价格。\n",
    "你可以根据自己的意愿完成任意数量的交易(即多次买入和卖出一股股票)，但有以下限制:你不能同时进行多笔交易(即，你必须在再次买入之前卖出股票)。你卖出股票后，第二天就不能买股票了。(即，冷却1天)"
   ]
  },
  {
   "cell_type": "code",
   "execution_count": 16,
   "metadata": {},
   "outputs": [],
   "source": [
    "def maxProfit6(prices):\n",
    "    if len(prices) < 2:\n",
    "        return 0\n",
    "    n = len(prices)\n",
    "    sell = [0] * n\n",
    "    buy  = [0] * n\n",
    "    sell[0] = 0;\n",
    "    buy[0] = -prices[0]\n",
    "    for i in range(1, n):\n",
    "        sell[i] = max(sell[i - 1], buy[i - 1] + prices[i])\n",
    "        buy[i] = max(buy[i - 1], (sell[i - 2] if i > 1 else 0) - prices[i])\n",
    "            \n",
    "    return sell[-1]"
   ]
  },
  {
   "cell_type": "code",
   "execution_count": 17,
   "metadata": {},
   "outputs": [
    {
     "data": {
      "text/plain": [
       "3"
      ]
     },
     "execution_count": 17,
     "metadata": {},
     "output_type": "execute_result"
    }
   ],
   "source": [
    "prices = [1,2,3,0,2]\n",
    "maxProfit6(prices)"
   ]
  },
  {
   "cell_type": "markdown",
   "metadata": {},
   "source": [
    "# 不同路径"
   ]
  },
  {
   "cell_type": "raw",
   "metadata": {},
   "source": [
    "A robot is located at the top-left corner of a m x n grid (marked 'Start' in the diagram below).\n",
    "\n",
    "The robot can only move either down or right at any point in time. The robot is trying to reach the bottom-right corner of the grid (marked 'Finish' in the diagram below).\n",
    "\n",
    "How many possible unique paths are there?"
   ]
  },
  {
   "cell_type": "code",
   "execution_count": 2,
   "metadata": {},
   "outputs": [],
   "source": [
    "def uniquePaths1(m, n):\n",
    "    aux = [[1 for x in range(n)] for x in range(m)]\n",
    "    for i in range(1, m):\n",
    "        for j in range(1, n):\n",
    "            aux[i][j] = aux[i][j-1]+aux[i-1][j]\n",
    "    return aux[-1][-1]"
   ]
  },
  {
   "cell_type": "code",
   "execution_count": 7,
   "metadata": {},
   "outputs": [],
   "source": [
    "# 优化\n",
    "\n",
    "def uniquePaths2(m, n):\n",
    "    aux = [1 for x in range(n)]\n",
    "    for i in range(1, m):\n",
    "        for j in range(1, n):\n",
    "            aux[j] = aux[j]+aux[j-1]\n",
    "    return aux[-1]"
   ]
  },
  {
   "cell_type": "markdown",
   "metadata": {},
   "source": [
    "# 不同路径 2"
   ]
  },
  {
   "cell_type": "markdown",
   "metadata": {},
   "source": [
    "Follow up:\n",
    "\n",
    "Now consider if some obstacles are added to the grids. How many unique paths would there be?\n",
    "\n",
    "An obstacle and empty space is marked as 1 and 0 respectively in the grid.\n",
    "\n",
    "For example,\n",
    "\n",
    "There is one obstacle in the middle of a 3x3 grid as illustrated below.\n",
    "\n",
    "[\n",
    "\n",
    "[0,0,0],\n",
    "\n",
    "[0,1,0],\n",
    "\n",
    "[0,0,0]\n",
    "\n",
    "]\n",
    "\n",
    "The total number of unique paths is 2.\n",
    "\n"
   ]
  },
  {
   "cell_type": "code",
   "execution_count": 4,
   "metadata": {},
   "outputs": [],
   "source": [
    "def uniquePathsWithObstacles(obstacleGrid):\n",
    "    M, N = len(obstacleGrid), len(obstacleGrid[0])\n",
    "    dp = [1] + [0] * (N-1)\n",
    "    for i in range(M):\n",
    "        for j in range(N):\n",
    "            if obstacleGrid[i][j] == 1:\n",
    "                dp[j] = 0\n",
    "            elif j > 0:\n",
    "                dp[j] += dp[j-1]\n",
    "    return dp[N-1]"
   ]
  },
  {
   "cell_type": "code",
   "execution_count": 5,
   "metadata": {},
   "outputs": [
    {
     "data": {
      "text/plain": [
       "2"
      ]
     },
     "execution_count": 5,
     "metadata": {},
     "output_type": "execute_result"
    }
   ],
   "source": [
    "grid = [\n",
    "    [0,0,0],\n",
    "    [0,1,0],\n",
    "    [0,0,0]\n",
    "]\n",
    "uniquePathsWithObstacles(grid)"
   ]
  },
  {
   "cell_type": "markdown",
   "metadata": {},
   "source": [
    "# 在棋盘上移动"
   ]
  },
  {
   "cell_type": "markdown",
   "metadata": {},
   "source": [
    "We are given a grid of squares or a checkerboard with (n) rows and (n) columns. There is a profit we can get by moving to some square in the checkerboard. Our goal is to find the most profitable way from some square in the first row to some square in the last row. We can always move to the next square on the next row using one of three ways:\n",
    "\n",
    "Go to the square on the next row on the previous column (UP then LEFT)\n",
    "\n",
    "Go to the square on the next row on the same column (UP)\n",
    "\n",
    "Go to the square on the next row on the next column (UP then RIGHT)"
   ]
  },
  {
   "cell_type": "code",
   "execution_count": 10,
   "metadata": {},
   "outputs": [],
   "source": [
    "def movingBoard(board):\n",
    "    result = board\n",
    "    m = len(board)\n",
    "    n = len(board[0])\n",
    "    for i in range(1, m):\n",
    "        for j in range (0, n):\n",
    "            result[i][j] = max(0 if j == 0 else result[i-1][j-1], result[i-1][j], 0 if j == n-1 else result[i-1][j+1] ) + board[i][j]\n",
    "    return max(result[-1])"
   ]
  },
  {
   "cell_type": "code",
   "execution_count": 11,
   "metadata": {},
   "outputs": [
    {
     "data": {
      "text/plain": [
       "12"
      ]
     },
     "execution_count": 11,
     "metadata": {},
     "output_type": "execute_result"
    }
   ],
   "source": [
    "board = [\n",
    "    [3,-2, 6,-3, 4, 1, 2],\n",
    "    [0, 4, 1, 3,-1, 4, 3],\n",
    "    [2, 2,-1, 3, 2, 0, 2]\n",
    "]\n",
    "movingBoard(board)"
   ]
  },
  {
   "cell_type": "code",
   "execution_count": 21,
   "metadata": {},
   "outputs": [],
   "source": [
    "def movingBoard2(board):\n",
    "    result = board[0]\n",
    "    m = len(board)\n",
    "    n = len(board[0])\n",
    "    for i in range(1, m):\n",
    "        for j in range (0, n):\n",
    "            result[j] = max(0 if j == 0 else result[j-1], result[j], 0 if j == n-1 else result[j+1] ) + board[j]\n",
    "\n",
    "    return max(result)"
   ]
  },
  {
   "cell_type": "code",
   "execution_count": 22,
   "metadata": {},
   "outputs": [
    {
     "data": {
      "text/plain": [
       "12"
      ]
     },
     "execution_count": 22,
     "metadata": {},
     "output_type": "execute_result"
    }
   ],
   "source": [
    "board = [\n",
    "    [3,-2, 6,-3, 4, 1, 2],\n",
    "    [0, 4, 1, 3,-1, 4, 3],\n",
    "    [2, 2,-1, 3, 2, 0, 2]\n",
    "]\n",
    "movingBoard(board)"
   ]
  },
  {
   "cell_type": "markdown",
   "metadata": {},
   "source": [
    "# 最大正方形"
   ]
  },
  {
   "cell_type": "raw",
   "metadata": {},
   "source": [
    "Given a 2D binary matrix filled with 0's and 1's, find the largest square containing only 1's and return its area."
   ]
  },
  {
   "cell_type": "code",
   "execution_count": 1,
   "metadata": {},
   "outputs": [],
   "source": [
    "def maximalSquare(matrix):\n",
    "    if matrix == []:\n",
    "        return 0\n",
    "    m, n = len(matrix), len(matrix[0])\n",
    "    dp = [[0] * n for x in range(m)]\n",
    "    ans = 0\n",
    "    for x in range(m):\n",
    "        for y in range(n):\n",
    "            dp[x][y] = int(matrix[x][y])\n",
    "            if x and y and dp[x][y]:\n",
    "                dp[x][y] = min(dp[x - 1][y - 1], dp[x][y - 1], dp[x - 1][y]) + 1\n",
    "            ans = max(ans, dp[x][y])\n",
    "    return ans * ans"
   ]
  },
  {
   "cell_type": "code",
   "execution_count": 2,
   "metadata": {},
   "outputs": [
    {
     "data": {
      "text/plain": [
       "4"
      ]
     },
     "execution_count": 2,
     "metadata": {},
     "output_type": "execute_result"
    }
   ],
   "source": [
    "matrix = [\n",
    "    [1,0,1,0,0],\n",
    "    [1,0,1,1,1],\n",
    "    [1,1,1,1,1],\n",
    "    [1,0,0,1,0]\n",
    "]\n",
    "maximalSquare(matrix)"
   ]
  },
  {
   "cell_type": "code",
   "execution_count": 3,
   "metadata": {},
   "outputs": [],
   "source": [
    "def maximalSquare(matrix):\n",
    "    if matrix == []:\n",
    "        return 0\n",
    "    m, n = len(matrix), len(matrix[0])\n",
    "    dp = matrix[0]\n",
    "    ans = 0\n",
    "    for x in range(0, m):\n",
    "        for y in range(0, n):\n",
    "            dp[y] = int(matrix[x][y])\n",
    "            if matrix[x][y]:\n",
    "                dp[y] = min(dp[y - 1], dp[y - 1], dp[y]) + 1\n",
    "            ans = max(ans, dp[y])\n",
    "    return ans * ans"
   ]
  },
  {
   "cell_type": "code",
   "execution_count": 4,
   "metadata": {},
   "outputs": [
    {
     "data": {
      "text/plain": [
       "4"
      ]
     },
     "execution_count": 4,
     "metadata": {},
     "output_type": "execute_result"
    }
   ],
   "source": [
    "matrix = [\n",
    "    [1,0,1,0,0],\n",
    "    [1,0,1,1,1],\n",
    "    [1,1,1,1,1],\n",
    "    [1,0,0,1,0]\n",
    "]\n",
    "maximalSquare(matrix)"
   ]
  },
  {
   "cell_type": "markdown",
   "metadata": {},
   "source": [
    "# 0-1背包"
   ]
  },
  {
   "cell_type": "raw",
   "metadata": {},
   "source": [
    "Given weights and values of n items, put these items in a knapsack of capacity W to get the maximum total value in the knapsack."
   ]
  },
  {
   "cell_type": "code",
   "execution_count": 1,
   "metadata": {},
   "outputs": [],
   "source": [
    "def knapSack(W, wt, val, n):\n",
    "    K = [[0 for x in range(W+1)] for x in range(n+1)]\n",
    " \n",
    "    # Build table K[][] in bottom up manner\n",
    "    for i in range(n+1):\n",
    "        for w in range(W+1):\n",
    "            if i==0 or w==0:\n",
    "                K[i][w] = 0\n",
    "            elif wt[i-1] <= w:\n",
    "                K[i][w] = max(val[i-1] + K[i-1][w-wt[i-1]],  K[i-1][w])\n",
    "            else:\n",
    "                K[i][w] = K[i-1][w]\n",
    " \n",
    "    return K[n][W]"
   ]
  },
  {
   "cell_type": "code",
   "execution_count": 2,
   "metadata": {},
   "outputs": [
    {
     "name": "stdout",
     "output_type": "stream",
     "text": [
      "9\n"
     ]
    }
   ],
   "source": [
    "val = [5, 3, 4]\n",
    "wt = [3, 2, 1]\n",
    "W = 5\n",
    "n = len(val)\n",
    "print(knapSack(W, wt, val, n))"
   ]
  },
  {
   "cell_type": "markdown",
   "metadata": {},
   "source": [
    "# 最长公共子序列"
   ]
  },
  {
   "cell_type": "markdown",
   "metadata": {},
   "source": [
    "Given two strings ‘X’ and ‘Y’, find the length of the longest common substring.\n",
    "\n",
    "Input : X = \"abcdxyz\", y = \"xyzabcd\"\n",
    "\n",
    "Output : 4\n",
    "\n",
    "The longest common substring is \"abcd\" and is of length 4.\n",
    "\n",
    "Input : X = \"zxabcdezy\", y = \"yzabcdezx\"\n",
    "\n",
    "Output : 6\n",
    "\n",
    "The longest common substring is \"abcdez\" and is of length 6."
   ]
  },
  {
   "cell_type": "code",
   "execution_count": 3,
   "metadata": {},
   "outputs": [],
   "source": [
    "def LCS(X, Y, m, n):\n",
    "     \n",
    "    matrix = [[0 for k in range(n+1)] for l in range(m+1)]\n",
    "     \n",
    "    result = 0\n",
    " \n",
    "    for i in range(m + 1):\n",
    "        for j in range(n + 1):\n",
    "            if (i == 0 or j == 0):\n",
    "                matrix[i][j] = 0\n",
    "            elif (X[i-1] == Y[j-1]):\n",
    "                matrix[i][j] = matrix[i-1][j-1] + 1\n",
    "                result = max(result, matrix[i][j])\n",
    "            else:\n",
    "                matrix[i][j] = max(matrix[i-1][j], matrix[i][j-1])\n",
    "    return result"
   ]
  },
  {
   "cell_type": "code",
   "execution_count": 4,
   "metadata": {},
   "outputs": [
    {
     "data": {
      "text/plain": [
       "4"
      ]
     },
     "execution_count": 4,
     "metadata": {},
     "output_type": "execute_result"
    }
   ],
   "source": [
    "X = 'AGGTAB'\n",
    "Y = 'GXTXAYB'\n",
    " \n",
    "m = len(X)\n",
    "n = len(Y)\n",
    "LCS(X, Y, m, n)"
   ]
  },
  {
   "cell_type": "markdown",
   "metadata": {},
   "source": [
    "# 最长上升子序列"
   ]
  },
  {
   "cell_type": "markdown",
   "metadata": {},
   "source": [
    "Solution 1:\n",
    "\n",
    "Using LCS.\n",
    "\n",
    "Sort and run LCS on sorted array and original array.\n",
    "\n",
    "O(n^2)"
   ]
  },
  {
   "cell_type": "code",
   "execution_count": 6,
   "metadata": {},
   "outputs": [],
   "source": [
    "def lengthOfLIS1(nums):\n",
    "    sortNums = sorted(nums)\n",
    "    n = len(nums)\n",
    "    return LCS(nums, sortNums, n, n)"
   ]
  },
  {
   "cell_type": "code",
   "execution_count": 7,
   "metadata": {},
   "outputs": [
    {
     "data": {
      "text/plain": [
       "4"
      ]
     },
     "execution_count": 7,
     "metadata": {},
     "output_type": "execute_result"
    }
   ],
   "source": [
    "nums = [10, 9, 2, 5, 3, 7, 101, 18]\n",
    "lengthOfLIS1(nums)"
   ]
  },
  {
   "cell_type": "markdown",
   "metadata": {},
   "source": [
    "Solution 2:\n",
    "\n",
    "L(i) be the length of LIS ending at index i, such that, arr[i] os the last element of the LIS.\n",
    "\n",
    "L(i) = 1 + max(L(j)), where 0 < j < i and arr[j] < arr[i]\n",
    "\n",
    "L(i) = 1, if no such j exists\n",
    "\n",
    "return max(L(i)), where 0 < i < n."
   ]
  },
  {
   "cell_type": "code",
   "execution_count": 8,
   "metadata": {},
   "outputs": [],
   "source": [
    "def lengthOfLIS2(nums):\n",
    "    if not nums:\n",
    "        return 0\n",
    "    dp = [1]*len(nums)\n",
    "    for i in range (1, len(nums)):\n",
    "        for j in range(i):\n",
    "            if nums[i] >nums[j]:\n",
    "                dp[i] = max(dp[i], dp[j]+1)\n",
    "    return max(dp)"
   ]
  },
  {
   "cell_type": "code",
   "execution_count": 9,
   "metadata": {},
   "outputs": [
    {
     "data": {
      "text/plain": [
       "4"
      ]
     },
     "execution_count": 9,
     "metadata": {},
     "output_type": "execute_result"
    }
   ],
   "source": [
    "nums = [10, 9, 2, 5, 3, 7, 101, 18]\n",
    "lengthOfLIS2(nums)"
   ]
  },
  {
   "cell_type": "markdown",
   "metadata": {},
   "source": [
    "Solution 3:\n",
    "\n",
    "Maintain a list: store the increasing subsequence formed by including the curretly encounted element.\n",
    "\n",
    "For jth element, we determine its correct position in dp array, using binary search.\n",
    "\n",
    "In this approach, we scan the array from left to right. We also make use of a dp array initialized with all 0's.\n",
    "\n",
    "This dp array is meant to store the increasing subsequence formed by including the currently encountered element. While traversing the nums array, we keep on filling the dp array with the elements encountered so far. For the element corresponding to the jth index (nums[j]), we determine its correct position in the dp array(say ith index) by making use of Binary Search(which can be used since the dp array is storing increasing subsequence) and also insert it at the correct position.\n",
    "\n",
    "An important point to be noted is that for Binary Search, we consider only that portion of the dp array in which we have made the updates by inserting some elements at their correct positions (which remains always sorted). Thus, only the elements upto the ith index in the dp array can determine the position of the current element in it. Since, the element enters its correct position in an ascending order in the dp array, the subsequence formed so far in it is surely an increasing subsequence.\n",
    "\n",
    "Whenever this position index ii becomes equal to the length of the LIS formed so far(len), it means, we need to update the len as len = len + 1\n",
    "\n",
    "Note: dp array does not result in longest increasing subsequence, but length of dp array will give you length of LIS."
   ]
  },
  {
   "cell_type": "code",
   "execution_count": 10,
   "metadata": {},
   "outputs": [],
   "source": [
    "#using binary search\n",
    "def lengthOfLIS(nums):\n",
    "    def search(temp, left, right, target):\n",
    "        if left == right:\n",
    "            return left\n",
    "        mid = left+(right-left)//2\n",
    "        return search(temp, mid+1, right, target) if temp[mid]<target else search(temp, left, mid, target)\n",
    "    temp = []\n",
    "    for num in nums:\n",
    "        pos = search(temp, 0, len(temp), num)\n",
    "        if pos >=len(temp):\n",
    "            temp.append(num)\n",
    "        else:\n",
    "            temp[pos]=num\n",
    "    print(temp)\n",
    "    return len(temp)"
   ]
  },
  {
   "cell_type": "code",
   "execution_count": 11,
   "metadata": {},
   "outputs": [
    {
     "name": "stdout",
     "output_type": "stream",
     "text": [
      "[2, 3, 4, 9, 10]\n"
     ]
    },
    {
     "data": {
      "text/plain": [
       "5"
      ]
     },
     "execution_count": 11,
     "metadata": {},
     "output_type": "execute_result"
    }
   ],
   "source": [
    "nums = [10, 9, 2, 5, 3, 7, 101, 18, 9, 4, 10]\n",
    "lengthOfLIS(nums)"
   ]
  },
  {
   "cell_type": "code",
   "execution_count": 12,
   "metadata": {},
   "outputs": [],
   "source": [
    "from bisect import bisect \n",
    "#using binary search\n",
    "def lengthOfLIS(nums):\n",
    "\n",
    "    temp = []\n",
    "    for num in nums:\n",
    "        pos = bisect(temp, num) \n",
    "        if pos >=len(temp):\n",
    "            temp.append(num)\n",
    "        else:\n",
    "            temp[pos]=num\n",
    "    return len(temp)"
   ]
  },
  {
   "cell_type": "code",
   "execution_count": 13,
   "metadata": {},
   "outputs": [
    {
     "data": {
      "text/plain": [
       "4"
      ]
     },
     "execution_count": 13,
     "metadata": {},
     "output_type": "execute_result"
    }
   ],
   "source": [
    "nums = [10, 9, 2, 5, 3, 7, 101, 18]\n",
    "lengthOfLIS(nums)"
   ]
  },
  {
   "cell_type": "code",
   "execution_count": null,
   "metadata": {},
   "outputs": [],
   "source": []
  }
 ],
 "metadata": {
  "kernelspec": {
   "display_name": "Python 3",
   "language": "python",
   "name": "python3"
  },
  "language_info": {
   "codemirror_mode": {
    "name": "ipython",
    "version": 3
   },
   "file_extension": ".py",
   "mimetype": "text/x-python",
   "name": "python",
   "nbconvert_exporter": "python",
   "pygments_lexer": "ipython3",
   "version": "3.6.4"
  },
  "toc": {
   "base_numbering": 1,
   "nav_menu": {},
   "number_sections": true,
   "sideBar": true,
   "skip_h1_title": false,
   "title_cell": "Table of Contents",
   "title_sidebar": "Contents",
   "toc_cell": false,
   "toc_position": {},
   "toc_section_display": true,
   "toc_window_display": true
  },
  "varInspector": {
   "cols": {
    "lenName": 16,
    "lenType": 16,
    "lenVar": 40
   },
   "kernels_config": {
    "python": {
     "delete_cmd_postfix": "",
     "delete_cmd_prefix": "del ",
     "library": "var_list.py",
     "varRefreshCmd": "print(var_dic_list())"
    },
    "r": {
     "delete_cmd_postfix": ") ",
     "delete_cmd_prefix": "rm(",
     "library": "var_list.r",
     "varRefreshCmd": "cat(var_dic_list()) "
    }
   },
   "types_to_exclude": [
    "module",
    "function",
    "builtin_function_or_method",
    "instance",
    "_Feature"
   ],
   "window_display": false
  }
 },
 "nbformat": 4,
 "nbformat_minor": 2
}
