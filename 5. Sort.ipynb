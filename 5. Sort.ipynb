{
 "cells": [
  {
   "cell_type": "markdown",
   "metadata": {},
   "source": [
    "# 1. Bubble Sort 冒泡排序"
   ]
  },
  {
   "cell_type": "raw",
   "metadata": {},
   "source": [
    "'''\n",
    "稳定 \n",
    "复杂性：n^2\n",
    "'''"
   ]
  },
  {
   "cell_type": "code",
   "execution_count": 1,
   "metadata": {},
   "outputs": [],
   "source": [
    "import time\n",
    "from random import randint\n",
    "\n",
    "import matplotlib.pyplot as plt\n",
    "%matplotlib inline "
   ]
  },
  {
   "cell_type": "code",
   "execution_count": 2,
   "metadata": {},
   "outputs": [
    {
     "name": "stdout",
     "output_type": "stream",
     "text": [
      "[9, 8, 7, 6, 5, 4, 3, 2, 1, 0]\n"
     ]
    }
   ],
   "source": [
    "# 未优化，基本的buble sort\n",
    "def _bubble_sort(nums: list, reverse=False):\n",
    "    start = time.time()\n",
    "    for i in range(len(nums)):\n",
    "        # Get (i+1) largest in the correct position\n",
    "        for j in range(len(nums) - i - 1):\n",
    "            if nums[j] > nums[j + 1]:  \n",
    "                nums[j], nums[j + 1] = nums[j + 1], nums[j]\n",
    "    if reverse:\n",
    "        #nums = nums[::-1]  # why this is not working?\n",
    "        nums.reverse()\n",
    "    t = time.time() - start\n",
    "    return len(nums), t\n",
    "\n",
    "\n",
    "def bubble_sorted(nums: list, reverse=False) -> list:\n",
    "    \"\"\"Bubble Sort\"\"\"\n",
    "    nums_copy = list(nums)\n",
    "    _bubble_sort(nums_copy, reverse=reverse)\n",
    "    return nums_copy\n",
    "\n",
    "l = [1, 3, 5, 7, 9, 2, 4, 6, 8, 0]\n",
    "l = bubble_sorted(l, reverse=True)\n",
    "print(l)"
   ]
  },
  {
   "cell_type": "code",
   "execution_count": 27,
   "metadata": {},
   "outputs": [],
   "source": [
    "# 优化的冒泡排序\n",
    "def bubble_sort_mod(array):\n",
    "    import time\n",
    "    start = time.time()    \n",
    "    for i in range(len(array)): # n pass\n",
    "        is_sorted = True  # initialize is_sorted\n",
    "        for j in range(1, len(array) - i):\n",
    "            if (array[j] < array[j - 1]):\n",
    "                # swap\n",
    "                array[j], array[j - 1] = array[j - 1], array[j]\n",
    "                is_sorted = False\n",
    "        \n",
    "        if (is_sorted): break\n",
    "    t = time.time() - start\n",
    "    return len(array), t    "
   ]
  },
  {
   "cell_type": "code",
   "execution_count": 28,
   "metadata": {},
   "outputs": [
    {
     "name": "stdout",
     "output_type": "stream",
     "text": [
      "[9, 8, 7, 6, 5, 4, 3, 2, 1, 0]\n"
     ]
    }
   ],
   "source": [
    "l = [1, 3, 5, 7, 9, 2, 4, 6, 8, 0]\n",
    "l = bubble_sorted(l, reverse=True)\n",
    "print(l)"
   ]
  },
  {
   "cell_type": "markdown",
   "metadata": {},
   "source": [
    "# 2. Selection Sort  选择排序"
   ]
  },
  {
   "cell_type": "raw",
   "metadata": {},
   "source": [
    "在每次通过时，它会选择最小的值，用最后一个未分类元素来交换他。\n",
    "不稳定\n",
    "复杂性 n^2 ,不需要额外的空间"
   ]
  },
  {
   "cell_type": "code",
   "execution_count": 3,
   "metadata": {},
   "outputs": [],
   "source": [
    "def selection_sort(items):\n",
    "    start = time.time()\n",
    "    for i in range(len(items)):   # n\n",
    "        pos_min = i   #idx\n",
    "        for j in range(i + 1, len(items)):  # n\n",
    "            if (items[j] < items[pos_min]):\n",
    "                pos_min = j\n",
    "\n",
    "        items[i], items[pos_min] = items[pos_min], items[i]\n",
    "    t = time.time() - start\n",
    "    return len(items), t  "
   ]
  },
  {
   "cell_type": "code",
   "execution_count": 4,
   "metadata": {},
   "outputs": [
    {
     "name": "stdout",
     "output_type": "stream",
     "text": [
      "[1, 2, 3, 4, 5, 6, 7, 8, 9, 99]\n"
     ]
    }
   ],
   "source": [
    "l = [1, 3, 5, 7, 9, 2, 4, 6, 8, 99]\n",
    "selection_sort(l)\n",
    "print(l)"
   ]
  },
  {
   "cell_type": "markdown",
   "metadata": {},
   "source": [
    "# 3. Insert Sort 插入排序"
   ]
  },
  {
   "cell_type": "raw",
   "metadata": {},
   "source": [
    "# 复杂性：n^2"
   ]
  },
  {
   "cell_type": "code",
   "execution_count": 6,
   "metadata": {},
   "outputs": [],
   "source": [
    "def insert_sort(items):\n",
    "    start = time.time()\n",
    "    for sort_inx in range(1,len(items)):\n",
    "        unsort_inx = sort_inx\n",
    "        while unsort_inx > 0 and items[unsort_inx-1] > items[unsort_inx]:\n",
    "            items[unsort_inx-1], items[unsort_inx] = items[unsort_inx], items[unsort_inx-1]\n",
    "            unsort_inx = unsort_inx-1\n",
    "    t = time.time() - start\n",
    "    return len(items), t "
   ]
  },
  {
   "cell_type": "code",
   "execution_count": 7,
   "metadata": {},
   "outputs": [
    {
     "name": "stdout",
     "output_type": "stream",
     "text": [
      "[1, 2, 3, 4, 5, 6, 7, 8, 9, 99]\n"
     ]
    }
   ],
   "source": [
    "L = [1, 3, 5, 7, 9, 2, 4, 6, 8, 99]\n",
    "insert_sort(L)\n",
    "print(L)"
   ]
  },
  {
   "cell_type": "markdown",
   "metadata": {},
   "source": [
    "# 4. Shell Sort 希尔排序"
   ]
  },
  {
   "cell_type": "raw",
   "metadata": {},
   "source": [
    "是插入排序的扩展，通过允许相隔很远的元素交换来获得速度。\n",
    "将不合适的元素移动到比简单的最近邻居交换更快的位置。\n",
    "\n",
    "将待排序的列表、数组拆分成几个子阵列，然后分别对每一个小部分进行插入排序。\n",
    "理由：因为插入排序对小数据特别快。\n",
    "\n",
    "考的不多"
   ]
  },
  {
   "cell_type": "code",
   "execution_count": 2,
   "metadata": {},
   "outputs": [],
   "source": [
    "def shell_sort(nums):\n",
    "    start = time.time()\n",
    "\n",
    "    gap = len(nums)\n",
    "    length = len(nums)\n",
    "\n",
    "    while (gap > 0):\n",
    "        for i in range(gap, length):  # 遍历\n",
    "            for j in range(i, gap - 1, -gap): # 找一个位置\n",
    "                if (nums[j - gap] > nums[j]):\n",
    "                    nums[j], nums[j - gap] = nums[j - gap], nums[j]\n",
    "\n",
    "        if (gap == 2): \n",
    "            gap = 1\n",
    "        else:\n",
    "            gap = gap // 2 \n",
    "        '''\n",
    "        [1,2,3,5,4,34,21,9]\n",
    "        gap = 4,也就是说，[1,4],[2,,5],[3,6],...\n",
    "        '''\n",
    "\n",
    "    t = time.time() - start\n",
    "    return len(nums), t   "
   ]
  },
  {
   "cell_type": "code",
   "execution_count": 9,
   "metadata": {},
   "outputs": [
    {
     "name": "stdout",
     "output_type": "stream",
     "text": [
      "[1, 2, 3, 4, 5, 6, 7, 8, 9, 99]\n"
     ]
    }
   ],
   "source": [
    "l = [1, 3, 5, 7, 9, 2, 4, 6, 8, 99]\n",
    "insert_sort(l)\n",
    "print(l)"
   ]
  },
  {
   "cell_type": "markdown",
   "metadata": {},
   "source": [
    "# 5. Count Sort  计数排序（桶排序）"
   ]
  },
  {
   "cell_type": "raw",
   "metadata": {},
   "source": [
    "\n",
    "快! 必须得会好像！还非常重要！\n",
    "复杂性：nlogn\n",
    "\n",
    "当数组的Range小，或者有重复元素，考虑计数排序。"
   ]
  },
  {
   "cell_type": "code",
   "execution_count": 25,
   "metadata": {},
   "outputs": [],
   "source": [
    "def count_sort(items):\n",
    "    start = time.time()    \n",
    "    mmax, mmin = items[0], items[0]\n",
    "    for i in range(1, len(items)):\n",
    "        if (items[i] > mmax): mmax = items[i]\n",
    "        elif (items[i] < mmin): mmin = items[i]\n",
    "    print(mmax)\n",
    "    nums = mmax - mmin + 1    #抽屉的个数\n",
    "    counts = [0] * nums  #将元素放到对应的抽屉里\n",
    "    for i in range (len(items)):\n",
    "        counts[items[i] - mmin] = counts[items[i] - mmin] + 1\n",
    "\n",
    "    pos = 0  #把抽屉里的元素拿出来重新排列\n",
    "    for i in range(nums):\n",
    "        for j in range(counts[i]):\n",
    "            items[pos] = i + mmin\n",
    "            pos += 1\n",
    "            \n",
    "    t = time.time() - start\n",
    "    return items,len(items), t"
   ]
  },
  {
   "cell_type": "code",
   "execution_count": 26,
   "metadata": {},
   "outputs": [
    {
     "name": "stdout",
     "output_type": "stream",
     "text": [
      "9\n",
      "[0, 1, 2, 3, 4, 5, 6, 7, 8, 9]\n"
     ]
    }
   ],
   "source": [
    "l = [1, 3, 5, 7, 9, 2, 4, 6, 8, 0]\n",
    "l = count_sort(l)[0]\n",
    "print(l)"
   ]
  },
  {
   "cell_type": "markdown",
   "metadata": {},
   "source": [
    "# 6. Radix Sort  基数排序"
   ]
  },
  {
   "cell_type": "code",
   "execution_count": 21,
   "metadata": {},
   "outputs": [],
   "source": [
    "def radix_sort(array, base=10):\n",
    "    start = time.time()    \n",
    "    def list_to_buckets(array, base, iteration):\n",
    "        buckets = [[] for _ in range(base)]\n",
    "        for number in array:\n",
    "            # Isolate the base-digit from the number\n",
    "            digit = (number // (base ** iteration)) % base\n",
    "            # Drop the number into the correct bucket\n",
    "            buckets[digit].append(number)\n",
    "        return buckets\n",
    "\n",
    "    def buckets_to_list(buckets):\n",
    "        numbers = []\n",
    "        for bucket in buckets:\n",
    "            # append the numbers in a bucket\n",
    "            # sequentially to the returned array\n",
    "            for number in bucket:\n",
    "                numbers.append(number)\n",
    "        return numbers\n",
    "\n",
    "    maxval = max(array)\n",
    "\n",
    "    it = 0\n",
    "    # Iterate, sorting the array by each base-digit\n",
    "    while base ** it <= maxval:\n",
    "        array = buckets_to_list(list_to_buckets(array, base, it))\n",
    "        it += 1\n",
    "\n",
    "    t = time.time() - start\n",
    "    return array,len(array), t "
   ]
  },
  {
   "cell_type": "code",
   "execution_count": 22,
   "metadata": {},
   "outputs": [
    {
     "name": "stdout",
     "output_type": "stream",
     "text": [
      "[0, 1, 2, 3, 4, 5, 6, 7, 8, 9]\n"
     ]
    }
   ],
   "source": [
    "l = [1, 3, 5, 7, 9, 2, 4, 6, 8, 0]\n",
    "l = radix_sort(l)[0]\n",
    "print(l)"
   ]
  },
  {
   "cell_type": "markdown",
   "metadata": {},
   "source": [
    "# 7. Merge Sort  归并排序"
   ]
  },
  {
   "cell_type": "raw",
   "metadata": {},
   "source": [
    "\n",
    "也是特别重要的重要的算法！\n",
    "\n",
    "分治算法"
   ]
  },
  {
   "cell_type": "code",
   "execution_count": 4,
   "metadata": {},
   "outputs": [
    {
     "name": "stdout",
     "output_type": "stream",
     "text": [
      "0\n"
     ]
    }
   ],
   "source": [
    "def _merge(a: list, b: list) -> list:\n",
    "    \"\"\"Merge two sorted list\"\"\"\n",
    "    c = []\n",
    "    while len(a) > 0 and len(b) > 0:\n",
    "        if a[0] < b[0]:\n",
    "            c.append(a[0])\n",
    "            a.remove(a[0])\n",
    "        else:\n",
    "            c.append(b[0])\n",
    "            b.remove(b[0])\n",
    "\n",
    "    if len(a) == 0:\n",
    "        c += b\n",
    "    else:\n",
    "        c += a\n",
    "    return c\n",
    "\n",
    "\n",
    "def _merge_sorted(nums: list) -> list:\n",
    "    # Won't sort in place\n",
    "    if len(nums) <= 1:\n",
    "        return nums\n",
    "\n",
    "    m = len(nums) // 2\n",
    "    a = _merge_sorted(nums[:m])\n",
    "    b = _merge_sorted(nums[m:])\n",
    "    return _merge(a, b)\n",
    "\n",
    "\n",
    "# Wrapper\n",
    "def merge_sorted(nums: list, reverse=False) -> list:\n",
    "    \"\"\"Merge Sort\"\"\"\n",
    "    nums = _merge_sorted(nums)\n",
    "    if reverse:\n",
    "        nums = nums[::-1]\n",
    "    return nums\n",
    "\n",
    "l = [1, 3, 5, 7, 9, 2, 4, 6, 8, 0]\n",
    "l = merge_sorted(l, reverse=False)[0]\n",
    "print(l)"
   ]
  },
  {
   "cell_type": "code",
   "execution_count": null,
   "metadata": {},
   "outputs": [],
   "source": []
  },
  {
   "cell_type": "markdown",
   "metadata": {},
   "source": [
    "# 8. Quick Sort 快速排序"
   ]
  },
  {
   "cell_type": "raw",
   "metadata": {},
   "source": [
    "快！好！\n",
    "\n",
    "分一半，从左往右（i）从右往左（j）分别找比当前值大和比当前值小的，然后交换。然后分别排序\n",
    "\n",
    "pivot:仿佛是中转站的概念\n",
    "partition：分区"
   ]
  },
  {
   "cell_type": "code",
   "execution_count": 2,
   "metadata": {},
   "outputs": [
    {
     "name": "stdout",
     "output_type": "stream",
     "text": [
      "[9, 8, 7, 6, 5, 4, 3, 2, 1, 0]\n"
     ]
    }
   ],
   "source": [
    "def _quick_sorted(nums: list) -> list:\n",
    "    if len(nums) <= 1:\n",
    "        return nums\n",
    "\n",
    "    pivot = nums[0]\n",
    "    left_nums = _quick_sorted([x for x in nums[1:] if x < pivot])\n",
    "    right_nums = _quick_sorted([x for x in nums[1:] if x >= pivot])\n",
    "    return left_nums + [pivot] + right_nums\n",
    "\n",
    "\n",
    "def quick_sorted(nums: list, reverse=False) -> list:\n",
    "    \"\"\"Quick Sort\"\"\"\n",
    "    nums = _quick_sorted(nums)\n",
    "    if reverse:\n",
    "        nums = nums[::-1]\n",
    "    return nums\n",
    "\n",
    "\n",
    "l = [1, 3, 5, 7, 9, 2, 4, 6, 8, 0]\n",
    "l = quick_sorted(l, reverse=True)\n",
    "print(l)"
   ]
  },
  {
   "cell_type": "code",
   "execution_count": null,
   "metadata": {},
   "outputs": [],
   "source": []
  }
 ],
 "metadata": {
  "kernelspec": {
   "display_name": "Python 3",
   "language": "python",
   "name": "python3"
  },
  "language_info": {
   "codemirror_mode": {
    "name": "ipython",
    "version": 3
   },
   "file_extension": ".py",
   "mimetype": "text/x-python",
   "name": "python",
   "nbconvert_exporter": "python",
   "pygments_lexer": "ipython3",
   "version": "3.6.4"
  },
  "toc": {
   "base_numbering": 1,
   "nav_menu": {},
   "number_sections": true,
   "sideBar": true,
   "skip_h1_title": false,
   "title_cell": "Table of Contents",
   "title_sidebar": "Contents",
   "toc_cell": false,
   "toc_position": {},
   "toc_section_display": true,
   "toc_window_display": true
  },
  "varInspector": {
   "cols": {
    "lenName": 16,
    "lenType": 16,
    "lenVar": 40
   },
   "kernels_config": {
    "python": {
     "delete_cmd_postfix": "",
     "delete_cmd_prefix": "del ",
     "library": "var_list.py",
     "varRefreshCmd": "print(var_dic_list())"
    },
    "r": {
     "delete_cmd_postfix": ") ",
     "delete_cmd_prefix": "rm(",
     "library": "var_list.r",
     "varRefreshCmd": "cat(var_dic_list()) "
    }
   },
   "types_to_exclude": [
    "module",
    "function",
    "builtin_function_or_method",
    "instance",
    "_Feature"
   ],
   "window_display": false
  }
 },
 "nbformat": 4,
 "nbformat_minor": 2
}
