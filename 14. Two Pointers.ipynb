{
 "cells": [
  {
   "cell_type": "markdown",
   "metadata": {},
   "source": [
    "我们已经见过的Two Pointers相关的问题：\n",
    "\n",
    "Linked List: Find Middle Node\n",
    "\n",
    "Linked List: Determine Cycle\n",
    "\n",
    "Linked List: Find Cycle Start Point\n",
    "\n",
    "Linked List: Find kth Element From End\n",
    "\n",
    "Merge Sort\n",
    "\n",
    "Partition: Quick Sort, Find Kth Largest Element"
   ]
  },
  {
   "cell_type": "markdown",
   "metadata": {},
   "source": [
    "# 反转列表"
   ]
  },
  {
   "cell_type": "code",
   "execution_count": 1,
   "metadata": {},
   "outputs": [],
   "source": [
    "def reverse(nums):\n",
    "    n = len(nums)\n",
    "    for i in range(len(nums) // 2):\n",
    "        nums[i], nums[n-1-i] = nums[n-1-i], nums[i]\n",
    "    print(nums)"
   ]
  },
  {
   "cell_type": "code",
   "execution_count": 2,
   "metadata": {},
   "outputs": [
    {
     "name": "stdout",
     "output_type": "stream",
     "text": [
      "[]\n",
      "[1]\n",
      "[2, 1]\n",
      "[3, 2, 1]\n"
     ]
    }
   ],
   "source": [
    "nums = []\n",
    "reverse(nums)\n",
    "\n",
    "nums = [1]\n",
    "reverse(nums)\n",
    "\n",
    "nums = [1,2]\n",
    "reverse(nums)\n",
    "\n",
    "nums = [1,2,3]\n",
    "reverse(nums)"
   ]
  },
  {
   "cell_type": "code",
   "execution_count": 3,
   "metadata": {},
   "outputs": [],
   "source": [
    "def reverse2(nums):\n",
    "    i, j = 0, len(nums) - 1\n",
    "    while (i < j):\n",
    "        nums[i], nums[j] = nums[j], nums[i]\n",
    "        i += 1\n",
    "        j -= 1\n",
    "    print(nums)"
   ]
  },
  {
   "cell_type": "markdown",
   "metadata": {},
   "source": [
    "# 两个数的和"
   ]
  },
  {
   "cell_type": "markdown",
   "metadata": {},
   "source": [
    "给定一个整数数组，找到两个数字，使它们加起来等于一个特定的目标数字。"
   ]
  },
  {
   "cell_type": "code",
   "execution_count": 4,
   "metadata": {},
   "outputs": [],
   "source": [
    "def twoSum(nums, target):\n",
    "    dic = {}\n",
    "    for i, num in enumerate(nums):\n",
    "        if num in dic:\n",
    "            return [dic[num], i]\n",
    "        else:\n",
    "            dic[target - num] = i"
   ]
  },
  {
   "cell_type": "code",
   "execution_count": 5,
   "metadata": {},
   "outputs": [],
   "source": [
    "def twoSum2(num, target):\n",
    "    index = []\n",
    "    numtosort = num[:]; numtosort.sort()\n",
    "    i = 0; j = len(numtosort) - 1\n",
    "    while i < j:\n",
    "        if numtosort[i] + numtosort[j] == target:\n",
    "            for k in range(0,len(num)):\n",
    "                if num[k] == numtosort[i]:\n",
    "                    index.append(k)\n",
    "                    break\n",
    "            for k in range(len(num)-1,-1,-1):\n",
    "                if num[k] == numtosort[j]:\n",
    "                    index.append(k)\n",
    "                    break\n",
    "            index.sort()\n",
    "            break\n",
    "        elif numtosort[i] + numtosort[j] < target:\n",
    "            i = i + 1\n",
    "        elif numtosort[i] + numtosort[j] > target:\n",
    "            j = j - 1\n",
    "\n",
    "    return (index[0]+1,index[1]+1)"
   ]
  },
  {
   "cell_type": "markdown",
   "metadata": {},
   "source": [
    "# 三个数的和等于0"
   ]
  },
  {
   "cell_type": "raw",
   "metadata": {},
   "source": [
    "给定一个有n个整数的数组，S中是否存在a、b、c元素使得a + b + c = 0?找出数组中所有唯一的三个一组，它们的和为0。"
   ]
  },
  {
   "cell_type": "code",
   "execution_count": 6,
   "metadata": {},
   "outputs": [],
   "source": [
    "def threeSum(nums):\n",
    "    res = []\n",
    "    nums.sort()\n",
    "    for i in range(len(nums)-2):\n",
    "        if i > 0 and nums[i] == nums[i-1]:\n",
    "            continue\n",
    "        l, r = i+1, len(nums)-1\n",
    "        while l < r:\n",
    "            s = nums[i] + nums[l] + nums[r]\n",
    "            if s < 0:\n",
    "                l +=1 \n",
    "            elif s > 0:\n",
    "                r -= 1\n",
    "            else:\n",
    "                res.append((nums[i], nums[l], nums[r]))\n",
    "                while l < r and nums[l] == nums[l+1]:\n",
    "                    l += 1\n",
    "                while l < r and nums[r] == nums[r-1]:\n",
    "                    r -= 1\n",
    "                l += 1; r -= 1\n",
    "    return res "
   ]
  },
  {
   "cell_type": "code",
   "execution_count": 7,
   "metadata": {},
   "outputs": [
    {
     "data": {
      "text/plain": [
       "[(-4, 2, 2), (-1, -1, 2), (-1, 0, 1)]"
      ]
     },
     "execution_count": 7,
     "metadata": {},
     "output_type": "execute_result"
    }
   ],
   "source": [
    "nums = [-1, 0, 1, 2, -1, -4, 2, -1, 2]\n",
    "threeSum(nums)"
   ]
  },
  {
   "cell_type": "markdown",
   "metadata": {},
   "source": [
    "# 四个数的和等于0"
   ]
  },
  {
   "cell_type": "raw",
   "metadata": {},
   "source": [
    "给定一个有n个整数的数组S, S中的元素a、b、c、d是否使得a + b + c + d = 0?找出数组中所有唯一的零和组合。"
   ]
  },
  {
   "cell_type": "code",
   "execution_count": 8,
   "metadata": {},
   "outputs": [],
   "source": [
    "def fourSum(num, target):\n",
    "    num.sort(); res = []\n",
    "    for i in range(len(num)):\n",
    "        if i > 0 and num[i] == num[i-1]: \n",
    "            continue \n",
    "        for j in range(i + 1 ,len (num)):\n",
    "            if j > i + 1 and num[j] == num[j-1]: \n",
    "                continue \n",
    "            l = j + 1\n",
    "            r = len(num) - 1\n",
    "            while l < r:\n",
    "                sum = num[i] + num[j] + num[l] + num[r]\n",
    "                if sum > target:\n",
    "                    r -= 1\n",
    "                elif sum < target:\n",
    "                    l += 1\n",
    "                elif l > j + 1 and num[l] == num[l-1]:\n",
    "                    l += 1\n",
    "                elif r < len(num) - 1 and num[r] == num[r+1]:\n",
    "                    r -= 1\n",
    "                else :\n",
    "                    res.append([num[i],num[j],num[l],num[r]])\n",
    "                    l += 1\n",
    "                    r -= 1\n",
    "    return res"
   ]
  },
  {
   "cell_type": "code",
   "execution_count": 9,
   "metadata": {},
   "outputs": [
    {
     "data": {
      "text/plain": [
       "[[-4, 0, 2, 2], [-1, -1, 0, 2]]"
      ]
     },
     "execution_count": 9,
     "metadata": {},
     "output_type": "execute_result"
    }
   ],
   "source": [
    "nums = [-1, 0, 1, 2, -1, -4, 2, -1, 2]\n",
    "fourSum(nums, 0)"
   ]
  },
  {
   "cell_type": "code",
   "execution_count": 10,
   "metadata": {},
   "outputs": [],
   "source": [
    "def fourSum2(num, target):\n",
    "    numLen, res, dict = len(num), set(), {}\n",
    "    if numLen < 4: \n",
    "        return []\n",
    "    num.sort()\n",
    "    for p in range(numLen):\n",
    "        for q in range(p+1 , numLen): \n",
    "            if num[p] + num[q] not in dict:\n",
    "                dict[num[p] + num[q]] = [(p,q)]\n",
    "            else :\n",
    "                dict[num[p] + num[q]].append((p,q))\n",
    "    for i in range(numLen):\n",
    "        for j in range(i+1, numLen-2 ):\n",
    "            T = target-num[i]- num[j]\n",
    "            if T in dict:\n",
    "                for k in dict[T]:\n",
    "                    if k[0] > j: res.add((num[i],num[j],num [k[0]],num[k[1 ]]))\n",
    "    return [list(i) for i in res]"
   ]
  },
  {
   "cell_type": "code",
   "execution_count": 11,
   "metadata": {},
   "outputs": [
    {
     "data": {
      "text/plain": [
       "[[-1, -1, 0, 2], [-4, 0, 2, 2]]"
      ]
     },
     "execution_count": 11,
     "metadata": {},
     "output_type": "execute_result"
    }
   ],
   "source": [
    "nums = [-1, 0, 1, 2, -1, -4, 2, -1, 2]\n",
    "fourSum2(nums, 0)"
   ]
  },
  {
   "cell_type": "markdown",
   "metadata": {},
   "source": [
    "# 合并两个有序数组"
   ]
  },
  {
   "cell_type": "code",
   "execution_count": 12,
   "metadata": {},
   "outputs": [],
   "source": [
    "def merge(nums1, m, nums2, n):\n",
    "    while m > 0 and n > 0:\n",
    "        if nums1[m-1] >= nums2[n-1]:\n",
    "            nums1[m+n-1] = nums1[m-1]\n",
    "            m = m - 1\n",
    "        else:\n",
    "            nums1[m+n-1] = nums2[n-1]\n",
    "            n = n - 1\n",
    "    if n > 0:\n",
    "        nums1[:n] = nums2[:n]"
   ]
  },
  {
   "cell_type": "code",
   "execution_count": 13,
   "metadata": {},
   "outputs": [],
   "source": [
    "nums1 = [1,2,3,0,0,0]\n",
    "m = 3\n",
    "nums2 = [2,5,6]\n",
    "n = 3\n",
    "merge(nums1, m, nums2, n)"
   ]
  },
  {
   "cell_type": "code",
   "execution_count": 14,
   "metadata": {},
   "outputs": [
    {
     "data": {
      "text/plain": [
       "[1, 2, 2, 3, 5, 6]"
      ]
     },
     "execution_count": 14,
     "metadata": {},
     "output_type": "execute_result"
    }
   ],
   "source": [
    "nums1"
   ]
  },
  {
   "cell_type": "markdown",
   "metadata": {},
   "source": [
    "# 两个排序数组之间的最小差"
   ]
  },
  {
   "cell_type": "raw",
   "metadata": {},
   "source": [
    "给定两个按升序排列的数组，求任意一对元素|a-b|之间的绝对最小差值，使得a来自一个数组，b来自另一个数组。"
   ]
  },
  {
   "cell_type": "code",
   "execution_count": 1,
   "metadata": {},
   "outputs": [],
   "source": [
    "import sys\n",
    "def printClosest(ar1, ar2):\n",
    "    m = len(ar1)\n",
    "    n = len(ar2)\n",
    "\n",
    "    diff = sys.maxsize\n",
    "    \n",
    "    p1 = 0\n",
    "    p2 = 0\n",
    "    \n",
    "    while (p1 < m and p2 < n):\n",
    "        if abs(ar1[p1] - ar2[p2]) < diff:\n",
    "            diff = abs(ar1[p1] - ar2[p2])\n",
    "        \n",
    "        if (ar1[p1] > ar2[p2]):\n",
    "            p2 += 1\n",
    "        else:\n",
    "            p1 += 1\n",
    "\n",
    "    return diff"
   ]
  },
  {
   "cell_type": "code",
   "execution_count": 2,
   "metadata": {},
   "outputs": [
    {
     "data": {
      "text/plain": [
       "2147483646"
      ]
     },
     "execution_count": 2,
     "metadata": {},
     "output_type": "execute_result"
    }
   ],
   "source": [
    "ar1 = [-2147483648,1]\n",
    "ar2 = [2147483647,0]\n",
    "printClosest(ar1,ar2)"
   ]
  },
  {
   "cell_type": "markdown",
   "metadata": {},
   "source": [
    "# 连续子串的最大值"
   ]
  },
  {
   "cell_type": "raw",
   "metadata": {},
   "source": [
    "给定一个有N个正整数的数组，找到一个和尽可能大但不大于M的连续子数组。"
   ]
  },
  {
   "cell_type": "code",
   "execution_count": 16,
   "metadata": {},
   "outputs": [
    {
     "data": {
      "text/plain": [
       "[1, 3, 6, 10, 15]"
      ]
     },
     "execution_count": 16,
     "metadata": {},
     "output_type": "execute_result"
    }
   ],
   "source": [
    "from itertools import accumulate  # since Python 3.2:\n",
    "list(accumulate([1,2,3,4,5]))"
   ]
  },
  {
   "cell_type": "code",
   "execution_count": 17,
   "metadata": {},
   "outputs": [
    {
     "data": {
      "text/plain": [
       "[0, 4, 10, 22, 23, 25, 28, 32]"
      ]
     },
     "execution_count": 17,
     "metadata": {},
     "output_type": "execute_result"
    }
   ],
   "source": [
    "from itertools import accumulate  # since Python 3.2:\n",
    "\n",
    "a = [4, 6, 12, 1, 2, 3, 4]\n",
    "b = [0]\n",
    "b = b + a\n",
    "type(b)\n",
    "b = list(accumulate(b))\n",
    "b"
   ]
  },
  {
   "cell_type": "code",
   "execution_count": 18,
   "metadata": {},
   "outputs": [],
   "source": [
    "def max_subarray(numbers, ceiling):\n",
    "    \n",
    "    cum_sum = [0]\n",
    "    cum_sum = cum_sum + numbers\n",
    "    cum_sum = list(accumulate(cum_sum))\n",
    "\n",
    "    l = 0\n",
    "    r = 1 # two pointers start at tip of the array.\n",
    "    maximum = 0\n",
    "    while l < len(cum_sum):\n",
    "        while r < len(cum_sum) and cum_sum[r] - cum_sum[l] <= ceiling:\n",
    "            r += 1\n",
    "        if cum_sum[r - 1] - cum_sum[l] > maximum: # since cum_sum[0] = 0, thus r always > 0.\n",
    "            maximum = cum_sum[r - 1] - cum_sum[l]\n",
    "            pos = (l, r - 2)\n",
    "        l += 1\n",
    "    return pos"
   ]
  },
  {
   "cell_type": "code",
   "execution_count": 19,
   "metadata": {},
   "outputs": [
    {
     "data": {
      "text/plain": [
       "(2, 4)"
      ]
     },
     "execution_count": 19,
     "metadata": {},
     "output_type": "execute_result"
    }
   ],
   "source": [
    "a = [4, 7, 12, 1, 2, 3, 6]\n",
    "m = 15\n",
    "result = max_subarray(a, m)\n",
    "result"
   ]
  },
  {
   "cell_type": "markdown",
   "metadata": {},
   "source": [
    "# 主元素"
   ]
  },
  {
   "cell_type": "raw",
   "metadata": {},
   "source": [
    "给定一个大小为n的数组，找到多数元素。大多数元素的元素⌊n / 2⌋多次出现。"
   ]
  },
  {
   "cell_type": "code",
   "execution_count": 20,
   "metadata": {},
   "outputs": [],
   "source": [
    "# brute force: O(n^2)\n",
    "# Hashtable: O(n)  +  O(n)\n",
    "# sort: O(nlgn)"
   ]
  },
  {
   "cell_type": "code",
   "execution_count": 21,
   "metadata": {},
   "outputs": [],
   "source": [
    "# Boyer-Moore Voting Algorithm\n",
    "\n",
    "def majority(alist):\n",
    "    result = count = 0\n",
    "    for i in alist:\n",
    "        if count == 0:\n",
    "            result = i\n",
    "            count = 1\n",
    "        elif result == i:\n",
    "            count += 1\n",
    "        else:\n",
    "            count -= 1\n",
    "    return result"
   ]
  },
  {
   "cell_type": "markdown",
   "metadata": {},
   "source": [
    "# 主元素 II"
   ]
  },
  {
   "cell_type": "raw",
   "metadata": {},
   "source": [
    "给定一个整数数组的大小为n,找到所有的元素出现 n / 3倍以上。"
   ]
  },
  {
   "cell_type": "code",
   "execution_count": 22,
   "metadata": {},
   "outputs": [],
   "source": [
    "def majority2(alist):\n",
    "    n1 = n2 = None\n",
    "    c1 = c2 = 0\n",
    "    for num in alist:\n",
    "        if n1 == num:\n",
    "            c1 += 1\n",
    "        elif n2 == num:\n",
    "            c2 += 1\n",
    "        elif c1 == 0:\n",
    "            n1, c1 = num, 1\n",
    "        elif c2 == 0:\n",
    "            n2, c2 = num, 1\n",
    "        else:\n",
    "            c1, c2 = c1 - 1, c2 - 1\n",
    "    size = len(alist)\n",
    "    return [n for n in (n1, n2) \n",
    "               if n is not None and alist.count(n) > size / 3]  "
   ]
  },
  {
   "cell_type": "markdown",
   "metadata": {},
   "source": [
    "# 颜色排序"
   ]
  },
  {
   "cell_type": "raw",
   "metadata": {},
   "source": [
    "给定一个包含n个红色、白色或蓝色对象的数组，对它们进行排序，使相同颜色的对象相邻，颜色按红、白、蓝的顺序排列。\n",
    "这里，我们将使用整数0、1和2分别表示红色、白色和蓝色。"
   ]
  },
  {
   "cell_type": "code",
   "execution_count": 23,
   "metadata": {},
   "outputs": [],
   "source": [
    "def sortColors(nums):\n",
    "\n",
    "    count = [0] * 3\n",
    "    for num in nums:\n",
    "        count[num] += 1\n",
    "    i = 0\n",
    "    for j in range(3):\n",
    "        for _ in range(count[j]):\n",
    "            nums[i] = j\n",
    "            i += 1"
   ]
  },
  {
   "cell_type": "code",
   "execution_count": 24,
   "metadata": {},
   "outputs": [
    {
     "data": {
      "text/plain": [
       "[0, 0, 1, 1, 2, 2]"
      ]
     },
     "execution_count": 24,
     "metadata": {},
     "output_type": "execute_result"
    }
   ],
   "source": [
    "nums = [2,0,2,1,1,0]\n",
    "sortColors(nums)\n",
    "nums"
   ]
  },
  {
   "cell_type": "code",
   "execution_count": 25,
   "metadata": {},
   "outputs": [],
   "source": [
    "def sortColors2(nums):\n",
    "    i, l, r = 0, 0, len(nums) - 1\n",
    "    while i <= r:\n",
    "        if nums[i] == 0:\n",
    "            nums[i], nums[l] = nums[l], nums[i]\n",
    "            i, l = i + 1, l + 1\n",
    "        elif nums[i] == 2:\n",
    "            nums[i], nums[r] = nums[r], nums[i]\n",
    "            r -= 1\n",
    "        else:\n",
    "            i += 1"
   ]
  },
  {
   "cell_type": "code",
   "execution_count": 26,
   "metadata": {},
   "outputs": [
    {
     "data": {
      "text/plain": [
       "[0, 0, 1, 1, 2, 2]"
      ]
     },
     "execution_count": 26,
     "metadata": {},
     "output_type": "execute_result"
    }
   ],
   "source": [
    "nums = [2,0,2,1,1,0]\n",
    "sortColors(nums)\n",
    "nums"
   ]
  },
  {
   "cell_type": "markdown",
   "metadata": {},
   "source": [
    "# 找到K个最近的元素"
   ]
  },
  {
   "cell_type": "raw",
   "metadata": {},
   "source": [
    "给定一个排序后的数组，两个整数k和x，找出数组中最接近x的k个元素。结果也应该按升序排序。如果存在平局，则较小的元素总是首选。"
   ]
  },
  {
   "cell_type": "code",
   "execution_count": 27,
   "metadata": {},
   "outputs": [],
   "source": [
    "def findClosestElements(alist, k, x):\n",
    "    left = right = bisect.bisect_left(alist, x)\n",
    "    while right - left < k:\n",
    "        if left == 0: return alist[:k]\n",
    "        if right == len(alist): return alist[-k:]\n",
    "        if x - alist[left - 1] <= alist[right] - x: left -= 1\n",
    "        else: right += 1\n",
    "    return alist[left:right]"
   ]
  },
  {
   "cell_type": "code",
   "execution_count": 28,
   "metadata": {},
   "outputs": [],
   "source": [
    "def findClosestElements(self, arr, k, x):\n",
    "    diffTuples = sorted((abs(x - num), num) for num in arr)\n",
    "    return sorted(map(lambda x: x[1], diffTuples[:k])) #prefer the smaller number for same diff."
   ]
  },
  {
   "cell_type": "markdown",
   "metadata": {},
   "source": [
    "# 矩阵中最长的山脉"
   ]
  },
  {
   "cell_type": "markdown",
   "metadata": {},
   "source": [
    "Let's call any (contiguous) subarray B (of A) a mountain if the following properties hold:\n",
    "\n",
    "B.length >= 3 There exists some 0 < i < B.length - 1 such that B[0] < B[1] < ... B[i-1] < B[i] > B[i+1] > ... > B[B.length - 1] (Note that B could be any subarray of A, including the entire array A.)\n",
    "\n",
    "Given an array A of integers, return the length of the longest mountain.\n",
    "\n",
    "Return 0 if there is no mountain."
   ]
  },
  {
   "cell_type": "code",
   "execution_count": 29,
   "metadata": {},
   "outputs": [],
   "source": [
    "def longestMountain(A):\n",
    "    N = len(A)\n",
    "    ans = base = 0\n",
    "\n",
    "    while base < N:\n",
    "        end = base\n",
    "        if end + 1 < N and A[end] < A[end + 1]: #if base is a left-boundary\n",
    "            #set end to the peak of this potential mountain\n",
    "            while end+1 < N and A[end] < A[end+1]:\n",
    "                end += 1\n",
    "\n",
    "            if end + 1 < N and A[end] > A[end + 1]: #if end is really a peak..\n",
    "                #set 'end' to right-boundary of mountain\n",
    "                while end+1 < N and A[end] > A[end+1]:\n",
    "                    end += 1\n",
    "                #record candidate answer\n",
    "                ans = max(ans, end - base + 1)\n",
    "\n",
    "        base = max(end, base + 1)\n",
    "\n",
    "    return ans"
   ]
  },
  {
   "cell_type": "code",
   "execution_count": 30,
   "metadata": {},
   "outputs": [
    {
     "data": {
      "text/plain": [
       "5"
      ]
     },
     "execution_count": 30,
     "metadata": {},
     "output_type": "execute_result"
    }
   ],
   "source": [
    "A = [2,1,4,7,3,2,5]\n",
    "longestMountain(A)"
   ]
  },
  {
   "cell_type": "markdown",
   "metadata": {},
   "source": [
    "# 容纳最多的水"
   ]
  },
  {
   "cell_type": "markdown",
   "metadata": {},
   "source": [
    "给定n个非负整数a1 a2…，其中每个点表示坐标(i, ai)处的一个点。画出n条垂直线，使得直线i的两个端点分别在(i, ai)和(i, 0)处。找出两条直线，这两条直线与x轴构成一个容器，使容器中含有最多的水。"
   ]
  },
  {
   "cell_type": "code",
   "execution_count": 31,
   "metadata": {},
   "outputs": [],
   "source": [
    "def maxArea(height):\n",
    "    res = 0\n",
    "    for i in range(len(height)):\n",
    "        for j in range(i+1, len(height)):\n",
    "            res = max(res, min(height[i], height[j]) * (j - i))\n",
    "    return res "
   ]
  },
  {
   "cell_type": "code",
   "execution_count": 32,
   "metadata": {},
   "outputs": [
    {
     "data": {
      "text/plain": [
       "6"
      ]
     },
     "execution_count": 32,
     "metadata": {},
     "output_type": "execute_result"
    }
   ],
   "source": [
    "height = [1, 5, 4, 3]\n",
    "maxArea(height)"
   ]
  },
  {
   "cell_type": "code",
   "execution_count": 33,
   "metadata": {},
   "outputs": [
    {
     "data": {
      "text/plain": [
       "12"
      ]
     },
     "execution_count": 33,
     "metadata": {},
     "output_type": "execute_result"
    }
   ],
   "source": [
    "height = [3, 1, 2, 4, 5]\n",
    "maxArea(height)"
   ]
  },
  {
   "cell_type": "code",
   "execution_count": 34,
   "metadata": {},
   "outputs": [],
   "source": [
    "def maxArea(height):\n",
    "    left = 0; right = len(height)-1\n",
    "    res = 0\n",
    "    while left < right:\n",
    "        water = min(height[left], height[right]) * (right-left)\n",
    "        res = max(res, water)\n",
    "        if height[left] < height[right]: \n",
    "            left += 1\n",
    "        else:\n",
    "            right -= 1\n",
    "    return res "
   ]
  },
  {
   "cell_type": "code",
   "execution_count": 35,
   "metadata": {},
   "outputs": [
    {
     "data": {
      "text/plain": [
       "6"
      ]
     },
     "execution_count": 35,
     "metadata": {},
     "output_type": "execute_result"
    }
   ],
   "source": [
    "height = [1, 5, 4, 3]\n",
    "maxArea(height)"
   ]
  },
  {
   "cell_type": "code",
   "execution_count": 36,
   "metadata": {},
   "outputs": [
    {
     "data": {
      "text/plain": [
       "12"
      ]
     },
     "execution_count": 36,
     "metadata": {},
     "output_type": "execute_result"
    }
   ],
   "source": [
    "height = [3, 1, 2, 4, 5]\n",
    "maxArea(height)"
   ]
  },
  {
   "cell_type": "markdown",
   "metadata": {},
   "source": [
    "# 捕获雨水"
   ]
  },
  {
   "cell_type": "markdown",
   "metadata": {},
   "source": [
    "给定n个非负整数，表示一个高程图，其中每个条的宽度为1，计算它在雨后能够捕获多少水。\n",
    "给定[0,1,0,2,1,0,1,3,2,1,2,1]，返回6"
   ]
  },
  {
   "cell_type": "code",
   "execution_count": 37,
   "metadata": {},
   "outputs": [],
   "source": [
    "# Brute Force\n",
    "# Time complexity: O(n^2)\n",
    "# Space complexity: O(1)O(1)\n",
    "def trap1(height):\n",
    "    if not height or len(height) < 3:\n",
    "        return 0    \n",
    "    ans, size = 0, len(height)\n",
    "    for i in range (1, size-1):\n",
    "        max_left = max_right = 0\n",
    "        for j in range(i-1, -1, -1):\n",
    "            max_left = max(max_left, height[j])\n",
    "        for j in range(i+1, size):\n",
    "            max_right = max(max_right, height[j])\n",
    "        ans +=  max(0, min(max_left, max_right) - height[i])\n",
    "    \n",
    "    return ans"
   ]
  },
  {
   "cell_type": "code",
   "execution_count": 38,
   "metadata": {},
   "outputs": [
    {
     "data": {
      "text/plain": [
       "6"
      ]
     },
     "execution_count": 38,
     "metadata": {},
     "output_type": "execute_result"
    }
   ],
   "source": [
    "height = [0,1,0,2,1,0,1,3,2,1,2,1]\n",
    "trap1(height)"
   ]
  },
  {
   "cell_type": "code",
   "execution_count": 39,
   "metadata": {},
   "outputs": [],
   "source": [
    "# Dynamic Programming\n",
    "# Time complexity: O(n)\n",
    "# Space complexity: O(n)\n",
    "def trap2(height):\n",
    "    if not height or len(height) < 3:\n",
    "        return 0\n",
    "    ans, size = 0, len(height)\n",
    "    left_max, right_max, anss = [0] * size, [0] * size, [0] * size\n",
    "    left_max[0] = height[0]\n",
    "    for i in range (1, size):\n",
    "        left_max[i] = max(height[i], left_max[i-1])\n",
    "    right_max[-1] = height[-1]\n",
    "    for i in range (size-2, -1, -1):\n",
    "        right_max[i] = max(height[i], right_max[i+1])\n",
    "    for i in range (1, size-1):\n",
    "        anss[i] =  min(left_max[i], right_max[i]) - height[i]\n",
    "        ans += min(left_max[i], right_max[i]) - height[i]\n",
    "\n",
    "    return ans"
   ]
  },
  {
   "cell_type": "code",
   "execution_count": 40,
   "metadata": {},
   "outputs": [
    {
     "data": {
      "text/plain": [
       "6"
      ]
     },
     "execution_count": 40,
     "metadata": {},
     "output_type": "execute_result"
    }
   ],
   "source": [
    "height = [0,1,0,2,1,0,1,3,2,1,2,1]\n",
    "trap2(height)"
   ]
  },
  {
   "cell_type": "code",
   "execution_count": 41,
   "metadata": {},
   "outputs": [],
   "source": [
    "# Two Pointers\n",
    "# Time complexity: O(n)\n",
    "# Space complexity: O(1)\n",
    "def trap3(height):\n",
    "    if not height or len(height) < 3:\n",
    "        return 0\n",
    "    left, right = 0, len(height) - 1\n",
    "    left_max, right_max = 0, 0\n",
    "    ans = 0\n",
    "    while (left < right):\n",
    "        if (height[left] < height[right]):\n",
    "            if height[left] >= left_max:\n",
    "                left_max = height[left]  \n",
    "            else:\n",
    "                ans += (left_max - height[left])\n",
    "            left += 1\n",
    "        \n",
    "        else:\n",
    "            if height[right] >= right_max:\n",
    "                right_max = height[right] \n",
    "            else:\n",
    "                ans += (right_max - height[right])\n",
    "            right -= 1\n",
    "    return ans;"
   ]
  },
  {
   "cell_type": "code",
   "execution_count": 42,
   "metadata": {},
   "outputs": [],
   "source": [
    "# Stack\n",
    "# Time complexity: O(n)\n",
    "# Space complexity: O(n)"
   ]
  },
  {
   "cell_type": "code",
   "execution_count": 43,
   "metadata": {},
   "outputs": [],
   "source": [
    "def trap4(height): \n",
    "    ans, current = 0, 0\n",
    "    st = []\n",
    "    while (current < len(height)):\n",
    "        while (len(st) != 0 and height[current] > height[st[-1]]):\n",
    "            top = st[-1]\n",
    "            print(\"current: \", current, \"   top: \", top)\n",
    "            print(\"before: \", st)\n",
    "            st.pop()\n",
    "            if len(st) == 0:\n",
    "                break\n",
    "            distance = current - st[-1] - 1\n",
    "            bounded_height = min(height[current], height[st[-1]]) - height[top]\n",
    "            ans += distance * bounded_height\n",
    "            print(\"after: \", st)\n",
    "        st.append(current)\n",
    "        current += 1\n",
    "    return ans"
   ]
  },
  {
   "cell_type": "code",
   "execution_count": 44,
   "metadata": {},
   "outputs": [
    {
     "name": "stdout",
     "output_type": "stream",
     "text": [
      "current:  1    top:  0\n",
      "before:  [0]\n",
      "current:  3    top:  2\n",
      "before:  [1, 2]\n",
      "after:  [1]\n",
      "current:  3    top:  1\n",
      "before:  [1]\n",
      "current:  6    top:  5\n",
      "before:  [3, 4, 5]\n",
      "after:  [3, 4]\n",
      "current:  7    top:  6\n",
      "before:  [3, 4, 6]\n",
      "after:  [3, 4]\n",
      "current:  7    top:  4\n",
      "before:  [3, 4]\n",
      "after:  [3]\n",
      "current:  7    top:  3\n",
      "before:  [3]\n",
      "current:  10    top:  9\n",
      "before:  [7, 8, 9]\n",
      "after:  [7, 8]\n"
     ]
    },
    {
     "data": {
      "text/plain": [
       "6"
      ]
     },
     "execution_count": 44,
     "metadata": {},
     "output_type": "execute_result"
    }
   ],
   "source": [
    "height = [0,1,0,2,1,0,1,3,2,1,2,1]\n",
    "trap4(height)"
   ]
  },
  {
   "cell_type": "code",
   "execution_count": null,
   "metadata": {},
   "outputs": [],
   "source": []
  }
 ],
 "metadata": {
  "kernelspec": {
   "display_name": "Python 3",
   "language": "python",
   "name": "python3"
  },
  "language_info": {
   "codemirror_mode": {
    "name": "ipython",
    "version": 3
   },
   "file_extension": ".py",
   "mimetype": "text/x-python",
   "name": "python",
   "nbconvert_exporter": "python",
   "pygments_lexer": "ipython3",
   "version": "3.7.6"
  },
  "toc": {
   "base_numbering": 1,
   "nav_menu": {},
   "number_sections": true,
   "sideBar": true,
   "skip_h1_title": false,
   "title_cell": "Table of Contents",
   "title_sidebar": "Contents",
   "toc_cell": false,
   "toc_position": {
    "height": "calc(100% - 180px)",
    "left": "10px",
    "top": "150px",
    "width": "384px"
   },
   "toc_section_display": true,
   "toc_window_display": true
  },
  "varInspector": {
   "cols": {
    "lenName": 16,
    "lenType": 16,
    "lenVar": 40
   },
   "kernels_config": {
    "python": {
     "delete_cmd_postfix": "",
     "delete_cmd_prefix": "del ",
     "library": "var_list.py",
     "varRefreshCmd": "print(var_dic_list())"
    },
    "r": {
     "delete_cmd_postfix": ") ",
     "delete_cmd_prefix": "rm(",
     "library": "var_list.r",
     "varRefreshCmd": "cat(var_dic_list()) "
    }
   },
   "types_to_exclude": [
    "module",
    "function",
    "builtin_function_or_method",
    "instance",
    "_Feature"
   ],
   "window_display": false
  }
 },
 "nbformat": 4,
 "nbformat_minor": 2
}
