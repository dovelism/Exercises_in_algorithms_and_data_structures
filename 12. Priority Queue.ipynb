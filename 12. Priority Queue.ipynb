{
 "cells": [
  {
   "cell_type": "raw",
   "metadata": {},
   "source": [
    "\n",
    "1.0.2  Heap Representation\n",
    "Array representation of a heap-ordered complete binary tree.\n",
    "Heap-ordered binary tree.\n",
    "Keys in nodes.\n",
    "Parent's key no larger than children's keys.\n",
    "\n",
    "1.0.3  Heap Properties\n",
    "Proposition: Smallest key is a[1], which is root of binary tree.\n",
    "Proposition. Can use array indices to move through tree.\n",
    "Parent of node at k is at k/2.\n",
    "Children of node at k are at 2k and 2k+1."
   ]
  },
  {
   "cell_type": "markdown",
   "metadata": {},
   "source": [
    "# heap的ADT"
   ]
  },
  {
   "cell_type": "code",
   "execution_count": 1,
   "metadata": {},
   "outputs": [],
   "source": [
    "class PriorityQueueBase:\n",
    "    \"\"\"Abstract base class for a priority queue.\"\"\"\n",
    "\n",
    "    class Item: \n",
    "        \"\"\"Lightweight composite to store priority queue items.\"\"\"\n",
    "        __slots__ = '_key' , '_value'\n",
    "\n",
    "        def __init__ (self, k, v):\n",
    "            self._key = k\n",
    "            self._value = v\n",
    "\n",
    "        def __lt__ (self, other):                                        \n",
    "            return self._key < other._key\n",
    "\n",
    "        def is_empty(self):\n",
    "            return len(self) == 0   \n",
    "\n",
    "        def __str__(self):\n",
    "            return str(self._key)\n",
    "        \n",
    "\n",
    "class HeapPriorityQueue(PriorityQueueBase):\n",
    "\n",
    "    def __init__ (self):\n",
    "        self._data = [ ]         \n",
    "\n",
    "    def __len__ (self):\n",
    "        return len(self._data)\n",
    "    \n",
    "    def is_empty(self):\n",
    "        return len(self) == 0  \n",
    "\n",
    "    def add(self, key, value): \n",
    "        self._data.append(self.Item(key, value)) \n",
    "        self._upheap(len(self._data) - 1)\n",
    "        \n",
    "    def min(self): \n",
    "        if self.is_empty():\n",
    "            raise ValueError( \"Priority queue is empty.\" )\n",
    "        item = self._data[0]\n",
    "        return (item._key, item._value)\n",
    "    \n",
    "    def remove_min(self):\n",
    "        if self.is_empty():\n",
    "            raise ValueError( \"Priority queue is empty.\" )\n",
    "        self._swap(0, len(self._data) - 1)\n",
    "        item = self._data.pop( )\n",
    "        self._downheap(0)\n",
    "        return (item._key, item._value)\n",
    "\n",
    "    def _parent(self, j): \n",
    "        return (j - 1) // 2\n",
    "    \n",
    "    def _left(self, j):\n",
    "        return 2 * j + 1\n",
    "    \n",
    "    def _right(self, j):\n",
    "        return 2 * j + 2\n",
    "\n",
    "    def _has_left(self, j):\n",
    "        return self._left(j) < len(self._data)\n",
    "    \n",
    "    def _has_right(self, j):\n",
    "        return self._right(j) < len(self._data)      \n",
    "    \n",
    "    def _swap(self, i, j):\n",
    "        self._data[i], self._data[j] = self._data[j], self._data[i]\n",
    "        \n",
    "    def _upheap(self, j):\n",
    "        parent = self._parent(j) \n",
    "        if j > 0 and self._data[j] < self._data[parent]: \n",
    "            self._swap(j, parent) \n",
    "            self._upheap(parent) \n",
    "    \n",
    "    def _downheap(self, j):\n",
    "        if self._has_left(j):\n",
    "            left = self._left(j)\n",
    "            small_child = left\n",
    "            if self._has_right(j):\n",
    "                right = self._right(j) \n",
    "                if self._data[right] < self._data[left]:\n",
    "                    small_child = right \n",
    "            if self._data[small_child] < self._data[j]:\n",
    "                self._swap(j, small_child) \n",
    "                self._downheap(small_child)        "
   ]
  },
  {
   "cell_type": "code",
   "execution_count": 2,
   "metadata": {},
   "outputs": [
    {
     "name": "stdout",
     "output_type": "stream",
     "text": [
      "1\n",
      "2\n",
      "3\n",
      "5\n",
      "4\n",
      "7\n",
      "6\n",
      "26\n",
      "min is: \n",
      "(1, 'A')\n",
      "\n",
      "remove min: \n",
      "(1, 'A')\n",
      "Now min is: \n",
      "(2, 'B')\n",
      "\n",
      "remove min: \n",
      "(2, 'B')\n",
      "Now min is: \n",
      "(3, 'C')\n",
      "\n",
      "Now min is: \n",
      "(1, 'A')\n",
      "\n"
     ]
    }
   ],
   "source": [
    "heap = HeapPriorityQueue()\n",
    "heap.add(4, \"D\")\n",
    "heap.add(3, \"C\")\n",
    "heap.add(1, \"A\")\n",
    "heap.add(5, \"E\")\n",
    "heap.add(2, \"B\")\n",
    "heap.add(7, \"G\")\n",
    "heap.add(6, \"F\")\n",
    "heap.add(26, \"Z\")\n",
    "\n",
    "for item in heap._data:\n",
    "    print(item)\n",
    "\n",
    "print(\"min is: \")\n",
    "print(heap.min())\n",
    "print()\n",
    "\n",
    "print(\"remove min: \")\n",
    "print(heap.remove_min())\n",
    "print(\"Now min is: \")\n",
    "print(heap.min())\n",
    "print()\n",
    "\n",
    "print(\"remove min: \")\n",
    "print(heap.remove_min())\n",
    "print(\"Now min is: \")\n",
    "print(heap.min())\n",
    "print()\n",
    "\n",
    "heap.add(1, \"A\")\n",
    "print(\"Now min is: \")\n",
    "print(heap.min())\n",
    "print()"
   ]
  },
  {
   "cell_type": "markdown",
   "metadata": {},
   "source": [
    "# Python里的heap"
   ]
  },
  {
   "cell_type": "raw",
   "metadata": {},
   "source": [
    "heaqp module provides an implementation of the heap queue algorithm, also known as the priority queue algorithm.\n",
    "\n",
    "To create a heap, use a list initialized to [], or you can transform a populated list into a heap via function heapify().\n",
    "\n",
    "The following functions are provided:\n",
    "\n",
    "heapq.heappush(heap, item)\n",
    "\n",
    "Push the value item onto the heap, maintaining the heap invariant.\n",
    "\n",
    "heapq.heappop(heap)\n",
    "\n",
    "Pop and return the smallest item from the heap, maintaining the heap invariant. If the heap is empty, IndexError is raised.\n",
    "\n",
    "heapq.heappushpop(heap, item)\n",
    "\n",
    "Push item on the heap, then pop and return the smallest item from the heap. The combined action runs more efficiently than heappush() followed by a separate call to heappop().\n",
    "\n",
    "heapq.heapify(x)\n",
    "\n",
    "Transform list x into a heap, in-place, in linear time.\n",
    "\n",
    "heapq.heapreplace(heap, item)\n",
    "\n",
    "Pop and return the smallest item from the heap, and also push the new item. The heap size doesn’t change. If the heap is empty, IndexError is raised. This is more efficient than heappop() followed by heappush(), and can be more appropriate when using a fixed-size heap. Note that the value returned may be larger than item! That constrains reasonable uses of this routine unless written as part of a conditional replacement:\n",
    "\n",
    "if item > heap[0]: item = heapreplace(heap, item)"
   ]
  },
  {
   "cell_type": "raw",
   "metadata": {},
   "source": [
    "创建堆有两种方式，heappush()和heapify()。"
   ]
  },
  {
   "cell_type": "code",
   "execution_count": 3,
   "metadata": {},
   "outputs": [
    {
     "data": {
      "text/plain": [
       "[0, 1, 2, 3, 4, 5, 6, 7, 8, 9]"
      ]
     },
     "execution_count": 3,
     "metadata": {},
     "output_type": "execute_result"
    }
   ],
   "source": [
    "from heapq import heappush, heappop\n",
    "heap = []\n",
    "data = [1, 3, 5, 7, 9, 2, 4, 6, 8, 0]\n",
    "for item in data:\n",
    "    heappush(heap, item)\n",
    "\n",
    "ordered = []\n",
    "while heap:\n",
    "    ordered.append(heappop(heap))\n",
    "\n",
    "ordered\n",
    "[0, 1, 2, 3, 4, 5, 6, 7, 8, 9]"
   ]
  },
  {
   "cell_type": "code",
   "execution_count": 4,
   "metadata": {},
   "outputs": [
    {
     "data": {
      "text/plain": [
       "[1, 2, 3, 5, 8, 5]"
      ]
     },
     "execution_count": 4,
     "metadata": {},
     "output_type": "execute_result"
    }
   ],
   "source": [
    "import heapq\n",
    "\n",
    "data = [1,5,3,2,8,5]\n",
    "heapq.heapify(data)\n",
    "data"
   ]
  },
  {
   "cell_type": "code",
   "execution_count": 7,
   "metadata": {},
   "outputs": [
    {
     "name": "stdout",
     "output_type": "stream",
     "text": [
      "1 :  J\n",
      "2 :  O\n",
      "3 :  H\n",
      "4 :  N\n"
     ]
    }
   ],
   "source": [
    "# The priority queue can store objects such as tuples:Using a heap to insert items at the correct place in a priority queue:\n",
    "\n",
    "heap = []\n",
    "data = [(1, 'J'), (4, 'N'), (3, 'H'), (2, 'O')]\n",
    "for item in data:\n",
    "    heappush(heap, item)\n",
    "\n",
    "while heap:\n",
    "    item = heappop(heap) \n",
    "    print(item[0], \": \", item[1])"
   ]
  },
  {
   "cell_type": "code",
   "execution_count": 8,
   "metadata": {},
   "outputs": [
    {
     "name": "stdout",
     "output_type": "stream",
     "text": [
      "New Level: Proficient\n",
      "New Level: Expert\n",
      "New Level: Novice\n",
      "The 3 largest numbers in list are : [10: Expert, 5: Proficient, 1: Novice]\n",
      "1: Novice\n",
      "5: Proficient\n",
      "10: Expert\n"
     ]
    }
   ],
   "source": [
    "# Class Objects\n",
    "\n",
    "# Override __lt__ in Python 3, __cmp__ only in Python 2\n",
    "\n",
    "class Skill(object):\n",
    "    def __init__(self, priority, description):\n",
    "        self.priority = priority\n",
    "        self.description = description\n",
    "        print('New Level:', description)\n",
    "        return\n",
    "    def __cmp__(self, other):\n",
    "        return cmp(self.priority, other.priority)\n",
    "    def __lt__(self, other):\n",
    "        return self.priority < other.priority\n",
    "    def __repr__(self):\n",
    "        return str(self.priority) + \": \" + self.description\n",
    "    \n",
    "\n",
    "s1 = Skill(5, 'Proficient')\n",
    "s2 = Skill(10, 'Expert')\n",
    "s3 = Skill(1, 'Novice')\n",
    "\n",
    "l = [s1, s2, s3]\n",
    "\n",
    "heapq.heapify(l)\n",
    "print(\"The 3 largest numbers in list are : \",end=\"\")\n",
    "print(heapq.nlargest(3, l))\n",
    "\n",
    "while l:\n",
    "    item = heappop(l) \n",
    "    print(item)"
   ]
  },
  {
   "cell_type": "code",
   "execution_count": 9,
   "metadata": {},
   "outputs": [
    {
     "name": "stdout",
     "output_type": "stream",
     "text": [
      "[7, 8]\n",
      "[9, 9]\n",
      "[5, 6]\n",
      "[6, 7]\n",
      "[5, 8]\n",
      "[6, 7]\n"
     ]
    },
    {
     "data": {
      "text/plain": [
       "array([[7, 9, 5, 6, 5, 6],\n",
       "       [8, 9, 6, 7, 8, 7]])"
      ]
     },
     "execution_count": 9,
     "metadata": {},
     "output_type": "execute_result"
    }
   ],
   "source": [
    "import numpy as np\n",
    "import heapq\n",
    "x = np.array([[1, 2, 3,4,5,6], [2,3,5,7,8,1], [7,9,6,6,3,2], [8,9,0,1,4,7]], np.int32)\n",
    "cols = x.shape[1]\n",
    "\n",
    "for col in range(cols):\n",
    "    y = x[:,col]\n",
    "    h = []\n",
    "    for e in y:\n",
    "        heapq.heappush(h, e)\n",
    "        if len(h) > 2:\n",
    "            heapq.heappop(h)\n",
    "    print(h)\n",
    "\n",
    "np.sort(x, axis=0)[-2:]"
   ]
  },
  {
   "cell_type": "code",
   "execution_count": 10,
   "metadata": {},
   "outputs": [
    {
     "data": {
      "text/plain": [
       "[[8, 7], [9, 9], [6, 5], [7, 6], [8, 5], [7, 6]]"
      ]
     },
     "execution_count": 10,
     "metadata": {},
     "output_type": "execute_result"
    }
   ],
   "source": [
    "list(map(lambda x: heapq.nlargest(n = 2, iterable = x), x.T))"
   ]
  },
  {
   "cell_type": "markdown",
   "metadata": {},
   "source": [
    "# 数组中第k大的元素"
   ]
  },
  {
   "cell_type": "raw",
   "metadata": {},
   "source": [
    "Find the kth largest element in an unsorted array.\n",
    "\n",
    "maintain一个size为k的最小堆"
   ]
  },
  {
   "cell_type": "code",
   "execution_count": 18,
   "metadata": {},
   "outputs": [],
   "source": [
    "# O(k+(n-k)lgk) time, min-heap\n",
    "def findKthLargest(nums, k):\n",
    "    heap = []\n",
    "    for num in nums:\n",
    "        heapq.heappush(heap, num)\n",
    "        if len(heap) > k:\n",
    "            heapq.heappop(heap)\n",
    "    \n",
    "    return heapq.heappop(heap)"
   ]
  },
  {
   "cell_type": "code",
   "execution_count": 19,
   "metadata": {},
   "outputs": [
    {
     "data": {
      "text/plain": [
       "10"
      ]
     },
     "execution_count": 19,
     "metadata": {},
     "output_type": "execute_result"
    }
   ],
   "source": [
    "nums = [5,11,3,6,12,9,8,10,14,1,4,2,7,15]\n",
    "k = 5\n",
    "findKthLargest(nums, k)"
   ]
  },
  {
   "cell_type": "code",
   "execution_count": 20,
   "metadata": {},
   "outputs": [],
   "source": [
    "# O(k+(n-k)lgk) time, min-heap        \n",
    "def findKthLargest(nums, k):\n",
    "    return heapq.nlargest(k, nums)[k-1]"
   ]
  },
  {
   "cell_type": "code",
   "execution_count": 21,
   "metadata": {},
   "outputs": [
    {
     "data": {
      "text/plain": [
       "10"
      ]
     },
     "execution_count": 21,
     "metadata": {},
     "output_type": "execute_result"
    }
   ],
   "source": [
    "nums = [5,11,3,6,12,9,8,10,14,1,4,2,7,15]\n",
    "k = 5\n",
    "findKthLargest(nums, k)"
   ]
  },
  {
   "cell_type": "markdown",
   "metadata": {},
   "source": [
    "# 出现频率最多的K个单词"
   ]
  },
  {
   "cell_type": "code",
   "execution_count": 22,
   "metadata": {},
   "outputs": [
    {
     "data": {
      "text/plain": [
       "['i', 'love', 'coding', 'fun']"
      ]
     },
     "execution_count": 22,
     "metadata": {},
     "output_type": "execute_result"
    }
   ],
   "source": [
    "import collections\n",
    "import heapq\n",
    "import functools\n",
    "\n",
    "@functools.total_ordering\n",
    "class Element:\n",
    "    def __init__(self, count, word):\n",
    "        self.count = count\n",
    "        self.word = word\n",
    "        \n",
    "    def __lt__(self, other):\n",
    "        if self.count == other.count:\n",
    "            return self.word > other.word\n",
    "        return self.count < other.count\n",
    "    \n",
    "    def __eq__(self, other):\n",
    "        return self.count == other.count and self.word == other.word\n",
    "\n",
    "def topKFrequent(words, k):\n",
    "    counts = collections.Counter(words)   \n",
    "\n",
    "    freqs = []\n",
    "    heapq.heapify(freqs)\n",
    "    for word, count in counts.items():\n",
    "        heapq.heappush(freqs, (Element(count, word), word))\n",
    "        if len(freqs) > k:\n",
    "            heapq.heappop(freqs)\n",
    "\n",
    "    res = []\n",
    "    for _ in range(k):\n",
    "        res.append(heapq.heappop(freqs)[1])\n",
    "    return res[::-1]\n",
    "\n",
    "\n",
    "words = [\"i\", \"love\", \"you\", \"i\", \"love\", \"coding\",\"i\",\"like\",\"sports\",\"i\",\"love\",\"travel\",\"coding\",\"is\",\"fun\"]\n",
    "k = 4\n",
    "topKFrequent(words, k)"
   ]
  },
  {
   "cell_type": "code",
   "execution_count": 51,
   "metadata": {},
   "outputs": [
    {
     "data": {
      "text/plain": [
       "['i', 'love', 'leetcode']"
      ]
     },
     "execution_count": 51,
     "metadata": {},
     "output_type": "execute_result"
    }
   ],
   "source": [
    "def topKFrequent(nums, k):\n",
    "    from collections import Counter as ct\n",
    "    return [k for (k,v) in ct(nums).most_common(k)]\n",
    "\n",
    "#words = [\"i\", \"love\", \"you\", \"i\", \"love\", \"coding\",\"i\",\"like\",\"sports\",\"i\",\"love\",\"travel\",\"coding\",\"is\",\"fun\"]\n",
    "words = [\"i\", \"love\", \"leetcode\", \"i\", \"love\", \"coding\"]\n",
    "k = 3\n",
    "topKFrequent(words, k)"
   ]
  },
  {
   "cell_type": "markdown",
   "metadata": {},
   "source": [
    "# 找出和最小的K个pair"
   ]
  },
  {
   "cell_type": "code",
   "execution_count": 25,
   "metadata": {},
   "outputs": [],
   "source": [
    "# Solution 1: Brute Force\n",
    "# Just produce all pairs, sort them by sum, and return the first k.\n",
    "\n",
    "\n",
    "import itertools\n",
    "def kSmallestPairs(nums1, nums2, k):\n",
    "    return sorted(itertools.product(nums1, nums2), key=sum)[:k]"
   ]
  },
  {
   "cell_type": "code",
   "execution_count": 26,
   "metadata": {},
   "outputs": [
    {
     "data": {
      "text/plain": [
       "[(1, 2), (1, 4), (1, 6), (7, 2)]"
      ]
     },
     "execution_count": 26,
     "metadata": {},
     "output_type": "execute_result"
    }
   ],
   "source": [
    "nums1 = [1,7,11]\n",
    "nums2 = [2,4,6]\n",
    "k = 4\n",
    "kSmallestPairs(nums1, nums2, k)"
   ]
  },
  {
   "cell_type": "raw",
   "metadata": {},
   "source": [
    "Solution 2: Less Brute Force\n",
    "\n",
    "Still going through all pairs, but only with a generator and heapq.nsmallest, \n",
    "which uses a heap of size k. So this only takes O(k) extra memory and O(mn log k) time."
   ]
  },
  {
   "cell_type": "code",
   "execution_count": 29,
   "metadata": {},
   "outputs": [
    {
     "data": {
      "text/plain": [
       "[[1, 2], [1, 4], [1, 6], [7, 2]]"
      ]
     },
     "execution_count": 29,
     "metadata": {},
     "output_type": "execute_result"
    }
   ],
   "source": [
    "# takes O(k) extra memory and O(mn log k) time\n",
    "import heapq\n",
    "def kSmallestPairs(nums1, nums2, k):\n",
    "    return heapq.nsmallest(k, ([u, v] for u in nums1 for v in nums2), key=sum)\n",
    "\n",
    "nums1 = [1,7,11]\n",
    "nums2 = [2,4,6]\n",
    "k = 4\n",
    "kSmallestPairs(nums1, nums2, k)"
   ]
  },
  {
   "cell_type": "code",
   "execution_count": 30,
   "metadata": {},
   "outputs": [
    {
     "data": {
      "text/plain": [
       "[[1, 2], [1, 4], [1, 6], [7, 2]]"
      ]
     },
     "execution_count": 30,
     "metadata": {},
     "output_type": "execute_result"
    }
   ],
   "source": [
    "# takes O(k) extra memory and O(k^2 log k) time\n",
    "import heapq\n",
    "def kSmallestPairs(nums1, nums2, k):\n",
    "    n1 = nums1[:k+1]\n",
    "    n2 = nums2[:k+1]\n",
    "    return heapq.nsmallest(k, ([u, v] for u in n1 for v in n2), key=sum)\n",
    "\n",
    "\n",
    "nums1 = [1,7,11]\n",
    "nums2 = [2,4,6]\n",
    "k = 4\n",
    "kSmallestPairs(nums1, nums2, k)"
   ]
  },
  {
   "cell_type": "raw",
   "metadata": {},
   "source": [
    "Solution 3: Fast Solution\n",
    "\n",
    "Basic idea: Use min_heap to keep track on next minimum pair sum, and we only need to maintain K possible candidates in the data structure.\n",
    "\n",
    "Some observations: For every numbers in nums1, its best partner(yields min sum) always strats from nums2[0] since arrays are all sorted; And for a specific number in nums1, its next candidate sould be [this specific number] + nums2[current_associated_index + 1], unless out of boundary;)"
   ]
  },
  {
   "cell_type": "code",
   "execution_count": 31,
   "metadata": {},
   "outputs": [],
   "source": [
    "# O(kLogk) \n",
    "def kSmallestPairs(nums1, nums2, k):\n",
    "    queue = []\n",
    "    def push(i, j):\n",
    "        if i < len(nums1) and j < len(nums2):\n",
    "            heapq.heappush(queue, [nums1[i] + nums2[j], i, j])\n",
    "    push(0, 0)\n",
    "    pairs = []\n",
    "    while queue and len(pairs) < k:\n",
    "        _, i, j = heapq.heappop(queue)\n",
    "        pairs.append([nums1[i], nums2[j]])\n",
    "        push(i, j + 1)\n",
    "        if j == 0:\n",
    "            push(i + 1, 0)\n",
    "    return pairs"
   ]
  },
  {
   "cell_type": "code",
   "execution_count": 32,
   "metadata": {},
   "outputs": [
    {
     "data": {
      "text/plain": [
       "[[1, 2], [1, 4], [1, 6], [7, 2], [7, 4], [7, 6], [11, 2], [11, 4], [11, 6]]"
      ]
     },
     "execution_count": 32,
     "metadata": {},
     "output_type": "execute_result"
    }
   ],
   "source": [
    "nums1 = [1,7,11]\n",
    "nums2 = [2,4,6]\n",
    "k = 20\n",
    "kSmallestPairs(nums1, nums2, k)"
   ]
  },
  {
   "cell_type": "code",
   "execution_count": 33,
   "metadata": {},
   "outputs": [],
   "source": [
    "def kSmallestPairs2(nums1, nums2, k):\n",
    "    queue = []\n",
    "    def push(i, j):\n",
    "        if i < len(nums1) and j < len(nums2):\n",
    "            heapq.heappush(queue, [nums1[i] + nums2[j], i, j])\n",
    "    for i in range(0, k):\n",
    "        push(i, 0)\n",
    "    pairs = []\n",
    "    while queue and len(pairs) < k:\n",
    "        _, i, j = heapq.heappop(queue)\n",
    "        pairs.append([nums1[i], nums2[j]])\n",
    "        push(i, j + 1)\n",
    "    return pairs"
   ]
  },
  {
   "cell_type": "code",
   "execution_count": 34,
   "metadata": {},
   "outputs": [
    {
     "data": {
      "text/plain": [
       "[[1, 1], [1, 1]]"
      ]
     },
     "execution_count": 34,
     "metadata": {},
     "output_type": "execute_result"
    }
   ],
   "source": [
    "nums1 = [1,1,2]\n",
    "nums2 = [1,2,3]\n",
    "k = 2\n",
    "kSmallestPairs(nums1, nums2, k)"
   ]
  },
  {
   "cell_type": "markdown",
   "metadata": {},
   "source": [
    "# 合并K个有序列表"
   ]
  },
  {
   "cell_type": "code",
   "execution_count": 35,
   "metadata": {},
   "outputs": [],
   "source": [
    "# 还没写"
   ]
  },
  {
   "cell_type": "markdown",
   "metadata": {},
   "source": [
    "# 从数据流中找到中位数"
   ]
  },
  {
   "cell_type": "code",
   "execution_count": 40,
   "metadata": {},
   "outputs": [],
   "source": [
    "from heapq import *\n",
    "\n",
    "class MedianFinder:\n",
    "\n",
    "    def __init__(self):\n",
    "        self.heaps = [], []\n",
    "\n",
    "    def addNum(self, num):\n",
    "        small, large = self.heaps\n",
    "        heappush(small, -heappushpop(large, num))\n",
    "        if len(large) < len(small):\n",
    "            heappush(large, -heappop(small))\n",
    "\n",
    "    def findMedian(self):\n",
    "        small, large = self.heaps\n",
    "        if len(large) > len(small):\n",
    "            return float(large[0])\n",
    "        return (large[0] - small[0]) / 2.0"
   ]
  },
  {
   "cell_type": "code",
   "execution_count": 41,
   "metadata": {},
   "outputs": [
    {
     "data": {
      "text/plain": [
       "3.0"
      ]
     },
     "execution_count": 41,
     "metadata": {},
     "output_type": "execute_result"
    }
   ],
   "source": [
    "finder = MedianFinder()\n",
    "finder.addNum(2)\n",
    "finder.addNum(3)\n",
    "finder.addNum(4)\n",
    "finder.findMedian()"
   ]
  },
  {
   "cell_type": "markdown",
   "metadata": {},
   "source": [
    "# 管理你的项目"
   ]
  },
  {
   "cell_type": "raw",
   "metadata": {},
   "source": [
    "You are given several projects. For each project i, it has a pure profit Pi and a minimum capital of Ci is needed to start the corresponding project. Initially, you have W capital. When you finish a project, you will obtain its pure profit and the profit will be added to your total capital.\n",
    "\n",
    "To sum up, pick a list of at most k distinct projects from given projects to maximize your final capital, and output your final maximized capital.\n",
    "\n",
    "Input: k=2, W=0, Profits=[1,2,3], Capital=[0,1,1].\n",
    "\n",
    "Output: 4\n",
    "\n",
    "Explanation: Since your initial capital is 0, you can only start the project indexed 0. After finishing it you will obtain profit 1 and your capital becomes 1. With capital 1, you can either start the project indexed 1 or the project indexed 2. Since you can choose at most 2 projects, you need to finish the project indexed 2 to get the maximum capital. Therefore, output the final maximized capital, which is 0 + 1 + 3 = 4."
   ]
  },
  {
   "cell_type": "code",
   "execution_count": 42,
   "metadata": {},
   "outputs": [],
   "source": [
    "import heapq\n",
    "def findMaximizedCapital(k, W, Profits, Capital):\n",
    "    pqCap = []\n",
    "    pqPro = []\n",
    "    \n",
    "    for i in range(len(Profits)):\n",
    "        heapq.heappush(pqCap, (Capital[i], Profits[i]))\n",
    "        \n",
    "    for i in range(k):\n",
    "        while len(pqCap) != 0 and pqCap[0][0] <= W:\n",
    "            heapq.heappush(pqPro, -heapq.heappop(pqCap)[1])\n",
    "            \n",
    "        if len(pqPro) == 0:\n",
    "            break\n",
    "        \n",
    "        W -= heapq.heappop(pqPro)\n",
    "    \n",
    "    return W"
   ]
  },
  {
   "cell_type": "code",
   "execution_count": 43,
   "metadata": {},
   "outputs": [
    {
     "data": {
      "text/plain": [
       "4"
      ]
     },
     "execution_count": 43,
     "metadata": {},
     "output_type": "execute_result"
    }
   ],
   "source": [
    "k=2\n",
    "W=0\n",
    "Profits=[1,2,3]\n",
    "Capital=[0,1,1]\n",
    "\n",
    "findMaximizedCapital(k, W, Profits, Capital)"
   ]
  },
  {
   "cell_type": "code",
   "execution_count": 44,
   "metadata": {},
   "outputs": [],
   "source": [
    "def findMaximizedCapital2(k, W, Profits, Capital):\n",
    "    current = []\n",
    "    future = sorted(zip(Capital, Profits))[::-1]\n",
    "    for _ in range(k):\n",
    "        while future and future[-1][0] <= W:  # afford\n",
    "            heapq.heappush(current, -future.pop()[1])\n",
    "        if current:\n",
    "            W -= heapq.heappop(current)\n",
    "    return W"
   ]
  },
  {
   "cell_type": "code",
   "execution_count": 45,
   "metadata": {},
   "outputs": [
    {
     "data": {
      "text/plain": [
       "4"
      ]
     },
     "execution_count": 45,
     "metadata": {},
     "output_type": "execute_result"
    }
   ],
   "source": [
    "k=2\n",
    "W=0\n",
    "Profits=[1,2,3]\n",
    "Capital=[0,1,1]\n",
    "\n",
    "findMaximizedCapital2(k, W, Profits, Capital)"
   ]
  },
  {
   "cell_type": "markdown",
   "metadata": {},
   "source": [
    "# 判断丑数"
   ]
  },
  {
   "cell_type": "raw",
   "metadata": {},
   "source": [
    "Ugly numbers are positive numbers whose prime factors only include 2, 3, 5. For example, 6, 8 are ugly while 14 is not ugly since it includes another prime factor 7."
   ]
  },
  {
   "cell_type": "code",
   "execution_count": 46,
   "metadata": {},
   "outputs": [],
   "source": [
    "def uglyNumber(num):\n",
    "    for p in 2, 3, 5:\n",
    "        while num % p == 0 < num:\n",
    "            num /= p\n",
    "    return num == 1"
   ]
  },
  {
   "cell_type": "code",
   "execution_count": 49,
   "metadata": {},
   "outputs": [
    {
     "data": {
      "text/plain": [
       "True"
      ]
     },
     "execution_count": 49,
     "metadata": {},
     "output_type": "execute_result"
    }
   ],
   "source": [
    "uglyNumber(8)"
   ]
  },
  {
   "cell_type": "markdown",
   "metadata": {},
   "source": [
    "# 输出丑数"
   ]
  },
  {
   "cell_type": "raw",
   "metadata": {},
   "source": [
    "Ugly numbers are positive numbers whose prime factors only include 2, 3, 5. For example, 1, 2, 3, 4, 5, 6, 8, 9, 10, 12 is the sequence of the first 10 ugly numbers.\n",
    "\n",
    "Note that 1 is typically treated as an ugly number."
   ]
  },
  {
   "cell_type": "code",
   "execution_count": 47,
   "metadata": {},
   "outputs": [],
   "source": [
    "def nthUglyNumber(n):\n",
    "    q2, q3, q5 = [2], [3], [5]\n",
    "    ugly = 1\n",
    "    for u in heapq.merge(q2, q3, q5):\n",
    "        if n == 1:\n",
    "            return ugly\n",
    "        if u > ugly:\n",
    "            ugly = u\n",
    "            n -= 1\n",
    "            q2 += 2 * u,\n",
    "            q3 += 3 * u,\n",
    "            q5 += 5 * u,"
   ]
  },
  {
   "cell_type": "code",
   "execution_count": 48,
   "metadata": {},
   "outputs": [
    {
     "data": {
      "text/plain": [
       "12"
      ]
     },
     "execution_count": 48,
     "metadata": {},
     "output_type": "execute_result"
    }
   ],
   "source": [
    "nthUglyNumber(10)"
   ]
  },
  {
   "cell_type": "code",
   "execution_count": null,
   "metadata": {},
   "outputs": [],
   "source": []
  }
 ],
 "metadata": {
  "kernelspec": {
   "display_name": "Python 3",
   "language": "python",
   "name": "python3"
  },
  "language_info": {
   "codemirror_mode": {
    "name": "ipython",
    "version": 3
   },
   "file_extension": ".py",
   "mimetype": "text/x-python",
   "name": "python",
   "nbconvert_exporter": "python",
   "pygments_lexer": "ipython3",
   "version": "3.6.4"
  },
  "toc": {
   "base_numbering": 1,
   "nav_menu": {},
   "number_sections": true,
   "sideBar": true,
   "skip_h1_title": false,
   "title_cell": "Table of Contents",
   "title_sidebar": "Contents",
   "toc_cell": false,
   "toc_position": {},
   "toc_section_display": true,
   "toc_window_display": false
  },
  "varInspector": {
   "cols": {
    "lenName": 16,
    "lenType": 16,
    "lenVar": 40
   },
   "kernels_config": {
    "python": {
     "delete_cmd_postfix": "",
     "delete_cmd_prefix": "del ",
     "library": "var_list.py",
     "varRefreshCmd": "print(var_dic_list())"
    },
    "r": {
     "delete_cmd_postfix": ") ",
     "delete_cmd_prefix": "rm(",
     "library": "var_list.r",
     "varRefreshCmd": "cat(var_dic_list()) "
    }
   },
   "types_to_exclude": [
    "module",
    "function",
    "builtin_function_or_method",
    "instance",
    "_Feature"
   ],
   "window_display": false
  }
 },
 "nbformat": 4,
 "nbformat_minor": 2
}
