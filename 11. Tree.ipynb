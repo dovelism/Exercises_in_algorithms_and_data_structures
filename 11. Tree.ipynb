{
 "cells": [
  {
   "cell_type": "markdown",
   "metadata": {},
   "source": [
    "# Binary Search Tree"
   ]
  },
  {
   "cell_type": "code",
   "execution_count": 1,
   "metadata": {},
   "outputs": [],
   "source": [
    "class Node:\n",
    "    __slots__ = '_item' , '_left' , '_right'\n",
    "\n",
    "    def __init__ (self, item, left=None, right=None):\n",
    "        self._item = item\n",
    "        self._left = left\n",
    "        self._right = right\n",
    "\n",
    "class BinarySearchTree:\n",
    "\n",
    "    \n",
    "    def __init__ (self, root=None):\n",
    "        self._root = root\n",
    "        \n",
    "    # Get methods\n",
    "    def get(self, key):\n",
    "        return self.__get(self._root, key);\n",
    "\n",
    "    def __get(self, node, key): # helper\n",
    "        if (node is None):\n",
    "            return None\n",
    "        if (key == node._item):\n",
    "            return node._item\n",
    "        if (key < node._item):\n",
    "            return self.__get(node._left, key)\n",
    "        else:\n",
    "            return self.__get(node._right, key)\n",
    "        \n",
    "    \n",
    "    # add methods\n",
    "    def add(self, value):\n",
    "        self._root = self.__add(self._root, value)\n",
    "        \n",
    "    def __add(self, node, value): # return node ,helper\n",
    "        if (node is None):\n",
    "            return Node(value)\n",
    "        if (value == node._item):\n",
    "            pass\n",
    "        else:\n",
    "            if (value < node._item):\n",
    "                node._left = self.__add(node._left, value)\n",
    "            else:\n",
    "                node._right = self.__add(node._right, value)\n",
    "        return node \n",
    "    \n",
    "    # remove methods\n",
    "    def remove(self, key):\n",
    "        self._root = self.__remove(self._root, key)\n",
    "        \n",
    "    def __remove(self, node, key):  # helper\n",
    "        if node is None:\n",
    "            return None\n",
    "        if (key < node._item):\n",
    "            node._left = self.__remove(node._left, key)\n",
    "        elif (key > node._item):\n",
    "            node._right = self.__remove(node._right, key)\n",
    "        else:\n",
    "            if (node._left is None):\n",
    "                node = node._right  # if right is None,  node = None; case 1: no child  \n",
    "                                    # if right is not None, node = node._right; case 2: one child\n",
    "            elif (node._right is None):\n",
    "                node = node._left\n",
    "            else:\n",
    "                node._item = self.__get_max(node._left)\n",
    "                node._left = self.__remove(node._left, node._item)\n",
    "                \n",
    "        return node\n",
    "    \n",
    "    # get max/min methods\n",
    "    def get_max(self):\n",
    "        return self.__get_max(self._root)\n",
    "    \n",
    "    def __get_max(self, node): # helper\n",
    "        if (node is None):\n",
    "            return None\n",
    "        while (node._right is not None):\n",
    "            node = node._right\n",
    "        return node._item\n",
    "\n",
    "    # Traversal Methods  \n",
    "    def print_inorder(self):\n",
    "        self._print_inorder(self._root)\n",
    "        print('')\n",
    "\n",
    "    def _print_inorder(self, node):\n",
    "        if (node is None):\n",
    "            return\n",
    "        self._print_inorder(node._left)\n",
    "        print ('[', node._item, ']', end = \" \")\n",
    "        self._print_inorder(node._right)\n",
    "    \n",
    "    def print_preorder(self):\n",
    "        self._print_preorder(self._root)\n",
    "        print('')\n",
    "\n",
    "    def _print_preorder(self, node):\n",
    "        if (node is None):\n",
    "            return\n",
    "        print ('[', node._item, ']', end = \" \")\n",
    "        self._print_preorder(node._left)\n",
    "        self._print_preorder(node._right)    \n",
    "        \n",
    "    def print_postorder(self):\n",
    "        self._print_postorder(self._root)\n",
    "        print('')\n",
    "\n",
    "    def _print_postorder(self, node):\n",
    "        if (node is None):\n",
    "            return\n",
    "        self._print_postorder(node._left)\n",
    "        self._print_postorder (node._right)          \n",
    "        print ('[', node._item, ']', end = \" \")"
   ]
  },
  {
   "cell_type": "code",
   "execution_count": 2,
   "metadata": {},
   "outputs": [
    {
     "name": "stdout",
     "output_type": "stream",
     "text": [
      "[ 1 ] [ 2 ] [ 3 ] [ 4 ] [ 5 ] [ 6 ] [ 7 ] [ 8 ] [ 9 ] [ 10 ] [ 11 ] [ 12 ] [ 13 ] \n",
      "[ 1 ] [ 3 ] [ 2 ] [ 5 ] [ 4 ] [ 7 ] [ 10 ] [ 12 ] [ 11 ] [ 13 ] [ 9 ] [ 8 ] [ 6 ] \n",
      "[ 6 ] [ 4 ] [ 2 ] [ 1 ] [ 3 ] [ 5 ] [ 8 ] [ 7 ] [ 9 ] [ 13 ] [ 11 ] [ 10 ] [ 12 ] \n"
     ]
    }
   ],
   "source": [
    "bst = BinarySearchTree()\n",
    "numbers = [6, 4, 8, 7, 9, 2, 1, 3, 5, 13, 11, 10, 12]\n",
    "for i in numbers:\n",
    "    bst.add(i)\n",
    "bst.print_inorder()\n",
    "bst.print_postorder()\n",
    "bst.print_preorder()"
   ]
  },
  {
   "cell_type": "markdown",
   "metadata": {},
   "source": [
    "# 树的大小"
   ]
  },
  {
   "cell_type": "code",
   "execution_count": 3,
   "metadata": {},
   "outputs": [],
   "source": [
    "class AdvBST1(BinarySearchTree):\n",
    "    \n",
    "    def size(self):\n",
    "        return self._size(self._root)\n",
    "    \n",
    "    def _size(self, node):\n",
    "        if (not node):\n",
    "            return 0\n",
    "        return self._size(node._left) + self._size(node._right) + 1"
   ]
  },
  {
   "cell_type": "code",
   "execution_count": 4,
   "metadata": {},
   "outputs": [
    {
     "name": "stdout",
     "output_type": "stream",
     "text": [
      "[ 1 ] [ 2 ] [ 3 ] [ 4 ] [ 5 ] [ 6 ] [ 7 ] [ 8 ] [ 9 ] [ 10 ] [ 11 ] [ 12 ] [ 13 ] \n"
     ]
    },
    {
     "data": {
      "text/plain": [
       "13"
      ]
     },
     "execution_count": 4,
     "metadata": {},
     "output_type": "execute_result"
    }
   ],
   "source": [
    "bst = AdvBST1()\n",
    "numbers = [6, 4, 8, 7, 9, 2, 1, 3, 5, 13, 11, 10, 12]\n",
    "for i in numbers:\n",
    "    bst.add(i)\n",
    "bst.print_inorder()\n",
    "bst.size()"
   ]
  },
  {
   "cell_type": "markdown",
   "metadata": {},
   "source": [
    "# 树的最大深度"
   ]
  },
  {
   "cell_type": "code",
   "execution_count": 5,
   "metadata": {},
   "outputs": [],
   "source": [
    "class AdvBST2(AdvBST1):    \n",
    "    def maxDepth(self):\n",
    "        return self._maxDepth(self._root)\n",
    "    \n",
    "    def _maxDepth(self, node):\n",
    "        if (not node):\n",
    "            return 0\n",
    "        left_depth = self._maxDepth(node._left)\n",
    "        right_depth = self._maxDepth(node._right)\n",
    "        return max(left_depth, right_depth) + 1"
   ]
  },
  {
   "cell_type": "code",
   "execution_count": 6,
   "metadata": {},
   "outputs": [
    {
     "name": "stdout",
     "output_type": "stream",
     "text": [
      "[ 1 ] [ 2 ] [ 3 ] [ 4 ] [ 5 ] [ 6 ] [ 7 ] [ 8 ] [ 9 ] [ 10 ] [ 11 ] [ 12 ] [ 13 ] \n"
     ]
    },
    {
     "data": {
      "text/plain": [
       "6"
      ]
     },
     "execution_count": 6,
     "metadata": {},
     "output_type": "execute_result"
    }
   ],
   "source": [
    "bst = AdvBST2()\n",
    "numbers = [6, 4, 8, 7, 9, 2, 1, 3, 5, 13, 11, 10, 12]\n",
    "for i in numbers:\n",
    "    bst.add(i)\n",
    "bst.print_inorder()\n",
    "bst.maxDepth()"
   ]
  },
  {
   "cell_type": "markdown",
   "metadata": {},
   "source": [
    "# 是否是平衡树"
   ]
  },
  {
   "cell_type": "code",
   "execution_count": 7,
   "metadata": {},
   "outputs": [],
   "source": [
    "# 比较慢的\n",
    "class AdvBST3(AdvBST2):     \n",
    "    def minDepth(self):\n",
    "        return self._minDepth(self._root)\n",
    "    \n",
    "    def _minDepth(self, node):\n",
    "        if (not node):\n",
    "            return 0\n",
    "        left_depth = self._minDepth(node._left)\n",
    "        right_depth = self._minDepth(node._right)\n",
    "        return min(left_depth, right_depth) + 1\n",
    "    \n",
    "    def isBalanced(self):\n",
    "        return (self.maxDepth() - self.minDepth()) <= 1\n"
   ]
  },
  {
   "cell_type": "code",
   "execution_count": 8,
   "metadata": {},
   "outputs": [
    {
     "name": "stdout",
     "output_type": "stream",
     "text": [
      "[ 1 ] [ 2 ] [ 3 ] [ 4 ] [ 5 ] [ 6 ] [ 7 ] [ 8 ] \n"
     ]
    },
    {
     "data": {
      "text/plain": [
       "False"
      ]
     },
     "execution_count": 8,
     "metadata": {},
     "output_type": "execute_result"
    }
   ],
   "source": [
    "bst = AdvBST3()\n",
    "numbers = [1,2,3,4,5,6,7,8]\n",
    "for i in numbers:\n",
    "    bst.add(i)\n",
    "bst.print_inorder()\n",
    "bst.isBalanced()"
   ]
  },
  {
   "cell_type": "code",
   "execution_count": 9,
   "metadata": {},
   "outputs": [
    {
     "name": "stdout",
     "output_type": "stream",
     "text": [
      "[ 1 ] [ 3 ] [ 5 ] \n"
     ]
    },
    {
     "data": {
      "text/plain": [
       "True"
      ]
     },
     "execution_count": 9,
     "metadata": {},
     "output_type": "execute_result"
    }
   ],
   "source": [
    "bst = AdvBST3()\n",
    "numbers = [3,1,5]\n",
    "for i in numbers:\n",
    "    bst.add(i)\n",
    "bst.print_inorder()\n",
    "bst.isBalanced()"
   ]
  },
  {
   "cell_type": "code",
   "execution_count": null,
   "metadata": {},
   "outputs": [],
   "source": []
  },
  {
   "cell_type": "code",
   "execution_count": 46,
   "metadata": {},
   "outputs": [
    {
     "ename": "NameError",
     "evalue": "name 'null' is not defined",
     "output_type": "error",
     "traceback": [
      "\u001b[1;31m---------------------------------------------------------------------------\u001b[0m",
      "\u001b[1;31mNameError\u001b[0m                                 Traceback (most recent call last)",
      "\u001b[1;32m<ipython-input-46-64f26089340a>\u001b[0m in \u001b[0;36m<module>\u001b[1;34m()\u001b[0m\n\u001b[1;32m----> 1\u001b[1;33m \u001b[0mn\u001b[0m \u001b[1;33m=\u001b[0m \u001b[1;33m[\u001b[0m\u001b[1;36m3\u001b[0m\u001b[1;33m,\u001b[0m\u001b[1;36m9\u001b[0m\u001b[1;33m,\u001b[0m\u001b[1;36m20\u001b[0m\u001b[1;33m,\u001b[0m\u001b[0mnull\u001b[0m\u001b[1;33m,\u001b[0m\u001b[0mnull\u001b[0m\u001b[1;33m,\u001b[0m\u001b[1;36m15\u001b[0m\u001b[1;33m,\u001b[0m\u001b[1;36m7\u001b[0m\u001b[1;33m]\u001b[0m\u001b[1;33m\u001b[0m\u001b[0m\n\u001b[0m\u001b[0;32m      2\u001b[0m \u001b[0misBalanced\u001b[0m\u001b[1;33m(\u001b[0m\u001b[0mn\u001b[0m\u001b[1;33m)\u001b[0m\u001b[1;33m\u001b[0m\u001b[0m\n",
      "\u001b[1;31mNameError\u001b[0m: name 'null' is not defined"
     ]
    }
   ],
   "source": []
  },
  {
   "cell_type": "markdown",
   "metadata": {},
   "source": [
    "# 地板和天花板"
   ]
  },
  {
   "cell_type": "code",
   "execution_count": 10,
   "metadata": {},
   "outputs": [],
   "source": [
    "class AdvBST4(AdvBST3):    \n",
    "    def floor(self, key):\n",
    "        return self._floor(self._root, key)\n",
    "    \n",
    "    def _floor(self, node, key):\n",
    "        if (not node):\n",
    "            return None\n",
    "        if (key == node._item):\n",
    "            return node\n",
    "        if (key < node._item):\n",
    "            return self._floor(node._left, key)\n",
    "        t = self._floor(node._right, key)\n",
    "        if t:\n",
    "            return t\n",
    "        return node"
   ]
  },
  {
   "cell_type": "code",
   "execution_count": 11,
   "metadata": {},
   "outputs": [
    {
     "name": "stdout",
     "output_type": "stream",
     "text": [
      "40\n",
      "40\n",
      "10\n",
      "None\n",
      "80\n"
     ]
    }
   ],
   "source": [
    "bst = AdvBST4()\n",
    "numbers = [40,20,70,50,10,60,30,80]\n",
    "for i in numbers:\n",
    "    bst.add(i)\n",
    "print(bst.floor(40)._item)\n",
    "print(bst.floor(44)._item)\n",
    "print(bst.floor(10)._item)\n",
    "print(bst.floor(5))\n",
    "print(bst.floor(100)._item)"
   ]
  },
  {
   "cell_type": "markdown",
   "metadata": {},
   "source": [
    "# 是否是二叉搜索树"
   ]
  },
  {
   "cell_type": "code",
   "execution_count": 12,
   "metadata": {},
   "outputs": [],
   "source": [
    "import sys\n",
    "class AdvBST5(AdvBST4):    \n",
    "    def isBST(self):\n",
    "        return self._isBST(self._root, -sys.maxsize, sys.maxsize)\n",
    "    \n",
    "    def _isBST(self, node, minval, maxval):\n",
    "        if not node:\n",
    "            return True\n",
    "        if (node._item < minval or node._item > maxval):\n",
    "            return False\n",
    "        return self._isBST(node._left, minval, node._item) and self._isBST(node._right, node._item, maxval)"
   ]
  },
  {
   "cell_type": "code",
   "execution_count": 13,
   "metadata": {},
   "outputs": [
    {
     "data": {
      "text/plain": [
       "True"
      ]
     },
     "execution_count": 13,
     "metadata": {},
     "output_type": "execute_result"
    }
   ],
   "source": [
    "bst = AdvBST5()\n",
    "numbers = [1,2,3,4,5,6,7,8]\n",
    "for i in numbers:\n",
    "    bst.add(i)\n",
    "bst.isBST()"
   ]
  },
  {
   "cell_type": "markdown",
   "metadata": {},
   "source": [
    "# 镜像树"
   ]
  },
  {
   "cell_type": "code",
   "execution_count": 14,
   "metadata": {},
   "outputs": [],
   "source": [
    "class AdvBST6(AdvBST5):    \n",
    "    def mirror(self):\n",
    "        self._mirror(self._root)\n",
    "    \n",
    "    def _mirror(self, node):\n",
    "        if (node is not None):\n",
    "            self._mirror(node._left)\n",
    "            self._mirror(node._right)\n",
    "            \n",
    "            temp = node._left\n",
    "            node._left = node._right\n",
    "            node._right = temp\n",
    "            "
   ]
  },
  {
   "cell_type": "code",
   "execution_count": 18,
   "metadata": {},
   "outputs": [
    {
     "name": "stdout",
     "output_type": "stream",
     "text": [
      "[ 1 ] [ 2 ] [ 3 ] [ 4 ] [ 5 ] [ 6 ] [ 7 ] [ 8 ] [ 9 ] \n"
     ]
    }
   ],
   "source": [
    "bst = AdvBST6()\n",
    "numbers = [6, 4, 8, 7, 9, 5, 1, 3, 2]\n",
    "for i in numbers:\n",
    "    bst.add(i)\n",
    "bst.print_inorder()"
   ]
  },
  {
   "cell_type": "code",
   "execution_count": 19,
   "metadata": {},
   "outputs": [
    {
     "name": "stdout",
     "output_type": "stream",
     "text": [
      "[ 9 ] [ 8 ] [ 7 ] [ 6 ] [ 5 ] [ 4 ] [ 3 ] [ 2 ] [ 1 ] \n"
     ]
    }
   ],
   "source": [
    "bst.mirror()\n",
    "bst.print_inorder()"
   ]
  },
  {
   "cell_type": "markdown",
   "metadata": {},
   "source": [
    "# 是否是相同的树"
   ]
  },
  {
   "cell_type": "code",
   "execution_count": 20,
   "metadata": {},
   "outputs": [],
   "source": [
    "class AdvBST7(AdvBST6):    \n",
    "    def sameTree(self, another):\n",
    "        return self._sameTree(self._root, another._root)\n",
    "    \n",
    "    def _sameTree(self, nodeA, nodeB):\n",
    "        if (nodeA is None and nodeB is None):\n",
    "            return True\n",
    "        if (nodeA is not None and nodeB is not None):\n",
    "            return nodeA._item == nodeB._item and self._sameTree(nodeA._left, nodeB._left) and self._sameTree(nodeA._right, nodeB._right)\n",
    "        return False"
   ]
  },
  {
   "cell_type": "code",
   "execution_count": 21,
   "metadata": {},
   "outputs": [
    {
     "data": {
      "text/plain": [
       "True"
      ]
     },
     "execution_count": 21,
     "metadata": {},
     "output_type": "execute_result"
    }
   ],
   "source": [
    "bst = AdvBST7()\n",
    "numbers = [6, 4, 8, 7, 9, 5, 1, 3, 2]\n",
    "for i in numbers:\n",
    "    bst.add(i)\n",
    "another = AdvBST7()\n",
    "numbers = [6, 4, 8, 7, 9, 5, 1, 3, 2]\n",
    "for i in numbers:\n",
    "    another.add(i)\n",
    "bst.sameTree(another)\n"
   ]
  },
  {
   "cell_type": "code",
   "execution_count": 22,
   "metadata": {},
   "outputs": [
    {
     "data": {
      "text/plain": [
       "False"
      ]
     },
     "execution_count": 22,
     "metadata": {},
     "output_type": "execute_result"
    }
   ],
   "source": [
    "another.add(100)\n",
    "bst.sameTree(another)"
   ]
  },
  {
   "cell_type": "markdown",
   "metadata": {},
   "source": [
    "# 是否是可折叠树"
   ]
  },
  {
   "cell_type": "code",
   "execution_count": 23,
   "metadata": {},
   "outputs": [],
   "source": [
    "class AdvBST8(AdvBST7):    \n",
    "    def isFoldable(self):\n",
    "        if self._root is None:\n",
    "            return True\n",
    "        return self._isFoldable(self._root._left, self._root._right)\n",
    "    \n",
    "    def _isFoldable(self, nodeA, nodeB):\n",
    "        if (nodeA is None and nodeB is None):\n",
    "            return True\n",
    "        if (nodeA is None or nodeB is None):\n",
    "            return False        \n",
    "        return self._isFoldable(nodeA._left, nodeB._right) and self._isFoldable(nodeA._right, nodeB._left)"
   ]
  },
  {
   "cell_type": "code",
   "execution_count": 24,
   "metadata": {},
   "outputs": [
    {
     "data": {
      "text/plain": [
       "False"
      ]
     },
     "execution_count": 24,
     "metadata": {},
     "output_type": "execute_result"
    }
   ],
   "source": [
    "bst = AdvBST8()\n",
    "numbers = [6, 4, 8, 7, 9, 5, 1, 3, 2]\n",
    "for i in numbers:\n",
    "    bst.add(i)\n",
    "bst.isFoldable()"
   ]
  },
  {
   "cell_type": "markdown",
   "metadata": {},
   "source": [
    "# 迭代的get"
   ]
  },
  {
   "cell_type": "code",
   "execution_count": 2,
   "metadata": {},
   "outputs": [],
   "source": [
    "class AdvBST1(BinarySearchTree):\n",
    "    \n",
    "    def getIterative(self, key):\n",
    "        node = self._root\n",
    "        while (node is not None):\n",
    "            if key == node._item:\n",
    "                return node._item\n",
    "            if key < node._item:\n",
    "                node = node._left\n",
    "            else:\n",
    "                node = node._right\n",
    "        return None"
   ]
  },
  {
   "cell_type": "code",
   "execution_count": 3,
   "metadata": {},
   "outputs": [
    {
     "name": "stdout",
     "output_type": "stream",
     "text": [
      "[ 1 ] [ 2 ] [ 3 ] [ 4 ] [ 5 ] [ 6 ] [ 7 ] [ 8 ] [ 9 ] [ 10 ] [ 11 ] [ 12 ] [ 13 ] \n"
     ]
    },
    {
     "data": {
      "text/plain": [
       "5"
      ]
     },
     "execution_count": 3,
     "metadata": {},
     "output_type": "execute_result"
    }
   ],
   "source": [
    "bst = AdvBST1()\n",
    "numbers = [6, 4, 8, 7, 9, 2, 1, 3, 5, 13, 11, 10, 12]\n",
    "for i in numbers:\n",
    "    bst.add(i)\n",
    "bst.print_inorder()\n",
    "bst.getIterative(5)"
   ]
  },
  {
   "cell_type": "markdown",
   "metadata": {},
   "source": [
    "# 迭代的add"
   ]
  },
  {
   "cell_type": "raw",
   "metadata": {},
   "source": [
    "Implment BST Add method, iteratively."
   ]
  },
  {
   "cell_type": "code",
   "execution_count": 4,
   "metadata": {},
   "outputs": [],
   "source": [
    "class AdvBST2(AdvBST1):\n",
    "    def addIterative(self, value):\n",
    "        newNode = Node(value)\n",
    "        if (self._root is None):\n",
    "            self._root = newNode\n",
    "            return\n",
    "        \n",
    "        current = self._root\n",
    "        parent = None\n",
    "        while True:\n",
    "            parent = current\n",
    "            if (value == current._item):\n",
    "                return\n",
    "            if (value < current._item):\n",
    "                current = current._left\n",
    "                if (current is None):\n",
    "                    parent._left = newNode\n",
    "                    return\n",
    "            else:\n",
    "                current = current._right\n",
    "                if (current is None):\n",
    "                    parent._right = newNode\n",
    "                    return"
   ]
  },
  {
   "cell_type": "code",
   "execution_count": 5,
   "metadata": {},
   "outputs": [
    {
     "name": "stdout",
     "output_type": "stream",
     "text": [
      "[ 1 ] [ 2 ] [ 3 ] [ 4 ] [ 5 ] [ 6 ] [ 7 ] [ 8 ] [ 9 ] [ 10 ] [ 11 ] [ 12 ] [ 13 ] \n",
      "[ 1 ] [ 2 ] [ 3 ] [ 4 ] [ 5 ] [ 6 ] [ 7 ] [ 8 ] [ 9 ] [ 10 ] [ 11 ] [ 12 ] [ 13 ] \n",
      "[ 6 ] [ 4 ] [ 2 ] [ 1 ] [ 3 ] [ 5 ] [ 8 ] [ 7 ] [ 9 ] [ 13 ] [ 11 ] [ 10 ] [ 12 ] \n",
      "[ 6 ] [ 4 ] [ 2 ] [ 1 ] [ 3 ] [ 5 ] [ 8 ] [ 7 ] [ 9 ] [ 13 ] [ 11 ] [ 10 ] [ 12 ] \n"
     ]
    }
   ],
   "source": [
    "bst = AdvBST2()\n",
    "numbers = [6, 4, 8, 7, 9, 2, 1, 3, 5, 13, 11, 10, 12]\n",
    "for i in numbers:\n",
    "    bst.addIterative(i)\n",
    "\n",
    "bst2 = AdvBST2()\n",
    "numbers = [6, 4, 8, 7, 9, 2, 1, 3, 5, 13, 11, 10, 12]\n",
    "for i in numbers:\n",
    "    bst2.add(i)\n",
    "bst.print_inorder()\n",
    "bst2.print_inorder()\n",
    "bst.print_preorder()\n",
    "bst2.print_preorder()"
   ]
  },
  {
   "cell_type": "markdown",
   "metadata": {},
   "source": [
    "# 迭代的中序遍历"
   ]
  },
  {
   "cell_type": "code",
   "execution_count": 6,
   "metadata": {},
   "outputs": [],
   "source": [
    "    # Traversal Methods  \n",
    "    def print_inorder(self):\n",
    "        self._print_inorder(self._root)\n",
    "        print('')\n",
    "\n",
    "    def _print_inorder(self, node):\n",
    "        if (node is None):\n",
    "            return\n",
    "        self._print_inorder(node._left)\n",
    "        print ('[', node._item, ']', end = \" \")\n",
    "        self._print_inorder(node._right)"
   ]
  },
  {
   "cell_type": "code",
   "execution_count": 7,
   "metadata": {},
   "outputs": [],
   "source": [
    "class AdvBST3(AdvBST2):\n",
    "    def printInorderIterative(self):\n",
    "        node = self._root\n",
    "        stack = []\n",
    "        \n",
    "        while True:\n",
    "            while (node is not None):\n",
    "                stack.append(node)\n",
    "                node = node._left\n",
    "            if len(stack) == 0:\n",
    "                return\n",
    "            \n",
    "            node = stack.pop()\n",
    "            print ('[', node._item, ']', end = \" \")\n",
    "            node = node._right"
   ]
  },
  {
   "cell_type": "code",
   "execution_count": 8,
   "metadata": {},
   "outputs": [
    {
     "name": "stdout",
     "output_type": "stream",
     "text": [
      "[ 1 ] [ 2 ] [ 3 ] [ 4 ] [ 5 ] [ 6 ] [ 7 ] [ 8 ] [ 9 ] [ 10 ] [ 11 ] [ 12 ] [ 13 ] \n",
      "[ 1 ] [ 2 ] [ 3 ] [ 4 ] [ 5 ] [ 6 ] [ 7 ] [ 8 ] [ 9 ] [ 10 ] [ 11 ] [ 12 ] [ 13 ] "
     ]
    }
   ],
   "source": [
    "bst = AdvBST3()\n",
    "numbers = [6, 4, 8, 7, 9, 2, 1, 3, 5, 13, 11, 10, 12]\n",
    "for i in numbers:\n",
    "    bst.add(i)\n",
    "bst.print_inorder()\n",
    "bst.printInorderIterative()"
   ]
  },
  {
   "cell_type": "markdown",
   "metadata": {},
   "source": [
    "# 迭代的先序遍历"
   ]
  },
  {
   "cell_type": "code",
   "execution_count": 9,
   "metadata": {},
   "outputs": [],
   "source": [
    "    def print_preorder(self):\n",
    "        self._print_preorder(self._root)\n",
    "        print('')\n",
    "\n",
    "    def _print_preorder(self, node):\n",
    "        if (node is None):\n",
    "            return\n",
    "        print ('[', node._item, ']', end = \" \")\n",
    "        self._print_preorder(node._left)\n",
    "        self._print_preorder(node._right) "
   ]
  },
  {
   "cell_type": "code",
   "execution_count": 10,
   "metadata": {},
   "outputs": [],
   "source": [
    "class AdvBST4(AdvBST3):\n",
    "    def printPreorderIterative(self):\n",
    "        ret = []\n",
    "        stack = [self._root]\n",
    "        while stack:\n",
    "            node = stack.pop()\n",
    "            if node:\n",
    "                ret.append(node._item)\n",
    "                stack.append(node._right)\n",
    "                stack.append(node._left)\n",
    "        return ret"
   ]
  },
  {
   "cell_type": "code",
   "execution_count": 11,
   "metadata": {},
   "outputs": [
    {
     "name": "stdout",
     "output_type": "stream",
     "text": [
      "[ 6 ] [ 4 ] [ 2 ] [ 1 ] [ 3 ] [ 5 ] [ 8 ] [ 7 ] [ 9 ] [ 13 ] [ 11 ] [ 10 ] [ 12 ] \n"
     ]
    },
    {
     "data": {
      "text/plain": [
       "[6, 4, 2, 1, 3, 5, 8, 7, 9, 13, 11, 10, 12]"
      ]
     },
     "execution_count": 11,
     "metadata": {},
     "output_type": "execute_result"
    }
   ],
   "source": [
    "bst = AdvBST4()\n",
    "numbers = [6, 4, 8, 7, 9, 2, 1, 3, 5, 13, 11, 10, 12]\n",
    "for i in numbers:\n",
    "    bst.add(i)\n",
    "bst.print_preorder()\n",
    "bst.printPreorderIterative()"
   ]
  },
  {
   "cell_type": "markdown",
   "metadata": {},
   "source": [
    "# 迭代的后序遍历"
   ]
  },
  {
   "cell_type": "code",
   "execution_count": 13,
   "metadata": {},
   "outputs": [],
   "source": [
    "class AdvBST5(AdvBST4):\n",
    "    def printPostorderIterative(self):\n",
    "        node = self._root\n",
    "        stack = []\n",
    "        stack.append(node)\n",
    "        \n",
    "        while len(stack) != 0:\n",
    "            node = stack[-1]\n",
    "            if node._left is None and node._right is None:\n",
    "                pop = stack.pop()\n",
    "                print ('[', node._item, ']', end = \" \")\n",
    "                \n",
    "            else:\n",
    "                if node._right is not None:\n",
    "                    stack.append(node._right)\n",
    "                    node._right = None\n",
    "                if node._left is not None:\n",
    "                    stack.append(node._left)\n",
    "                    node._left = None\n",
    "        print('')\n",
    "\n",
    "    def printPostorderIterative2(self):\n",
    "        stack = [(self._root, False)]\n",
    "        while stack:\n",
    "            node, visited = stack.pop()\n",
    "            if node:\n",
    "                if visited:\n",
    "                    # add to result if visited\n",
    "                    print ('[', node._item, ']', end = \" \")\n",
    "                else:\n",
    "                    # post-order\n",
    "                    stack.append((node, True))\n",
    "                    stack.append((node._right, False))\n",
    "                    stack.append((node._left, False))"
   ]
  },
  {
   "cell_type": "code",
   "execution_count": 14,
   "metadata": {},
   "outputs": [
    {
     "name": "stdout",
     "output_type": "stream",
     "text": [
      "[ 4 ] [ 7 ] [ 8 ] [ 6 ] \n",
      "[ 4 ] [ 7 ] [ 8 ] [ 6 ] \n",
      "[ 4 ] [ 7 ] [ 8 ] [ 6 ] "
     ]
    }
   ],
   "source": [
    "bst = AdvBST5()\n",
    "numbers = [6, 4, 8, 7]\n",
    "for i in numbers:\n",
    "    bst.add(i)\n",
    "bst.print_postorder()\n",
    "bst.printPostorderIterative()\n",
    "\n",
    "bst = AdvBST5()\n",
    "numbers = [6, 4, 8, 7]\n",
    "for i in numbers:\n",
    "    bst.add(i)\n",
    "bst.printPostorderIterative2()"
   ]
  },
  {
   "cell_type": "markdown",
   "metadata": {},
   "source": [
    "# 按层遍历1"
   ]
  },
  {
   "cell_type": "raw",
   "metadata": {},
   "source": [
    "给定一个二叉树，返回其节点值的层次顺序遍历。(即从左到右，一层一层地)。"
   ]
  },
  {
   "cell_type": "code",
   "execution_count": 47,
   "metadata": {},
   "outputs": [],
   "source": [
    "from collections import deque\n",
    "class AdvBST1(BinarySearchTree):\n",
    "    def levelOrder(self):\n",
    "        if not self._root:\n",
    "            return []\n",
    "\n",
    "        ret = []\n",
    "        level = [self._root]\n",
    "\n",
    "        while level:\n",
    "            currentNodes = []\n",
    "            nextLevel = []\n",
    "            for node in level:\n",
    "                currentNodes.append(node._item)\n",
    "                if node._left:\n",
    "                    nextLevel.append(node._left)\n",
    "                if node._right:\n",
    "                    nextLevel.append(node._right)\n",
    "            ret.append(currentNodes)\n",
    "            level = nextLevel\n",
    "\n",
    "        return ret"
   ]
  },
  {
   "cell_type": "code",
   "execution_count": 48,
   "metadata": {},
   "outputs": [
    {
     "data": {
      "text/plain": [
       "[[3], [1, 9], [2, 7, 20], [15]]"
      ]
     },
     "execution_count": 48,
     "metadata": {},
     "output_type": "execute_result"
    }
   ],
   "source": [
    "bst = AdvBST1()\n",
    "#numbers = [6, 4, 8, 7, 9, 2, 1, 3, 5, 13, 11, 10, 12]\n",
    "numbers=[3,9,20,1,2,15,7]\n",
    "for i in numbers:\n",
    "    bst.add(i)\n",
    "bst.levelOrder()"
   ]
  },
  {
   "cell_type": "markdown",
   "metadata": {},
   "source": [
    "# 层次遍历2"
   ]
  },
  {
   "cell_type": "raw",
   "metadata": {},
   "source": [
    "给定一个二叉树，返回其节点值的自底向上顺序遍历。(即从左到右，从叶到根逐层排列)。"
   ]
  },
  {
   "cell_type": "code",
   "execution_count": 17,
   "metadata": {},
   "outputs": [],
   "source": [
    "class AdvBST2(BinarySearchTree):\n",
    "    \n",
    "    def levelOrder(self):\n",
    "        if not self._root:\n",
    "            return []\n",
    "        ans, level = [], [self._root]\n",
    "        while level:\n",
    "            ans.insert(0, [node._item for node in level])\n",
    "            temp = []\n",
    "            for node in level:\n",
    "                temp.extend([node._left, node._right])\n",
    "            level = [leaf for leaf in temp if leaf]\n",
    "        \n",
    "        return ans\n",
    "    \n",
    "    \n",
    "    def levelOrder2(self):\n",
    "        if not self._root:\n",
    "            return []\n",
    "        ans, level = [], [self._root]\n",
    "        while level:\n",
    "            ans.append([node._item for node in level])\n",
    "            temp = []\n",
    "            for node in level:\n",
    "                temp.extend([node._left, node._right])\n",
    "            level = [leaf for leaf in temp if leaf]\n",
    "        ans.reverse()\n",
    "        return ans    "
   ]
  },
  {
   "cell_type": "code",
   "execution_count": 18,
   "metadata": {},
   "outputs": [
    {
     "data": {
      "text/plain": [
       "[[10, 12], [11], [1, 3, 13], [2, 5, 7, 9], [4, 8], [6]]"
      ]
     },
     "execution_count": 18,
     "metadata": {},
     "output_type": "execute_result"
    }
   ],
   "source": [
    "bst = AdvBST2()\n",
    "numbers = [6, 4, 8, 7, 9, 2, 1, 3, 5, 13, 11, 10, 12]\n",
    "for i in numbers:\n",
    "    bst.add(i)\n",
    "bst.levelOrder()"
   ]
  },
  {
   "cell_type": "code",
   "execution_count": 19,
   "metadata": {},
   "outputs": [
    {
     "data": {
      "text/plain": [
       "[[10, 12], [11], [1, 3, 13], [2, 5, 7, 9], [4, 8], [6]]"
      ]
     },
     "execution_count": 19,
     "metadata": {},
     "output_type": "execute_result"
    }
   ],
   "source": [
    "bst.levelOrder2()"
   ]
  },
  {
   "cell_type": "markdown",
   "metadata": {},
   "source": [
    "# 二叉树之字形层次顺序遍历"
   ]
  },
  {
   "cell_type": "code",
   "execution_count": 20,
   "metadata": {},
   "outputs": [],
   "source": [
    "class AdvBST3(AdvBST2):\n",
    "    \n",
    "    def zigzagLevelOrder(self,):\n",
    "        if not self._root: \n",
    "            return []\n",
    "        res, temp, stack, flag = [], [], [self._root], 1\n",
    "        while stack:\n",
    "            for i in range(len(stack)):\n",
    "                node = stack.pop(0)\n",
    "                temp += [node._item]\n",
    "                if node._left:  stack += [node._left]\n",
    "                if node._right: stack += [node._right]\n",
    "            res += [temp[::flag]]\n",
    "            temp = []\n",
    "            flag *= -1\n",
    "        return res"
   ]
  },
  {
   "cell_type": "code",
   "execution_count": 21,
   "metadata": {},
   "outputs": [
    {
     "data": {
      "text/plain": [
       "[[6], [8, 4], [2, 5, 7, 9], [13, 3, 1], [11], [12, 10]]"
      ]
     },
     "execution_count": 21,
     "metadata": {},
     "output_type": "execute_result"
    }
   ],
   "source": [
    "bst = AdvBST3()\n",
    "numbers = [6, 4, 8, 7, 9, 2, 1, 3, 5, 13, 11, 10, 12]\n",
    "for i in numbers:\n",
    "    bst.add(i)\n",
    "bst.zigzagLevelOrder()"
   ]
  },
  {
   "cell_type": "markdown",
   "metadata": {},
   "source": [
    "# 从先序和中序遍历构造二叉树"
   ]
  },
  {
   "cell_type": "raw",
   "metadata": {},
   "source": [
    "You may assume that duplicates do not exist in the tree.\n",
    "\n",
    "For example, given\n",
    "\n",
    "preorder = [3,9,20,15,7]\n",
    "\n",
    "inorder = [9,3,15,20,7]\n",
    "\n",
    "Return the following binary tree"
   ]
  },
  {
   "cell_type": "code",
   "execution_count": 22,
   "metadata": {},
   "outputs": [],
   "source": [
    "def buildTree(preorder, inorder):\n",
    "    if inorder:\n",
    "        ind = inorder.index(preorder.pop(0))\n",
    "        root = Node(inorder[ind])\n",
    "        root._left = buildTree(preorder, inorder[0:ind])\n",
    "        root._right = buildTree(preorder, inorder[ind+1:])\n",
    "        return root"
   ]
  },
  {
   "cell_type": "code",
   "execution_count": 23,
   "metadata": {},
   "outputs": [
    {
     "name": "stdout",
     "output_type": "stream",
     "text": [
      "[ 3 ] [ 9 ] [ 20 ] [ 15 ] [ 7 ] \n",
      "[ 9 ] [ 3 ] [ 15 ] [ 20 ] [ 7 ] \n"
     ]
    }
   ],
   "source": [
    "preorder = [3,9,20,15,7]\n",
    "inorder = [9,3,15,20,7]\n",
    "root = buildTree(preorder, inorder)\n",
    "\n",
    "bst = BinarySearchTree(root)\n",
    "bst.print_preorder()\n",
    "bst.print_inorder()"
   ]
  },
  {
   "cell_type": "code",
   "execution_count": 24,
   "metadata": {},
   "outputs": [],
   "source": [
    "def buildTree2(preorder, inorder, preorderStart = 0, preorderEnd = None, inorderStart = 0, inorderEnd = None):\n",
    "    if preorderEnd is None:\n",
    "        preorderEnd = len(preorder) - 1\n",
    "        \n",
    "    if inorderEnd is None:\n",
    "        inorderEnd = len(inorder) - 1\n",
    "\n",
    "    if preorderStart > len(preorder) - 1 or inorderStart > inorderEnd:\n",
    "        return None\n",
    "\n",
    "    rootValue = preorder[preorderStart]\n",
    "    root = Node(rootValue)\n",
    "    inorderIndex = inorder.index(rootValue)\n",
    "\n",
    "    root._left = buildTree2(preorder, inorder, preorderStart+1, inorderIndex, inorderStart, inorderIndex-1)\n",
    "    root._right = buildTree2(preorder, inorder, preorderStart+inorderIndex+1-inorderStart, preorderEnd, inorderIndex+1, inorderEnd)\n",
    "\n",
    "    return root"
   ]
  },
  {
   "cell_type": "code",
   "execution_count": 25,
   "metadata": {},
   "outputs": [
    {
     "name": "stdout",
     "output_type": "stream",
     "text": [
      "[ 3 ] [ 9 ] [ 20 ] [ 15 ] [ 7 ] \n",
      "[ 9 ] [ 3 ] [ 15 ] [ 20 ] [ 7 ] \n"
     ]
    }
   ],
   "source": [
    "preorder = [3,9,20,15,7]\n",
    "inorder = [9,3,15,20,7]\n",
    "root = buildTree2(preorder, inorder)\n",
    "\n",
    "bst = BinarySearchTree(root)\n",
    "bst.print_preorder()\n",
    "bst.print_inorder()"
   ]
  },
  {
   "cell_type": "markdown",
   "metadata": {},
   "source": [
    "# 从中序和后序遍历构造二叉树"
   ]
  },
  {
   "cell_type": "raw",
   "metadata": {},
   "source": [
    "Note:\n",
    "\n",
    "You may assume that duplicates do not exist in the tree.\n",
    "\n",
    "For example, given\n",
    "\n",
    "inorder = [9,3,15,20,7]\n",
    "\n",
    "postorder = [9,15,7,20,3]\n",
    "\n",
    "Return the following binary tree"
   ]
  },
  {
   "cell_type": "code",
   "execution_count": 26,
   "metadata": {},
   "outputs": [],
   "source": [
    "def buildTree(inorder, postorder):\n",
    "    if not inorder or not postorder:\n",
    "        return None\n",
    "\n",
    "    root = Node(postorder.pop())\n",
    "    inorderIndex = inorder.index(root._item)\n",
    "\n",
    "    root._right = buildTree(inorder[inorderIndex+1:], postorder)\n",
    "    root._left = buildTree(inorder[:inorderIndex], postorder)\n",
    "\n",
    "    return root"
   ]
  },
  {
   "cell_type": "code",
   "execution_count": 27,
   "metadata": {},
   "outputs": [
    {
     "name": "stdout",
     "output_type": "stream",
     "text": [
      "[ 9 ] [ 3 ] [ 15 ] [ 20 ] [ 7 ] \n",
      "[ 9 ] [ 15 ] [ 7 ] [ 20 ] [ 3 ] \n"
     ]
    }
   ],
   "source": [
    "inorder = [9,3,15,20,7]\n",
    "postorder = [9,15,7,20,3]\n",
    "root = buildTree(inorder, postorder)\n",
    "\n",
    "bst = BinarySearchTree(root)\n",
    "bst.print_inorder()\n",
    "bst.print_postorder()"
   ]
  },
  {
   "cell_type": "markdown",
   "metadata": {},
   "source": [
    "# 转换排序数组到二叉搜索树"
   ]
  },
  {
   "cell_type": "code",
   "execution_count": 28,
   "metadata": {},
   "outputs": [],
   "source": [
    "def sortedArrayToBST(num):\n",
    "    if not num:\n",
    "        return None\n",
    "\n",
    "    mid = len(num) // 2\n",
    "\n",
    "    root = Node(num[mid])\n",
    "    root._left = sortedArrayToBST(num[:mid])\n",
    "    root._right = sortedArrayToBST(num[mid+1:])\n",
    "\n",
    "    return root"
   ]
  },
  {
   "cell_type": "code",
   "execution_count": 29,
   "metadata": {},
   "outputs": [
    {
     "name": "stdout",
     "output_type": "stream",
     "text": [
      "[ -10 ] [ -3 ] [ 0 ] [ 5 ] [ 9 ] \n",
      "[ 0 ] [ -3 ] [ -10 ] [ 9 ] [ 5 ] \n"
     ]
    }
   ],
   "source": [
    "num = [-10,-3,0,5,9]\n",
    "root = sortedArrayToBST(num)\n",
    "bst = BinarySearchTree(root)\n",
    "bst.print_inorder()\n",
    "bst.print_preorder()"
   ]
  },
  {
   "cell_type": "markdown",
   "metadata": {},
   "source": [
    "# 将排序后的LinkedList转换为二叉搜索树"
   ]
  },
  {
   "cell_type": "code",
   "execution_count": 30,
   "metadata": {},
   "outputs": [],
   "source": [
    "from LinkedList import LinkedList as LL\n",
    "from LinkedList import Node as LN\n",
    "\n",
    "def sortedListToBST(head):\n",
    "    if head is None:\n",
    "        return None\n",
    "    \n",
    "    dummy = LN(0)\n",
    "    dummy.next = head\n",
    "    head = dummy\n",
    "    \n",
    "    fast = head\n",
    "    slow = head\n",
    "    left_tail = head\n",
    "    \n",
    "    while fast is not None and fast.next is not None:\n",
    "        fast = fast.next.next\n",
    "        left_tail = slow\n",
    "        slow = slow.next\n",
    "    \n",
    "    left_tail.next = None\n",
    "    node = Node(slow.value)\n",
    "    node._left = sortedListToBST(head.next)\n",
    "    node._right = sortedListToBST(slow.next)\n",
    "    return node"
   ]
  },
  {
   "cell_type": "code",
   "execution_count": 31,
   "metadata": {},
   "outputs": [],
   "source": [
    "def sortedListToBST(head):\n",
    "    if head is None:\n",
    "        return None\n",
    "    \n",
    "    dummy = LN(0)\n",
    "    dummy.next = head\n",
    "    head = dummy\n",
    "    \n",
    "    fast = head\n",
    "    slow = head\n",
    "    left_tail = head\n",
    "    \n",
    "    while fast is not None and fast.next is not None:\n",
    "        fast = fast.next.next\n",
    "        left_tail = slow\n",
    "        slow = slow.next\n",
    "    \n",
    "    left_tail.next = None\n",
    "    node = Node(slow.value)\n",
    "    node._left = sortedListToBST(head.next)\n",
    "    node._right = sortedListToBST(slow.next)\n",
    "    return node"
   ]
  },
  {
   "cell_type": "markdown",
   "metadata": {},
   "source": [
    "# 路径和1（路径和等于一个给定值）"
   ]
  },
  {
   "cell_type": "code",
   "execution_count": 32,
   "metadata": {},
   "outputs": [],
   "source": [
    "class AdvBST1(BinarySearchTree):\n",
    "    def hasPathSumHelper(self, node, s):\n",
    "        if not node:\n",
    "            return False\n",
    "\n",
    "        if not node._left and not node._right and node._item == s:\n",
    "            return True\n",
    "        \n",
    "        s -= node._item\n",
    "\n",
    "        return self.hasPathSumHelper(node._left, s) or self.hasPathSumHelper(node._right, s)\n",
    "    \n",
    "    def hasPathSum(self, s):\n",
    "        return self.hasPathSumHelper(self._root, s)"
   ]
  },
  {
   "cell_type": "code",
   "execution_count": 33,
   "metadata": {},
   "outputs": [
    {
     "name": "stdout",
     "output_type": "stream",
     "text": [
      "True\n",
      "False\n"
     ]
    }
   ],
   "source": [
    "bst = AdvBST1()\n",
    "numbers = [6, 4, 8, 7, 9, 2, 1, 3, 5, 13, 11, 10, 12]\n",
    "for i in numbers:\n",
    "    bst.add(i)\n",
    "\n",
    "print(bst.hasPathSum(15))\n",
    "print(bst.hasPathSum(16))"
   ]
  },
  {
   "cell_type": "markdown",
   "metadata": {},
   "source": [
    "# 路径和2"
   ]
  },
  {
   "cell_type": "raw",
   "metadata": {},
   "source": [
    "给定一个二叉树和一个和，找出所有根到叶的路径，其中每个路径的和等于给定的和。\n",
    "给定下二叉树，sum = 22"
   ]
  },
  {
   "cell_type": "code",
   "execution_count": 34,
   "metadata": {},
   "outputs": [],
   "source": [
    "class AdvBST2(AdvBST1):\n",
    "    def hasPathSum2Helper(self, node, s):\n",
    "        if not node:\n",
    "            return []\n",
    "        if not node._left and not node._right and s == node._item:\n",
    "            return [[node._item]]\n",
    "        tmp = self.hasPathSum2Helper(node._left, s-node._item) + self.hasPathSum2Helper(node._right, s - node._item)\n",
    "        #print(tmp)\n",
    "        return [[node._item] + i for i in tmp]\n",
    "    \n",
    "    def hasPathSum2(self, s):\n",
    "        return self.hasPathSum2Helper(self._root, s)    "
   ]
  },
  {
   "cell_type": "code",
   "execution_count": 35,
   "metadata": {},
   "outputs": [
    {
     "name": "stdout",
     "output_type": "stream",
     "text": [
      "[[6, 4, 2, 3], [6, 4, 5]]\n",
      "[]\n"
     ]
    }
   ],
   "source": [
    "bst = AdvBST2()\n",
    "numbers = [6, 4, 8, 7, 9, 2, 1, 3, 5, 13, 11, 10, 12]\n",
    "for i in numbers:\n",
    "    bst.add(i)\n",
    "\n",
    "print(bst.hasPathSum2(15))\n",
    "print(bst.hasPathSum2(16))"
   ]
  },
  {
   "cell_type": "code",
   "execution_count": 36,
   "metadata": {},
   "outputs": [],
   "source": [
    "class AdvBST3(AdvBST2):\n",
    "    def hasPathSum2Helper(self, node, s):\n",
    "        if not node:\n",
    "            return []\n",
    "        res = []\n",
    "        self.dfs(node, s, [], res)\n",
    "        return res\n",
    "    \n",
    "    def dfs(self, node, s, ls, res):\n",
    "        if not node._left and not node._right and s == node._item:\n",
    "            ls.append(node._item)\n",
    "            res.append(ls)\n",
    "        if node._left:\n",
    "            self.dfs(node._left, s-node._item, ls+[node._item], res)\n",
    "        if node._right:\n",
    "            self.dfs(node._right, s-node._item, ls+[node._item], res)"
   ]
  },
  {
   "cell_type": "code",
   "execution_count": 37,
   "metadata": {},
   "outputs": [
    {
     "name": "stdout",
     "output_type": "stream",
     "text": [
      "[[6, 4, 2, 3], [6, 4, 5]]\n",
      "[]\n"
     ]
    }
   ],
   "source": [
    "bst = AdvBST3()\n",
    "numbers = [6, 4, 8, 7, 9, 2, 1, 3, 5, 13, 11, 10, 12]\n",
    "for i in numbers:\n",
    "    bst.add(i)\n",
    "\n",
    "print(bst.hasPathSum2(15))\n",
    "print(bst.hasPathSum2(16))"
   ]
  },
  {
   "cell_type": "markdown",
   "metadata": {},
   "source": [
    "# 路径和3"
   ]
  },
  {
   "cell_type": "raw",
   "metadata": {},
   "source": [
    "给定一个二叉树，其中每个节点都包含一个整数值。找出与给定值相加的路径数。\n",
    "路径不需要在根节点或叶节点处开始或结束，但是它必须向下(只从父节点移动到子节点)。"
   ]
  },
  {
   "cell_type": "code",
   "execution_count": 39,
   "metadata": {},
   "outputs": [],
   "source": [
    "class AdvBST4(AdvBST3):\n",
    "    \n",
    "    def pathSum(self, target):\n",
    "        return self.pathSumHelper(self._root, target)\n",
    "    \n",
    "    def findPaths(self, node, target):\n",
    "        if node:\n",
    "            return int(node._item == target) + \\\n",
    "                self.findPaths(node._left, target - node._item) + \\\n",
    "                self.findPaths(node._right, target - node._item)\n",
    "        return 0\n",
    "\n",
    "    def pathSumHelper(self, node, target):\n",
    "        if node:\n",
    "            return self.findPaths(node, target) + \\\n",
    "                self.pathSumHelper(node._left, target) + \\\n",
    "                self.pathSumHelper(node._right, target)\n",
    "        return 0    "
   ]
  },
  {
   "cell_type": "code",
   "execution_count": 40,
   "metadata": {},
   "outputs": [
    {
     "name": "stdout",
     "output_type": "stream",
     "text": [
      "3\n"
     ]
    }
   ],
   "source": [
    "bst = AdvBST4()\n",
    "numbers = [6, 4, 8, 7, 9, 2, 1, 3, 5, 13, 11,12]\n",
    "for i in numbers:\n",
    "    bst.add(i)\n",
    "\n",
    "print(bst.pathSum(9))"
   ]
  },
  {
   "cell_type": "code",
   "execution_count": 41,
   "metadata": {},
   "outputs": [
    {
     "name": "stdout",
     "output_type": "stream",
     "text": [
      "[ 1 ] [ 2 ] [ 3 ] [ 4 ] [ 5 ] [ 6 ] [ 7 ] [ 8 ] [ 9 ] [ 11 ] [ 12 ] [ 13 ] \n"
     ]
    }
   ],
   "source": [
    "bst.print_inorder()"
   ]
  },
  {
   "cell_type": "markdown",
   "metadata": {},
   "source": [
    "# 二叉搜索树的第一个共同祖先"
   ]
  },
  {
   "cell_type": "code",
   "execution_count": 42,
   "metadata": {},
   "outputs": [],
   "source": [
    "class AdvBST5(AdvBST4):\n",
    "    \n",
    "    def lowestCommonAncestor(self, p, q):\n",
    "        return self.lowestCommonAncestorHelper(self._root, p, q)\n",
    "    \n",
    "    def lowestCommonAncestorHelper(self, node, p, q):\n",
    "        while node:\n",
    "            if node._item > p._item and node._item > q._item:\n",
    "                node = node._left\n",
    "            elif node._item < p._item and node._item < q._item:\n",
    "                node = node._right\n",
    "            else:\n",
    "                return node"
   ]
  },
  {
   "cell_type": "code",
   "execution_count": 43,
   "metadata": {},
   "outputs": [
    {
     "name": "stdout",
     "output_type": "stream",
     "text": [
      "4\n"
     ]
    }
   ],
   "source": [
    "bst = AdvBST5()\n",
    "numbers = [6, 4, 8, 7, 9, 2, 1, 3, 5, 13, 11, 12]\n",
    "for i in numbers:\n",
    "    bst.add(i)\n",
    "\n",
    "node1 = Node(3)\n",
    "node2 = Node(5)\n",
    "print(bst.lowestCommonAncestor(node1, node2)._item)"
   ]
  },
  {
   "cell_type": "code",
   "execution_count": 44,
   "metadata": {},
   "outputs": [
    {
     "name": "stdout",
     "output_type": "stream",
     "text": [
      "6\n"
     ]
    }
   ],
   "source": [
    "node1 = Node(12)\n",
    "node2 = Node(2)\n",
    "print(bst.lowestCommonAncestor(node1, node2)._item)"
   ]
  },
  {
   "cell_type": "code",
   "execution_count": null,
   "metadata": {},
   "outputs": [],
   "source": []
  }
 ],
 "metadata": {
  "kernelspec": {
   "display_name": "Python 3",
   "language": "python",
   "name": "python3"
  },
  "language_info": {
   "codemirror_mode": {
    "name": "ipython",
    "version": 3
   },
   "file_extension": ".py",
   "mimetype": "text/x-python",
   "name": "python",
   "nbconvert_exporter": "python",
   "pygments_lexer": "ipython3",
   "version": "3.7.6"
  },
  "toc": {
   "base_numbering": 1,
   "nav_menu": {},
   "number_sections": true,
   "sideBar": true,
   "skip_h1_title": false,
   "title_cell": "Table of Contents",
   "title_sidebar": "Contents",
   "toc_cell": false,
   "toc_position": {
    "height": "calc(100% - 180px)",
    "left": "10px",
    "top": "150px",
    "width": "320px"
   },
   "toc_section_display": true,
   "toc_window_display": true
  },
  "varInspector": {
   "cols": {
    "lenName": 16,
    "lenType": 16,
    "lenVar": 40
   },
   "kernels_config": {
    "python": {
     "delete_cmd_postfix": "",
     "delete_cmd_prefix": "del ",
     "library": "var_list.py",
     "varRefreshCmd": "print(var_dic_list())"
    },
    "r": {
     "delete_cmd_postfix": ") ",
     "delete_cmd_prefix": "rm(",
     "library": "var_list.r",
     "varRefreshCmd": "cat(var_dic_list()) "
    }
   },
   "types_to_exclude": [
    "module",
    "function",
    "builtin_function_or_method",
    "instance",
    "_Feature"
   ],
   "window_display": false
  }
 },
 "nbformat": 4,
 "nbformat_minor": 2
}
