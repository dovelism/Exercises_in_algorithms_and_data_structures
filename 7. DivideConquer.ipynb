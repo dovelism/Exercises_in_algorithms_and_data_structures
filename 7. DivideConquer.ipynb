{
 "cells": [
  {
   "cell_type": "code",
   "execution_count": 24,
   "metadata": {},
   "outputs": [],
   "source": [
    "import sys"
   ]
  },
  {
   "cell_type": "markdown",
   "metadata": {},
   "source": [
    "# Ex.1: 快速指数，计算a^n"
   ]
  },
  {
   "cell_type": "code",
   "execution_count": 1,
   "metadata": {},
   "outputs": [],
   "source": [
    "def fast_power(x, n):\n",
    "    if n == 0:\n",
    "        return 1.0\n",
    "    elif n < 0:\n",
    "        return 1 / fast_power(x, -n)    # 返回一个倒数\n",
    "    elif n % 2:\n",
    "        return fast_power(x * x, n // 2) * x\n",
    "    else:\n",
    "        return fast_power(x * x, n // 2)"
   ]
  },
  {
   "cell_type": "code",
   "execution_count": 3,
   "metadata": {},
   "outputs": [
    {
     "data": {
      "text/plain": [
       "32.0"
      ]
     },
     "execution_count": 3,
     "metadata": {},
     "output_type": "execute_result"
    }
   ],
   "source": [
    "fast_power(2,5)"
   ]
  },
  {
   "cell_type": "markdown",
   "metadata": {},
   "source": [
    "# Ex.2: 搜索峰值"
   ]
  },
  {
   "cell_type": "raw",
   "metadata": {},
   "source": [
    "该数组没有重复，可能包含多个峰值，返回任何一个峰值的索引。您可以想象num[-1] = num[n] = -∞"
   ]
  },
  {
   "cell_type": "code",
   "execution_count": 4,
   "metadata": {},
   "outputs": [],
   "source": [
    "# O(logn)\n",
    "\n",
    "def search_peak(alist):\n",
    "    return peak_helper(alist, 0, len(alist) - 1)\n",
    "\n",
    "def peak_helper(alist, start, end):\n",
    "    if start == end:\n",
    "        return start\n",
    "    \n",
    "    if (start + 1 == end):\n",
    "        if alist[start] > alist[end]:\n",
    "            return start\n",
    "        return end\n",
    "    \n",
    "    mid = (start + end) // 2\n",
    "    if alist[mid] > alist[mid - 1] and alist[mid] > alist[mid + 1]:\n",
    "        return mid\n",
    "    if alist[mid - 1] > alist[mid] and alist[mid] > alist[mid + 1]:\n",
    "        return peak_helper(alist, start, mid - 1)\n",
    "    return peak_helper(alist, mid + 1, end)"
   ]
  },
  {
   "cell_type": "code",
   "execution_count": 7,
   "metadata": {},
   "outputs": [
    {
     "data": {
      "text/plain": [
       "5"
      ]
     },
     "execution_count": 7,
     "metadata": {},
     "output_type": "execute_result"
    }
   ],
   "source": [
    "search_peak([1,3,2,4,5,7,6])"
   ]
  },
  {
   "cell_type": "markdown",
   "metadata": {},
   "source": [
    "# Ex.3: 查找中值/查找第K个元素"
   ]
  },
  {
   "cell_type": "raw",
   "metadata": {},
   "source": [
    "找到数组中的第k大的数字"
   ]
  },
  {
   "cell_type": "code",
   "execution_count": 9,
   "metadata": {},
   "outputs": [],
   "source": [
    "# O(nlgn) time\n",
    "def findKthLargest1(nums, k):\n",
    "    start = time.time()\n",
    "    rst = sorted(nums, reverse=True)\n",
    "    t = time.time() - start\n",
    "    return rst[k-1], len(rst), t"
   ]
  },
  {
   "cell_type": "code",
   "execution_count": 10,
   "metadata": {},
   "outputs": [],
   "source": [
    "# O(nk) time, bubble sort idea, TLE\n",
    "def findKthLargest2(nums, k):\n",
    "    start = time.time()\n",
    "    for i in range(k):\n",
    "        for j in range(len(nums)-i-1):\n",
    "            if nums[j] > nums[j+1]:\n",
    "                # exchange elements, time consuming\n",
    "                nums[j], nums[j+1] = nums[j+1], nums[j]\n",
    "    t = time.time() - start\n",
    "    return nums[len(nums)-k], len(nums), t"
   ]
  },
  {
   "cell_type": "code",
   "execution_count": 11,
   "metadata": {},
   "outputs": [],
   "source": [
    "# O(n) time, quick selection\n",
    "def findKthLargest(nums, k):\n",
    "    # convert the kth largest to smallest\n",
    "    start = time.time()\n",
    "    rst = findKthSmallest(nums, len(nums)+1-k)\n",
    "    t = time.time() - start\n",
    "    return rst, len(nums), t\n",
    "    \n",
    "def findKthSmallest(nums, k):\n",
    "    if nums:\n",
    "        pos = partition(nums, 0, len(nums)-1)\n",
    "        if k > pos+1:\n",
    "            return findKthSmallest(nums[pos+1:], k-pos-1)\n",
    "        elif k < pos+1:\n",
    "            return findKthSmallest(nums[:pos], k)\n",
    "        else:\n",
    "            return nums[pos]\n",
    " \n",
    "# choose the right-most element as pivot   \n",
    "def partition(nums, l, r):\n",
    "    low = l\n",
    "    while l < r:\n",
    "        if nums[l] < nums[r]:\n",
    "            nums[l], nums[low] = nums[low], nums[l]\n",
    "            low += 1\n",
    "        l += 1\n",
    "    nums[low], nums[r] = nums[r], nums[low]\n",
    "    return low"
   ]
  },
  {
   "cell_type": "markdown",
   "metadata": {},
   "source": [
    "# Ex.4: 两个数组交集"
   ]
  },
  {
   "cell_type": "code",
   "execution_count": null,
   "metadata": {},
   "outputs": [],
   "source": []
  },
  {
   "cell_type": "markdown",
   "metadata": {},
   "source": [
    "# Ex.5: 两个数组交集 || 包含重复元素"
   ]
  },
  {
   "cell_type": "code",
   "execution_count": null,
   "metadata": {},
   "outputs": [],
   "source": []
  },
  {
   "cell_type": "markdown",
   "metadata": {},
   "source": [
    "# Ex.6: 计算逆序对"
   ]
  },
  {
   "cell_type": "code",
   "execution_count": 12,
   "metadata": {},
   "outputs": [
    {
     "name": "stdout",
     "output_type": "stream",
     "text": [
      "Number of inversions are 5\n"
     ]
    }
   ],
   "source": [
    "# O(n^2)\n",
    "def countInv(arr):\n",
    "    n = len(arr)\n",
    "    inv_count = 0\n",
    "    for i in range(n):\n",
    "        for j in range(i+1, n):\n",
    "            if (arr[i] > arr[j]):\n",
    "                inv_count += 1\n",
    " \n",
    "    return inv_count\n",
    " \n",
    "arr = [1, 20, 6, 4, 5]\n",
    "n = len(arr)\n",
    "print(\"Number of inversions are\", countInv(arr))"
   ]
  },
  {
   "cell_type": "code",
   "execution_count": 14,
   "metadata": {},
   "outputs": [
    {
     "name": "stdout",
     "output_type": "stream",
     "text": [
      "Number of inversions are ([1, 4, 5, 6, 20], 5)\n"
     ]
    }
   ],
   "source": [
    "# O(nlgn)\n",
    "\n",
    "\n",
    "def merge(left,right):\n",
    "    result = list()\n",
    "    i,j = 0,0\n",
    "    inv_count = 0\n",
    "    while i < len(left) and j < len(right):\n",
    "        if left[i] < right[j]:\n",
    "            result.append(left[i])\n",
    "            i += 1\n",
    "        elif right[j] < left[i]:\n",
    "            result.append(right[j])\n",
    "            j += 1\n",
    "            inv_count += (len(left)-i)\n",
    "    result += left[i:]\n",
    "    result += right[j:]\n",
    "    return result,inv_count\n",
    "\n",
    "def countInvFast(array):\n",
    "    if len(array) < 2:\n",
    "        return array, 0\n",
    "    middle = len(array) // 2\n",
    "    left,inv_left = countInvFast(array[:middle])\n",
    "    right,inv_right = countInvFast(array[middle:])\n",
    "    merged, count = merge(left,right)\n",
    "    count += (inv_left + inv_right)\n",
    "    return merged, count\n",
    "\n",
    "arr = [1, 20, 6, 4, 5]\n",
    "n = len(arr)\n",
    "print(\"Number of inversions are\", countInvFast(arr))"
   ]
  },
  {
   "cell_type": "markdown",
   "metadata": {},
   "source": [
    "# Ex.7: 在已排好序的数组中找到多余元素的索引"
   ]
  },
  {
   "cell_type": "code",
   "execution_count": 18,
   "metadata": {},
   "outputs": [
    {
     "data": {
      "text/plain": [
       "4"
      ]
     },
     "execution_count": 18,
     "metadata": {},
     "output_type": "execute_result"
    }
   ],
   "source": [
    "def find_extra(arr1, arr2):\n",
    "    for i in range(len(arr2)):\n",
    "        if (arr1[i] != arr2[i]):\n",
    "            return i\n",
    " \n",
    "    return len(arr1)-1\n",
    "\n",
    "ar1 = [2, 4, 6, 8, 9, 10, 12]\n",
    "ar2 = [2, 4, 6, 8, 10, 12]\n",
    "find_extra(ar1, ar2)"
   ]
  },
  {
   "cell_type": "code",
   "execution_count": 17,
   "metadata": {},
   "outputs": [
    {
     "data": {
      "text/plain": [
       "4"
      ]
     },
     "execution_count": 17,
     "metadata": {},
     "output_type": "execute_result"
    }
   ],
   "source": [
    "def find_extra_fast(arr1, arr2):\n",
    "    index = len(arr2)\n",
    "    # left and right are end points denoting\n",
    "    # the current range.\n",
    "    left, right = 0, len(arr2) - 1\n",
    "    while (left <= right):\n",
    "        mid = (left + right) // 2;\n",
    " \n",
    "        # If middle element is same of both\n",
    "        # arrays, it means that extra element\n",
    "        # is after mid so we update left to mid+1\n",
    "        if (arr2[mid] == arr1[mid]):\n",
    "            left = mid + 1\n",
    " \n",
    "        # If middle element is different of the\n",
    "        # arrays, it means that the index we are\n",
    "        # searching for is either mid, or before\n",
    "        # mid. Hence we update right to mid-1.\n",
    "        else:\n",
    "            index = mid\n",
    "            right = mid - 1;\n",
    " \n",
    "    # when right is greater than left our\n",
    "    # search is complete.\n",
    "    return index\n",
    "\n",
    "\n",
    "ar1 = [2, 4, 6, 8, 9, 10, 12]\n",
    "ar2 = [2, 4, 6, 8, 10, 12]\n",
    "find_extra_fast(ar1, ar2)"
   ]
  },
  {
   "cell_type": "markdown",
   "metadata": {},
   "source": [
    "# Ex.8: 加和值最大的子序列问题"
   ]
  },
  {
   "cell_type": "markdown",
   "metadata": {},
   "source": [
    "解法1：暴力法"
   ]
  },
  {
   "cell_type": "code",
   "execution_count": 19,
   "metadata": {},
   "outputs": [],
   "source": [
    "# O(n^2)\n",
    "def subarray1(alist):\n",
    "    result = -sys.maxsize\n",
    "    for i in range(0, len(alist)):\n",
    "        sum = 0\n",
    "        for j in range (i, len(alist)):\n",
    "            sum += alist[j]\n",
    "            if sum > result:\n",
    "                result = sum\n",
    "    return result"
   ]
  },
  {
   "cell_type": "markdown",
   "metadata": {},
   "source": [
    "解法2：动态规划"
   ]
  },
  {
   "cell_type": "code",
   "execution_count": 25,
   "metadata": {},
   "outputs": [
    {
     "data": {
      "text/plain": [
       "7"
      ]
     },
     "execution_count": 25,
     "metadata": {},
     "output_type": "execute_result"
    }
   ],
   "source": [
    "# O(n) \n",
    "def subarray3(alist):\n",
    "    result = -sys.maxsize\n",
    "    local = 0\n",
    "    for i in alist:\n",
    "        local = max(local + i, i)\n",
    "        result = max(result, local)\n",
    "    return result\n",
    "\n",
    "alist = [-2,-3,4,-1,-2,1,5,-3]\n",
    "subarray3(alist)"
   ]
  },
  {
   "cell_type": "markdown",
   "metadata": {},
   "source": [
    "解法3：分治法"
   ]
  },
  {
   "cell_type": "code",
   "execution_count": 26,
   "metadata": {},
   "outputs": [
    {
     "data": {
      "text/plain": [
       "7"
      ]
     },
     "execution_count": 26,
     "metadata": {},
     "output_type": "execute_result"
    }
   ],
   "source": [
    "# O(n lgn)   分治法\n",
    "def subarray2(alist):\n",
    "    return subarray2_helper(alist, 0, len(alist)-1)\n",
    "\n",
    "def subarray2_helper(alist, left, right):\n",
    "    if (left == right):\n",
    "        return alist[left]\n",
    "    mid = (left + right) // 2\n",
    "    return max(subarray2_helper(alist, left, mid), \n",
    "               subarray2_helper(alist, mid+1, right), \n",
    "               maxcrossing(alist, left, mid, right))\n",
    "\n",
    "def maxcrossing(alist, left, mid, right):\n",
    "    sum = 0\n",
    "    left_sum = -sys.maxsize\n",
    "    for i in range (mid, left-1, -1):\n",
    "        sum += alist[i]\n",
    "        if (sum > left_sum):\n",
    "            left_sum = sum\n",
    "            \n",
    "    sum = 0\n",
    "    right_sum = -sys.maxsize\n",
    "    for i in range (mid+1, right+1):\n",
    "        sum += alist[i]\n",
    "        if (sum > right_sum):\n",
    "            right_sum = sum        \n",
    "\n",
    "    return left_sum + right_sum\n",
    "\n",
    "\n",
    "alist = [-2,-3,4,-1,-2,1,5,-3]\n",
    "subarray3(alist)"
   ]
  },
  {
   "cell_type": "markdown",
   "metadata": {},
   "source": [
    "# Ex.9: 快速整数乘法"
   ]
  },
  {
   "cell_type": "raw",
   "metadata": {},
   "source": [
    "有两个整数x和y，它们的长度都是n位。求这两个数的乘积。"
   ]
  },
  {
   "cell_type": "code",
   "execution_count": 17,
   "metadata": {},
   "outputs": [],
   "source": [
    "import functools\n",
    "def prod(x, y):\n",
    "    # x, y are strings --> returns a string of x*y\n",
    "    return str(eval(\"%s * %s\" % (x, y)))\n",
    "\n",
    "def plus(x, y):\n",
    "    # x, y are strings --> returns a string of x+y\n",
    "    return str(eval(\"%s + %s\" % (x, y)))\n",
    "\n",
    "def one_to_n_product(d, x):\n",
    "    \"\"\"d is a single digit, x is n-digit --> returns a string of d*x\n",
    "    \"\"\"\n",
    "    print(d, x)\n",
    "    result = \"\"\n",
    "    carry = \"0\"\n",
    "    for i, digit in enumerate(reversed(x)):\n",
    "        #print(\"d: \", d, \"  digit: \", digit)\n",
    "        r = plus(prod(d, digit), carry)\n",
    "        #print(\"r: \", r)\n",
    "        if (len(r) == 1):\n",
    "            carry = '0'\n",
    "        else:\n",
    "            carry = r[:-1]\n",
    "        digit = r[-1]\n",
    "        #print(\"   c: \", carry, \"  d: \", digit)\n",
    "        result = digit + result\n",
    "    \n",
    "    \n",
    "    return carry + result\n",
    "\n",
    "def sum_middle_products(middle_products):\n",
    "    # middle_products is a list of strings --> returns a string\n",
    "    max_length = max([len(md) for md in middle_products])\n",
    "    for i, md in enumerate(middle_products):\n",
    "        middle_products[i] = \"0\" * (max_length - len(md)) + md\n",
    "    print(middle_products)\n",
    "    carry = \"0\"\n",
    "    result = \"\"\n",
    "    for i in range(1, max_length + 1):\n",
    "        row = [carry] + [md[-i] for md in middle_products]\n",
    "        r = functools.reduce(plus, row)\n",
    "        carry, digit = r[:-1], r[-1]\n",
    "        result = digit + result\n",
    "    return carry + result\n",
    "\n",
    "\n",
    "def algorithm(x, y):\n",
    "    x, y = str(x), str(y)\n",
    "    middle_products = []\n",
    "    for i, digit in enumerate(reversed(y)):\n",
    "        middle_products.append(one_to_n_product(digit, x) + \"0\" * i)\n",
    "    print(middle_products)\n",
    "    return int(sum_middle_products(middle_products))"
   ]
  },
  {
   "cell_type": "code",
   "execution_count": 18,
   "metadata": {},
   "outputs": [
    {
     "name": "stdout",
     "output_type": "stream",
     "text": [
      "8 1090\n",
      "9 1090\n",
      "0 1090\n",
      "4 1090\n",
      "2 1090\n",
      "3 1090\n",
      "['08720', '098100', '0000000', '04360000', '021800000', '0327000000']\n",
      "['0000008720', '0000098100', '0000000000', '0004360000', '0021800000', '0327000000']\n"
     ]
    },
    {
     "data": {
      "text/plain": [
       "353266820"
      ]
     },
     "execution_count": 18,
     "metadata": {},
     "output_type": "execute_result"
    }
   ],
   "source": [
    "algorithm(1090, 324098)"
   ]
  },
  {
   "cell_type": "code",
   "execution_count": 19,
   "metadata": {},
   "outputs": [],
   "source": [
    "def karatsuba(x,y):\n",
    "    \"\"\"Function to multiply 2 numbers in a more efficient manner than the grade school algorithm\"\"\"\n",
    "    if len(str(x)) == 1 or len(str(y)) == 1:\n",
    "        return x*y\n",
    "    else:\n",
    "        n = max(len(str(x)),len(str(y)))\n",
    "        nby2 = n // 2\n",
    "\n",
    "        a = x // 10**(nby2)\n",
    "        b = x % 10**(nby2)\n",
    "        c = y // 10**(nby2)\n",
    "        d = y % 10**(nby2)\n",
    "\n",
    "        ac = karatsuba(a,c)\n",
    "        bd = karatsuba(b,d)\n",
    "        ad_plus_bc = karatsuba(a+b,c+d) - ac - bd\n",
    "\n",
    "            # this little trick, writing n as 2*nby2 takes care of both even and odd n\n",
    "        prod = ac * 10**(2*nby2) + (ad_plus_bc * 10**nby2) + bd\n",
    "\n",
    "        return prod"
   ]
  },
  {
   "cell_type": "code",
   "execution_count": 20,
   "metadata": {},
   "outputs": [
    {
     "data": {
      "text/plain": [
       "353266820"
      ]
     },
     "execution_count": 20,
     "metadata": {},
     "output_type": "execute_result"
    }
   ],
   "source": [
    "karatsuba(1090, 324098)"
   ]
  },
  {
   "cell_type": "code",
   "execution_count": null,
   "metadata": {},
   "outputs": [],
   "source": []
  },
  {
   "cell_type": "markdown",
   "metadata": {},
   "source": [
    "# Ex.10: 对于多项式乘法的快速傅里叶变换"
   ]
  },
  {
   "cell_type": "code",
   "execution_count": 21,
   "metadata": {},
   "outputs": [],
   "source": [
    "def mults(A, B):\n",
    "    m, n = len(A), len(B)\n",
    "    result = [0] * (m + n - 1)\n",
    "    for i in range (m):\n",
    "        for j in range(n):\n",
    "            result[i + j] += A[i] * B[j]\n",
    "    return result\n",
    "\n",
    "def printPoly(poly):\n",
    "    n = len(poly)\n",
    "    show = \"\"\n",
    "    for i in range(n-1, -1, -1):\n",
    "        show += str(poly[i])\n",
    "        if (i != 0):\n",
    "            show = show + \"x^\" + str(i)\n",
    "        if (i != 0):\n",
    "            show = show + \" + \"\n",
    "    print(show)"
   ]
  },
  {
   "cell_type": "code",
   "execution_count": null,
   "metadata": {},
   "outputs": [],
   "source": []
  },
  {
   "cell_type": "markdown",
   "metadata": {},
   "source": [
    "# Ex.11: 矩阵乘法  "
   ]
  },
  {
   "cell_type": "code",
   "execution_count": null,
   "metadata": {},
   "outputs": [],
   "source": []
  },
  {
   "cell_type": "markdown",
   "metadata": {},
   "source": [
    "# Ex.12: 水槽问题"
   ]
  },
  {
   "cell_type": "markdown",
   "metadata": {},
   "source": [
    "给定一个容量为C升的水槽，在启动时完全充满。每天的水箱里装 l 升的水，如果溢出来，多余的水就会被倒掉。现在在第i天，i公升的水被拿出来喝。我们需要知道哪天油箱第一次会变成空的。"
   ]
  },
  {
   "cell_type": "code",
   "execution_count": null,
   "metadata": {},
   "outputs": [],
   "source": [
    "# Utility method to get\n",
    "# sum of first n numbers\n",
    "def getCumulateSum(n):\n",
    "    return (n * (n + 1)) // 2\n",
    " \n",
    "# Method returns minimum number of days\n",
    "# after  which tank will become empty\n",
    "def minDaysToEmpty(C, l):\n",
    "    # if water filling is more than \n",
    "    # capacity then after C days only\n",
    "    # tank will become empty\n",
    "    if (C <= l) : return C \n",
    "    # initialize binary search variable\n",
    "    lo, hi = 0, 1e4\n",
    "    # loop until low is less than high\n",
    "    while (lo < hi): \n",
    "        mid = int((lo + hi) / 2)\n",
    "        # if cumulate sum is greater than (C - l) \n",
    "        # then search on left side\n",
    "        if (getCumulateSum(mid) >= (C - l)): \n",
    "            hi = mid   \n",
    "        # if (C - l) is more then \n",
    "        # search on right side\n",
    "        else:\n",
    "            lo = mid + 1   \n",
    "    # Final answer will be obtained by \n",
    "    # adding l to binary search result\n",
    "    return (l + lo)\n"
   ]
  },
  {
   "cell_type": "code",
   "execution_count": null,
   "metadata": {},
   "outputs": [],
   "source": [
    "import math\n",
    "def solve(a, b, c):\n",
    "    r = pow(b, 2) - 4 * a * c\n",
    "    if (r < 0):\n",
    "        raise ValueError(\"No Solution\") \n",
    "    return (-b + math.sqrt(r)) / (2 * a)\n",
    "\n",
    "def minDaysToEmpty(C, l):\n",
    "    co = -2 * (C - l)\n",
    "    return  math.ceil(solve(1, 1, co)) + l"
   ]
  },
  {
   "cell_type": "code",
   "execution_count": null,
   "metadata": {},
   "outputs": [],
   "source": []
  },
  {
   "cell_type": "markdown",
   "metadata": {},
   "source": [
    "# Ex.13: 用最少的步骤收集硬币"
   ]
  },
  {
   "cell_type": "code",
   "execution_count": 15,
   "metadata": {},
   "outputs": [],
   "source": [
    "# o(nlogn)\n",
    "\n",
    "def minSteps(height):\n",
    "    \n",
    "    def minStepHelper(height, left, right, h):\n",
    "        if left >= right:\n",
    "            return 0\n",
    "        \n",
    "        m = left\n",
    "        for i in range(left, right):\n",
    "            if height[i] < height[m]:\n",
    "                m = i\n",
    "        return min(right - left, \n",
    "                   minStepHelper(height, left, m, height[m]) +\n",
    "                   minStepHelper(height, m + 1, right, height[m]) +\n",
    "                   height[m] - h)\n",
    "    \n",
    "    return minStepHelper(height, 0, len(height), 0)  "
   ]
  },
  {
   "cell_type": "code",
   "execution_count": 16,
   "metadata": {},
   "outputs": [
    {
     "data": {
      "text/plain": [
       "4"
      ]
     },
     "execution_count": 16,
     "metadata": {},
     "output_type": "execute_result"
    }
   ],
   "source": [
    "height = [3, 3, 3, 15, 3]\n",
    "minSteps(height)"
   ]
  },
  {
   "cell_type": "markdown",
   "metadata": {},
   "source": [
    "# Ex.14: 瓷砖问题"
   ]
  },
  {
   "cell_type": "code",
   "execution_count": null,
   "metadata": {},
   "outputs": [],
   "source": []
  },
  {
   "cell_type": "markdown",
   "metadata": {},
   "source": [
    "# Ex.15: 奇偶数换序问题"
   ]
  },
  {
   "cell_type": "markdown",
   "metadata": {},
   "source": [
    "Examples:\n",
    "\n",
    "Input : arr[] = { 1, 2, 9, 15 }\n",
    "\n",
    "Output : 1 9 2 15\n",
    "\n",
    "Input : arr[] = { 1, 2, 3, 4, 5, 6 }\n",
    "\n",
    "Output : 1 4 2 5 3 6"
   ]
  },
  {
   "cell_type": "code",
   "execution_count": 7,
   "metadata": {},
   "outputs": [
    {
     "data": {
      "text/plain": [
       "[1, 2, 3, 4, 5, 6, 7, 8]"
      ]
     },
     "execution_count": 7,
     "metadata": {},
     "output_type": "execute_result"
    }
   ],
   "source": [
    "def shufleArray1(a, left, right):\n",
    "    # If only 2 element, return\n",
    "    if (right - left == 1):\n",
    "        return\n",
    "    # Finding mid to divide the array\n",
    "    mid = (left + right) // 2\n",
    "    # Using temp for swapping first\n",
    "    # half of second array\n",
    "    temp = mid + 1\n",
    "    # Mid is use for swapping second\n",
    "    # half for first array\n",
    "    mmid = (left + mid) // 2\n",
    "    # Swapping the element\n",
    "    for i in range(mmid + 1, mid + 1):\n",
    "        (a[i], a[temp]) = (a[temp], a[i])\n",
    "        temp += 1\n",
    "    # Recursively doing for \n",
    "    # first half and second half\n",
    "    shufleArray1(a, left, mid)\n",
    "    shufleArray1(a, mid + 1, right)\n",
    "    return a\n",
    "    \n",
    "a = [1, 3, 5, 7, 2, 4, 6, 8] \n",
    "n = len(a) \n",
    "res = shufleArray1(a, 0, n - 1)\n",
    "#print(res)\n",
    "res"
   ]
  },
  {
   "cell_type": "markdown",
   "metadata": {},
   "source": [
    "# Ex.15: 在自己之后数小一些的数"
   ]
  },
  {
   "cell_type": "raw",
   "metadata": {},
   "source": [
    "Solution 1: Brute Force - O(n2)"
   ]
  },
  {
   "cell_type": "code",
   "execution_count": 1,
   "metadata": {},
   "outputs": [],
   "source": [
    "def countSmaller(nums):\n",
    "    n = len(nums)\n",
    "    count = [0] * n\n",
    "    for i in range(n):\n",
    "        for j in range(i + 1, n):\n",
    "            if nums[i] > nums[j]:\n",
    "                count[i] += 1\n",
    "                \n",
    "    return count"
   ]
  },
  {
   "cell_type": "raw",
   "metadata": {},
   "source": [
    "Solution 2: Binary Search - O(n2)"
   ]
  },
  {
   "cell_type": "code",
   "execution_count": 2,
   "metadata": {},
   "outputs": [],
   "source": [
    "def countSmaller(nums):\n",
    "    snums = []\n",
    "    ans = [0] * len(nums)\n",
    "\n",
    "    for i in range(len(nums) - 1, -1, -1):\n",
    "        index = findIndex(snums, nums[i])\n",
    "        ans[i] = index\n",
    "        snums.insert(index, nums[i]) \n",
    "    return ans\n",
    "\n",
    "def findIndex(snums, target):\n",
    "    start = 0\n",
    "    end = len(snums) - 1\n",
    "\n",
    "    if len(snums) == 0: \n",
    "        return 0\n",
    "\n",
    "    while start <= end:\n",
    "        mid = start + (end - start) // 2\n",
    "        if snums[mid] < target:\n",
    "            start=mid + 1\n",
    "        else:\n",
    "            end = mid - 1\n",
    "    return start"
   ]
  },
  {
   "cell_type": "raw",
   "metadata": {},
   "source": [
    "Solution 3: Merge Sort - O(nlgn)"
   ]
  },
  {
   "cell_type": "code",
   "execution_count": 4,
   "metadata": {},
   "outputs": [],
   "source": [
    "def countSmaller(nums):\n",
    "    def sort(enum):\n",
    "        half = len(enum) // 2\n",
    "        if half:\n",
    "            left, right = sort(enum[:half]), sort(enum[half:])\n",
    "            m, n = len(left), len(right)\n",
    "            i = j = 0\n",
    "            while i < m or j < n:\n",
    "                if j == n or i < m and left[i][1] <= right[j][1]:\n",
    "                    smaller[left[i][0]] += j\n",
    "                    enum[i+j] = left[i]\n",
    "                    i += 1\n",
    "                else:\n",
    "                    enum[i+j] = right[j]\n",
    "                    j += 1\n",
    "            print(\"left: \", left)\n",
    "            print(\"right: \", right)\n",
    "            print(\"smaller: \", smaller)\n",
    "        print(\"enum: \", enum)\n",
    "        return enum\n",
    "    smaller = [0] * len(nums)\n",
    "    sort(list(enumerate(nums)))\n",
    "    return smaller"
   ]
  },
  {
   "cell_type": "markdown",
   "metadata": {},
   "source": [
    "# Ex.16: 两个有序数组的中位数"
   ]
  },
  {
   "cell_type": "raw",
   "metadata": {},
   "source": [
    "Example 1:\n",
    "nums1 = [1, 3]\n",
    "nums2 = [2]\n",
    "The median is 2.0\n",
    "\n",
    "Example 2:\n",
    "nums1 = [1, 2]\n",
    "nums2 = [3, 4]\n",
    "The median is (2 + 3)/2 = 2.5"
   ]
  },
  {
   "cell_type": "code",
   "execution_count": 6,
   "metadata": {},
   "outputs": [],
   "source": [
    "def findMedianSortedArrays(A, B):\n",
    "    l = len(A) + len(B)\n",
    "    if l % 2 == 1:\n",
    "        return kth(A, B, l // 2)\n",
    "    else:\n",
    "        return (kth(A, B, l // 2) + kth(A, B, l // 2 - 1)) / 2.   \n",
    "    \n",
    "def kth(a, b, k):\n",
    "    if not a:\n",
    "        return b[k]\n",
    "    if not b:\n",
    "        return a[k]\n",
    "    ia, ib = len(a) // 2 , len(b) // 2\n",
    "    ma, mb = a[ia], b[ib]\n",
    "    \n",
    "    # when k is bigger than the sum of a and b's median indices \n",
    "    if ia + ib < k:\n",
    "        # if a's median is bigger than b's, b's first half doesn't include k\n",
    "        if ma > mb:\n",
    "            return kth(a, b[ib + 1:], k - ib - 1)\n",
    "        else:\n",
    "            return kth(a[ia + 1:], b, k - ia - 1)\n",
    "    # when k is smaller than the sum of a and b's indices\n",
    "    else:\n",
    "        # if a's median is bigger than b's, a's second half doesn't include k\n",
    "        if ma > mb:\n",
    "            return kth(a[:ia], b, k)\n",
    "        else:\n",
    "            return kth(a, b[:ib], k)"
   ]
  },
  {
   "cell_type": "code",
   "execution_count": 7,
   "metadata": {},
   "outputs": [],
   "source": [
    "def find(nums1, s1, e1, nums2, s2, e2, k):\n",
    "    if e1 < s1:\n",
    "        return nums2[k + s2]\n",
    "    if e2 < s2:\n",
    "        return nums1[k + s1]\n",
    "    \n",
    "    if k < 1:\n",
    "        return min(nums1[k + s1], nums2[k + s2])\n",
    "    \n",
    "    ia, ib = (s1 + e1) // 2 , (s2 + e2) // 2\n",
    "    ma, mb = nums1[ia], nums2[ib]\n",
    "    if (ia - s1) + (ib - s2) < k:\n",
    "        if ma > mb:\n",
    "            return find(nums1, s1, e1, nums2, ib + 1, e2, k - (ib - s2) - 1)\n",
    "        else:\n",
    "            return find(nums1, ia + 1, e1, nums2, s2, e2, k - (ia - s1) - 1)\n",
    "    else:\n",
    "        if ma > mb:\n",
    "            return find(nums1, s1, ia - 1, nums2, s2, e2, k)\n",
    "        else:\n",
    "            return find(nums1, s1, e1, nums2, s2, ib - 1, k)\n",
    "\n",
    "def findMedianSortedArrays(nums1, nums2):\n",
    "    l = len(nums1) + len(nums2)\n",
    "    if l % 2 == 1:\n",
    "        return find(nums1, 0, len(nums1) - 1, nums2, 0, len(nums2) - 1, l // 2)\n",
    "    else:\n",
    "        return (find(nums1, 0, len(nums1) - 1, nums2, 0, len(nums2) - 1, l // 2) \n",
    "                + find(nums1, 0, len(nums1) - 1, nums2, 0, len(nums2) - 1, l // 2 - 1)) / 2.0"
   ]
  },
  {
   "cell_type": "code",
   "execution_count": null,
   "metadata": {},
   "outputs": [],
   "source": []
  }
 ],
 "metadata": {
  "kernelspec": {
   "display_name": "Python 3",
   "language": "python",
   "name": "python3"
  },
  "language_info": {
   "codemirror_mode": {
    "name": "ipython",
    "version": 3
   },
   "file_extension": ".py",
   "mimetype": "text/x-python",
   "name": "python",
   "nbconvert_exporter": "python",
   "pygments_lexer": "ipython3",
   "version": "3.7.6"
  },
  "toc": {
   "base_numbering": 1,
   "nav_menu": {},
   "number_sections": true,
   "sideBar": true,
   "skip_h1_title": false,
   "title_cell": "Table of Contents",
   "title_sidebar": "Contents",
   "toc_cell": false,
   "toc_position": {},
   "toc_section_display": true,
   "toc_window_display": true
  },
  "varInspector": {
   "cols": {
    "lenName": 16,
    "lenType": 16,
    "lenVar": 40
   },
   "kernels_config": {
    "python": {
     "delete_cmd_postfix": "",
     "delete_cmd_prefix": "del ",
     "library": "var_list.py",
     "varRefreshCmd": "print(var_dic_list())"
    },
    "r": {
     "delete_cmd_postfix": ") ",
     "delete_cmd_prefix": "rm(",
     "library": "var_list.r",
     "varRefreshCmd": "cat(var_dic_list()) "
    }
   },
   "types_to_exclude": [
    "module",
    "function",
    "builtin_function_or_method",
    "instance",
    "_Feature"
   ],
   "window_display": false
  }
 },
 "nbformat": 4,
 "nbformat_minor": 2
}
